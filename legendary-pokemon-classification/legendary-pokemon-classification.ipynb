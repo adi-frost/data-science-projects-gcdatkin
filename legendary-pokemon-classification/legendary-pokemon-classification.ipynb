{
 "cells": [
  {
   "cell_type": "markdown",
   "id": "0af5ecf1-9918-4e0d-8ebd-e7c544c20ddb",
   "metadata": {},
   "source": [
    "## Legandary Pokemon Classification\n",
    "\n",
    "Given *data about various Pokemon*, let's try to predict if a given Pokemon is **legendary** or not. \n",
    "\n",
    "We will use a TensorFlow ANN to make our predictions.\n",
    "\n",
    "Data source: https://www.kaggle.com/datasets/abcsds/pokemon"
   ]
  },
  {
   "cell_type": "markdown",
   "id": "cea63387-5542-4333-a7bf-4c9246dc74e5",
   "metadata": {},
   "source": [
    "### Importing Libraries"
   ]
  },
  {
   "cell_type": "code",
   "execution_count": 2,
   "id": "a455631c-20b0-42c9-8eb4-1e4c39276dc8",
   "metadata": {},
   "outputs": [],
   "source": [
    "import numpy as np\n",
    "import pandas as pd\n",
    "\n",
    "import matplotlib.pyplot as plt\n",
    "import seaborn as sns\n",
    "import plotly.express as px\n",
    "\n",
    "from sklearn.preprocessing import LabelEncoder, StandardScaler\n",
    "from sklearn.model_selection import train_test_split\n",
    "\n",
    "import tensorflow as tf\n",
    "\n",
    "from sklearn.decomposition import PCA"
   ]
  },
  {
   "cell_type": "code",
   "execution_count": 3,
   "id": "74ee7f2e-c4a4-4bcc-9723-345cb8c94345",
   "metadata": {},
   "outputs": [
    {
     "data": {
      "text/html": [
       "<div>\n",
       "<style scoped>\n",
       "    .dataframe tbody tr th:only-of-type {\n",
       "        vertical-align: middle;\n",
       "    }\n",
       "\n",
       "    .dataframe tbody tr th {\n",
       "        vertical-align: top;\n",
       "    }\n",
       "\n",
       "    .dataframe thead th {\n",
       "        text-align: right;\n",
       "    }\n",
       "</style>\n",
       "<table border=\"1\" class=\"dataframe\">\n",
       "  <thead>\n",
       "    <tr style=\"text-align: right;\">\n",
       "      <th></th>\n",
       "      <th>#</th>\n",
       "      <th>Name</th>\n",
       "      <th>Type 1</th>\n",
       "      <th>Type 2</th>\n",
       "      <th>Total</th>\n",
       "      <th>HP</th>\n",
       "      <th>Attack</th>\n",
       "      <th>Defense</th>\n",
       "      <th>Sp. Atk</th>\n",
       "      <th>Sp. Def</th>\n",
       "      <th>Speed</th>\n",
       "      <th>Generation</th>\n",
       "      <th>Legendary</th>\n",
       "    </tr>\n",
       "  </thead>\n",
       "  <tbody>\n",
       "    <tr>\n",
       "      <th>0</th>\n",
       "      <td>1</td>\n",
       "      <td>Bulbasaur</td>\n",
       "      <td>Grass</td>\n",
       "      <td>Poison</td>\n",
       "      <td>318</td>\n",
       "      <td>45</td>\n",
       "      <td>49</td>\n",
       "      <td>49</td>\n",
       "      <td>65</td>\n",
       "      <td>65</td>\n",
       "      <td>45</td>\n",
       "      <td>1</td>\n",
       "      <td>False</td>\n",
       "    </tr>\n",
       "    <tr>\n",
       "      <th>1</th>\n",
       "      <td>2</td>\n",
       "      <td>Ivysaur</td>\n",
       "      <td>Grass</td>\n",
       "      <td>Poison</td>\n",
       "      <td>405</td>\n",
       "      <td>60</td>\n",
       "      <td>62</td>\n",
       "      <td>63</td>\n",
       "      <td>80</td>\n",
       "      <td>80</td>\n",
       "      <td>60</td>\n",
       "      <td>1</td>\n",
       "      <td>False</td>\n",
       "    </tr>\n",
       "    <tr>\n",
       "      <th>2</th>\n",
       "      <td>3</td>\n",
       "      <td>Venusaur</td>\n",
       "      <td>Grass</td>\n",
       "      <td>Poison</td>\n",
       "      <td>525</td>\n",
       "      <td>80</td>\n",
       "      <td>82</td>\n",
       "      <td>83</td>\n",
       "      <td>100</td>\n",
       "      <td>100</td>\n",
       "      <td>80</td>\n",
       "      <td>1</td>\n",
       "      <td>False</td>\n",
       "    </tr>\n",
       "    <tr>\n",
       "      <th>3</th>\n",
       "      <td>3</td>\n",
       "      <td>VenusaurMega Venusaur</td>\n",
       "      <td>Grass</td>\n",
       "      <td>Poison</td>\n",
       "      <td>625</td>\n",
       "      <td>80</td>\n",
       "      <td>100</td>\n",
       "      <td>123</td>\n",
       "      <td>122</td>\n",
       "      <td>120</td>\n",
       "      <td>80</td>\n",
       "      <td>1</td>\n",
       "      <td>False</td>\n",
       "    </tr>\n",
       "    <tr>\n",
       "      <th>4</th>\n",
       "      <td>4</td>\n",
       "      <td>Charmander</td>\n",
       "      <td>Fire</td>\n",
       "      <td>NaN</td>\n",
       "      <td>309</td>\n",
       "      <td>39</td>\n",
       "      <td>52</td>\n",
       "      <td>43</td>\n",
       "      <td>60</td>\n",
       "      <td>50</td>\n",
       "      <td>65</td>\n",
       "      <td>1</td>\n",
       "      <td>False</td>\n",
       "    </tr>\n",
       "    <tr>\n",
       "      <th>...</th>\n",
       "      <td>...</td>\n",
       "      <td>...</td>\n",
       "      <td>...</td>\n",
       "      <td>...</td>\n",
       "      <td>...</td>\n",
       "      <td>...</td>\n",
       "      <td>...</td>\n",
       "      <td>...</td>\n",
       "      <td>...</td>\n",
       "      <td>...</td>\n",
       "      <td>...</td>\n",
       "      <td>...</td>\n",
       "      <td>...</td>\n",
       "    </tr>\n",
       "    <tr>\n",
       "      <th>795</th>\n",
       "      <td>719</td>\n",
       "      <td>Diancie</td>\n",
       "      <td>Rock</td>\n",
       "      <td>Fairy</td>\n",
       "      <td>600</td>\n",
       "      <td>50</td>\n",
       "      <td>100</td>\n",
       "      <td>150</td>\n",
       "      <td>100</td>\n",
       "      <td>150</td>\n",
       "      <td>50</td>\n",
       "      <td>6</td>\n",
       "      <td>True</td>\n",
       "    </tr>\n",
       "    <tr>\n",
       "      <th>796</th>\n",
       "      <td>719</td>\n",
       "      <td>DiancieMega Diancie</td>\n",
       "      <td>Rock</td>\n",
       "      <td>Fairy</td>\n",
       "      <td>700</td>\n",
       "      <td>50</td>\n",
       "      <td>160</td>\n",
       "      <td>110</td>\n",
       "      <td>160</td>\n",
       "      <td>110</td>\n",
       "      <td>110</td>\n",
       "      <td>6</td>\n",
       "      <td>True</td>\n",
       "    </tr>\n",
       "    <tr>\n",
       "      <th>797</th>\n",
       "      <td>720</td>\n",
       "      <td>HoopaHoopa Confined</td>\n",
       "      <td>Psychic</td>\n",
       "      <td>Ghost</td>\n",
       "      <td>600</td>\n",
       "      <td>80</td>\n",
       "      <td>110</td>\n",
       "      <td>60</td>\n",
       "      <td>150</td>\n",
       "      <td>130</td>\n",
       "      <td>70</td>\n",
       "      <td>6</td>\n",
       "      <td>True</td>\n",
       "    </tr>\n",
       "    <tr>\n",
       "      <th>798</th>\n",
       "      <td>720</td>\n",
       "      <td>HoopaHoopa Unbound</td>\n",
       "      <td>Psychic</td>\n",
       "      <td>Dark</td>\n",
       "      <td>680</td>\n",
       "      <td>80</td>\n",
       "      <td>160</td>\n",
       "      <td>60</td>\n",
       "      <td>170</td>\n",
       "      <td>130</td>\n",
       "      <td>80</td>\n",
       "      <td>6</td>\n",
       "      <td>True</td>\n",
       "    </tr>\n",
       "    <tr>\n",
       "      <th>799</th>\n",
       "      <td>721</td>\n",
       "      <td>Volcanion</td>\n",
       "      <td>Fire</td>\n",
       "      <td>Water</td>\n",
       "      <td>600</td>\n",
       "      <td>80</td>\n",
       "      <td>110</td>\n",
       "      <td>120</td>\n",
       "      <td>130</td>\n",
       "      <td>90</td>\n",
       "      <td>70</td>\n",
       "      <td>6</td>\n",
       "      <td>True</td>\n",
       "    </tr>\n",
       "  </tbody>\n",
       "</table>\n",
       "<p>800 rows × 13 columns</p>\n",
       "</div>"
      ],
      "text/plain": [
       "       #                   Name   Type 1  Type 2  Total  HP  Attack  Defense  \\\n",
       "0      1              Bulbasaur    Grass  Poison    318  45      49       49   \n",
       "1      2                Ivysaur    Grass  Poison    405  60      62       63   \n",
       "2      3               Venusaur    Grass  Poison    525  80      82       83   \n",
       "3      3  VenusaurMega Venusaur    Grass  Poison    625  80     100      123   \n",
       "4      4             Charmander     Fire     NaN    309  39      52       43   \n",
       "..   ...                    ...      ...     ...    ...  ..     ...      ...   \n",
       "795  719                Diancie     Rock   Fairy    600  50     100      150   \n",
       "796  719    DiancieMega Diancie     Rock   Fairy    700  50     160      110   \n",
       "797  720    HoopaHoopa Confined  Psychic   Ghost    600  80     110       60   \n",
       "798  720     HoopaHoopa Unbound  Psychic    Dark    680  80     160       60   \n",
       "799  721              Volcanion     Fire   Water    600  80     110      120   \n",
       "\n",
       "     Sp. Atk  Sp. Def  Speed  Generation  Legendary  \n",
       "0         65       65     45           1      False  \n",
       "1         80       80     60           1      False  \n",
       "2        100      100     80           1      False  \n",
       "3        122      120     80           1      False  \n",
       "4         60       50     65           1      False  \n",
       "..       ...      ...    ...         ...        ...  \n",
       "795      100      150     50           6       True  \n",
       "796      160      110    110           6       True  \n",
       "797      150      130     70           6       True  \n",
       "798      170      130     80           6       True  \n",
       "799      130       90     70           6       True  \n",
       "\n",
       "[800 rows x 13 columns]"
      ]
     },
     "execution_count": 3,
     "metadata": {},
     "output_type": "execute_result"
    }
   ],
   "source": [
    "data = pd.read_csv('Pokemon.csv')\n",
    "data"
   ]
  },
  {
   "cell_type": "code",
   "execution_count": 4,
   "id": "ca52d872-23ef-4f6e-acb4-580b00995061",
   "metadata": {},
   "outputs": [],
   "source": [
    "data_raw = data.copy()"
   ]
  },
  {
   "cell_type": "markdown",
   "id": "41c7c43e-3374-445a-aa0e-9540764655d1",
   "metadata": {},
   "source": [
    "### Cleaning"
   ]
  },
  {
   "cell_type": "code",
   "execution_count": 5,
   "id": "8c00c8ac-6a78-4b24-96a4-48de004f0632",
   "metadata": {},
   "outputs": [
    {
     "name": "stdout",
     "output_type": "stream",
     "text": [
      "<class 'pandas.core.frame.DataFrame'>\n",
      "RangeIndex: 800 entries, 0 to 799\n",
      "Data columns (total 13 columns):\n",
      " #   Column      Non-Null Count  Dtype \n",
      "---  ------      --------------  ----- \n",
      " 0   #           800 non-null    int64 \n",
      " 1   Name        800 non-null    object\n",
      " 2   Type 1      800 non-null    object\n",
      " 3   Type 2      414 non-null    object\n",
      " 4   Total       800 non-null    int64 \n",
      " 5   HP          800 non-null    int64 \n",
      " 6   Attack      800 non-null    int64 \n",
      " 7   Defense     800 non-null    int64 \n",
      " 8   Sp. Atk     800 non-null    int64 \n",
      " 9   Sp. Def     800 non-null    int64 \n",
      " 10  Speed       800 non-null    int64 \n",
      " 11  Generation  800 non-null    int64 \n",
      " 12  Legendary   800 non-null    bool  \n",
      "dtypes: bool(1), int64(9), object(3)\n",
      "memory usage: 75.9+ KB\n"
     ]
    }
   ],
   "source": [
    "data.info()"
   ]
  },
  {
   "cell_type": "code",
   "execution_count": 6,
   "id": "58540307-0598-4609-bbc0-c166d6518289",
   "metadata": {},
   "outputs": [
    {
     "data": {
      "text/plain": [
       "#               0\n",
       "Name            0\n",
       "Type 1          0\n",
       "Type 2        386\n",
       "Total           0\n",
       "HP              0\n",
       "Attack          0\n",
       "Defense         0\n",
       "Sp. Atk         0\n",
       "Sp. Def         0\n",
       "Speed           0\n",
       "Generation      0\n",
       "Legendary       0\n",
       "dtype: int64"
      ]
     },
     "execution_count": 6,
     "metadata": {},
     "output_type": "execute_result"
    }
   ],
   "source": [
    "data.isna().sum()"
   ]
  },
  {
   "cell_type": "code",
   "execution_count": 7,
   "id": "6b926725-44d2-4f0f-b9ac-c6b43807d0c0",
   "metadata": {},
   "outputs": [],
   "source": [
    "data = data.drop(['Type 2', 'Name', '#'], axis=1)"
   ]
  },
  {
   "cell_type": "markdown",
   "id": "44401d19-b3e2-415c-ae2b-67faa305790c",
   "metadata": {},
   "source": [
    "### EDA"
   ]
  },
  {
   "cell_type": "code",
   "execution_count": 9,
   "id": "01d2da96-ba26-4532-a5bc-001e71fd6ce9",
   "metadata": {},
   "outputs": [],
   "source": [
    "data['Legendary'] = data['Legendary'].astype(int)"
   ]
  },
  {
   "cell_type": "code",
   "execution_count": 10,
   "id": "5d1144cf-70d7-43e3-98fe-f8d4b7624cfe",
   "metadata": {},
   "outputs": [
    {
     "data": {
      "text/html": [
       "<div>\n",
       "<style scoped>\n",
       "    .dataframe tbody tr th:only-of-type {\n",
       "        vertical-align: middle;\n",
       "    }\n",
       "\n",
       "    .dataframe tbody tr th {\n",
       "        vertical-align: top;\n",
       "    }\n",
       "\n",
       "    .dataframe thead th {\n",
       "        text-align: right;\n",
       "    }\n",
       "</style>\n",
       "<table border=\"1\" class=\"dataframe\">\n",
       "  <thead>\n",
       "    <tr style=\"text-align: right;\">\n",
       "      <th></th>\n",
       "      <th>Type 1</th>\n",
       "      <th>Total</th>\n",
       "      <th>HP</th>\n",
       "      <th>Attack</th>\n",
       "      <th>Defense</th>\n",
       "      <th>Sp. Atk</th>\n",
       "      <th>Sp. Def</th>\n",
       "      <th>Speed</th>\n",
       "      <th>Generation</th>\n",
       "      <th>Legendary</th>\n",
       "    </tr>\n",
       "  </thead>\n",
       "  <tbody>\n",
       "    <tr>\n",
       "      <th>0</th>\n",
       "      <td>Grass</td>\n",
       "      <td>318</td>\n",
       "      <td>45</td>\n",
       "      <td>49</td>\n",
       "      <td>49</td>\n",
       "      <td>65</td>\n",
       "      <td>65</td>\n",
       "      <td>45</td>\n",
       "      <td>1</td>\n",
       "      <td>0</td>\n",
       "    </tr>\n",
       "    <tr>\n",
       "      <th>1</th>\n",
       "      <td>Grass</td>\n",
       "      <td>405</td>\n",
       "      <td>60</td>\n",
       "      <td>62</td>\n",
       "      <td>63</td>\n",
       "      <td>80</td>\n",
       "      <td>80</td>\n",
       "      <td>60</td>\n",
       "      <td>1</td>\n",
       "      <td>0</td>\n",
       "    </tr>\n",
       "    <tr>\n",
       "      <th>2</th>\n",
       "      <td>Grass</td>\n",
       "      <td>525</td>\n",
       "      <td>80</td>\n",
       "      <td>82</td>\n",
       "      <td>83</td>\n",
       "      <td>100</td>\n",
       "      <td>100</td>\n",
       "      <td>80</td>\n",
       "      <td>1</td>\n",
       "      <td>0</td>\n",
       "    </tr>\n",
       "    <tr>\n",
       "      <th>3</th>\n",
       "      <td>Grass</td>\n",
       "      <td>625</td>\n",
       "      <td>80</td>\n",
       "      <td>100</td>\n",
       "      <td>123</td>\n",
       "      <td>122</td>\n",
       "      <td>120</td>\n",
       "      <td>80</td>\n",
       "      <td>1</td>\n",
       "      <td>0</td>\n",
       "    </tr>\n",
       "    <tr>\n",
       "      <th>4</th>\n",
       "      <td>Fire</td>\n",
       "      <td>309</td>\n",
       "      <td>39</td>\n",
       "      <td>52</td>\n",
       "      <td>43</td>\n",
       "      <td>60</td>\n",
       "      <td>50</td>\n",
       "      <td>65</td>\n",
       "      <td>1</td>\n",
       "      <td>0</td>\n",
       "    </tr>\n",
       "    <tr>\n",
       "      <th>...</th>\n",
       "      <td>...</td>\n",
       "      <td>...</td>\n",
       "      <td>...</td>\n",
       "      <td>...</td>\n",
       "      <td>...</td>\n",
       "      <td>...</td>\n",
       "      <td>...</td>\n",
       "      <td>...</td>\n",
       "      <td>...</td>\n",
       "      <td>...</td>\n",
       "    </tr>\n",
       "    <tr>\n",
       "      <th>795</th>\n",
       "      <td>Rock</td>\n",
       "      <td>600</td>\n",
       "      <td>50</td>\n",
       "      <td>100</td>\n",
       "      <td>150</td>\n",
       "      <td>100</td>\n",
       "      <td>150</td>\n",
       "      <td>50</td>\n",
       "      <td>6</td>\n",
       "      <td>1</td>\n",
       "    </tr>\n",
       "    <tr>\n",
       "      <th>796</th>\n",
       "      <td>Rock</td>\n",
       "      <td>700</td>\n",
       "      <td>50</td>\n",
       "      <td>160</td>\n",
       "      <td>110</td>\n",
       "      <td>160</td>\n",
       "      <td>110</td>\n",
       "      <td>110</td>\n",
       "      <td>6</td>\n",
       "      <td>1</td>\n",
       "    </tr>\n",
       "    <tr>\n",
       "      <th>797</th>\n",
       "      <td>Psychic</td>\n",
       "      <td>600</td>\n",
       "      <td>80</td>\n",
       "      <td>110</td>\n",
       "      <td>60</td>\n",
       "      <td>150</td>\n",
       "      <td>130</td>\n",
       "      <td>70</td>\n",
       "      <td>6</td>\n",
       "      <td>1</td>\n",
       "    </tr>\n",
       "    <tr>\n",
       "      <th>798</th>\n",
       "      <td>Psychic</td>\n",
       "      <td>680</td>\n",
       "      <td>80</td>\n",
       "      <td>160</td>\n",
       "      <td>60</td>\n",
       "      <td>170</td>\n",
       "      <td>130</td>\n",
       "      <td>80</td>\n",
       "      <td>6</td>\n",
       "      <td>1</td>\n",
       "    </tr>\n",
       "    <tr>\n",
       "      <th>799</th>\n",
       "      <td>Fire</td>\n",
       "      <td>600</td>\n",
       "      <td>80</td>\n",
       "      <td>110</td>\n",
       "      <td>120</td>\n",
       "      <td>130</td>\n",
       "      <td>90</td>\n",
       "      <td>70</td>\n",
       "      <td>6</td>\n",
       "      <td>1</td>\n",
       "    </tr>\n",
       "  </tbody>\n",
       "</table>\n",
       "<p>800 rows × 10 columns</p>\n",
       "</div>"
      ],
      "text/plain": [
       "      Type 1  Total  HP  Attack  Defense  Sp. Atk  Sp. Def  Speed  Generation  \\\n",
       "0      Grass    318  45      49       49       65       65     45           1   \n",
       "1      Grass    405  60      62       63       80       80     60           1   \n",
       "2      Grass    525  80      82       83      100      100     80           1   \n",
       "3      Grass    625  80     100      123      122      120     80           1   \n",
       "4       Fire    309  39      52       43       60       50     65           1   \n",
       "..       ...    ...  ..     ...      ...      ...      ...    ...         ...   \n",
       "795     Rock    600  50     100      150      100      150     50           6   \n",
       "796     Rock    700  50     160      110      160      110    110           6   \n",
       "797  Psychic    600  80     110       60      150      130     70           6   \n",
       "798  Psychic    680  80     160       60      170      130     80           6   \n",
       "799     Fire    600  80     110      120      130       90     70           6   \n",
       "\n",
       "     Legendary  \n",
       "0            0  \n",
       "1            0  \n",
       "2            0  \n",
       "3            0  \n",
       "4            0  \n",
       "..         ...  \n",
       "795          1  \n",
       "796          1  \n",
       "797          1  \n",
       "798          1  \n",
       "799          1  \n",
       "\n",
       "[800 rows x 10 columns]"
      ]
     },
     "execution_count": 10,
     "metadata": {},
     "output_type": "execute_result"
    }
   ],
   "source": [
    "data"
   ]
  },
  {
   "cell_type": "code",
   "execution_count": 11,
   "id": "a27fed16-1965-464d-88f7-681090f3ec7a",
   "metadata": {},
   "outputs": [
    {
     "data": {
      "text/plain": [
       "array(['Grass', 'Fire', 'Water', 'Bug', 'Normal', 'Poison', 'Electric',\n",
       "       'Ground', 'Fairy', 'Fighting', 'Psychic', 'Rock', 'Ghost', 'Ice',\n",
       "       'Dragon', 'Dark', 'Steel', 'Flying'], dtype=object)"
      ]
     },
     "execution_count": 11,
     "metadata": {},
     "output_type": "execute_result"
    }
   ],
   "source": [
    "data['Type 1'].unique()"
   ]
  },
  {
   "cell_type": "code",
   "execution_count": 12,
   "id": "45462230-9bfd-4247-9aa0-1754f44dab49",
   "metadata": {},
   "outputs": [
    {
     "data": {
      "text/plain": [
       "Index(['Total', 'HP', 'Attack', 'Defense', 'Sp. Atk', 'Sp. Def', 'Speed',\n",
       "       'Generation', 'Legendary'],\n",
       "      dtype='object')"
      ]
     },
     "execution_count": 12,
     "metadata": {},
     "output_type": "execute_result"
    }
   ],
   "source": [
    "numeric_columns = data.drop('Type 1', axis=1).columns\n",
    "numeric_columns"
   ]
  },
  {
   "cell_type": "code",
   "execution_count": 13,
   "id": "59c10d3b-fb10-4931-bc5b-f6928c9435f6",
   "metadata": {},
   "outputs": [
    {
     "data": {
      "image/png": "[encoded data removed]",
      "text/plain": [
       "<Figure size 1800x1500 with 2 Axes>"
      ]
     },
     "metadata": {},
     "output_type": "display_data"
    }
   ],
   "source": [
    "correlation_matrix = data[numeric_columns].corr()\n",
    "\n",
    "plt.figure(figsize=(18, 15))\n",
    "sns.heatmap(correlation_matrix, annot=True, vmin=-1, vmax=1.0)\n",
    "plt.show()"
   ]
  },
  {
   "cell_type": "code",
   "execution_count": 21,
   "id": "12ec5a33-d812-4770-abbd-507efe512ca4",
   "metadata": {},
   "outputs": [
    {
     "data": {
      "image/png": "[encoded data removed]",
      "text/plain": [
       "<Figure size 1200x600 with 1 Axes>"
      ]
     },
     "metadata": {},
     "output_type": "display_data"
    }
   ],
   "source": [
    "plt.figure(figsize=(12,6))\n",
    "for column in numeric_columns.drop(['Total', 'Generation', 'Legendary']):\n",
    "    sns.kdeplot(data[column], fill=True, label=column)\n",
    "    plt.legend()\n",
    "plt.show()"
   ]
  },
  {
   "cell_type": "markdown",
   "id": "d811b611-e85d-4145-99ef-38c319d7f9fd",
   "metadata": {},
   "source": [
    "### Preprocessing"
   ]
  },
  {
   "cell_type": "code",
   "execution_count": 22,
   "id": "042b357b-b2b6-4b68-90dd-8dcb50b7d92e",
   "metadata": {},
   "outputs": [
    {
     "data": {
      "text/plain": [
       "Type 1        object\n",
       "Total          int64\n",
       "HP             int64\n",
       "Attack         int64\n",
       "Defense        int64\n",
       "Sp. Atk        int64\n",
       "Sp. Def        int64\n",
       "Speed          int64\n",
       "Generation     int64\n",
       "Legendary      int64\n",
       "dtype: object"
      ]
     },
     "execution_count": 22,
     "metadata": {},
     "output_type": "execute_result"
    }
   ],
   "source": [
    "data.dtypes"
   ]
  },
  {
   "cell_type": "markdown",
   "id": "ca3de1a1-ccde-4db2-bfea-c4aa5115d8bc",
   "metadata": {},
   "source": [
    "#### Encoding"
   ]
  },
  {
   "cell_type": "code",
   "execution_count": 26,
   "id": "3420fad6-c930-46f4-bba0-5f1eb5995c6c",
   "metadata": {},
   "outputs": [],
   "source": [
    "def onehot_encode(df, column, prefix):\n",
    "    df = df.copy()\n",
    "    dummies = pd.get_dummies(df[column], prefix=prefix, dtype=int)\n",
    "    df = pd.concat([df, dummies], axis=1)\n",
    "    df = df.drop(column, axis=1)\n",
    "    return df"
   ]
  },
  {
   "cell_type": "code",
   "execution_count": 28,
   "id": "1c8a1116-b915-41dc-8743-d4c35ab162f1",
   "metadata": {},
   "outputs": [
    {
     "data": {
      "text/html": [
       "<div>\n",
       "<style scoped>\n",
       "    .dataframe tbody tr th:only-of-type {\n",
       "        vertical-align: middle;\n",
       "    }\n",
       "\n",
       "    .dataframe tbody tr th {\n",
       "        vertical-align: top;\n",
       "    }\n",
       "\n",
       "    .dataframe thead th {\n",
       "        text-align: right;\n",
       "    }\n",
       "</style>\n",
       "<table border=\"1\" class=\"dataframe\">\n",
       "  <thead>\n",
       "    <tr style=\"text-align: right;\">\n",
       "      <th></th>\n",
       "      <th>Total</th>\n",
       "      <th>HP</th>\n",
       "      <th>Attack</th>\n",
       "      <th>Defense</th>\n",
       "      <th>Sp. Atk</th>\n",
       "      <th>Sp. Def</th>\n",
       "      <th>Speed</th>\n",
       "      <th>Generation</th>\n",
       "      <th>Legendary</th>\n",
       "      <th>t_Bug</th>\n",
       "      <th>...</th>\n",
       "      <th>t_Ghost</th>\n",
       "      <th>t_Grass</th>\n",
       "      <th>t_Ground</th>\n",
       "      <th>t_Ice</th>\n",
       "      <th>t_Normal</th>\n",
       "      <th>t_Poison</th>\n",
       "      <th>t_Psychic</th>\n",
       "      <th>t_Rock</th>\n",
       "      <th>t_Steel</th>\n",
       "      <th>t_Water</th>\n",
       "    </tr>\n",
       "  </thead>\n",
       "  <tbody>\n",
       "    <tr>\n",
       "      <th>0</th>\n",
       "      <td>318</td>\n",
       "      <td>45</td>\n",
       "      <td>49</td>\n",
       "      <td>49</td>\n",
       "      <td>65</td>\n",
       "      <td>65</td>\n",
       "      <td>45</td>\n",
       "      <td>1</td>\n",
       "      <td>0</td>\n",
       "      <td>0</td>\n",
       "      <td>...</td>\n",
       "      <td>0</td>\n",
       "      <td>1</td>\n",
       "      <td>0</td>\n",
       "      <td>0</td>\n",
       "      <td>0</td>\n",
       "      <td>0</td>\n",
       "      <td>0</td>\n",
       "      <td>0</td>\n",
       "      <td>0</td>\n",
       "      <td>0</td>\n",
       "    </tr>\n",
       "    <tr>\n",
       "      <th>1</th>\n",
       "      <td>405</td>\n",
       "      <td>60</td>\n",
       "      <td>62</td>\n",
       "      <td>63</td>\n",
       "      <td>80</td>\n",
       "      <td>80</td>\n",
       "      <td>60</td>\n",
       "      <td>1</td>\n",
       "      <td>0</td>\n",
       "      <td>0</td>\n",
       "      <td>...</td>\n",
       "      <td>0</td>\n",
       "      <td>1</td>\n",
       "      <td>0</td>\n",
       "      <td>0</td>\n",
       "      <td>0</td>\n",
       "      <td>0</td>\n",
       "      <td>0</td>\n",
       "      <td>0</td>\n",
       "      <td>0</td>\n",
       "      <td>0</td>\n",
       "    </tr>\n",
       "    <tr>\n",
       "      <th>2</th>\n",
       "      <td>525</td>\n",
       "      <td>80</td>\n",
       "      <td>82</td>\n",
       "      <td>83</td>\n",
       "      <td>100</td>\n",
       "      <td>100</td>\n",
       "      <td>80</td>\n",
       "      <td>1</td>\n",
       "      <td>0</td>\n",
       "      <td>0</td>\n",
       "      <td>...</td>\n",
       "      <td>0</td>\n",
       "      <td>1</td>\n",
       "      <td>0</td>\n",
       "      <td>0</td>\n",
       "      <td>0</td>\n",
       "      <td>0</td>\n",
       "      <td>0</td>\n",
       "      <td>0</td>\n",
       "      <td>0</td>\n",
       "      <td>0</td>\n",
       "    </tr>\n",
       "    <tr>\n",
       "      <th>3</th>\n",
       "      <td>625</td>\n",
       "      <td>80</td>\n",
       "      <td>100</td>\n",
       "      <td>123</td>\n",
       "      <td>122</td>\n",
       "      <td>120</td>\n",
       "      <td>80</td>\n",
       "      <td>1</td>\n",
       "      <td>0</td>\n",
       "      <td>0</td>\n",
       "      <td>...</td>\n",
       "      <td>0</td>\n",
       "      <td>1</td>\n",
       "      <td>0</td>\n",
       "      <td>0</td>\n",
       "      <td>0</td>\n",
       "      <td>0</td>\n",
       "      <td>0</td>\n",
       "      <td>0</td>\n",
       "      <td>0</td>\n",
       "      <td>0</td>\n",
       "    </tr>\n",
       "    <tr>\n",
       "      <th>4</th>\n",
       "      <td>309</td>\n",
       "      <td>39</td>\n",
       "      <td>52</td>\n",
       "      <td>43</td>\n",
       "      <td>60</td>\n",
       "      <td>50</td>\n",
       "      <td>65</td>\n",
       "      <td>1</td>\n",
       "      <td>0</td>\n",
       "      <td>0</td>\n",
       "      <td>...</td>\n",
       "      <td>0</td>\n",
       "      <td>0</td>\n",
       "      <td>0</td>\n",
       "      <td>0</td>\n",
       "      <td>0</td>\n",
       "      <td>0</td>\n",
       "      <td>0</td>\n",
       "      <td>0</td>\n",
       "      <td>0</td>\n",
       "      <td>0</td>\n",
       "    </tr>\n",
       "    <tr>\n",
       "      <th>...</th>\n",
       "      <td>...</td>\n",
       "      <td>...</td>\n",
       "      <td>...</td>\n",
       "      <td>...</td>\n",
       "      <td>...</td>\n",
       "      <td>...</td>\n",
       "      <td>...</td>\n",
       "      <td>...</td>\n",
       "      <td>...</td>\n",
       "      <td>...</td>\n",
       "      <td>...</td>\n",
       "      <td>...</td>\n",
       "      <td>...</td>\n",
       "      <td>...</td>\n",
       "      <td>...</td>\n",
       "      <td>...</td>\n",
       "      <td>...</td>\n",
       "      <td>...</td>\n",
       "      <td>...</td>\n",
       "      <td>...</td>\n",
       "      <td>...</td>\n",
       "    </tr>\n",
       "    <tr>\n",
       "      <th>795</th>\n",
       "      <td>600</td>\n",
       "      <td>50</td>\n",
       "      <td>100</td>\n",
       "      <td>150</td>\n",
       "      <td>100</td>\n",
       "      <td>150</td>\n",
       "      <td>50</td>\n",
       "      <td>6</td>\n",
       "      <td>1</td>\n",
       "      <td>0</td>\n",
       "      <td>...</td>\n",
       "      <td>0</td>\n",
       "      <td>0</td>\n",
       "      <td>0</td>\n",
       "      <td>0</td>\n",
       "      <td>0</td>\n",
       "      <td>0</td>\n",
       "      <td>0</td>\n",
       "      <td>1</td>\n",
       "      <td>0</td>\n",
       "      <td>0</td>\n",
       "    </tr>\n",
       "    <tr>\n",
       "      <th>796</th>\n",
       "      <td>700</td>\n",
       "      <td>50</td>\n",
       "      <td>160</td>\n",
       "      <td>110</td>\n",
       "      <td>160</td>\n",
       "      <td>110</td>\n",
       "      <td>110</td>\n",
       "      <td>6</td>\n",
       "      <td>1</td>\n",
       "      <td>0</td>\n",
       "      <td>...</td>\n",
       "      <td>0</td>\n",
       "      <td>0</td>\n",
       "      <td>0</td>\n",
       "      <td>0</td>\n",
       "      <td>0</td>\n",
       "      <td>0</td>\n",
       "      <td>0</td>\n",
       "      <td>1</td>\n",
       "      <td>0</td>\n",
       "      <td>0</td>\n",
       "    </tr>\n",
       "    <tr>\n",
       "      <th>797</th>\n",
       "      <td>600</td>\n",
       "      <td>80</td>\n",
       "      <td>110</td>\n",
       "      <td>60</td>\n",
       "      <td>150</td>\n",
       "      <td>130</td>\n",
       "      <td>70</td>\n",
       "      <td>6</td>\n",
       "      <td>1</td>\n",
       "      <td>0</td>\n",
       "      <td>...</td>\n",
       "      <td>0</td>\n",
       "      <td>0</td>\n",
       "      <td>0</td>\n",
       "      <td>0</td>\n",
       "      <td>0</td>\n",
       "      <td>0</td>\n",
       "      <td>1</td>\n",
       "      <td>0</td>\n",
       "      <td>0</td>\n",
       "      <td>0</td>\n",
       "    </tr>\n",
       "    <tr>\n",
       "      <th>798</th>\n",
       "      <td>680</td>\n",
       "      <td>80</td>\n",
       "      <td>160</td>\n",
       "      <td>60</td>\n",
       "      <td>170</td>\n",
       "      <td>130</td>\n",
       "      <td>80</td>\n",
       "      <td>6</td>\n",
       "      <td>1</td>\n",
       "      <td>0</td>\n",
       "      <td>...</td>\n",
       "      <td>0</td>\n",
       "      <td>0</td>\n",
       "      <td>0</td>\n",
       "      <td>0</td>\n",
       "      <td>0</td>\n",
       "      <td>0</td>\n",
       "      <td>1</td>\n",
       "      <td>0</td>\n",
       "      <td>0</td>\n",
       "      <td>0</td>\n",
       "    </tr>\n",
       "    <tr>\n",
       "      <th>799</th>\n",
       "      <td>600</td>\n",
       "      <td>80</td>\n",
       "      <td>110</td>\n",
       "      <td>120</td>\n",
       "      <td>130</td>\n",
       "      <td>90</td>\n",
       "      <td>70</td>\n",
       "      <td>6</td>\n",
       "      <td>1</td>\n",
       "      <td>0</td>\n",
       "      <td>...</td>\n",
       "      <td>0</td>\n",
       "      <td>0</td>\n",
       "      <td>0</td>\n",
       "      <td>0</td>\n",
       "      <td>0</td>\n",
       "      <td>0</td>\n",
       "      <td>0</td>\n",
       "      <td>0</td>\n",
       "      <td>0</td>\n",
       "      <td>0</td>\n",
       "    </tr>\n",
       "  </tbody>\n",
       "</table>\n",
       "<p>800 rows × 27 columns</p>\n",
       "</div>"
      ],
      "text/plain": [
       "     Total  HP  Attack  Defense  Sp. Atk  Sp. Def  Speed  Generation  \\\n",
       "0      318  45      49       49       65       65     45           1   \n",
       "1      405  60      62       63       80       80     60           1   \n",
       "2      525  80      82       83      100      100     80           1   \n",
       "3      625  80     100      123      122      120     80           1   \n",
       "4      309  39      52       43       60       50     65           1   \n",
       "..     ...  ..     ...      ...      ...      ...    ...         ...   \n",
       "795    600  50     100      150      100      150     50           6   \n",
       "796    700  50     160      110      160      110    110           6   \n",
       "797    600  80     110       60      150      130     70           6   \n",
       "798    680  80     160       60      170      130     80           6   \n",
       "799    600  80     110      120      130       90     70           6   \n",
       "\n",
       "     Legendary  t_Bug  ...  t_Ghost  t_Grass  t_Ground  t_Ice  t_Normal  \\\n",
       "0            0      0  ...        0        1         0      0         0   \n",
       "1            0      0  ...        0        1         0      0         0   \n",
       "2            0      0  ...        0        1         0      0         0   \n",
       "3            0      0  ...        0        1         0      0         0   \n",
       "4            0      0  ...        0        0         0      0         0   \n",
       "..         ...    ...  ...      ...      ...       ...    ...       ...   \n",
       "795          1      0  ...        0        0         0      0         0   \n",
       "796          1      0  ...        0        0         0      0         0   \n",
       "797          1      0  ...        0        0         0      0         0   \n",
       "798          1      0  ...        0        0         0      0         0   \n",
       "799          1      0  ...        0        0         0      0         0   \n",
       "\n",
       "     t_Poison  t_Psychic  t_Rock  t_Steel  t_Water  \n",
       "0           0          0       0        0        0  \n",
       "1           0          0       0        0        0  \n",
       "2           0          0       0        0        0  \n",
       "3           0          0       0        0        0  \n",
       "4           0          0       0        0        0  \n",
       "..        ...        ...     ...      ...      ...  \n",
       "795         0          0       1        0        0  \n",
       "796         0          0       1        0        0  \n",
       "797         0          1       0        0        0  \n",
       "798         0          1       0        0        0  \n",
       "799         0          0       0        0        0  \n",
       "\n",
       "[800 rows x 27 columns]"
      ]
     },
     "execution_count": 28,
     "metadata": {},
     "output_type": "execute_result"
    }
   ],
   "source": [
    "data = onehot_encode(data, 'Type 1', 't')\n",
    "data"
   ]
  },
  {
   "cell_type": "markdown",
   "id": "59a59001-e761-4008-aa96-09293c623aa3",
   "metadata": {},
   "source": [
    "### Splitting and Scaling "
   ]
  },
  {
   "cell_type": "code",
   "execution_count": 30,
   "id": "f5d61ed0-fa51-44cd-acfc-e46e070fd89f",
   "metadata": {},
   "outputs": [],
   "source": [
    "y = data['Legendary']\n",
    "X = data.drop('Legendary', axis=1)"
   ]
  },
  {
   "cell_type": "code",
   "execution_count": 31,
   "id": "b8475465-f5c8-4a62-9076-1a82a9c0522b",
   "metadata": {},
   "outputs": [],
   "source": [
    "scaler = StandardScaler()\n",
    "\n",
    "X = pd.DataFrame(scaler.fit_transform(X), columns=X.columns)"
   ]
  },
  {
   "cell_type": "code",
   "execution_count": 32,
   "id": "174bf336-708e-41bc-b059-ab39425c0f23",
   "metadata": {},
   "outputs": [],
   "source": [
    "X_train, X_test, y_train, y_test = train_test_split(X, y, train_size=0.7, random_state=42)"
   ]
  },
  {
   "cell_type": "markdown",
   "id": "6a647344-ef70-4e34-9e16-ed5c3a7d4a21",
   "metadata": {},
   "source": [
    "### Training"
   ]
  },
  {
   "cell_type": "code",
   "execution_count": 33,
   "id": "10ec04f3-c1bb-472b-8624-bae8aa7065e3",
   "metadata": {},
   "outputs": [
    {
     "data": {
      "text/plain": [
       "(800, 26)"
      ]
     },
     "execution_count": 33,
     "metadata": {},
     "output_type": "execute_result"
    }
   ],
   "source": [
    "X.shape"
   ]
  },
  {
   "cell_type": "code",
   "execution_count": 43,
   "id": "a9ec9e4d-79fe-4915-9fa0-fd382d7cca3f",
   "metadata": {
    "scrolled": true
   },
   "outputs": [
    {
     "name": "stdout",
     "output_type": "stream",
     "text": [
      "Epoch 1/100\n",
      "14/14 [==============================] - 1s 34ms/step - loss: 0.4237 - accuracy: 0.8795 - auc: 0.5289 - val_loss: 0.3547 - val_accuracy: 0.9018 - val_auc: 0.5446 - lr: 0.0010\n",
      "Epoch 2/100\n",
      "14/14 [==============================] - 0s 11ms/step - loss: 0.2670 - accuracy: 0.9152 - auc: 0.7856 - val_loss: 0.2785 - val_accuracy: 0.9018 - val_auc: 0.7849 - lr: 0.0010\n",
      "Epoch 3/100\n",
      "14/14 [==============================] - 0s 12ms/step - loss: 0.1996 - accuracy: 0.9219 - auc: 0.9131 - val_loss: 0.2306 - val_accuracy: 0.9196 - val_auc: 0.8767 - lr: 0.0010\n",
      "Epoch 4/100\n",
      "14/14 [==============================] - 0s 11ms/step - loss: 0.1626 - accuracy: 0.9442 - auc: 0.9506 - val_loss: 0.2015 - val_accuracy: 0.9018 - val_auc: 0.9257 - lr: 0.0010\n",
      "Epoch 5/100\n",
      "14/14 [==============================] - 0s 10ms/step - loss: 0.1371 - accuracy: 0.9554 - auc: 0.9662 - val_loss: 0.1841 - val_accuracy: 0.9018 - val_auc: 0.9433 - lr: 0.0010\n",
      "Epoch 6/100\n",
      "14/14 [==============================] - 0s 12ms/step - loss: 0.1204 - accuracy: 0.9531 - auc: 0.9764 - val_loss: 0.1702 - val_accuracy: 0.9018 - val_auc: 0.9545 - lr: 0.0010\n",
      "Epoch 7/100\n",
      "14/14 [==============================] - 0s 15ms/step - loss: 0.1072 - accuracy: 0.9598 - auc: 0.9831 - val_loss: 0.1600 - val_accuracy: 0.9107 - val_auc: 0.9550 - lr: 0.0010\n",
      "Epoch 8/100\n",
      "14/14 [==============================] - 0s 12ms/step - loss: 0.0974 - accuracy: 0.9621 - auc: 0.9859 - val_loss: 0.1528 - val_accuracy: 0.9196 - val_auc: 0.9581 - lr: 0.0010\n",
      "Epoch 9/100\n",
      "14/14 [==============================] - 0s 10ms/step - loss: 0.0897 - accuracy: 0.9710 - auc: 0.9882 - val_loss: 0.1470 - val_accuracy: 0.9107 - val_auc: 0.9626 - lr: 0.0010\n",
      "Epoch 10/100\n",
      "14/14 [==============================] - 0s 11ms/step - loss: 0.0828 - accuracy: 0.9688 - auc: 0.9900 - val_loss: 0.1413 - val_accuracy: 0.9196 - val_auc: 0.9631 - lr: 0.0010\n",
      "Epoch 11/100\n",
      "14/14 [==============================] - 0s 10ms/step - loss: 0.0775 - accuracy: 0.9754 - auc: 0.9916 - val_loss: 0.1356 - val_accuracy: 0.9286 - val_auc: 0.9676 - lr: 0.0010\n",
      "Epoch 12/100\n",
      "14/14 [==============================] - 0s 15ms/step - loss: 0.0717 - accuracy: 0.9821 - auc: 0.9935 - val_loss: 0.1336 - val_accuracy: 0.9375 - val_auc: 0.9694 - lr: 0.0010\n",
      "Epoch 13/100\n",
      "14/14 [==============================] - 0s 12ms/step - loss: 0.0685 - accuracy: 0.9821 - auc: 0.9939 - val_loss: 0.1302 - val_accuracy: 0.9375 - val_auc: 0.9703 - lr: 0.0010\n",
      "Epoch 14/100\n",
      "14/14 [==============================] - 0s 10ms/step - loss: 0.0621 - accuracy: 0.9844 - auc: 0.9954 - val_loss: 0.1263 - val_accuracy: 0.9375 - val_auc: 0.9703 - lr: 0.0010\n",
      "Epoch 15/100\n",
      "14/14 [==============================] - 0s 12ms/step - loss: 0.0596 - accuracy: 0.9844 - auc: 0.9955 - val_loss: 0.1296 - val_accuracy: 0.9375 - val_auc: 0.9716 - lr: 0.0010\n",
      "Epoch 16/100\n",
      "14/14 [==============================] - 0s 10ms/step - loss: 0.0557 - accuracy: 0.9866 - auc: 0.9962 - val_loss: 0.1254 - val_accuracy: 0.9375 - val_auc: 0.9721 - lr: 0.0010\n",
      "Epoch 17/100\n",
      "14/14 [==============================] - 0s 10ms/step - loss: 0.0518 - accuracy: 0.9888 - auc: 0.9970 - val_loss: 0.1261 - val_accuracy: 0.9375 - val_auc: 0.9721 - lr: 0.0010\n",
      "Epoch 18/100\n",
      "14/14 [==============================] - 0s 10ms/step - loss: 0.0489 - accuracy: 0.9888 - auc: 0.9973 - val_loss: 0.1243 - val_accuracy: 0.9375 - val_auc: 0.9730 - lr: 0.0010\n",
      "Epoch 19/100\n",
      "14/14 [==============================] - 0s 12ms/step - loss: 0.0467 - accuracy: 0.9911 - auc: 0.9973 - val_loss: 0.1267 - val_accuracy: 0.9375 - val_auc: 0.9739 - lr: 0.0010\n",
      "Epoch 20/100\n",
      "14/14 [==============================] - 0s 7ms/step - loss: 0.0460 - accuracy: 0.9888 - auc: 0.9976 - val_loss: 0.1252 - val_accuracy: 0.9375 - val_auc: 0.9752 - lr: 0.0010\n",
      "Epoch 21/100\n",
      "14/14 [==============================] - 0s 7ms/step - loss: 0.0415 - accuracy: 0.9911 - auc: 0.9981 - val_loss: 0.1269 - val_accuracy: 0.9375 - val_auc: 0.9730 - lr: 0.0010\n",
      "Epoch 22/100\n",
      "14/14 [==============================] - 0s 7ms/step - loss: 0.0388 - accuracy: 0.9933 - auc: 0.9984 - val_loss: 0.1256 - val_accuracy: 0.9375 - val_auc: 0.9757 - lr: 0.0010\n",
      "Epoch 23/100\n",
      "14/14 [==============================] - 0s 8ms/step - loss: 0.0364 - accuracy: 0.9911 - auc: 0.9988 - val_loss: 0.1272 - val_accuracy: 0.9375 - val_auc: 0.9757 - lr: 0.0010\n",
      "Epoch 24/100\n",
      "14/14 [==============================] - 0s 10ms/step - loss: 0.0343 - accuracy: 0.9933 - auc: 0.9992 - val_loss: 0.1267 - val_accuracy: 0.9375 - val_auc: 0.9775 - lr: 0.0010\n",
      "Epoch 25/100\n",
      "14/14 [==============================] - 0s 12ms/step - loss: 0.0328 - accuracy: 0.9933 - auc: 0.9991 - val_loss: 0.1314 - val_accuracy: 0.9375 - val_auc: 0.9757 - lr: 0.0010\n",
      "Epoch 26/100\n",
      "14/14 [==============================] - 0s 10ms/step - loss: 0.0309 - accuracy: 0.9911 - auc: 0.9993 - val_loss: 0.1307 - val_accuracy: 0.9375 - val_auc: 0.9779 - lr: 0.0010\n",
      "Epoch 27/100\n",
      "14/14 [==============================] - 0s 10ms/step - loss: 0.0290 - accuracy: 0.9933 - auc: 0.9999 - val_loss: 0.1307 - val_accuracy: 0.9375 - val_auc: 0.9761 - lr: 0.0010\n",
      "Epoch 28/100\n",
      "14/14 [==============================] - 0s 13ms/step - loss: 0.0285 - accuracy: 0.9933 - auc: 0.9998 - val_loss: 0.1348 - val_accuracy: 0.9464 - val_auc: 0.9757 - lr: 0.0010\n",
      "Epoch 29/100\n",
      "14/14 [==============================] - 0s 12ms/step - loss: 0.0250 - accuracy: 0.9978 - auc: 0.9999 - val_loss: 0.1342 - val_accuracy: 0.9464 - val_auc: 0.9757 - lr: 1.0000e-04\n",
      "Epoch 30/100\n",
      "14/14 [==============================] - 0s 11ms/step - loss: 0.0244 - accuracy: 0.9978 - auc: 0.9999 - val_loss: 0.1339 - val_accuracy: 0.9375 - val_auc: 0.9757 - lr: 1.0000e-04\n",
      "Epoch 31/100\n",
      "14/14 [==============================] - 0s 10ms/step - loss: 0.0241 - accuracy: 0.9955 - auc: 0.9999 - val_loss: 0.1338 - val_accuracy: 0.9375 - val_auc: 0.9757 - lr: 1.0000e-04\n",
      "Epoch 32/100\n",
      "14/14 [==============================] - 0s 11ms/step - loss: 0.0238 - accuracy: 0.9978 - auc: 0.9999 - val_loss: 0.1341 - val_accuracy: 0.9375 - val_auc: 0.9761 - lr: 1.0000e-04\n",
      "Epoch 33/100\n",
      "14/14 [==============================] - 0s 14ms/step - loss: 0.0237 - accuracy: 0.9955 - auc: 0.9999 - val_loss: 0.1338 - val_accuracy: 0.9375 - val_auc: 0.9766 - lr: 1.0000e-04\n",
      "Epoch 34/100\n",
      "14/14 [==============================] - 0s 13ms/step - loss: 0.0235 - accuracy: 0.9978 - auc: 0.9999 - val_loss: 0.1340 - val_accuracy: 0.9375 - val_auc: 0.9766 - lr: 1.0000e-04\n",
      "Epoch 35/100\n",
      "14/14 [==============================] - 0s 13ms/step - loss: 0.0234 - accuracy: 0.9978 - auc: 0.9999 - val_loss: 0.1344 - val_accuracy: 0.9375 - val_auc: 0.9766 - lr: 1.0000e-04\n",
      "Epoch 36/100\n",
      "14/14 [==============================] - 0s 11ms/step - loss: 0.0231 - accuracy: 0.9978 - auc: 0.9999 - val_loss: 0.1342 - val_accuracy: 0.9375 - val_auc: 0.9766 - lr: 1.0000e-04\n",
      "Epoch 37/100\n",
      "14/14 [==============================] - 0s 15ms/step - loss: 0.0230 - accuracy: 0.9978 - auc: 0.9999 - val_loss: 0.1344 - val_accuracy: 0.9375 - val_auc: 0.9766 - lr: 1.0000e-04\n",
      "Epoch 38/100\n",
      "14/14 [==============================] - 0s 17ms/step - loss: 0.0229 - accuracy: 0.9978 - auc: 0.9999 - val_loss: 0.1343 - val_accuracy: 0.9375 - val_auc: 0.9766 - lr: 1.0000e-04\n",
      "Epoch 39/100\n",
      "14/14 [==============================] - 0s 13ms/step - loss: 0.0226 - accuracy: 0.9978 - auc: 0.9999 - val_loss: 0.1343 - val_accuracy: 0.9375 - val_auc: 0.9766 - lr: 1.0000e-05\n",
      "Epoch 40/100\n",
      "14/14 [==============================] - 0s 9ms/step - loss: 0.0226 - accuracy: 0.9978 - auc: 0.9999 - val_loss: 0.1343 - val_accuracy: 0.9375 - val_auc: 0.9766 - lr: 1.0000e-05\n",
      "Epoch 41/100\n",
      "14/14 [==============================] - 0s 12ms/step - loss: 0.0226 - accuracy: 0.9978 - auc: 0.9999 - val_loss: 0.1343 - val_accuracy: 0.9375 - val_auc: 0.9766 - lr: 1.0000e-05\n",
      "Epoch 42/100\n",
      "14/14 [==============================] - 0s 16ms/step - loss: 0.0226 - accuracy: 0.9978 - auc: 0.9999 - val_loss: 0.1344 - val_accuracy: 0.9375 - val_auc: 0.9766 - lr: 1.0000e-05\n",
      "Epoch 43/100\n",
      "14/14 [==============================] - 0s 11ms/step - loss: 0.0225 - accuracy: 0.9978 - auc: 0.9999 - val_loss: 0.1344 - val_accuracy: 0.9375 - val_auc: 0.9766 - lr: 1.0000e-05\n",
      "Epoch 44/100\n",
      "14/14 [==============================] - 0s 9ms/step - loss: 0.0225 - accuracy: 0.9978 - auc: 0.9999 - val_loss: 0.1344 - val_accuracy: 0.9375 - val_auc: 0.9766 - lr: 1.0000e-05\n",
      "Epoch 45/100\n",
      "14/14 [==============================] - 0s 11ms/step - loss: 0.0225 - accuracy: 0.9978 - auc: 0.9999 - val_loss: 0.1344 - val_accuracy: 0.9375 - val_auc: 0.9766 - lr: 1.0000e-05\n",
      "Epoch 46/100\n",
      "14/14 [==============================] - 0s 16ms/step - loss: 0.0225 - accuracy: 0.9978 - auc: 0.9999 - val_loss: 0.1344 - val_accuracy: 0.9375 - val_auc: 0.9766 - lr: 1.0000e-05\n",
      "Epoch 47/100\n",
      "14/14 [==============================] - 0s 12ms/step - loss: 0.0225 - accuracy: 0.9978 - auc: 0.9999 - val_loss: 0.1344 - val_accuracy: 0.9375 - val_auc: 0.9766 - lr: 1.0000e-05\n",
      "Epoch 48/100\n",
      "14/14 [==============================] - 0s 8ms/step - loss: 0.0225 - accuracy: 0.9978 - auc: 0.9999 - val_loss: 0.1344 - val_accuracy: 0.9375 - val_auc: 0.9766 - lr: 1.0000e-05\n",
      "Epoch 49/100\n",
      "14/14 [==============================] - 0s 12ms/step - loss: 0.0224 - accuracy: 0.9978 - auc: 0.9999 - val_loss: 0.1344 - val_accuracy: 0.9375 - val_auc: 0.9766 - lr: 1.0000e-06\n",
      "Epoch 50/100\n",
      "14/14 [==============================] - 0s 13ms/step - loss: 0.0224 - accuracy: 0.9978 - auc: 0.9999 - val_loss: 0.1344 - val_accuracy: 0.9375 - val_auc: 0.9766 - lr: 1.0000e-06\n",
      "Epoch 51/100\n",
      "14/14 [==============================] - 0s 10ms/step - loss: 0.0224 - accuracy: 0.9978 - auc: 0.9999 - val_loss: 0.1344 - val_accuracy: 0.9375 - val_auc: 0.9766 - lr: 1.0000e-06\n",
      "Epoch 52/100\n",
      "14/14 [==============================] - 0s 9ms/step - loss: 0.0224 - accuracy: 0.9978 - auc: 0.9999 - val_loss: 0.1344 - val_accuracy: 0.9375 - val_auc: 0.9766 - lr: 1.0000e-06\n",
      "Epoch 53/100\n",
      "14/14 [==============================] - 0s 6ms/step - loss: 0.0224 - accuracy: 0.9978 - auc: 0.9999 - val_loss: 0.1344 - val_accuracy: 0.9375 - val_auc: 0.9766 - lr: 1.0000e-06\n",
      "Epoch 54/100\n",
      "14/14 [==============================] - 0s 7ms/step - loss: 0.0224 - accuracy: 0.9978 - auc: 0.9999 - val_loss: 0.1344 - val_accuracy: 0.9375 - val_auc: 0.9766 - lr: 1.0000e-06\n",
      "Epoch 55/100\n",
      "14/14 [==============================] - 0s 10ms/step - loss: 0.0224 - accuracy: 0.9978 - auc: 0.9999 - val_loss: 0.1344 - val_accuracy: 0.9375 - val_auc: 0.9766 - lr: 1.0000e-06\n",
      "Epoch 56/100\n",
      "14/14 [==============================] - 0s 11ms/step - loss: 0.0224 - accuracy: 0.9978 - auc: 0.9999 - val_loss: 0.1344 - val_accuracy: 0.9375 - val_auc: 0.9766 - lr: 1.0000e-06\n",
      "Epoch 57/100\n",
      "14/14 [==============================] - 0s 10ms/step - loss: 0.0224 - accuracy: 0.9978 - auc: 0.9999 - val_loss: 0.1344 - val_accuracy: 0.9375 - val_auc: 0.9766 - lr: 1.0000e-06\n",
      "Epoch 58/100\n",
      "14/14 [==============================] - 0s 10ms/step - loss: 0.0224 - accuracy: 0.9978 - auc: 0.9999 - val_loss: 0.1344 - val_accuracy: 0.9375 - val_auc: 0.9766 - lr: 1.0000e-06\n",
      "Epoch 59/100\n",
      "14/14 [==============================] - 0s 10ms/step - loss: 0.0224 - accuracy: 0.9978 - auc: 0.9999 - val_loss: 0.1344 - val_accuracy: 0.9375 - val_auc: 0.9766 - lr: 1.0000e-07\n",
      "Epoch 60/100\n",
      "14/14 [==============================] - 0s 12ms/step - loss: 0.0224 - accuracy: 0.9978 - auc: 0.9999 - val_loss: 0.1344 - val_accuracy: 0.9375 - val_auc: 0.9766 - lr: 1.0000e-07\n",
      "Epoch 61/100\n",
      "14/14 [==============================] - 0s 12ms/step - loss: 0.0224 - accuracy: 0.9978 - auc: 0.9999 - val_loss: 0.1344 - val_accuracy: 0.9375 - val_auc: 0.9766 - lr: 1.0000e-07\n",
      "Epoch 62/100\n",
      "14/14 [==============================] - 0s 10ms/step - loss: 0.0224 - accuracy: 0.9978 - auc: 0.9999 - val_loss: 0.1344 - val_accuracy: 0.9375 - val_auc: 0.9766 - lr: 1.0000e-07\n",
      "Epoch 63/100\n",
      "14/14 [==============================] - 0s 10ms/step - loss: 0.0224 - accuracy: 0.9978 - auc: 0.9999 - val_loss: 0.1344 - val_accuracy: 0.9375 - val_auc: 0.9766 - lr: 1.0000e-07\n",
      "Epoch 64/100\n",
      "14/14 [==============================] - 0s 12ms/step - loss: 0.0224 - accuracy: 0.9978 - auc: 0.9999 - val_loss: 0.1344 - val_accuracy: 0.9375 - val_auc: 0.9766 - lr: 1.0000e-07\n",
      "Epoch 65/100\n",
      "14/14 [==============================] - 0s 12ms/step - loss: 0.0224 - accuracy: 0.9978 - auc: 0.9999 - val_loss: 0.1344 - val_accuracy: 0.9375 - val_auc: 0.9766 - lr: 1.0000e-07\n",
      "Epoch 66/100\n",
      "14/14 [==============================] - 0s 10ms/step - loss: 0.0224 - accuracy: 0.9978 - auc: 0.9999 - val_loss: 0.1344 - val_accuracy: 0.9375 - val_auc: 0.9766 - lr: 1.0000e-07\n",
      "Epoch 67/100\n",
      "14/14 [==============================] - 0s 10ms/step - loss: 0.0224 - accuracy: 0.9978 - auc: 0.9999 - val_loss: 0.1344 - val_accuracy: 0.9375 - val_auc: 0.9766 - lr: 1.0000e-07\n",
      "Epoch 68/100\n",
      "14/14 [==============================] - 0s 10ms/step - loss: 0.0224 - accuracy: 0.9978 - auc: 0.9999 - val_loss: 0.1344 - val_accuracy: 0.9375 - val_auc: 0.9766 - lr: 1.0000e-07\n",
      "Epoch 69/100\n",
      "14/14 [==============================] - 0s 11ms/step - loss: 0.0224 - accuracy: 0.9978 - auc: 0.9999 - val_loss: 0.1344 - val_accuracy: 0.9375 - val_auc: 0.9766 - lr: 1.0000e-08\n",
      "Epoch 70/100\n",
      "14/14 [==============================] - 0s 11ms/step - loss: 0.0224 - accuracy: 0.9978 - auc: 0.9999 - val_loss: 0.1344 - val_accuracy: 0.9375 - val_auc: 0.9766 - lr: 1.0000e-08\n",
      "Epoch 71/100\n",
      "14/14 [==============================] - 0s 14ms/step - loss: 0.0224 - accuracy: 0.9978 - auc: 0.9999 - val_loss: 0.1344 - val_accuracy: 0.9375 - val_auc: 0.9766 - lr: 1.0000e-08\n",
      "Epoch 72/100\n",
      "14/14 [==============================] - 0s 11ms/step - loss: 0.0224 - accuracy: 0.9978 - auc: 0.9999 - val_loss: 0.1344 - val_accuracy: 0.9375 - val_auc: 0.9766 - lr: 1.0000e-08\n",
      "Epoch 73/100\n",
      "14/14 [==============================] - 0s 12ms/step - loss: 0.0224 - accuracy: 0.9978 - auc: 0.9999 - val_loss: 0.1344 - val_accuracy: 0.9375 - val_auc: 0.9766 - lr: 1.0000e-08\n",
      "Epoch 74/100\n",
      "14/14 [==============================] - 0s 11ms/step - loss: 0.0224 - accuracy: 0.9978 - auc: 0.9999 - val_loss: 0.1344 - val_accuracy: 0.9375 - val_auc: 0.9766 - lr: 1.0000e-08\n",
      "Epoch 75/100\n",
      "14/14 [==============================] - 0s 11ms/step - loss: 0.0224 - accuracy: 0.9978 - auc: 0.9999 - val_loss: 0.1344 - val_accuracy: 0.9375 - val_auc: 0.9766 - lr: 1.0000e-08\n",
      "Epoch 76/100\n",
      "14/14 [==============================] - 0s 10ms/step - loss: 0.0224 - accuracy: 0.9978 - auc: 0.9999 - val_loss: 0.1344 - val_accuracy: 0.9375 - val_auc: 0.9766 - lr: 1.0000e-08\n",
      "Epoch 77/100\n",
      "14/14 [==============================] - 0s 10ms/step - loss: 0.0224 - accuracy: 0.9978 - auc: 0.9999 - val_loss: 0.1344 - val_accuracy: 0.9375 - val_auc: 0.9766 - lr: 1.0000e-08\n",
      "Epoch 78/100\n",
      "14/14 [==============================] - 0s 11ms/step - loss: 0.0224 - accuracy: 0.9978 - auc: 0.9999 - val_loss: 0.1344 - val_accuracy: 0.9375 - val_auc: 0.9766 - lr: 1.0000e-08\n",
      "Epoch 79/100\n",
      "14/14 [==============================] - 0s 13ms/step - loss: 0.0224 - accuracy: 0.9978 - auc: 0.9999 - val_loss: 0.1344 - val_accuracy: 0.9375 - val_auc: 0.9766 - lr: 1.0000e-09\n",
      "Epoch 80/100\n",
      "14/14 [==============================] - 0s 13ms/step - loss: 0.0224 - accuracy: 0.9978 - auc: 0.9999 - val_loss: 0.1344 - val_accuracy: 0.9375 - val_auc: 0.9766 - lr: 1.0000e-09\n",
      "Epoch 81/100\n",
      "14/14 [==============================] - 0s 11ms/step - loss: 0.0224 - accuracy: 0.9978 - auc: 0.9999 - val_loss: 0.1344 - val_accuracy: 0.9375 - val_auc: 0.9766 - lr: 1.0000e-09\n",
      "Epoch 82/100\n",
      "14/14 [==============================] - 0s 11ms/step - loss: 0.0224 - accuracy: 0.9978 - auc: 0.9999 - val_loss: 0.1344 - val_accuracy: 0.9375 - val_auc: 0.9766 - lr: 1.0000e-09\n",
      "Epoch 83/100\n",
      "14/14 [==============================] - 0s 14ms/step - loss: 0.0224 - accuracy: 0.9978 - auc: 0.9999 - val_loss: 0.1344 - val_accuracy: 0.9375 - val_auc: 0.9766 - lr: 1.0000e-09\n",
      "Epoch 84/100\n",
      "14/14 [==============================] - 0s 11ms/step - loss: 0.0224 - accuracy: 0.9978 - auc: 0.9999 - val_loss: 0.1344 - val_accuracy: 0.9375 - val_auc: 0.9766 - lr: 1.0000e-09\n",
      "Epoch 85/100\n",
      "14/14 [==============================] - 0s 9ms/step - loss: 0.0224 - accuracy: 0.9978 - auc: 0.9999 - val_loss: 0.1344 - val_accuracy: 0.9375 - val_auc: 0.9766 - lr: 1.0000e-09\n",
      "Epoch 86/100\n",
      "14/14 [==============================] - 0s 10ms/step - loss: 0.0224 - accuracy: 0.9978 - auc: 0.9999 - val_loss: 0.1344 - val_accuracy: 0.9375 - val_auc: 0.9766 - lr: 1.0000e-09\n",
      "Epoch 87/100\n",
      "14/14 [==============================] - 0s 10ms/step - loss: 0.0224 - accuracy: 0.9978 - auc: 0.9999 - val_loss: 0.1344 - val_accuracy: 0.9375 - val_auc: 0.9766 - lr: 1.0000e-09\n",
      "Epoch 88/100\n",
      "14/14 [==============================] - 0s 10ms/step - loss: 0.0224 - accuracy: 0.9978 - auc: 0.9999 - val_loss: 0.1344 - val_accuracy: 0.9375 - val_auc: 0.9766 - lr: 1.0000e-09\n",
      "Epoch 89/100\n",
      "14/14 [==============================] - 0s 12ms/step - loss: 0.0224 - accuracy: 0.9978 - auc: 0.9999 - val_loss: 0.1344 - val_accuracy: 0.9375 - val_auc: 0.9766 - lr: 1.0000e-10\n",
      "Epoch 90/100\n",
      "14/14 [==============================] - 0s 11ms/step - loss: 0.0224 - accuracy: 0.9978 - auc: 0.9999 - val_loss: 0.1344 - val_accuracy: 0.9375 - val_auc: 0.9766 - lr: 1.0000e-10\n",
      "Epoch 91/100\n",
      "14/14 [==============================] - 0s 13ms/step - loss: 0.0224 - accuracy: 0.9978 - auc: 0.9999 - val_loss: 0.1344 - val_accuracy: 0.9375 - val_auc: 0.9766 - lr: 1.0000e-10\n",
      "Epoch 92/100\n",
      "14/14 [==============================] - 0s 12ms/step - loss: 0.0224 - accuracy: 0.9978 - auc: 0.9999 - val_loss: 0.1344 - val_accuracy: 0.9375 - val_auc: 0.9766 - lr: 1.0000e-10\n",
      "Epoch 93/100\n",
      "14/14 [==============================] - 0s 10ms/step - loss: 0.0224 - accuracy: 0.9978 - auc: 0.9999 - val_loss: 0.1344 - val_accuracy: 0.9375 - val_auc: 0.9766 - lr: 1.0000e-10\n",
      "Epoch 94/100\n",
      "14/14 [==============================] - 0s 11ms/step - loss: 0.0224 - accuracy: 0.9978 - auc: 0.9999 - val_loss: 0.1344 - val_accuracy: 0.9375 - val_auc: 0.9766 - lr: 1.0000e-10\n",
      "Epoch 95/100\n",
      "14/14 [==============================] - 0s 11ms/step - loss: 0.0224 - accuracy: 0.9978 - auc: 0.9999 - val_loss: 0.1344 - val_accuracy: 0.9375 - val_auc: 0.9766 - lr: 1.0000e-10\n",
      "Epoch 96/100\n",
      "14/14 [==============================] - 0s 12ms/step - loss: 0.0224 - accuracy: 0.9978 - auc: 0.9999 - val_loss: 0.1344 - val_accuracy: 0.9375 - val_auc: 0.9766 - lr: 1.0000e-10\n",
      "Epoch 97/100\n",
      "14/14 [==============================] - 0s 13ms/step - loss: 0.0224 - accuracy: 0.9978 - auc: 0.9999 - val_loss: 0.1344 - val_accuracy: 0.9375 - val_auc: 0.9766 - lr: 1.0000e-10\n",
      "Epoch 98/100\n",
      "14/14 [==============================] - 0s 12ms/step - loss: 0.0224 - accuracy: 0.9978 - auc: 0.9999 - val_loss: 0.1344 - val_accuracy: 0.9375 - val_auc: 0.9766 - lr: 1.0000e-10\n",
      "Epoch 99/100\n",
      "14/14 [==============================] - 0s 14ms/step - loss: 0.0224 - accuracy: 0.9978 - auc: 0.9999 - val_loss: 0.1344 - val_accuracy: 0.9375 - val_auc: 0.9766 - lr: 1.0000e-11\n",
      "Epoch 100/100\n",
      "14/14 [==============================] - 0s 13ms/step - loss: 0.0224 - accuracy: 0.9978 - auc: 0.9999 - val_loss: 0.1344 - val_accuracy: 0.9375 - val_auc: 0.9766 - lr: 1.0000e-11\n"
     ]
    }
   ],
   "source": [
    "inputs = tf.keras.Input(shape=(26,))\n",
    "x = tf.keras.layers.Dense(64, activation='relu')(inputs)\n",
    "x = tf.keras.layers.Dense(64, activation='relu')(x)\n",
    "outputs = tf.keras.layers.Dense(1, activation='sigmoid')(x)\n",
    "\n",
    "model = tf.keras.Model(inputs=inputs, outputs=outputs)\n",
    "\n",
    "model.compile(\n",
    "    optimizer='adam',\n",
    "    loss = 'binary_crossentropy',\n",
    "    metrics=[\n",
    "        'accuracy',\n",
    "        tf.keras.metrics.AUC(name='auc')\n",
    "    ]\n",
    ")\n",
    "\n",
    "batch_size = 32\n",
    "epochs = 100\n",
    "\n",
    "history = model.fit(\n",
    "    X_train,\n",
    "    y_train,\n",
    "    validation_split=0.2,\n",
    "    batch_size = batch_size,\n",
    "    epochs=epochs,\n",
    "    callbacks=[tf.keras.callbacks.ReduceLROnPlateau()]\n",
    ")"
   ]
  },
  {
   "cell_type": "markdown",
   "id": "58686787-a1f4-4bc9-85a5-12a1377349ba",
   "metadata": {},
   "source": [
    "### Results"
   ]
  },
  {
   "cell_type": "code",
   "execution_count": 44,
   "id": "7e375368-bb71-42eb-bd00-cebe6eb0be29",
   "metadata": {},
   "outputs": [
    {
     "data": {
      "application/vnd.plotly.v1+json": {
       "config": {
        "plotlyServerURL": "https://plot.ly"
       },
       "data": [
        {
         "hovertemplate": "variable=loss<br>index=%{x}<br>value=%{y}<extra></extra>",
         "legendgroup": "loss",
         "line": {
          "color": "#636efa",
          "dash": "solid"
         },
         "marker": {
          "symbol": "circle"
         },
         "mode": "lines",
         "name": "loss",
         "orientation": "v",
         "showlegend": true,
         "type": "scatter",
         "x": [
          0,
          1,
          2,
          3,
          4,
          5,
          6,
          7,
          8,
          9,
          10,
          11,
          12,
          13,
          14,
          15,
          16,
          17,
          18,
          19,
          20,
          21,
          22,
          23,
          24,
          25,
          26,
          27,
          28,
          29,
          30,
          31,
          32,
          33,
          34,
          35,
          36,
          37,
          38,
          39,
          40,
          41,
          42,
          43,
          44,
          45,
          46,
          47,
          48,
          49,
          50,
          51,
          52,
          53,
          54,
          55,
          56,
          57,
          58,
          59,
          60,
          61,
          62,
          63,
          64,
          65,
          66,
          67,
          68,
          69,
          70,
          71,
          72,
          73,
          74,
          75,
          76,
          77,
          78,
          79,
          80,
          81,
          82,
          83,
          84,
          85,
          86,
          87,
          88,
          89,
          90,
          91,
          92,
          93,
          94,
          95,
          96,
          97,
          98,
          99
         ],
         "xaxis": "x",
         "y": [
          0.42369192838668823,
          0.26702409982681274,
          0.19963009655475616,
          0.16256381571292877,
          0.13709023594856262,
          0.12035219371318817,
          0.10724718868732452,
          0.09735487401485443,
          0.08967729657888412,
          0.08284757286310196,
          0.07747528702020645,
          0.07167516648769379,
          0.06845635920763016,
          0.062148310244083405,
          0.059563495218753815,
          0.05565078184008598,
          0.051849544048309326,
          0.04888611286878586,
          0.04666370153427124,
          0.045999474823474884,
          0.04145706072449684,
          0.03876158595085144,
          0.0363733246922493,
          0.03428882732987404,
          0.032750051468610764,
          0.03085680864751339,
          0.029002172872424126,
          0.028495704755187035,
          0.024953892454504967,
          0.02442387118935585,
          0.02411039173603058,
          0.023801220580935478,
          0.02374274842441082,
          0.023505287244915962,
          0.023351440206170082,
          0.02312173880636692,
          0.02297864854335785,
          0.02285883203148842,
          0.02261362597346306,
          0.022599458694458008,
          0.022582348436117172,
          0.022563789039850235,
          0.022545786574482918,
          0.022536378353834152,
          0.02252615988254547,
          0.02250186912715435,
          0.022489694878458977,
          0.022467734292149544,
          0.022442897781729698,
          0.02244129776954651,
          0.02243903838098049,
          0.02243758924305439,
          0.02243533916771412,
          0.022432958707213402,
          0.02243201434612274,
          0.02243066392838955,
          0.022428493946790695,
          0.022426318377256393,
          0.02242421731352806,
          0.02242392860352993,
          0.022423792630434036,
          0.022423680871725082,
          0.022423651069402695,
          0.02242325060069561,
          0.022423097863793373,
          0.02242288924753666,
          0.022422751411795616,
          0.022422512993216515,
          0.022422323003411293,
          0.022422319278120995,
          0.022422319278120995,
          0.0224223043769598,
          0.02242230996489525,
          0.022422296926379204,
          0.022422298789024353,
          0.022422293201088905,
          0.022422287613153458,
          0.02242228016257286,
          0.022422268986701965,
          0.022422272711992264,
          0.022422270849347115,
          0.022422270849347115,
          0.022422272711992264,
          0.022422272711992264,
          0.022422274574637413,
          0.022422270849347115,
          0.022422272711992264,
          0.022422272711992264,
          0.022422270849347115,
          0.022422272711992264,
          0.022422272711992264,
          0.022422272711992264,
          0.022422272711992264,
          0.022422270849347115,
          0.022422270849347115,
          0.022422272711992264,
          0.022422270849347115,
          0.022422270849347115,
          0.022422270849347115,
          0.022422272711992264
         ],
         "yaxis": "y"
        },
        {
         "hovertemplate": "variable=val_loss<br>index=%{x}<br>value=%{y}<extra></extra>",
         "legendgroup": "val_loss",
         "line": {
          "color": "#EF553B",
          "dash": "solid"
         },
         "marker": {
          "symbol": "circle"
         },
         "mode": "lines",
         "name": "val_loss",
         "orientation": "v",
         "showlegend": true,
         "type": "scatter",
         "x": [
          0,
          1,
          2,
          3,
          4,
          5,
          6,
          7,
          8,
          9,
          10,
          11,
          12,
          13,
          14,
          15,
          16,
          17,
          18,
          19,
          20,
          21,
          22,
          23,
          24,
          25,
          26,
          27,
          28,
          29,
          30,
          31,
          32,
          33,
          34,
          35,
          36,
          37,
          38,
          39,
          40,
          41,
          42,
          43,
          44,
          45,
          46,
          47,
          48,
          49,
          50,
          51,
          52,
          53,
          54,
          55,
          56,
          57,
          58,
          59,
          60,
          61,
          62,
          63,
          64,
          65,
          66,
          67,
          68,
          69,
          70,
          71,
          72,
          73,
          74,
          75,
          76,
          77,
          78,
          79,
          80,
          81,
          82,
          83,
          84,
          85,
          86,
          87,
          88,
          89,
          90,
          91,
          92,
          93,
          94,
          95,
          96,
          97,
          98,
          99
         ],
         "xaxis": "x",
         "y": [
          0.3547200858592987,
          0.27854123711586,
          0.2305527776479721,
          0.20154985785484314,
          0.18411113321781158,
          0.17018572986125946,
          0.15998908877372742,
          0.15275852382183075,
          0.14698879420757294,
          0.14129936695098877,
          0.13557806611061096,
          0.13364075124263763,
          0.13017311692237854,
          0.12627844512462616,
          0.1296374797821045,
          0.12535212934017181,
          0.12609942257404327,
          0.12427964061498642,
          0.1267029494047165,
          0.12524907290935516,
          0.1268649399280548,
          0.12560142576694489,
          0.12724168598651886,
          0.12666049599647522,
          0.131443589925766,
          0.1306690275669098,
          0.1306690126657486,
          0.13482047617435455,
          0.1342342048883438,
          0.13393664360046387,
          0.13376089930534363,
          0.1340673863887787,
          0.13382117450237274,
          0.13397543132305145,
          0.13436384499073029,
          0.13423073291778564,
          0.13440005481243134,
          0.134297177195549,
          0.1342882513999939,
          0.13431186974048615,
          0.13431619107723236,
          0.1343606412410736,
          0.1343660205602646,
          0.1343623399734497,
          0.13438358902931213,
          0.13439548015594482,
          0.1344236582517624,
          0.13441243767738342,
          0.13441099226474762,
          0.13441574573516846,
          0.13441585004329681,
          0.13441869616508484,
          0.1344231218099594,
          0.13442254066467285,
          0.1344202607870102,
          0.13442309200763702,
          0.1344260424375534,
          0.13442756235599518,
          0.13442745804786682,
          0.1344277560710907,
          0.13442794978618622,
          0.13442803919315338,
          0.13442817330360413,
          0.13442830741405487,
          0.13442863523960114,
          0.13442884385585785,
          0.1344284862279892,
          0.13442900776863098,
          0.1344289928674698,
          0.1344289779663086,
          0.1344289779663086,
          0.1344289928674698,
          0.1344289779663086,
          0.1344289928674698,
          0.1344289779663086,
          0.1344289928674698,
          0.13442900776863098,
          0.13442900776863098,
          0.13442900776863098,
          0.13442900776863098,
          0.13442900776863098,
          0.13442900776863098,
          0.13442900776863098,
          0.13442900776863098,
          0.1344289928674698,
          0.1344289928674698,
          0.1344289928674698,
          0.13442900776863098,
          0.13442900776863098,
          0.13442900776863098,
          0.13442900776863098,
          0.13442900776863098,
          0.13442900776863098,
          0.13442900776863098,
          0.13442900776863098,
          0.13442900776863098,
          0.13442900776863098,
          0.13442900776863098,
          0.13442900776863098,
          0.13442900776863098
         ],
         "yaxis": "y"
        }
       ],
       "layout": {
        "legend": {
         "title": {
          "text": "variable"
         },
         "tracegroupgap": 0
        },
        "template": {
         "data": {
          "bar": [
           {
            "error_x": {
             "color": "#2a3f5f"
            },
            "error_y": {
             "color": "#2a3f5f"
            },
            "marker": {
             "line": {
              "color": "#E5ECF6",
              "width": 0.5
             },
             "pattern": {
              "fillmode": "overlay",
              "size": 10,
              "solidity": 0.2
             }
            },
            "type": "bar"
           }
          ],
          "barpolar": [
           {
            "marker": {
             "line": {
              "color": "#E5ECF6",
              "width": 0.5
             },
             "pattern": {
              "fillmode": "overlay",
              "size": 10,
              "solidity": 0.2
             }
            },
            "type": "barpolar"
           }
          ],
          "carpet": [
           {
            "aaxis": {
             "endlinecolor": "#2a3f5f",
             "gridcolor": "white",
             "linecolor": "white",
             "minorgridcolor": "white",
             "startlinecolor": "#2a3f5f"
            },
            "baxis": {
             "endlinecolor": "#2a3f5f",
             "gridcolor": "white",
             "linecolor": "white",
             "minorgridcolor": "white",
             "startlinecolor": "#2a3f5f"
            },
            "type": "carpet"
           }
          ],
          "choropleth": [
           {
            "colorbar": {
             "outlinewidth": 0,
             "ticks": ""
            },
            "type": "choropleth"
           }
          ],
          "contour": [
           {
            "colorbar": {
             "outlinewidth": 0,
             "ticks": ""
            },
            "colorscale": [
             [
              0,
              "#0d0887"
             ],
             [
              0.1111111111111111,
              "#46039f"
             ],
             [
              0.2222222222222222,
              "#7201a8"
             ],
             [
              0.3333333333333333,
              "#9c179e"
             ],
             [
              0.4444444444444444,
              "#bd3786"
             ],
             [
              0.5555555555555556,
              "#d8576b"
             ],
             [
              0.6666666666666666,
              "#ed7953"
             ],
             [
              0.7777777777777778,
              "#fb9f3a"
             ],
             [
              0.8888888888888888,
              "#fdca26"
             ],
             [
              1,
              "#f0f921"
             ]
            ],
            "type": "contour"
           }
          ],
          "contourcarpet": [
           {
            "colorbar": {
             "outlinewidth": 0,
             "ticks": ""
            },
            "type": "contourcarpet"
           }
          ],
          "heatmap": [
           {
            "colorbar": {
             "outlinewidth": 0,
             "ticks": ""
            },
            "colorscale": [
             [
              0,
              "#0d0887"
             ],
             [
              0.1111111111111111,
              "#46039f"
             ],
             [
              0.2222222222222222,
              "#7201a8"
             ],
             [
              0.3333333333333333,
              "#9c179e"
             ],
             [
              0.4444444444444444,
              "#bd3786"
             ],
             [
              0.5555555555555556,
              "#d8576b"
             ],
             [
              0.6666666666666666,
              "#ed7953"
             ],
             [
              0.7777777777777778,
              "#fb9f3a"
             ],
             [
              0.8888888888888888,
              "#fdca26"
             ],
             [
              1,
              "#f0f921"
             ]
            ],
            "type": "heatmap"
           }
          ],
          "heatmapgl": [
           {
            "colorbar": {
             "outlinewidth": 0,
             "ticks": ""
            },
            "colorscale": [
             [
              0,
              "#0d0887"
             ],
             [
              0.1111111111111111,
              "#46039f"
             ],
             [
              0.2222222222222222,
              "#7201a8"
             ],
             [
              0.3333333333333333,
              "#9c179e"
             ],
             [
              0.4444444444444444,
              "#bd3786"
             ],
             [
              0.5555555555555556,
              "#d8576b"
             ],
             [
              0.6666666666666666,
              "#ed7953"
             ],
             [
              0.7777777777777778,
              "#fb9f3a"
             ],
             [
              0.8888888888888888,
              "#fdca26"
             ],
             [
              1,
              "#f0f921"
             ]
            ],
            "type": "heatmapgl"
           }
          ],
          "histogram": [
           {
            "marker": {
             "pattern": {
              "fillmode": "overlay",
              "size": 10,
              "solidity": 0.2
             }
            },
            "type": "histogram"
           }
          ],
          "histogram2d": [
           {
            "colorbar": {
             "outlinewidth": 0,
             "ticks": ""
            },
            "colorscale": [
             [
              0,
              "#0d0887"
             ],
             [
              0.1111111111111111,
              "#46039f"
             ],
             [
              0.2222222222222222,
              "#7201a8"
             ],
             [
              0.3333333333333333,
              "#9c179e"
             ],
             [
              0.4444444444444444,
              "#bd3786"
             ],
             [
              0.5555555555555556,
              "#d8576b"
             ],
             [
              0.6666666666666666,
              "#ed7953"
             ],
             [
              0.7777777777777778,
              "#fb9f3a"
             ],
             [
              0.8888888888888888,
              "#fdca26"
             ],
             [
              1,
              "#f0f921"
             ]
            ],
            "type": "histogram2d"
           }
          ],
          "histogram2dcontour": [
           {
            "colorbar": {
             "outlinewidth": 0,
             "ticks": ""
            },
            "colorscale": [
             [
              0,
              "#0d0887"
             ],
             [
              0.1111111111111111,
              "#46039f"
             ],
             [
              0.2222222222222222,
              "#7201a8"
             ],
             [
              0.3333333333333333,
              "#9c179e"
             ],
             [
              0.4444444444444444,
              "#bd3786"
             ],
             [
              0.5555555555555556,
              "#d8576b"
             ],
             [
              0.6666666666666666,
              "#ed7953"
             ],
             [
              0.7777777777777778,
              "#fb9f3a"
             ],
             [
              0.8888888888888888,
              "#fdca26"
             ],
             [
              1,
              "#f0f921"
             ]
            ],
            "type": "histogram2dcontour"
           }
          ],
          "mesh3d": [
           {
            "colorbar": {
             "outlinewidth": 0,
             "ticks": ""
            },
            "type": "mesh3d"
           }
          ],
          "parcoords": [
           {
            "line": {
             "colorbar": {
              "outlinewidth": 0,
              "ticks": ""
             }
            },
            "type": "parcoords"
           }
          ],
          "pie": [
           {
            "automargin": true,
            "type": "pie"
           }
          ],
          "scatter": [
           {
            "fillpattern": {
             "fillmode": "overlay",
             "size": 10,
             "solidity": 0.2
            },
            "type": "scatter"
           }
          ],
          "scatter3d": [
           {
            "line": {
             "colorbar": {
              "outlinewidth": 0,
              "ticks": ""
             }
            },
            "marker": {
             "colorbar": {
              "outlinewidth": 0,
              "ticks": ""
             }
            },
            "type": "scatter3d"
           }
          ],
          "scattercarpet": [
           {
            "marker": {
             "colorbar": {
              "outlinewidth": 0,
              "ticks": ""
             }
            },
            "type": "scattercarpet"
           }
          ],
          "scattergeo": [
           {
            "marker": {
             "colorbar": {
              "outlinewidth": 0,
              "ticks": ""
             }
            },
            "type": "scattergeo"
           }
          ],
          "scattergl": [
           {
            "marker": {
             "colorbar": {
              "outlinewidth": 0,
              "ticks": ""
             }
            },
            "type": "scattergl"
           }
          ],
          "scattermapbox": [
           {
            "marker": {
             "colorbar": {
              "outlinewidth": 0,
              "ticks": ""
             }
            },
            "type": "scattermapbox"
           }
          ],
          "scatterpolar": [
           {
            "marker": {
             "colorbar": {
              "outlinewidth": 0,
              "ticks": ""
             }
            },
            "type": "scatterpolar"
           }
          ],
          "scatterpolargl": [
           {
            "marker": {
             "colorbar": {
              "outlinewidth": 0,
              "ticks": ""
             }
            },
            "type": "scatterpolargl"
           }
          ],
          "scatterternary": [
           {
            "marker": {
             "colorbar": {
              "outlinewidth": 0,
              "ticks": ""
             }
            },
            "type": "scatterternary"
           }
          ],
          "surface": [
           {
            "colorbar": {
             "outlinewidth": 0,
             "ticks": ""
            },
            "colorscale": [
             [
              0,
              "#0d0887"
             ],
             [
              0.1111111111111111,
              "#46039f"
             ],
             [
              0.2222222222222222,
              "#7201a8"
             ],
             [
              0.3333333333333333,
              "#9c179e"
             ],
             [
              0.4444444444444444,
              "#bd3786"
             ],
             [
              0.5555555555555556,
              "#d8576b"
             ],
             [
              0.6666666666666666,
              "#ed7953"
             ],
             [
              0.7777777777777778,
              "#fb9f3a"
             ],
             [
              0.8888888888888888,
              "#fdca26"
             ],
             [
              1,
              "#f0f921"
             ]
            ],
            "type": "surface"
           }
          ],
          "table": [
           {
            "cells": {
             "fill": {
              "color": "#EBF0F8"
             },
             "line": {
              "color": "white"
             }
            },
            "header": {
             "fill": {
              "color": "#C8D4E3"
             },
             "line": {
              "color": "white"
             }
            },
            "type": "table"
           }
          ]
         },
         "layout": {
          "annotationdefaults": {
           "arrowcolor": "#2a3f5f",
           "arrowhead": 0,
           "arrowwidth": 1
          },
          "autotypenumbers": "strict",
          "coloraxis": {
           "colorbar": {
            "outlinewidth": 0,
            "ticks": ""
           }
          },
          "colorscale": {
           "diverging": [
            [
             0,
             "#8e0152"
            ],
            [
             0.1,
             "#c51b7d"
            ],
            [
             0.2,
             "#de77ae"
            ],
            [
             0.3,
             "#f1b6da"
            ],
            [
             0.4,
             "#fde0ef"
            ],
            [
             0.5,
             "#f7f7f7"
            ],
            [
             0.6,
             "#e6f5d0"
            ],
            [
             0.7,
             "#b8e186"
            ],
            [
             0.8,
             "#7fbc41"
            ],
            [
             0.9,
             "#4d9221"
            ],
            [
             1,
             "#276419"
            ]
           ],
           "sequential": [
            [
             0,
             "#0d0887"
            ],
            [
             0.1111111111111111,
             "#46039f"
            ],
            [
             0.2222222222222222,
             "#7201a8"
            ],
            [
             0.3333333333333333,
             "#9c179e"
            ],
            [
             0.4444444444444444,
             "#bd3786"
            ],
            [
             0.5555555555555556,
             "#d8576b"
            ],
            [
             0.6666666666666666,
             "#ed7953"
            ],
            [
             0.7777777777777778,
             "#fb9f3a"
            ],
            [
             0.8888888888888888,
             "#fdca26"
            ],
            [
             1,
             "#f0f921"
            ]
           ],
           "sequentialminus": [
            [
             0,
             "#0d0887"
            ],
            [
             0.1111111111111111,
             "#46039f"
            ],
            [
             0.2222222222222222,
             "#7201a8"
            ],
            [
             0.3333333333333333,
             "#9c179e"
            ],
            [
             0.4444444444444444,
             "#bd3786"
            ],
            [
             0.5555555555555556,
             "#d8576b"
            ],
            [
             0.6666666666666666,
             "#ed7953"
            ],
            [
             0.7777777777777778,
             "#fb9f3a"
            ],
            [
             0.8888888888888888,
             "#fdca26"
            ],
            [
             1,
             "#f0f921"
            ]
           ]
          },
          "colorway": [
           "#636efa",
           "#EF553B",
           "#00cc96",
           "#ab63fa",
           "#FFA15A",
           "#19d3f3",
           "#FF6692",
           "#B6E880",
           "#FF97FF",
           "#FECB52"
          ],
          "font": {
           "color": "#2a3f5f"
          },
          "geo": {
           "bgcolor": "white",
           "lakecolor": "white",
           "landcolor": "#E5ECF6",
           "showlakes": true,
           "showland": true,
           "subunitcolor": "white"
          },
          "hoverlabel": {
           "align": "left"
          },
          "hovermode": "closest",
          "mapbox": {
           "style": "light"
          },
          "paper_bgcolor": "white",
          "plot_bgcolor": "#E5ECF6",
          "polar": {
           "angularaxis": {
            "gridcolor": "white",
            "linecolor": "white",
            "ticks": ""
           },
           "bgcolor": "#E5ECF6",
           "radialaxis": {
            "gridcolor": "white",
            "linecolor": "white",
            "ticks": ""
           }
          },
          "scene": {
           "xaxis": {
            "backgroundcolor": "#E5ECF6",
            "gridcolor": "white",
            "gridwidth": 2,
            "linecolor": "white",
            "showbackground": true,
            "ticks": "",
            "zerolinecolor": "white"
           },
           "yaxis": {
            "backgroundcolor": "#E5ECF6",
            "gridcolor": "white",
            "gridwidth": 2,
            "linecolor": "white",
            "showbackground": true,
            "ticks": "",
            "zerolinecolor": "white"
           },
           "zaxis": {
            "backgroundcolor": "#E5ECF6",
            "gridcolor": "white",
            "gridwidth": 2,
            "linecolor": "white",
            "showbackground": true,
            "ticks": "",
            "zerolinecolor": "white"
           }
          },
          "shapedefaults": {
           "line": {
            "color": "#2a3f5f"
           }
          },
          "ternary": {
           "aaxis": {
            "gridcolor": "white",
            "linecolor": "white",
            "ticks": ""
           },
           "baxis": {
            "gridcolor": "white",
            "linecolor": "white",
            "ticks": ""
           },
           "bgcolor": "#E5ECF6",
           "caxis": {
            "gridcolor": "white",
            "linecolor": "white",
            "ticks": ""
           }
          },
          "title": {
           "x": 0.05
          },
          "xaxis": {
           "automargin": true,
           "gridcolor": "white",
           "linecolor": "white",
           "ticks": "",
           "title": {
            "standoff": 15
           },
           "zerolinecolor": "white",
           "zerolinewidth": 2
          },
          "yaxis": {
           "automargin": true,
           "gridcolor": "white",
           "linecolor": "white",
           "ticks": "",
           "title": {
            "standoff": 15
           },
           "zerolinecolor": "white",
           "zerolinewidth": 2
          }
         }
        },
        "title": {
         "text": "Loss Over Time"
        },
        "xaxis": {
         "anchor": "y",
         "domain": [
          0,
          1
         ],
         "title": {
          "text": "index"
         }
        },
        "yaxis": {
         "anchor": "x",
         "domain": [
          0,
          1
         ],
         "title": {
          "text": "value"
         }
        }
       }
      },
      "image/png": "[encoded data removed]",
      "text/html": [
       "<div>                            <div id=\"0381f2f0-3da0-41ba-af7c-08ba4af7dbba\" class=\"plotly-graph-div\" style=\"height:525px; width:100%;\"></div>            <script type=\"text/javascript\">                require([\"plotly\"], function(Plotly) {                    window.PLOTLYENV=window.PLOTLYENV || {};                                    if (document.getElementById(\"0381f2f0-3da0-41ba-af7c-08ba4af7dbba\")) {                    Plotly.newPlot(                        \"0381f2f0-3da0-41ba-af7c-08ba4af7dbba\",                        [{\"hovertemplate\":\"variable=loss\\u003cbr\\u003eindex=%{x}\\u003cbr\\u003evalue=%{y}\\u003cextra\\u003e\\u003c\\u002fextra\\u003e\",\"legendgroup\":\"loss\",\"line\":{\"color\":\"#636efa\",\"dash\":\"solid\"},\"marker\":{\"symbol\":\"circle\"},\"mode\":\"lines\",\"name\":\"loss\",\"orientation\":\"v\",\"showlegend\":true,\"x\":[0,1,2,3,4,5,6,7,8,9,10,11,12,13,14,15,16,17,18,19,20,21,22,23,24,25,26,27,28,29,30,31,32,33,34,35,36,37,38,39,40,41,42,43,44,45,46,47,48,49,50,51,52,53,54,55,56,57,58,59,60,61,62,63,64,65,66,67,68,69,70,71,72,73,74,75,76,77,78,79,80,81,82,83,84,85,86,87,88,89,90,91,92,93,94,95,96,97,98,99],\"xaxis\":\"x\",\"y\":[0.42369192838668823,0.26702409982681274,0.19963009655475616,0.16256381571292877,0.13709023594856262,0.12035219371318817,0.10724718868732452,0.09735487401485443,0.08967729657888412,0.08284757286310196,0.07747528702020645,0.07167516648769379,0.06845635920763016,0.062148310244083405,0.059563495218753815,0.05565078184008598,0.051849544048309326,0.04888611286878586,0.04666370153427124,0.045999474823474884,0.04145706072449684,0.03876158595085144,0.0363733246922493,0.03428882732987404,0.032750051468610764,0.03085680864751339,0.029002172872424126,0.028495704755187035,0.024953892454504967,0.02442387118935585,0.02411039173603058,0.023801220580935478,0.02374274842441082,0.023505287244915962,0.023351440206170082,0.02312173880636692,0.02297864854335785,0.02285883203148842,0.02261362597346306,0.022599458694458008,0.022582348436117172,0.022563789039850235,0.022545786574482918,0.022536378353834152,0.02252615988254547,0.02250186912715435,0.022489694878458977,0.022467734292149544,0.022442897781729698,0.02244129776954651,0.02243903838098049,0.02243758924305439,0.02243533916771412,0.022432958707213402,0.02243201434612274,0.02243066392838955,0.022428493946790695,0.022426318377256393,0.02242421731352806,0.02242392860352993,0.022423792630434036,0.022423680871725082,0.022423651069402695,0.02242325060069561,0.022423097863793373,0.02242288924753666,0.022422751411795616,0.022422512993216515,0.022422323003411293,0.022422319278120995,0.022422319278120995,0.0224223043769598,0.02242230996489525,0.022422296926379204,0.022422298789024353,0.022422293201088905,0.022422287613153458,0.02242228016257286,0.022422268986701965,0.022422272711992264,0.022422270849347115,0.022422270849347115,0.022422272711992264,0.022422272711992264,0.022422274574637413,0.022422270849347115,0.022422272711992264,0.022422272711992264,0.022422270849347115,0.022422272711992264,0.022422272711992264,0.022422272711992264,0.022422272711992264,0.022422270849347115,0.022422270849347115,0.022422272711992264,0.022422270849347115,0.022422270849347115,0.022422270849347115,0.022422272711992264],\"yaxis\":\"y\",\"type\":\"scatter\"},{\"hovertemplate\":\"variable=val_loss\\u003cbr\\u003eindex=%{x}\\u003cbr\\u003evalue=%{y}\\u003cextra\\u003e\\u003c\\u002fextra\\u003e\",\"legendgroup\":\"val_loss\",\"line\":{\"color\":\"#EF553B\",\"dash\":\"solid\"},\"marker\":{\"symbol\":\"circle\"},\"mode\":\"lines\",\"name\":\"val_loss\",\"orientation\":\"v\",\"showlegend\":true,\"x\":[0,1,2,3,4,5,6,7,8,9,10,11,12,13,14,15,16,17,18,19,20,21,22,23,24,25,26,27,28,29,30,31,32,33,34,35,36,37,38,39,40,41,42,43,44,45,46,47,48,49,50,51,52,53,54,55,56,57,58,59,60,61,62,63,64,65,66,67,68,69,70,71,72,73,74,75,76,77,78,79,80,81,82,83,84,85,86,87,88,89,90,91,92,93,94,95,96,97,98,99],\"xaxis\":\"x\",\"y\":[0.3547200858592987,0.27854123711586,0.2305527776479721,0.20154985785484314,0.18411113321781158,0.17018572986125946,0.15998908877372742,0.15275852382183075,0.14698879420757294,0.14129936695098877,0.13557806611061096,0.13364075124263763,0.13017311692237854,0.12627844512462616,0.1296374797821045,0.12535212934017181,0.12609942257404327,0.12427964061498642,0.1267029494047165,0.12524907290935516,0.1268649399280548,0.12560142576694489,0.12724168598651886,0.12666049599647522,0.131443589925766,0.1306690275669098,0.1306690126657486,0.13482047617435455,0.1342342048883438,0.13393664360046387,0.13376089930534363,0.1340673863887787,0.13382117450237274,0.13397543132305145,0.13436384499073029,0.13423073291778564,0.13440005481243134,0.134297177195549,0.1342882513999939,0.13431186974048615,0.13431619107723236,0.1343606412410736,0.1343660205602646,0.1343623399734497,0.13438358902931213,0.13439548015594482,0.1344236582517624,0.13441243767738342,0.13441099226474762,0.13441574573516846,0.13441585004329681,0.13441869616508484,0.1344231218099594,0.13442254066467285,0.1344202607870102,0.13442309200763702,0.1344260424375534,0.13442756235599518,0.13442745804786682,0.1344277560710907,0.13442794978618622,0.13442803919315338,0.13442817330360413,0.13442830741405487,0.13442863523960114,0.13442884385585785,0.1344284862279892,0.13442900776863098,0.1344289928674698,0.1344289779663086,0.1344289779663086,0.1344289928674698,0.1344289779663086,0.1344289928674698,0.1344289779663086,0.1344289928674698,0.13442900776863098,0.13442900776863098,0.13442900776863098,0.13442900776863098,0.13442900776863098,0.13442900776863098,0.13442900776863098,0.13442900776863098,0.1344289928674698,0.1344289928674698,0.1344289928674698,0.13442900776863098,0.13442900776863098,0.13442900776863098,0.13442900776863098,0.13442900776863098,0.13442900776863098,0.13442900776863098,0.13442900776863098,0.13442900776863098,0.13442900776863098,0.13442900776863098,0.13442900776863098,0.13442900776863098],\"yaxis\":\"y\",\"type\":\"scatter\"}],                        {\"template\":{\"data\":{\"histogram2dcontour\":[{\"type\":\"histogram2dcontour\",\"colorbar\":{\"outlinewidth\":0,\"ticks\":\"\"},\"colorscale\":[[0.0,\"#0d0887\"],[0.1111111111111111,\"#46039f\"],[0.2222222222222222,\"#7201a8\"],[0.3333333333333333,\"#9c179e\"],[0.4444444444444444,\"#bd3786\"],[0.5555555555555556,\"#d8576b\"],[0.6666666666666666,\"#ed7953\"],[0.7777777777777778,\"#fb9f3a\"],[0.8888888888888888,\"#fdca26\"],[1.0,\"#f0f921\"]]}],\"choropleth\":[{\"type\":\"choropleth\",\"colorbar\":{\"outlinewidth\":0,\"ticks\":\"\"}}],\"histogram2d\":[{\"type\":\"histogram2d\",\"colorbar\":{\"outlinewidth\":0,\"ticks\":\"\"},\"colorscale\":[[0.0,\"#0d0887\"],[0.1111111111111111,\"#46039f\"],[0.2222222222222222,\"#7201a8\"],[0.3333333333333333,\"#9c179e\"],[0.4444444444444444,\"#bd3786\"],[0.5555555555555556,\"#d8576b\"],[0.6666666666666666,\"#ed7953\"],[0.7777777777777778,\"#fb9f3a\"],[0.8888888888888888,\"#fdca26\"],[1.0,\"#f0f921\"]]}],\"heatmap\":[{\"type\":\"heatmap\",\"colorbar\":{\"outlinewidth\":0,\"ticks\":\"\"},\"colorscale\":[[0.0,\"#0d0887\"],[0.1111111111111111,\"#46039f\"],[0.2222222222222222,\"#7201a8\"],[0.3333333333333333,\"#9c179e\"],[0.4444444444444444,\"#bd3786\"],[0.5555555555555556,\"#d8576b\"],[0.6666666666666666,\"#ed7953\"],[0.7777777777777778,\"#fb9f3a\"],[0.8888888888888888,\"#fdca26\"],[1.0,\"#f0f921\"]]}],\"heatmapgl\":[{\"type\":\"heatmapgl\",\"colorbar\":{\"outlinewidth\":0,\"ticks\":\"\"},\"colorscale\":[[0.0,\"#0d0887\"],[0.1111111111111111,\"#46039f\"],[0.2222222222222222,\"#7201a8\"],[0.3333333333333333,\"#9c179e\"],[0.4444444444444444,\"#bd3786\"],[0.5555555555555556,\"#d8576b\"],[0.6666666666666666,\"#ed7953\"],[0.7777777777777778,\"#fb9f3a\"],[0.8888888888888888,\"#fdca26\"],[1.0,\"#f0f921\"]]}],\"contourcarpet\":[{\"type\":\"contourcarpet\",\"colorbar\":{\"outlinewidth\":0,\"ticks\":\"\"}}],\"contour\":[{\"type\":\"contour\",\"colorbar\":{\"outlinewidth\":0,\"ticks\":\"\"},\"colorscale\":[[0.0,\"#0d0887\"],[0.1111111111111111,\"#46039f\"],[0.2222222222222222,\"#7201a8\"],[0.3333333333333333,\"#9c179e\"],[0.4444444444444444,\"#bd3786\"],[0.5555555555555556,\"#d8576b\"],[0.6666666666666666,\"#ed7953\"],[0.7777777777777778,\"#fb9f3a\"],[0.8888888888888888,\"#fdca26\"],[1.0,\"#f0f921\"]]}],\"surface\":[{\"type\":\"surface\",\"colorbar\":{\"outlinewidth\":0,\"ticks\":\"\"},\"colorscale\":[[0.0,\"#0d0887\"],[0.1111111111111111,\"#46039f\"],[0.2222222222222222,\"#7201a8\"],[0.3333333333333333,\"#9c179e\"],[0.4444444444444444,\"#bd3786\"],[0.5555555555555556,\"#d8576b\"],[0.6666666666666666,\"#ed7953\"],[0.7777777777777778,\"#fb9f3a\"],[0.8888888888888888,\"#fdca26\"],[1.0,\"#f0f921\"]]}],\"mesh3d\":[{\"type\":\"mesh3d\",\"colorbar\":{\"outlinewidth\":0,\"ticks\":\"\"}}],\"scatter\":[{\"fillpattern\":{\"fillmode\":\"overlay\",\"size\":10,\"solidity\":0.2},\"type\":\"scatter\"}],\"parcoords\":[{\"type\":\"parcoords\",\"line\":{\"colorbar\":{\"outlinewidth\":0,\"ticks\":\"\"}}}],\"scatterpolargl\":[{\"type\":\"scatterpolargl\",\"marker\":{\"colorbar\":{\"outlinewidth\":0,\"ticks\":\"\"}}}],\"bar\":[{\"error_x\":{\"color\":\"#2a3f5f\"},\"error_y\":{\"color\":\"#2a3f5f\"},\"marker\":{\"line\":{\"color\":\"#E5ECF6\",\"width\":0.5},\"pattern\":{\"fillmode\":\"overlay\",\"size\":10,\"solidity\":0.2}},\"type\":\"bar\"}],\"scattergeo\":[{\"type\":\"scattergeo\",\"marker\":{\"colorbar\":{\"outlinewidth\":0,\"ticks\":\"\"}}}],\"scatterpolar\":[{\"type\":\"scatterpolar\",\"marker\":{\"colorbar\":{\"outlinewidth\":0,\"ticks\":\"\"}}}],\"histogram\":[{\"marker\":{\"pattern\":{\"fillmode\":\"overlay\",\"size\":10,\"solidity\":0.2}},\"type\":\"histogram\"}],\"scattergl\":[{\"type\":\"scattergl\",\"marker\":{\"colorbar\":{\"outlinewidth\":0,\"ticks\":\"\"}}}],\"scatter3d\":[{\"type\":\"scatter3d\",\"line\":{\"colorbar\":{\"outlinewidth\":0,\"ticks\":\"\"}},\"marker\":{\"colorbar\":{\"outlinewidth\":0,\"ticks\":\"\"}}}],\"scattermapbox\":[{\"type\":\"scattermapbox\",\"marker\":{\"colorbar\":{\"outlinewidth\":0,\"ticks\":\"\"}}}],\"scatterternary\":[{\"type\":\"scatterternary\",\"marker\":{\"colorbar\":{\"outlinewidth\":0,\"ticks\":\"\"}}}],\"scattercarpet\":[{\"type\":\"scattercarpet\",\"marker\":{\"colorbar\":{\"outlinewidth\":0,\"ticks\":\"\"}}}],\"carpet\":[{\"aaxis\":{\"endlinecolor\":\"#2a3f5f\",\"gridcolor\":\"white\",\"linecolor\":\"white\",\"minorgridcolor\":\"white\",\"startlinecolor\":\"#2a3f5f\"},\"baxis\":{\"endlinecolor\":\"#2a3f5f\",\"gridcolor\":\"white\",\"linecolor\":\"white\",\"minorgridcolor\":\"white\",\"startlinecolor\":\"#2a3f5f\"},\"type\":\"carpet\"}],\"table\":[{\"cells\":{\"fill\":{\"color\":\"#EBF0F8\"},\"line\":{\"color\":\"white\"}},\"header\":{\"fill\":{\"color\":\"#C8D4E3\"},\"line\":{\"color\":\"white\"}},\"type\":\"table\"}],\"barpolar\":[{\"marker\":{\"line\":{\"color\":\"#E5ECF6\",\"width\":0.5},\"pattern\":{\"fillmode\":\"overlay\",\"size\":10,\"solidity\":0.2}},\"type\":\"barpolar\"}],\"pie\":[{\"automargin\":true,\"type\":\"pie\"}]},\"layout\":{\"autotypenumbers\":\"strict\",\"colorway\":[\"#636efa\",\"#EF553B\",\"#00cc96\",\"#ab63fa\",\"#FFA15A\",\"#19d3f3\",\"#FF6692\",\"#B6E880\",\"#FF97FF\",\"#FECB52\"],\"font\":{\"color\":\"#2a3f5f\"},\"hovermode\":\"closest\",\"hoverlabel\":{\"align\":\"left\"},\"paper_bgcolor\":\"white\",\"plot_bgcolor\":\"#E5ECF6\",\"polar\":{\"bgcolor\":\"#E5ECF6\",\"angularaxis\":{\"gridcolor\":\"white\",\"linecolor\":\"white\",\"ticks\":\"\"},\"radialaxis\":{\"gridcolor\":\"white\",\"linecolor\":\"white\",\"ticks\":\"\"}},\"ternary\":{\"bgcolor\":\"#E5ECF6\",\"aaxis\":{\"gridcolor\":\"white\",\"linecolor\":\"white\",\"ticks\":\"\"},\"baxis\":{\"gridcolor\":\"white\",\"linecolor\":\"white\",\"ticks\":\"\"},\"caxis\":{\"gridcolor\":\"white\",\"linecolor\":\"white\",\"ticks\":\"\"}},\"coloraxis\":{\"colorbar\":{\"outlinewidth\":0,\"ticks\":\"\"}},\"colorscale\":{\"sequential\":[[0.0,\"#0d0887\"],[0.1111111111111111,\"#46039f\"],[0.2222222222222222,\"#7201a8\"],[0.3333333333333333,\"#9c179e\"],[0.4444444444444444,\"#bd3786\"],[0.5555555555555556,\"#d8576b\"],[0.6666666666666666,\"#ed7953\"],[0.7777777777777778,\"#fb9f3a\"],[0.8888888888888888,\"#fdca26\"],[1.0,\"#f0f921\"]],\"sequentialminus\":[[0.0,\"#0d0887\"],[0.1111111111111111,\"#46039f\"],[0.2222222222222222,\"#7201a8\"],[0.3333333333333333,\"#9c179e\"],[0.4444444444444444,\"#bd3786\"],[0.5555555555555556,\"#d8576b\"],[0.6666666666666666,\"#ed7953\"],[0.7777777777777778,\"#fb9f3a\"],[0.8888888888888888,\"#fdca26\"],[1.0,\"#f0f921\"]],\"diverging\":[[0,\"#8e0152\"],[0.1,\"#c51b7d\"],[0.2,\"#de77ae\"],[0.3,\"#f1b6da\"],[0.4,\"#fde0ef\"],[0.5,\"#f7f7f7\"],[0.6,\"#e6f5d0\"],[0.7,\"#b8e186\"],[0.8,\"#7fbc41\"],[0.9,\"#4d9221\"],[1,\"#276419\"]]},\"xaxis\":{\"gridcolor\":\"white\",\"linecolor\":\"white\",\"ticks\":\"\",\"title\":{\"standoff\":15},\"zerolinecolor\":\"white\",\"automargin\":true,\"zerolinewidth\":2},\"yaxis\":{\"gridcolor\":\"white\",\"linecolor\":\"white\",\"ticks\":\"\",\"title\":{\"standoff\":15},\"zerolinecolor\":\"white\",\"automargin\":true,\"zerolinewidth\":2},\"scene\":{\"xaxis\":{\"backgroundcolor\":\"#E5ECF6\",\"gridcolor\":\"white\",\"linecolor\":\"white\",\"showbackground\":true,\"ticks\":\"\",\"zerolinecolor\":\"white\",\"gridwidth\":2},\"yaxis\":{\"backgroundcolor\":\"#E5ECF6\",\"gridcolor\":\"white\",\"linecolor\":\"white\",\"showbackground\":true,\"ticks\":\"\",\"zerolinecolor\":\"white\",\"gridwidth\":2},\"zaxis\":{\"backgroundcolor\":\"#E5ECF6\",\"gridcolor\":\"white\",\"linecolor\":\"white\",\"showbackground\":true,\"ticks\":\"\",\"zerolinecolor\":\"white\",\"gridwidth\":2}},\"shapedefaults\":{\"line\":{\"color\":\"#2a3f5f\"}},\"annotationdefaults\":{\"arrowcolor\":\"#2a3f5f\",\"arrowhead\":0,\"arrowwidth\":1},\"geo\":{\"bgcolor\":\"white\",\"landcolor\":\"#E5ECF6\",\"subunitcolor\":\"white\",\"showland\":true,\"showlakes\":true,\"lakecolor\":\"white\"},\"title\":{\"x\":0.05},\"mapbox\":{\"style\":\"light\"}}},\"xaxis\":{\"anchor\":\"y\",\"domain\":[0.0,1.0],\"title\":{\"text\":\"index\"}},\"yaxis\":{\"anchor\":\"x\",\"domain\":[0.0,1.0],\"title\":{\"text\":\"value\"}},\"legend\":{\"title\":{\"text\":\"variable\"},\"tracegroupgap\":0},\"title\":{\"text\":\"Loss Over Time\"}},                        {\"responsive\": true}                    ).then(function(){\n",
       "                            \n",
       "var gd = document.getElementById('0381f2f0-3da0-41ba-af7c-08ba4af7dbba');\n",
       "var x = new MutationObserver(function (mutations, observer) {{\n",
       "        var display = window.getComputedStyle(gd).display;\n",
       "        if (!display || display === 'none') {{\n",
       "            console.log([gd, 'removed!']);\n",
       "            Plotly.purge(gd);\n",
       "            observer.disconnect();\n",
       "        }}\n",
       "}});\n",
       "\n",
       "// Listen for the removal of the full notebook cells\n",
       "var notebookContainer = gd.closest('#notebook-container');\n",
       "if (notebookContainer) {{\n",
       "    x.observe(notebookContainer, {childList: true});\n",
       "}}\n",
       "\n",
       "// Listen for the clearing of the current output cell\n",
       "var outputEl = gd.closest('.output');\n",
       "if (outputEl) {{\n",
       "    x.observe(outputEl, {childList: true});\n",
       "}}\n",
       "\n",
       "                        })                };                });            </script>        </div>"
      ]
     },
     "metadata": {},
     "output_type": "display_data"
    }
   ],
   "source": [
    "fig_loss = px.line(\n",
    "    history.history,\n",
    "    y = ['loss', 'val_loss'],\n",
    "    labels = {'x': 'Epoch', 'y': 'Loss'},\n",
    "    title = 'Loss Over Time'\n",
    ")\n",
    "\n",
    "fig_loss.show()"
   ]
  },
  {
   "cell_type": "code",
   "execution_count": 45,
   "id": "1ac74a10-4856-4d97-802d-8b5b8d6948e9",
   "metadata": {},
   "outputs": [
    {
     "data": {
      "text/plain": [
       "17"
      ]
     },
     "execution_count": 45,
     "metadata": {},
     "output_type": "execute_result"
    }
   ],
   "source": [
    "np.argmin(history.history['val_loss'])"
   ]
  },
  {
   "cell_type": "code",
   "execution_count": 46,
   "id": "3152c14c-5143-424c-b230-fd286602adc5",
   "metadata": {},
   "outputs": [
    {
     "data": {
      "application/vnd.plotly.v1+json": {
       "config": {
        "plotlyServerURL": "https://plot.ly"
       },
       "data": [
        {
         "hovertemplate": "variable=auc<br>index=%{x}<br>value=%{y}<extra></extra>",
         "legendgroup": "auc",
         "line": {
          "color": "#636efa",
          "dash": "solid"
         },
         "marker": {
          "symbol": "circle"
         },
         "mode": "lines",
         "name": "auc",
         "orientation": "v",
         "showlegend": true,
         "type": "scatter",
         "x": [
          0,
          1,
          2,
          3,
          4,
          5,
          6,
          7,
          8,
          9,
          10,
          11,
          12,
          13,
          14,
          15,
          16,
          17,
          18,
          19,
          20,
          21,
          22,
          23,
          24,
          25,
          26,
          27,
          28,
          29,
          30,
          31,
          32,
          33,
          34,
          35,
          36,
          37,
          38,
          39,
          40,
          41,
          42,
          43,
          44,
          45,
          46,
          47,
          48,
          49,
          50,
          51,
          52,
          53,
          54,
          55,
          56,
          57,
          58,
          59,
          60,
          61,
          62,
          63,
          64,
          65,
          66,
          67,
          68,
          69,
          70,
          71,
          72,
          73,
          74,
          75,
          76,
          77,
          78,
          79,
          80,
          81,
          82,
          83,
          84,
          85,
          86,
          87,
          88,
          89,
          90,
          91,
          92,
          93,
          94,
          95,
          96,
          97,
          98,
          99
         ],
         "xaxis": "x",
         "y": [
          0.5289323329925537,
          0.7856247425079346,
          0.9131089448928833,
          0.950567364692688,
          0.9662403464317322,
          0.9764279127120972,
          0.9831044673919678,
          0.9858628511428833,
          0.9882452487945557,
          0.9900005459785461,
          0.9915679097175598,
          0.9935426712036133,
          0.9938561916351318,
          0.9953607320785522,
          0.9955488443374634,
          0.9962071180343628,
          0.9969907999038696,
          0.9972729682922363,
          0.9973355531692505,
          0.9976177215576172,
          0.9981191158294678,
          0.9984326958656311,
          0.9988401532173157,
          0.9991850256919861,
          0.999090850353241,
          0.999341607093811,
          0.9998745322227478,
          0.9998119473457336,
          0.9998745918273926,
          0.9998745918273926,
          0.9998745322227478,
          0.9998745322227478,
          0.9998745918273926,
          0.9998745322227478,
          0.9998745918273926,
          0.9998745918273926,
          0.9998745918273926,
          0.9998745918273926,
          0.9998745322227478,
          0.9998745322227478,
          0.9998745322227478,
          0.9998745322227478,
          0.9998745322227478,
          0.9998745322227478,
          0.9998745322227478,
          0.9998745322227478,
          0.9998745322227478,
          0.9998745322227478,
          0.9998745322227478,
          0.9998745322227478,
          0.9998745322227478,
          0.9998745322227478,
          0.9998745322227478,
          0.9998745322227478,
          0.9998745322227478,
          0.9998745322227478,
          0.9998745322227478,
          0.9998745322227478,
          0.9998745322227478,
          0.9998745322227478,
          0.9998745322227478,
          0.9998745322227478,
          0.9998745322227478,
          0.9998745322227478,
          0.9998745322227478,
          0.9998745322227478,
          0.9998745322227478,
          0.9998745322227478,
          0.9998745322227478,
          0.9998745322227478,
          0.9998745322227478,
          0.9998745322227478,
          0.9998745322227478,
          0.9998745322227478,
          0.9998745322227478,
          0.9998745322227478,
          0.9998745322227478,
          0.9998745322227478,
          0.9998745322227478,
          0.9998745322227478,
          0.9998745322227478,
          0.9998745322227478,
          0.9998745322227478,
          0.9998745322227478,
          0.9998745322227478,
          0.9998745322227478,
          0.9998745322227478,
          0.9998745322227478,
          0.9998745322227478,
          0.9998745322227478,
          0.9998745322227478,
          0.9998745322227478,
          0.9998745322227478,
          0.9998745322227478,
          0.9998745322227478,
          0.9998745322227478,
          0.9998745322227478,
          0.9998745322227478,
          0.9998745322227478,
          0.9998745322227478
         ],
         "yaxis": "y"
        },
        {
         "hovertemplate": "variable=val_auc<br>index=%{x}<br>value=%{y}<extra></extra>",
         "legendgroup": "val_auc",
         "line": {
          "color": "#EF553B",
          "dash": "solid"
         },
         "marker": {
          "symbol": "circle"
         },
         "mode": "lines",
         "name": "val_auc",
         "orientation": "v",
         "showlegend": true,
         "type": "scatter",
         "x": [
          0,
          1,
          2,
          3,
          4,
          5,
          6,
          7,
          8,
          9,
          10,
          11,
          12,
          13,
          14,
          15,
          16,
          17,
          18,
          19,
          20,
          21,
          22,
          23,
          24,
          25,
          26,
          27,
          28,
          29,
          30,
          31,
          32,
          33,
          34,
          35,
          36,
          37,
          38,
          39,
          40,
          41,
          42,
          43,
          44,
          45,
          46,
          47,
          48,
          49,
          50,
          51,
          52,
          53,
          54,
          55,
          56,
          57,
          58,
          59,
          60,
          61,
          62,
          63,
          64,
          65,
          66,
          67,
          68,
          69,
          70,
          71,
          72,
          73,
          74,
          75,
          76,
          77,
          78,
          79,
          80,
          81,
          82,
          83,
          84,
          85,
          86,
          87,
          88,
          89,
          90,
          91,
          92,
          93,
          94,
          95,
          96,
          97,
          98,
          99
         ],
         "xaxis": "x",
         "y": [
          0.5445544719696045,
          0.7848784923553467,
          0.8766876459121704,
          0.925742506980896,
          0.9432942867279053,
          0.9545454382896423,
          0.9549955129623413,
          0.958145797252655,
          0.9626462459564209,
          0.9630963206291199,
          0.967596709728241,
          0.9693968892097473,
          0.9702969789505005,
          0.9702969789505005,
          0.9716471433639526,
          0.9720972180366516,
          0.9720972180366516,
          0.9729973077774048,
          0.9738973379135132,
          0.9752475023269653,
          0.97299724817276,
          0.9756975173950195,
          0.9756975173950195,
          0.9774976968765259,
          0.9756975173950195,
          0.9779477715492249,
          0.9761476516723633,
          0.9756975173950195,
          0.9756975173950195,
          0.9756975173950195,
          0.9756975173950195,
          0.9761475920677185,
          0.9765976071357727,
          0.9765976071357727,
          0.9765976071357727,
          0.9765976071357727,
          0.9765976071357727,
          0.9765976071357727,
          0.9765976071357727,
          0.9765976071357727,
          0.9765976071357727,
          0.9765976071357727,
          0.9765976071357727,
          0.9765976071357727,
          0.9765976071357727,
          0.9765976071357727,
          0.9765976071357727,
          0.9765976071357727,
          0.9765976071357727,
          0.9765976071357727,
          0.9765976071357727,
          0.9765976071357727,
          0.9765976071357727,
          0.9765976071357727,
          0.9765976071357727,
          0.9765976071357727,
          0.9765976071357727,
          0.9765976071357727,
          0.9765976071357727,
          0.9765976071357727,
          0.9765976071357727,
          0.9765976071357727,
          0.9765976071357727,
          0.9765976071357727,
          0.9765976071357727,
          0.9765976071357727,
          0.9765976071357727,
          0.9765976071357727,
          0.9765976071357727,
          0.9765976071357727,
          0.9765976071357727,
          0.9765976071357727,
          0.9765976071357727,
          0.9765976071357727,
          0.9765976071357727,
          0.9765976071357727,
          0.9765976071357727,
          0.9765976071357727,
          0.9765976071357727,
          0.9765976071357727,
          0.9765976071357727,
          0.9765976071357727,
          0.9765976071357727,
          0.9765976071357727,
          0.9765976071357727,
          0.9765976071357727,
          0.9765976071357727,
          0.9765976071357727,
          0.9765976071357727,
          0.9765976071357727,
          0.9765976071357727,
          0.9765976071357727,
          0.9765976071357727,
          0.9765976071357727,
          0.9765976071357727,
          0.9765976071357727,
          0.9765976071357727,
          0.9765976071357727,
          0.9765976071357727,
          0.9765976071357727
         ],
         "yaxis": "y"
        }
       ],
       "layout": {
        "legend": {
         "title": {
          "text": "variable"
         },
         "tracegroupgap": 0
        },
        "template": {
         "data": {
          "bar": [
           {
            "error_x": {
             "color": "#2a3f5f"
            },
            "error_y": {
             "color": "#2a3f5f"
            },
            "marker": {
             "line": {
              "color": "#E5ECF6",
              "width": 0.5
             },
             "pattern": {
              "fillmode": "overlay",
              "size": 10,
              "solidity": 0.2
             }
            },
            "type": "bar"
           }
          ],
          "barpolar": [
           {
            "marker": {
             "line": {
              "color": "#E5ECF6",
              "width": 0.5
             },
             "pattern": {
              "fillmode": "overlay",
              "size": 10,
              "solidity": 0.2
             }
            },
            "type": "barpolar"
           }
          ],
          "carpet": [
           {
            "aaxis": {
             "endlinecolor": "#2a3f5f",
             "gridcolor": "white",
             "linecolor": "white",
             "minorgridcolor": "white",
             "startlinecolor": "#2a3f5f"
            },
            "baxis": {
             "endlinecolor": "#2a3f5f",
             "gridcolor": "white",
             "linecolor": "white",
             "minorgridcolor": "white",
             "startlinecolor": "#2a3f5f"
            },
            "type": "carpet"
           }
          ],
          "choropleth": [
           {
            "colorbar": {
             "outlinewidth": 0,
             "ticks": ""
            },
            "type": "choropleth"
           }
          ],
          "contour": [
           {
            "colorbar": {
             "outlinewidth": 0,
             "ticks": ""
            },
            "colorscale": [
             [
              0,
              "#0d0887"
             ],
             [
              0.1111111111111111,
              "#46039f"
             ],
             [
              0.2222222222222222,
              "#7201a8"
             ],
             [
              0.3333333333333333,
              "#9c179e"
             ],
             [
              0.4444444444444444,
              "#bd3786"
             ],
             [
              0.5555555555555556,
              "#d8576b"
             ],
             [
              0.6666666666666666,
              "#ed7953"
             ],
             [
              0.7777777777777778,
              "#fb9f3a"
             ],
             [
              0.8888888888888888,
              "#fdca26"
             ],
             [
              1,
              "#f0f921"
             ]
            ],
            "type": "contour"
           }
          ],
          "contourcarpet": [
           {
            "colorbar": {
             "outlinewidth": 0,
             "ticks": ""
            },
            "type": "contourcarpet"
           }
          ],
          "heatmap": [
           {
            "colorbar": {
             "outlinewidth": 0,
             "ticks": ""
            },
            "colorscale": [
             [
              0,
              "#0d0887"
             ],
             [
              0.1111111111111111,
              "#46039f"
             ],
             [
              0.2222222222222222,
              "#7201a8"
             ],
             [
              0.3333333333333333,
              "#9c179e"
             ],
             [
              0.4444444444444444,
              "#bd3786"
             ],
             [
              0.5555555555555556,
              "#d8576b"
             ],
             [
              0.6666666666666666,
              "#ed7953"
             ],
             [
              0.7777777777777778,
              "#fb9f3a"
             ],
             [
              0.8888888888888888,
              "#fdca26"
             ],
             [
              1,
              "#f0f921"
             ]
            ],
            "type": "heatmap"
           }
          ],
          "heatmapgl": [
           {
            "colorbar": {
             "outlinewidth": 0,
             "ticks": ""
            },
            "colorscale": [
             [
              0,
              "#0d0887"
             ],
             [
              0.1111111111111111,
              "#46039f"
             ],
             [
              0.2222222222222222,
              "#7201a8"
             ],
             [
              0.3333333333333333,
              "#9c179e"
             ],
             [
              0.4444444444444444,
              "#bd3786"
             ],
             [
              0.5555555555555556,
              "#d8576b"
             ],
             [
              0.6666666666666666,
              "#ed7953"
             ],
             [
              0.7777777777777778,
              "#fb9f3a"
             ],
             [
              0.8888888888888888,
              "#fdca26"
             ],
             [
              1,
              "#f0f921"
             ]
            ],
            "type": "heatmapgl"
           }
          ],
          "histogram": [
           {
            "marker": {
             "pattern": {
              "fillmode": "overlay",
              "size": 10,
              "solidity": 0.2
             }
            },
            "type": "histogram"
           }
          ],
          "histogram2d": [
           {
            "colorbar": {
             "outlinewidth": 0,
             "ticks": ""
            },
            "colorscale": [
             [
              0,
              "#0d0887"
             ],
             [
              0.1111111111111111,
              "#46039f"
             ],
             [
              0.2222222222222222,
              "#7201a8"
             ],
             [
              0.3333333333333333,
              "#9c179e"
             ],
             [
              0.4444444444444444,
              "#bd3786"
             ],
             [
              0.5555555555555556,
              "#d8576b"
             ],
             [
              0.6666666666666666,
              "#ed7953"
             ],
             [
              0.7777777777777778,
              "#fb9f3a"
             ],
             [
              0.8888888888888888,
              "#fdca26"
             ],
             [
              1,
              "#f0f921"
             ]
            ],
            "type": "histogram2d"
           }
          ],
          "histogram2dcontour": [
           {
            "colorbar": {
             "outlinewidth": 0,
             "ticks": ""
            },
            "colorscale": [
             [
              0,
              "#0d0887"
             ],
             [
              0.1111111111111111,
              "#46039f"
             ],
             [
              0.2222222222222222,
              "#7201a8"
             ],
             [
              0.3333333333333333,
              "#9c179e"
             ],
             [
              0.4444444444444444,
              "#bd3786"
             ],
             [
              0.5555555555555556,
              "#d8576b"
             ],
             [
              0.6666666666666666,
              "#ed7953"
             ],
             [
              0.7777777777777778,
              "#fb9f3a"
             ],
             [
              0.8888888888888888,
              "#fdca26"
             ],
             [
              1,
              "#f0f921"
             ]
            ],
            "type": "histogram2dcontour"
           }
          ],
          "mesh3d": [
           {
            "colorbar": {
             "outlinewidth": 0,
             "ticks": ""
            },
            "type": "mesh3d"
           }
          ],
          "parcoords": [
           {
            "line": {
             "colorbar": {
              "outlinewidth": 0,
              "ticks": ""
             }
            },
            "type": "parcoords"
           }
          ],
          "pie": [
           {
            "automargin": true,
            "type": "pie"
           }
          ],
          "scatter": [
           {
            "fillpattern": {
             "fillmode": "overlay",
             "size": 10,
             "solidity": 0.2
            },
            "type": "scatter"
           }
          ],
          "scatter3d": [
           {
            "line": {
             "colorbar": {
              "outlinewidth": 0,
              "ticks": ""
             }
            },
            "marker": {
             "colorbar": {
              "outlinewidth": 0,
              "ticks": ""
             }
            },
            "type": "scatter3d"
           }
          ],
          "scattercarpet": [
           {
            "marker": {
             "colorbar": {
              "outlinewidth": 0,
              "ticks": ""
             }
            },
            "type": "scattercarpet"
           }
          ],
          "scattergeo": [
           {
            "marker": {
             "colorbar": {
              "outlinewidth": 0,
              "ticks": ""
             }
            },
            "type": "scattergeo"
           }
          ],
          "scattergl": [
           {
            "marker": {
             "colorbar": {
              "outlinewidth": 0,
              "ticks": ""
             }
            },
            "type": "scattergl"
           }
          ],
          "scattermapbox": [
           {
            "marker": {
             "colorbar": {
              "outlinewidth": 0,
              "ticks": ""
             }
            },
            "type": "scattermapbox"
           }
          ],
          "scatterpolar": [
           {
            "marker": {
             "colorbar": {
              "outlinewidth": 0,
              "ticks": ""
             }
            },
            "type": "scatterpolar"
           }
          ],
          "scatterpolargl": [
           {
            "marker": {
             "colorbar": {
              "outlinewidth": 0,
              "ticks": ""
             }
            },
            "type": "scatterpolargl"
           }
          ],
          "scatterternary": [
           {
            "marker": {
             "colorbar": {
              "outlinewidth": 0,
              "ticks": ""
             }
            },
            "type": "scatterternary"
           }
          ],
          "surface": [
           {
            "colorbar": {
             "outlinewidth": 0,
             "ticks": ""
            },
            "colorscale": [
             [
              0,
              "#0d0887"
             ],
             [
              0.1111111111111111,
              "#46039f"
             ],
             [
              0.2222222222222222,
              "#7201a8"
             ],
             [
              0.3333333333333333,
              "#9c179e"
             ],
             [
              0.4444444444444444,
              "#bd3786"
             ],
             [
              0.5555555555555556,
              "#d8576b"
             ],
             [
              0.6666666666666666,
              "#ed7953"
             ],
             [
              0.7777777777777778,
              "#fb9f3a"
             ],
             [
              0.8888888888888888,
              "#fdca26"
             ],
             [
              1,
              "#f0f921"
             ]
            ],
            "type": "surface"
           }
          ],
          "table": [
           {
            "cells": {
             "fill": {
              "color": "#EBF0F8"
             },
             "line": {
              "color": "white"
             }
            },
            "header": {
             "fill": {
              "color": "#C8D4E3"
             },
             "line": {
              "color": "white"
             }
            },
            "type": "table"
           }
          ]
         },
         "layout": {
          "annotationdefaults": {
           "arrowcolor": "#2a3f5f",
           "arrowhead": 0,
           "arrowwidth": 1
          },
          "autotypenumbers": "strict",
          "coloraxis": {
           "colorbar": {
            "outlinewidth": 0,
            "ticks": ""
           }
          },
          "colorscale": {
           "diverging": [
            [
             0,
             "#8e0152"
            ],
            [
             0.1,
             "#c51b7d"
            ],
            [
             0.2,
             "#de77ae"
            ],
            [
             0.3,
             "#f1b6da"
            ],
            [
             0.4,
             "#fde0ef"
            ],
            [
             0.5,
             "#f7f7f7"
            ],
            [
             0.6,
             "#e6f5d0"
            ],
            [
             0.7,
             "#b8e186"
            ],
            [
             0.8,
             "#7fbc41"
            ],
            [
             0.9,
             "#4d9221"
            ],
            [
             1,
             "#276419"
            ]
           ],
           "sequential": [
            [
             0,
             "#0d0887"
            ],
            [
             0.1111111111111111,
             "#46039f"
            ],
            [
             0.2222222222222222,
             "#7201a8"
            ],
            [
             0.3333333333333333,
             "#9c179e"
            ],
            [
             0.4444444444444444,
             "#bd3786"
            ],
            [
             0.5555555555555556,
             "#d8576b"
            ],
            [
             0.6666666666666666,
             "#ed7953"
            ],
            [
             0.7777777777777778,
             "#fb9f3a"
            ],
            [
             0.8888888888888888,
             "#fdca26"
            ],
            [
             1,
             "#f0f921"
            ]
           ],
           "sequentialminus": [
            [
             0,
             "#0d0887"
            ],
            [
             0.1111111111111111,
             "#46039f"
            ],
            [
             0.2222222222222222,
             "#7201a8"
            ],
            [
             0.3333333333333333,
             "#9c179e"
            ],
            [
             0.4444444444444444,
             "#bd3786"
            ],
            [
             0.5555555555555556,
             "#d8576b"
            ],
            [
             0.6666666666666666,
             "#ed7953"
            ],
            [
             0.7777777777777778,
             "#fb9f3a"
            ],
            [
             0.8888888888888888,
             "#fdca26"
            ],
            [
             1,
             "#f0f921"
            ]
           ]
          },
          "colorway": [
           "#636efa",
           "#EF553B",
           "#00cc96",
           "#ab63fa",
           "#FFA15A",
           "#19d3f3",
           "#FF6692",
           "#B6E880",
           "#FF97FF",
           "#FECB52"
          ],
          "font": {
           "color": "#2a3f5f"
          },
          "geo": {
           "bgcolor": "white",
           "lakecolor": "white",
           "landcolor": "#E5ECF6",
           "showlakes": true,
           "showland": true,
           "subunitcolor": "white"
          },
          "hoverlabel": {
           "align": "left"
          },
          "hovermode": "closest",
          "mapbox": {
           "style": "light"
          },
          "paper_bgcolor": "white",
          "plot_bgcolor": "#E5ECF6",
          "polar": {
           "angularaxis": {
            "gridcolor": "white",
            "linecolor": "white",
            "ticks": ""
           },
           "bgcolor": "#E5ECF6",
           "radialaxis": {
            "gridcolor": "white",
            "linecolor": "white",
            "ticks": ""
           }
          },
          "scene": {
           "xaxis": {
            "backgroundcolor": "#E5ECF6",
            "gridcolor": "white",
            "gridwidth": 2,
            "linecolor": "white",
            "showbackground": true,
            "ticks": "",
            "zerolinecolor": "white"
           },
           "yaxis": {
            "backgroundcolor": "#E5ECF6",
            "gridcolor": "white",
            "gridwidth": 2,
            "linecolor": "white",
            "showbackground": true,
            "ticks": "",
            "zerolinecolor": "white"
           },
           "zaxis": {
            "backgroundcolor": "#E5ECF6",
            "gridcolor": "white",
            "gridwidth": 2,
            "linecolor": "white",
            "showbackground": true,
            "ticks": "",
            "zerolinecolor": "white"
           }
          },
          "shapedefaults": {
           "line": {
            "color": "#2a3f5f"
           }
          },
          "ternary": {
           "aaxis": {
            "gridcolor": "white",
            "linecolor": "white",
            "ticks": ""
           },
           "baxis": {
            "gridcolor": "white",
            "linecolor": "white",
            "ticks": ""
           },
           "bgcolor": "#E5ECF6",
           "caxis": {
            "gridcolor": "white",
            "linecolor": "white",
            "ticks": ""
           }
          },
          "title": {
           "x": 0.05
          },
          "xaxis": {
           "automargin": true,
           "gridcolor": "white",
           "linecolor": "white",
           "ticks": "",
           "title": {
            "standoff": 15
           },
           "zerolinecolor": "white",
           "zerolinewidth": 2
          },
          "yaxis": {
           "automargin": true,
           "gridcolor": "white",
           "linecolor": "white",
           "ticks": "",
           "title": {
            "standoff": 15
           },
           "zerolinecolor": "white",
           "zerolinewidth": 2
          }
         }
        },
        "title": {
         "text": "AUC Over Time"
        },
        "xaxis": {
         "anchor": "y",
         "domain": [
          0,
          1
         ],
         "title": {
          "text": "index"
         }
        },
        "yaxis": {
         "anchor": "x",
         "domain": [
          0,
          1
         ],
         "title": {
          "text": "value"
         }
        }
       }
      },
      "image/png": "[encoded data removed]",
      "text/html": [
       "<div>                            <div id=\"d5523678-9409-4910-b26f-84d202728f11\" class=\"plotly-graph-div\" style=\"height:525px; width:100%;\"></div>            <script type=\"text/javascript\">                require([\"plotly\"], function(Plotly) {                    window.PLOTLYENV=window.PLOTLYENV || {};                                    if (document.getElementById(\"d5523678-9409-4910-b26f-84d202728f11\")) {                    Plotly.newPlot(                        \"d5523678-9409-4910-b26f-84d202728f11\",                        [{\"hovertemplate\":\"variable=auc\\u003cbr\\u003eindex=%{x}\\u003cbr\\u003evalue=%{y}\\u003cextra\\u003e\\u003c\\u002fextra\\u003e\",\"legendgroup\":\"auc\",\"line\":{\"color\":\"#636efa\",\"dash\":\"solid\"},\"marker\":{\"symbol\":\"circle\"},\"mode\":\"lines\",\"name\":\"auc\",\"orientation\":\"v\",\"showlegend\":true,\"x\":[0,1,2,3,4,5,6,7,8,9,10,11,12,13,14,15,16,17,18,19,20,21,22,23,24,25,26,27,28,29,30,31,32,33,34,35,36,37,38,39,40,41,42,43,44,45,46,47,48,49,50,51,52,53,54,55,56,57,58,59,60,61,62,63,64,65,66,67,68,69,70,71,72,73,74,75,76,77,78,79,80,81,82,83,84,85,86,87,88,89,90,91,92,93,94,95,96,97,98,99],\"xaxis\":\"x\",\"y\":[0.5289323329925537,0.7856247425079346,0.9131089448928833,0.950567364692688,0.9662403464317322,0.9764279127120972,0.9831044673919678,0.9858628511428833,0.9882452487945557,0.9900005459785461,0.9915679097175598,0.9935426712036133,0.9938561916351318,0.9953607320785522,0.9955488443374634,0.9962071180343628,0.9969907999038696,0.9972729682922363,0.9973355531692505,0.9976177215576172,0.9981191158294678,0.9984326958656311,0.9988401532173157,0.9991850256919861,0.999090850353241,0.999341607093811,0.9998745322227478,0.9998119473457336,0.9998745918273926,0.9998745918273926,0.9998745322227478,0.9998745322227478,0.9998745918273926,0.9998745322227478,0.9998745918273926,0.9998745918273926,0.9998745918273926,0.9998745918273926,0.9998745322227478,0.9998745322227478,0.9998745322227478,0.9998745322227478,0.9998745322227478,0.9998745322227478,0.9998745322227478,0.9998745322227478,0.9998745322227478,0.9998745322227478,0.9998745322227478,0.9998745322227478,0.9998745322227478,0.9998745322227478,0.9998745322227478,0.9998745322227478,0.9998745322227478,0.9998745322227478,0.9998745322227478,0.9998745322227478,0.9998745322227478,0.9998745322227478,0.9998745322227478,0.9998745322227478,0.9998745322227478,0.9998745322227478,0.9998745322227478,0.9998745322227478,0.9998745322227478,0.9998745322227478,0.9998745322227478,0.9998745322227478,0.9998745322227478,0.9998745322227478,0.9998745322227478,0.9998745322227478,0.9998745322227478,0.9998745322227478,0.9998745322227478,0.9998745322227478,0.9998745322227478,0.9998745322227478,0.9998745322227478,0.9998745322227478,0.9998745322227478,0.9998745322227478,0.9998745322227478,0.9998745322227478,0.9998745322227478,0.9998745322227478,0.9998745322227478,0.9998745322227478,0.9998745322227478,0.9998745322227478,0.9998745322227478,0.9998745322227478,0.9998745322227478,0.9998745322227478,0.9998745322227478,0.9998745322227478,0.9998745322227478,0.9998745322227478],\"yaxis\":\"y\",\"type\":\"scatter\"},{\"hovertemplate\":\"variable=val_auc\\u003cbr\\u003eindex=%{x}\\u003cbr\\u003evalue=%{y}\\u003cextra\\u003e\\u003c\\u002fextra\\u003e\",\"legendgroup\":\"val_auc\",\"line\":{\"color\":\"#EF553B\",\"dash\":\"solid\"},\"marker\":{\"symbol\":\"circle\"},\"mode\":\"lines\",\"name\":\"val_auc\",\"orientation\":\"v\",\"showlegend\":true,\"x\":[0,1,2,3,4,5,6,7,8,9,10,11,12,13,14,15,16,17,18,19,20,21,22,23,24,25,26,27,28,29,30,31,32,33,34,35,36,37,38,39,40,41,42,43,44,45,46,47,48,49,50,51,52,53,54,55,56,57,58,59,60,61,62,63,64,65,66,67,68,69,70,71,72,73,74,75,76,77,78,79,80,81,82,83,84,85,86,87,88,89,90,91,92,93,94,95,96,97,98,99],\"xaxis\":\"x\",\"y\":[0.5445544719696045,0.7848784923553467,0.8766876459121704,0.925742506980896,0.9432942867279053,0.9545454382896423,0.9549955129623413,0.958145797252655,0.9626462459564209,0.9630963206291199,0.967596709728241,0.9693968892097473,0.9702969789505005,0.9702969789505005,0.9716471433639526,0.9720972180366516,0.9720972180366516,0.9729973077774048,0.9738973379135132,0.9752475023269653,0.97299724817276,0.9756975173950195,0.9756975173950195,0.9774976968765259,0.9756975173950195,0.9779477715492249,0.9761476516723633,0.9756975173950195,0.9756975173950195,0.9756975173950195,0.9756975173950195,0.9761475920677185,0.9765976071357727,0.9765976071357727,0.9765976071357727,0.9765976071357727,0.9765976071357727,0.9765976071357727,0.9765976071357727,0.9765976071357727,0.9765976071357727,0.9765976071357727,0.9765976071357727,0.9765976071357727,0.9765976071357727,0.9765976071357727,0.9765976071357727,0.9765976071357727,0.9765976071357727,0.9765976071357727,0.9765976071357727,0.9765976071357727,0.9765976071357727,0.9765976071357727,0.9765976071357727,0.9765976071357727,0.9765976071357727,0.9765976071357727,0.9765976071357727,0.9765976071357727,0.9765976071357727,0.9765976071357727,0.9765976071357727,0.9765976071357727,0.9765976071357727,0.9765976071357727,0.9765976071357727,0.9765976071357727,0.9765976071357727,0.9765976071357727,0.9765976071357727,0.9765976071357727,0.9765976071357727,0.9765976071357727,0.9765976071357727,0.9765976071357727,0.9765976071357727,0.9765976071357727,0.9765976071357727,0.9765976071357727,0.9765976071357727,0.9765976071357727,0.9765976071357727,0.9765976071357727,0.9765976071357727,0.9765976071357727,0.9765976071357727,0.9765976071357727,0.9765976071357727,0.9765976071357727,0.9765976071357727,0.9765976071357727,0.9765976071357727,0.9765976071357727,0.9765976071357727,0.9765976071357727,0.9765976071357727,0.9765976071357727,0.9765976071357727,0.9765976071357727],\"yaxis\":\"y\",\"type\":\"scatter\"}],                        {\"template\":{\"data\":{\"histogram2dcontour\":[{\"type\":\"histogram2dcontour\",\"colorbar\":{\"outlinewidth\":0,\"ticks\":\"\"},\"colorscale\":[[0.0,\"#0d0887\"],[0.1111111111111111,\"#46039f\"],[0.2222222222222222,\"#7201a8\"],[0.3333333333333333,\"#9c179e\"],[0.4444444444444444,\"#bd3786\"],[0.5555555555555556,\"#d8576b\"],[0.6666666666666666,\"#ed7953\"],[0.7777777777777778,\"#fb9f3a\"],[0.8888888888888888,\"#fdca26\"],[1.0,\"#f0f921\"]]}],\"choropleth\":[{\"type\":\"choropleth\",\"colorbar\":{\"outlinewidth\":0,\"ticks\":\"\"}}],\"histogram2d\":[{\"type\":\"histogram2d\",\"colorbar\":{\"outlinewidth\":0,\"ticks\":\"\"},\"colorscale\":[[0.0,\"#0d0887\"],[0.1111111111111111,\"#46039f\"],[0.2222222222222222,\"#7201a8\"],[0.3333333333333333,\"#9c179e\"],[0.4444444444444444,\"#bd3786\"],[0.5555555555555556,\"#d8576b\"],[0.6666666666666666,\"#ed7953\"],[0.7777777777777778,\"#fb9f3a\"],[0.8888888888888888,\"#fdca26\"],[1.0,\"#f0f921\"]]}],\"heatmap\":[{\"type\":\"heatmap\",\"colorbar\":{\"outlinewidth\":0,\"ticks\":\"\"},\"colorscale\":[[0.0,\"#0d0887\"],[0.1111111111111111,\"#46039f\"],[0.2222222222222222,\"#7201a8\"],[0.3333333333333333,\"#9c179e\"],[0.4444444444444444,\"#bd3786\"],[0.5555555555555556,\"#d8576b\"],[0.6666666666666666,\"#ed7953\"],[0.7777777777777778,\"#fb9f3a\"],[0.8888888888888888,\"#fdca26\"],[1.0,\"#f0f921\"]]}],\"heatmapgl\":[{\"type\":\"heatmapgl\",\"colorbar\":{\"outlinewidth\":0,\"ticks\":\"\"},\"colorscale\":[[0.0,\"#0d0887\"],[0.1111111111111111,\"#46039f\"],[0.2222222222222222,\"#7201a8\"],[0.3333333333333333,\"#9c179e\"],[0.4444444444444444,\"#bd3786\"],[0.5555555555555556,\"#d8576b\"],[0.6666666666666666,\"#ed7953\"],[0.7777777777777778,\"#fb9f3a\"],[0.8888888888888888,\"#fdca26\"],[1.0,\"#f0f921\"]]}],\"contourcarpet\":[{\"type\":\"contourcarpet\",\"colorbar\":{\"outlinewidth\":0,\"ticks\":\"\"}}],\"contour\":[{\"type\":\"contour\",\"colorbar\":{\"outlinewidth\":0,\"ticks\":\"\"},\"colorscale\":[[0.0,\"#0d0887\"],[0.1111111111111111,\"#46039f\"],[0.2222222222222222,\"#7201a8\"],[0.3333333333333333,\"#9c179e\"],[0.4444444444444444,\"#bd3786\"],[0.5555555555555556,\"#d8576b\"],[0.6666666666666666,\"#ed7953\"],[0.7777777777777778,\"#fb9f3a\"],[0.8888888888888888,\"#fdca26\"],[1.0,\"#f0f921\"]]}],\"surface\":[{\"type\":\"surface\",\"colorbar\":{\"outlinewidth\":0,\"ticks\":\"\"},\"colorscale\":[[0.0,\"#0d0887\"],[0.1111111111111111,\"#46039f\"],[0.2222222222222222,\"#7201a8\"],[0.3333333333333333,\"#9c179e\"],[0.4444444444444444,\"#bd3786\"],[0.5555555555555556,\"#d8576b\"],[0.6666666666666666,\"#ed7953\"],[0.7777777777777778,\"#fb9f3a\"],[0.8888888888888888,\"#fdca26\"],[1.0,\"#f0f921\"]]}],\"mesh3d\":[{\"type\":\"mesh3d\",\"colorbar\":{\"outlinewidth\":0,\"ticks\":\"\"}}],\"scatter\":[{\"fillpattern\":{\"fillmode\":\"overlay\",\"size\":10,\"solidity\":0.2},\"type\":\"scatter\"}],\"parcoords\":[{\"type\":\"parcoords\",\"line\":{\"colorbar\":{\"outlinewidth\":0,\"ticks\":\"\"}}}],\"scatterpolargl\":[{\"type\":\"scatterpolargl\",\"marker\":{\"colorbar\":{\"outlinewidth\":0,\"ticks\":\"\"}}}],\"bar\":[{\"error_x\":{\"color\":\"#2a3f5f\"},\"error_y\":{\"color\":\"#2a3f5f\"},\"marker\":{\"line\":{\"color\":\"#E5ECF6\",\"width\":0.5},\"pattern\":{\"fillmode\":\"overlay\",\"size\":10,\"solidity\":0.2}},\"type\":\"bar\"}],\"scattergeo\":[{\"type\":\"scattergeo\",\"marker\":{\"colorbar\":{\"outlinewidth\":0,\"ticks\":\"\"}}}],\"scatterpolar\":[{\"type\":\"scatterpolar\",\"marker\":{\"colorbar\":{\"outlinewidth\":0,\"ticks\":\"\"}}}],\"histogram\":[{\"marker\":{\"pattern\":{\"fillmode\":\"overlay\",\"size\":10,\"solidity\":0.2}},\"type\":\"histogram\"}],\"scattergl\":[{\"type\":\"scattergl\",\"marker\":{\"colorbar\":{\"outlinewidth\":0,\"ticks\":\"\"}}}],\"scatter3d\":[{\"type\":\"scatter3d\",\"line\":{\"colorbar\":{\"outlinewidth\":0,\"ticks\":\"\"}},\"marker\":{\"colorbar\":{\"outlinewidth\":0,\"ticks\":\"\"}}}],\"scattermapbox\":[{\"type\":\"scattermapbox\",\"marker\":{\"colorbar\":{\"outlinewidth\":0,\"ticks\":\"\"}}}],\"scatterternary\":[{\"type\":\"scatterternary\",\"marker\":{\"colorbar\":{\"outlinewidth\":0,\"ticks\":\"\"}}}],\"scattercarpet\":[{\"type\":\"scattercarpet\",\"marker\":{\"colorbar\":{\"outlinewidth\":0,\"ticks\":\"\"}}}],\"carpet\":[{\"aaxis\":{\"endlinecolor\":\"#2a3f5f\",\"gridcolor\":\"white\",\"linecolor\":\"white\",\"minorgridcolor\":\"white\",\"startlinecolor\":\"#2a3f5f\"},\"baxis\":{\"endlinecolor\":\"#2a3f5f\",\"gridcolor\":\"white\",\"linecolor\":\"white\",\"minorgridcolor\":\"white\",\"startlinecolor\":\"#2a3f5f\"},\"type\":\"carpet\"}],\"table\":[{\"cells\":{\"fill\":{\"color\":\"#EBF0F8\"},\"line\":{\"color\":\"white\"}},\"header\":{\"fill\":{\"color\":\"#C8D4E3\"},\"line\":{\"color\":\"white\"}},\"type\":\"table\"}],\"barpolar\":[{\"marker\":{\"line\":{\"color\":\"#E5ECF6\",\"width\":0.5},\"pattern\":{\"fillmode\":\"overlay\",\"size\":10,\"solidity\":0.2}},\"type\":\"barpolar\"}],\"pie\":[{\"automargin\":true,\"type\":\"pie\"}]},\"layout\":{\"autotypenumbers\":\"strict\",\"colorway\":[\"#636efa\",\"#EF553B\",\"#00cc96\",\"#ab63fa\",\"#FFA15A\",\"#19d3f3\",\"#FF6692\",\"#B6E880\",\"#FF97FF\",\"#FECB52\"],\"font\":{\"color\":\"#2a3f5f\"},\"hovermode\":\"closest\",\"hoverlabel\":{\"align\":\"left\"},\"paper_bgcolor\":\"white\",\"plot_bgcolor\":\"#E5ECF6\",\"polar\":{\"bgcolor\":\"#E5ECF6\",\"angularaxis\":{\"gridcolor\":\"white\",\"linecolor\":\"white\",\"ticks\":\"\"},\"radialaxis\":{\"gridcolor\":\"white\",\"linecolor\":\"white\",\"ticks\":\"\"}},\"ternary\":{\"bgcolor\":\"#E5ECF6\",\"aaxis\":{\"gridcolor\":\"white\",\"linecolor\":\"white\",\"ticks\":\"\"},\"baxis\":{\"gridcolor\":\"white\",\"linecolor\":\"white\",\"ticks\":\"\"},\"caxis\":{\"gridcolor\":\"white\",\"linecolor\":\"white\",\"ticks\":\"\"}},\"coloraxis\":{\"colorbar\":{\"outlinewidth\":0,\"ticks\":\"\"}},\"colorscale\":{\"sequential\":[[0.0,\"#0d0887\"],[0.1111111111111111,\"#46039f\"],[0.2222222222222222,\"#7201a8\"],[0.3333333333333333,\"#9c179e\"],[0.4444444444444444,\"#bd3786\"],[0.5555555555555556,\"#d8576b\"],[0.6666666666666666,\"#ed7953\"],[0.7777777777777778,\"#fb9f3a\"],[0.8888888888888888,\"#fdca26\"],[1.0,\"#f0f921\"]],\"sequentialminus\":[[0.0,\"#0d0887\"],[0.1111111111111111,\"#46039f\"],[0.2222222222222222,\"#7201a8\"],[0.3333333333333333,\"#9c179e\"],[0.4444444444444444,\"#bd3786\"],[0.5555555555555556,\"#d8576b\"],[0.6666666666666666,\"#ed7953\"],[0.7777777777777778,\"#fb9f3a\"],[0.8888888888888888,\"#fdca26\"],[1.0,\"#f0f921\"]],\"diverging\":[[0,\"#8e0152\"],[0.1,\"#c51b7d\"],[0.2,\"#de77ae\"],[0.3,\"#f1b6da\"],[0.4,\"#fde0ef\"],[0.5,\"#f7f7f7\"],[0.6,\"#e6f5d0\"],[0.7,\"#b8e186\"],[0.8,\"#7fbc41\"],[0.9,\"#4d9221\"],[1,\"#276419\"]]},\"xaxis\":{\"gridcolor\":\"white\",\"linecolor\":\"white\",\"ticks\":\"\",\"title\":{\"standoff\":15},\"zerolinecolor\":\"white\",\"automargin\":true,\"zerolinewidth\":2},\"yaxis\":{\"gridcolor\":\"white\",\"linecolor\":\"white\",\"ticks\":\"\",\"title\":{\"standoff\":15},\"zerolinecolor\":\"white\",\"automargin\":true,\"zerolinewidth\":2},\"scene\":{\"xaxis\":{\"backgroundcolor\":\"#E5ECF6\",\"gridcolor\":\"white\",\"linecolor\":\"white\",\"showbackground\":true,\"ticks\":\"\",\"zerolinecolor\":\"white\",\"gridwidth\":2},\"yaxis\":{\"backgroundcolor\":\"#E5ECF6\",\"gridcolor\":\"white\",\"linecolor\":\"white\",\"showbackground\":true,\"ticks\":\"\",\"zerolinecolor\":\"white\",\"gridwidth\":2},\"zaxis\":{\"backgroundcolor\":\"#E5ECF6\",\"gridcolor\":\"white\",\"linecolor\":\"white\",\"showbackground\":true,\"ticks\":\"\",\"zerolinecolor\":\"white\",\"gridwidth\":2}},\"shapedefaults\":{\"line\":{\"color\":\"#2a3f5f\"}},\"annotationdefaults\":{\"arrowcolor\":\"#2a3f5f\",\"arrowhead\":0,\"arrowwidth\":1},\"geo\":{\"bgcolor\":\"white\",\"landcolor\":\"#E5ECF6\",\"subunitcolor\":\"white\",\"showland\":true,\"showlakes\":true,\"lakecolor\":\"white\"},\"title\":{\"x\":0.05},\"mapbox\":{\"style\":\"light\"}}},\"xaxis\":{\"anchor\":\"y\",\"domain\":[0.0,1.0],\"title\":{\"text\":\"index\"}},\"yaxis\":{\"anchor\":\"x\",\"domain\":[0.0,1.0],\"title\":{\"text\":\"value\"}},\"legend\":{\"title\":{\"text\":\"variable\"},\"tracegroupgap\":0},\"title\":{\"text\":\"AUC Over Time\"}},                        {\"responsive\": true}                    ).then(function(){\n",
       "                            \n",
       "var gd = document.getElementById('d5523678-9409-4910-b26f-84d202728f11');\n",
       "var x = new MutationObserver(function (mutations, observer) {{\n",
       "        var display = window.getComputedStyle(gd).display;\n",
       "        if (!display || display === 'none') {{\n",
       "            console.log([gd, 'removed!']);\n",
       "            Plotly.purge(gd);\n",
       "            observer.disconnect();\n",
       "        }}\n",
       "}});\n",
       "\n",
       "// Listen for the removal of the full notebook cells\n",
       "var notebookContainer = gd.closest('#notebook-container');\n",
       "if (notebookContainer) {{\n",
       "    x.observe(notebookContainer, {childList: true});\n",
       "}}\n",
       "\n",
       "// Listen for the clearing of the current output cell\n",
       "var outputEl = gd.closest('.output');\n",
       "if (outputEl) {{\n",
       "    x.observe(outputEl, {childList: true});\n",
       "}}\n",
       "\n",
       "                        })                };                });            </script>        </div>"
      ]
     },
     "metadata": {},
     "output_type": "display_data"
    }
   ],
   "source": [
    "fig_auc = px.line(\n",
    "    history.history,\n",
    "    y = ['auc', 'val_auc'],\n",
    "    labels = {'x': 'Epoch', 'y': 'Loss'},\n",
    "    title = 'AUC Over Time'\n",
    ")\n",
    "\n",
    "fig_auc.show()"
   ]
  },
  {
   "cell_type": "code",
   "execution_count": 47,
   "id": "0143929f-7088-4e9f-919b-d00ddbdb5fca",
   "metadata": {},
   "outputs": [
    {
     "name": "stdout",
     "output_type": "stream",
     "text": [
      "8/8 [==============================] - 0s 4ms/step - loss: 0.1127 - accuracy: 0.9583 - auc: 0.9748\n"
     ]
    },
    {
     "data": {
      "text/plain": [
       "[0.11274790018796921, 0.9583333134651184, 0.9748147130012512]"
      ]
     },
     "execution_count": 47,
     "metadata": {},
     "output_type": "execute_result"
    }
   ],
   "source": [
    "model.evaluate(X_test, y_test)"
   ]
  },
  {
   "cell_type": "markdown",
   "id": "c0d91045-596b-4ad1-b954-ace165da8532",
   "metadata": {},
   "source": [
    "### Post Training Analysis"
   ]
  },
  {
   "cell_type": "code",
   "execution_count": 63,
   "id": "053f9d19-8a47-49ed-8f7f-575fb1116a3c",
   "metadata": {},
   "outputs": [
    {
     "name": "stdout",
     "output_type": "stream",
     "text": [
      "8/8 [==============================] - 0s 3ms/step\n"
     ]
    },
    {
     "data": {
      "text/plain": [
       "696    0\n",
       "667    0\n",
       "63     0\n",
       "533    0\n",
       "66     0\n",
       "      ..\n",
       "220    0\n",
       "450    0\n",
       "380    0\n",
       "132    0\n",
       "375    0\n",
       "Name: Legendary, Length: 240, dtype: int64"
      ]
     },
     "execution_count": 63,
     "metadata": {},
     "output_type": "execute_result"
    }
   ],
   "source": [
    "predictions = (np.squeeze((model.predict(X_test) >= 0.5).astype(int)) != y_test).astype(int)\n",
    "predictions"
   ]
  },
  {
   "cell_type": "code",
   "execution_count": 64,
   "id": "76d9b46e-7a94-47d9-b006-a089fd7a055c",
   "metadata": {},
   "outputs": [
    {
     "data": {
      "text/plain": [
       "10"
      ]
     },
     "execution_count": 64,
     "metadata": {},
     "output_type": "execute_result"
    }
   ],
   "source": [
    "predictions.sum()"
   ]
  },
  {
   "cell_type": "code",
   "execution_count": 68,
   "id": "1d3b5f52-88e8-4209-9615-0800da1246b2",
   "metadata": {},
   "outputs": [
    {
     "data": {
      "text/plain": [
       "306    0\n",
       "275    0\n",
       "715    0\n",
       "425    1\n",
       "409    0\n",
       "776    0\n",
       "264    1\n",
       "527    0\n",
       "196    0\n",
       "158    1\n",
       "Name: Legendary, dtype: int64"
      ]
     },
     "execution_count": 68,
     "metadata": {},
     "output_type": "execute_result"
    }
   ],
   "source": [
    "y_test[predictions.astype(bool)]"
   ]
  },
  {
   "cell_type": "code",
   "execution_count": 69,
   "id": "e9ae38b9-bfb9-4dda-a14f-37d253be7f80",
   "metadata": {},
   "outputs": [],
   "source": [
    "mislabeled_indices = y_test[predictions.astype(bool)].index"
   ]
  },
  {
   "cell_type": "code",
   "execution_count": 71,
   "id": "13b6cdd3-1fc8-427e-8e9f-fcea1fac667f",
   "metadata": {},
   "outputs": [
    {
     "data": {
      "text/html": [
       "<div>\n",
       "<style scoped>\n",
       "    .dataframe tbody tr th:only-of-type {\n",
       "        vertical-align: middle;\n",
       "    }\n",
       "\n",
       "    .dataframe tbody tr th {\n",
       "        vertical-align: top;\n",
       "    }\n",
       "\n",
       "    .dataframe thead th {\n",
       "        text-align: right;\n",
       "    }\n",
       "</style>\n",
       "<table border=\"1\" class=\"dataframe\">\n",
       "  <thead>\n",
       "    <tr style=\"text-align: right;\">\n",
       "      <th></th>\n",
       "      <th>#</th>\n",
       "      <th>Name</th>\n",
       "      <th>Type 1</th>\n",
       "      <th>Type 2</th>\n",
       "      <th>Total</th>\n",
       "      <th>HP</th>\n",
       "      <th>Attack</th>\n",
       "      <th>Defense</th>\n",
       "      <th>Sp. Atk</th>\n",
       "      <th>Sp. Def</th>\n",
       "      <th>Speed</th>\n",
       "      <th>Generation</th>\n",
       "      <th>Legendary</th>\n",
       "    </tr>\n",
       "  </thead>\n",
       "  <tbody>\n",
       "    <tr>\n",
       "      <th>306</th>\n",
       "      <td>282</td>\n",
       "      <td>GardevoirMega Gardevoir</td>\n",
       "      <td>Psychic</td>\n",
       "      <td>Fairy</td>\n",
       "      <td>618</td>\n",
       "      <td>68</td>\n",
       "      <td>85</td>\n",
       "      <td>65</td>\n",
       "      <td>165</td>\n",
       "      <td>135</td>\n",
       "      <td>100</td>\n",
       "      <td>3</td>\n",
       "      <td>False</td>\n",
       "    </tr>\n",
       "    <tr>\n",
       "      <th>275</th>\n",
       "      <td>254</td>\n",
       "      <td>SceptileMega Sceptile</td>\n",
       "      <td>Grass</td>\n",
       "      <td>Dragon</td>\n",
       "      <td>630</td>\n",
       "      <td>70</td>\n",
       "      <td>110</td>\n",
       "      <td>75</td>\n",
       "      <td>145</td>\n",
       "      <td>85</td>\n",
       "      <td>145</td>\n",
       "      <td>3</td>\n",
       "      <td>False</td>\n",
       "    </tr>\n",
       "    <tr>\n",
       "      <th>715</th>\n",
       "      <td>648</td>\n",
       "      <td>MeloettaAria Forme</td>\n",
       "      <td>Normal</td>\n",
       "      <td>Psychic</td>\n",
       "      <td>600</td>\n",
       "      <td>100</td>\n",
       "      <td>77</td>\n",
       "      <td>77</td>\n",
       "      <td>128</td>\n",
       "      <td>128</td>\n",
       "      <td>90</td>\n",
       "      <td>5</td>\n",
       "      <td>False</td>\n",
       "    </tr>\n",
       "    <tr>\n",
       "      <th>425</th>\n",
       "      <td>384</td>\n",
       "      <td>Rayquaza</td>\n",
       "      <td>Dragon</td>\n",
       "      <td>Flying</td>\n",
       "      <td>680</td>\n",
       "      <td>105</td>\n",
       "      <td>150</td>\n",
       "      <td>90</td>\n",
       "      <td>150</td>\n",
       "      <td>90</td>\n",
       "      <td>95</td>\n",
       "      <td>3</td>\n",
       "      <td>True</td>\n",
       "    </tr>\n",
       "    <tr>\n",
       "      <th>409</th>\n",
       "      <td>373</td>\n",
       "      <td>SalamenceMega Salamence</td>\n",
       "      <td>Dragon</td>\n",
       "      <td>Flying</td>\n",
       "      <td>700</td>\n",
       "      <td>95</td>\n",
       "      <td>145</td>\n",
       "      <td>130</td>\n",
       "      <td>120</td>\n",
       "      <td>90</td>\n",
       "      <td>120</td>\n",
       "      <td>3</td>\n",
       "      <td>False</td>\n",
       "    </tr>\n",
       "    <tr>\n",
       "      <th>776</th>\n",
       "      <td>706</td>\n",
       "      <td>Goodra</td>\n",
       "      <td>Dragon</td>\n",
       "      <td>NaN</td>\n",
       "      <td>600</td>\n",
       "      <td>90</td>\n",
       "      <td>100</td>\n",
       "      <td>70</td>\n",
       "      <td>110</td>\n",
       "      <td>150</td>\n",
       "      <td>80</td>\n",
       "      <td>6</td>\n",
       "      <td>False</td>\n",
       "    </tr>\n",
       "    <tr>\n",
       "      <th>264</th>\n",
       "      <td>245</td>\n",
       "      <td>Suicune</td>\n",
       "      <td>Water</td>\n",
       "      <td>NaN</td>\n",
       "      <td>580</td>\n",
       "      <td>100</td>\n",
       "      <td>75</td>\n",
       "      <td>115</td>\n",
       "      <td>90</td>\n",
       "      <td>115</td>\n",
       "      <td>85</td>\n",
       "      <td>2</td>\n",
       "      <td>True</td>\n",
       "    </tr>\n",
       "    <tr>\n",
       "      <th>527</th>\n",
       "      <td>475</td>\n",
       "      <td>GalladeMega Gallade</td>\n",
       "      <td>Psychic</td>\n",
       "      <td>Fighting</td>\n",
       "      <td>618</td>\n",
       "      <td>68</td>\n",
       "      <td>165</td>\n",
       "      <td>95</td>\n",
       "      <td>65</td>\n",
       "      <td>115</td>\n",
       "      <td>110</td>\n",
       "      <td>4</td>\n",
       "      <td>False</td>\n",
       "    </tr>\n",
       "    <tr>\n",
       "      <th>196</th>\n",
       "      <td>181</td>\n",
       "      <td>AmpharosMega Ampharos</td>\n",
       "      <td>Electric</td>\n",
       "      <td>Dragon</td>\n",
       "      <td>610</td>\n",
       "      <td>90</td>\n",
       "      <td>95</td>\n",
       "      <td>105</td>\n",
       "      <td>165</td>\n",
       "      <td>110</td>\n",
       "      <td>45</td>\n",
       "      <td>2</td>\n",
       "      <td>False</td>\n",
       "    </tr>\n",
       "    <tr>\n",
       "      <th>158</th>\n",
       "      <td>146</td>\n",
       "      <td>Moltres</td>\n",
       "      <td>Fire</td>\n",
       "      <td>Flying</td>\n",
       "      <td>580</td>\n",
       "      <td>90</td>\n",
       "      <td>100</td>\n",
       "      <td>90</td>\n",
       "      <td>125</td>\n",
       "      <td>85</td>\n",
       "      <td>90</td>\n",
       "      <td>1</td>\n",
       "      <td>True</td>\n",
       "    </tr>\n",
       "  </tbody>\n",
       "</table>\n",
       "</div>"
      ],
      "text/plain": [
       "       #                     Name    Type 1    Type 2  Total   HP  Attack  \\\n",
       "306  282  GardevoirMega Gardevoir   Psychic     Fairy    618   68      85   \n",
       "275  254    SceptileMega Sceptile     Grass    Dragon    630   70     110   \n",
       "715  648       MeloettaAria Forme    Normal   Psychic    600  100      77   \n",
       "425  384                 Rayquaza    Dragon    Flying    680  105     150   \n",
       "409  373  SalamenceMega Salamence    Dragon    Flying    700   95     145   \n",
       "776  706                   Goodra    Dragon       NaN    600   90     100   \n",
       "264  245                  Suicune     Water       NaN    580  100      75   \n",
       "527  475      GalladeMega Gallade   Psychic  Fighting    618   68     165   \n",
       "196  181    AmpharosMega Ampharos  Electric    Dragon    610   90      95   \n",
       "158  146                  Moltres      Fire    Flying    580   90     100   \n",
       "\n",
       "     Defense  Sp. Atk  Sp. Def  Speed  Generation  Legendary  \n",
       "306       65      165      135    100           3      False  \n",
       "275       75      145       85    145           3      False  \n",
       "715       77      128      128     90           5      False  \n",
       "425       90      150       90     95           3       True  \n",
       "409      130      120       90    120           3      False  \n",
       "776       70      110      150     80           6      False  \n",
       "264      115       90      115     85           2       True  \n",
       "527       95       65      115    110           4      False  \n",
       "196      105      165      110     45           2      False  \n",
       "158       90      125       85     90           1       True  "
      ]
     },
     "execution_count": 71,
     "metadata": {},
     "output_type": "execute_result"
    }
   ],
   "source": [
    "data_raw.loc[mislabeled_indices, :]"
   ]
  },
  {
   "cell_type": "code",
   "execution_count": 74,
   "id": "117b03d4-571f-4c29-b8dc-ed27e4ab5b08",
   "metadata": {},
   "outputs": [
    {
     "data": {
      "text/plain": [
       "(800, 26)"
      ]
     },
     "execution_count": 74,
     "metadata": {},
     "output_type": "execute_result"
    }
   ],
   "source": [
    "X.shape"
   ]
  },
  {
   "cell_type": "code",
   "execution_count": 99,
   "id": "c3efaa1e-f3c8-4c89-9ec3-800bdf6f59ec",
   "metadata": {},
   "outputs": [],
   "source": [
    "pca = PCA(n_components=2)\n",
    "\n",
    "data_reduced = pd.DataFrame(pca.fit_transform(X), columns=['PC1', 'PC2'])"
   ]
  },
  {
   "cell_type": "code",
   "execution_count": 100,
   "id": "be1f7411-553f-46de-8f33-4f4bd43f2fb9",
   "metadata": {},
   "outputs": [
    {
     "data": {
      "text/html": [
       "<div>\n",
       "<style scoped>\n",
       "    .dataframe tbody tr th:only-of-type {\n",
       "        vertical-align: middle;\n",
       "    }\n",
       "\n",
       "    .dataframe tbody tr th {\n",
       "        vertical-align: top;\n",
       "    }\n",
       "\n",
       "    .dataframe thead th {\n",
       "        text-align: right;\n",
       "    }\n",
       "</style>\n",
       "<table border=\"1\" class=\"dataframe\">\n",
       "  <thead>\n",
       "    <tr style=\"text-align: right;\">\n",
       "      <th></th>\n",
       "      <th>PC1</th>\n",
       "      <th>PC2</th>\n",
       "    </tr>\n",
       "  </thead>\n",
       "  <tbody>\n",
       "    <tr>\n",
       "      <th>0</th>\n",
       "      <td>-1.924435</td>\n",
       "      <td>-0.301313</td>\n",
       "    </tr>\n",
       "    <tr>\n",
       "      <th>1</th>\n",
       "      <td>-0.563095</td>\n",
       "      <td>-0.343799</td>\n",
       "    </tr>\n",
       "    <tr>\n",
       "      <th>2</th>\n",
       "      <td>1.312335</td>\n",
       "      <td>-0.368696</td>\n",
       "    </tr>\n",
       "    <tr>\n",
       "      <th>3</th>\n",
       "      <td>2.861397</td>\n",
       "      <td>0.182741</td>\n",
       "    </tr>\n",
       "    <tr>\n",
       "      <th>4</th>\n",
       "      <td>-1.906093</td>\n",
       "      <td>-1.213531</td>\n",
       "    </tr>\n",
       "    <tr>\n",
       "      <th>...</th>\n",
       "      <td>...</td>\n",
       "      <td>...</td>\n",
       "    </tr>\n",
       "    <tr>\n",
       "      <th>795</th>\n",
       "      <td>2.812749</td>\n",
       "      <td>3.162343</td>\n",
       "    </tr>\n",
       "    <tr>\n",
       "      <th>796</th>\n",
       "      <td>4.280396</td>\n",
       "      <td>1.377938</td>\n",
       "    </tr>\n",
       "    <tr>\n",
       "      <th>797</th>\n",
       "      <td>3.084299</td>\n",
       "      <td>-1.492571</td>\n",
       "    </tr>\n",
       "    <tr>\n",
       "      <th>798</th>\n",
       "      <td>4.323720</td>\n",
       "      <td>-1.593276</td>\n",
       "    </tr>\n",
       "    <tr>\n",
       "      <th>799</th>\n",
       "      <td>2.785158</td>\n",
       "      <td>-0.038344</td>\n",
       "    </tr>\n",
       "  </tbody>\n",
       "</table>\n",
       "<p>800 rows × 2 columns</p>\n",
       "</div>"
      ],
      "text/plain": [
       "          PC1       PC2\n",
       "0   -1.924435 -0.301313\n",
       "1   -0.563095 -0.343799\n",
       "2    1.312335 -0.368696\n",
       "3    2.861397  0.182741\n",
       "4   -1.906093 -1.213531\n",
       "..        ...       ...\n",
       "795  2.812749  3.162343\n",
       "796  4.280396  1.377938\n",
       "797  3.084299 -1.492571\n",
       "798  4.323720 -1.593276\n",
       "799  2.785158 -0.038344\n",
       "\n",
       "[800 rows x 2 columns]"
      ]
     },
     "execution_count": 100,
     "metadata": {},
     "output_type": "execute_result"
    }
   ],
   "source": [
    "data_reduced"
   ]
  },
  {
   "cell_type": "code",
   "execution_count": 111,
   "id": "51a22223-6f58-4a83-9694-a27bdfb4593d",
   "metadata": {},
   "outputs": [
    {
     "data": {
      "image/png": "[encoded data removed]",
      "text/plain": [
       "<Figure size 2000x800 with 1 Axes>"
      ]
     },
     "metadata": {},
     "output_type": "display_data"
    }
   ],
   "source": [
    "plt.figure(figsize=(20,8))\n",
    "plt.scatter(data_reduced['PC1'], data_reduced['PC2'], c='lightgray')\n",
    "plt.scatter(data_reduced.loc[legendary_indices, 'PC1'], data_reduced.loc[legendary_indices, 'PC2'], c='dimgray')\n",
    "plt.scatter(data_reduced.loc[mislabeled_indices, 'PC1'], data_reduced.loc[mislabeled_indices, 'PC2'], c='orchid')\n",
    "plt.scatter(data_reduced.loc[mislabeled_legendary_indices, 'PC1'], data_reduced.loc[mislabeled_legendary_indices, 'PC2'], c='mediumspringgreen')\n",
    "plt.xlabel('PC1')\n",
    "plt.ylabel('PC2')\n",
    "plt.legend(['Non-Legendary', 'Legendary', 'Non-Legendary Misclassified', 'Legendary Misclassified'])\n",
    "plt.title('PCA Scatter Plot')\n",
    "plt.show()"
   ]
  },
  {
   "cell_type": "code",
   "execution_count": 102,
   "id": "136aa1d1-92d6-44ba-a3ca-0c047f1a2790",
   "metadata": {},
   "outputs": [],
   "source": [
    "legendary_indices = data.query(\"Legendary == 1\").index"
   ]
  },
  {
   "cell_type": "code",
   "execution_count": 106,
   "id": "d1fac10b-70bd-4c22-90f8-dcb5d575cd67",
   "metadata": {},
   "outputs": [
    {
     "data": {
      "text/plain": [
       "array([158, 264, 425])"
      ]
     },
     "execution_count": 106,
     "metadata": {},
     "output_type": "execute_result"
    }
   ],
   "source": [
    "mislabeled_legendary_indices = np.intersect1d(mislabeled_indices, legendary_indices)\n",
    "mislabeled_legendary_indices"
   ]
  },
  {
   "cell_type": "code",
   "execution_count": null,
   "id": "6d529247-0938-4ade-9aea-6b1cc17959c9",
   "metadata": {},
   "outputs": [],
   "source": []
  }
 ],
 "metadata": {
  "kernelspec": {
   "display_name": "Python 3 (ipykernel)",
   "language": "python",
   "name": "python3"
  },
  "language_info": {
   "codemirror_mode": {
    "name": "ipython",
    "version": 3
   },
   "file_extension": ".py",
   "mimetype": "text/x-python",
   "name": "python",
   "nbconvert_exporter": "python",
   "pygments_lexer": "ipython3",
   "version": "3.10.13"
  }
 },
 "nbformat": 4,
 "nbformat_minor": 5
}
