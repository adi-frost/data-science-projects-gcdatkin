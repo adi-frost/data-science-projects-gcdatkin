{
 "cells": [
  {
   "cell_type": "markdown",
   "id": "6594e65b-2281-4aaf-9cf4-8d53bf9fd89f",
   "metadata": {},
   "source": [
    "## 🚨 🚥 🚦 🚧  Traffic Speed Prediction\n",
    "\n",
    "Given *data about traffic at different times*, let's try to predict the **speed of traffic** at a given time.\n",
    "\n",
    "We will use various regression models to make our predictions.\n",
    "\n",
    "Data source: https://www.kaggle.com/datasets/vietexob/pgh-traffic-prediction?"
   ]
  },
  {
   "cell_type": "markdown",
   "id": "68e0597b-e07c-4b39-acab-826bd7d9e0ea",
   "metadata": {},
   "source": [
    "### Importing Libraries"
   ]
  },
  {
   "cell_type": "code",
   "execution_count": 1,
   "id": "69dc7127-33f3-4099-953b-9a300d018f30",
   "metadata": {},
   "outputs": [],
   "source": [
    "import numpy as np\n",
    "import pandas as pd\n",
    "\n",
    "import matplotlib.pyplot as plt\n",
    "import seaborn as sns\n",
    "\n",
    "from sklearn.model_selection import train_test_split\n",
    "from sklearn.preprocessing import StandardScaler, MinMaxScaler\n",
    "\n",
    "from sklearn.linear_model import LinearRegression\n",
    "from sklearn.neighbors import KNeighborsRegressor\n",
    "from sklearn.neural_network import MLPRegressor\n",
    "from sklearn.svm import LinearSVR, SVR\n",
    "from sklearn.tree import DecisionTreeRegressor\n",
    "from sklearn.ensemble import RandomForestRegressor, GradientBoostingRegressor\n",
    "\n",
    "import warnings\n",
    "warnings.simplefilter('ignore')"
   ]
  },
  {
   "cell_type": "code",
   "execution_count": 2,
   "id": "499bf77a-fc82-47e0-a979-33d2d41df4bc",
   "metadata": {},
   "outputs": [
    {
     "data": {
      "text/html": [
       "<div>\n",
       "<style scoped>\n",
       "    .dataframe tbody tr th:only-of-type {\n",
       "        vertical-align: middle;\n",
       "    }\n",
       "\n",
       "    .dataframe tbody tr th {\n",
       "        vertical-align: top;\n",
       "    }\n",
       "\n",
       "    .dataframe thead th {\n",
       "        text-align: right;\n",
       "    }\n",
       "</style>\n",
       "<table border=\"1\" class=\"dataframe\">\n",
       "  <thead>\n",
       "    <tr style=\"text-align: right;\">\n",
       "      <th></th>\n",
       "      <th>from.x</th>\n",
       "      <th>from.y</th>\n",
       "      <th>to.x</th>\n",
       "      <th>to.y</th>\n",
       "      <th>speed</th>\n",
       "      <th>time</th>\n",
       "      <th>is.weekday</th>\n",
       "    </tr>\n",
       "  </thead>\n",
       "  <tbody>\n",
       "    <tr>\n",
       "      <th>0</th>\n",
       "      <td>-80.010193</td>\n",
       "      <td>40.439438</td>\n",
       "      <td>-80.009608</td>\n",
       "      <td>40.439757</td>\n",
       "      <td>27.603437</td>\n",
       "      <td>8</td>\n",
       "      <td>1</td>\n",
       "    </tr>\n",
       "    <tr>\n",
       "      <th>1</th>\n",
       "      <td>-79.975452</td>\n",
       "      <td>40.435881</td>\n",
       "      <td>-79.966978</td>\n",
       "      <td>40.435817</td>\n",
       "      <td>53.779673</td>\n",
       "      <td>8</td>\n",
       "      <td>1</td>\n",
       "    </tr>\n",
       "    <tr>\n",
       "      <th>2</th>\n",
       "      <td>-79.926506</td>\n",
       "      <td>40.427954</td>\n",
       "      <td>-79.911553</td>\n",
       "      <td>40.425766</td>\n",
       "      <td>39.520281</td>\n",
       "      <td>8</td>\n",
       "      <td>1</td>\n",
       "    </tr>\n",
       "    <tr>\n",
       "      <th>3</th>\n",
       "      <td>-80.010193</td>\n",
       "      <td>40.439438</td>\n",
       "      <td>-80.000976</td>\n",
       "      <td>40.436302</td>\n",
       "      <td>24.878792</td>\n",
       "      <td>8</td>\n",
       "      <td>1</td>\n",
       "    </tr>\n",
       "    <tr>\n",
       "      <th>4</th>\n",
       "      <td>-80.007891</td>\n",
       "      <td>40.448433</td>\n",
       "      <td>-80.004527</td>\n",
       "      <td>40.449137</td>\n",
       "      <td>41.973019</td>\n",
       "      <td>8</td>\n",
       "      <td>1</td>\n",
       "    </tr>\n",
       "    <tr>\n",
       "      <th>...</th>\n",
       "      <td>...</td>\n",
       "      <td>...</td>\n",
       "      <td>...</td>\n",
       "      <td>...</td>\n",
       "      <td>...</td>\n",
       "      <td>...</td>\n",
       "      <td>...</td>\n",
       "    </tr>\n",
       "    <tr>\n",
       "      <th>565</th>\n",
       "      <td>-79.895381</td>\n",
       "      <td>40.425906</td>\n",
       "      <td>-79.892002</td>\n",
       "      <td>40.427876</td>\n",
       "      <td>51.251842</td>\n",
       "      <td>20</td>\n",
       "      <td>0</td>\n",
       "    </tr>\n",
       "    <tr>\n",
       "      <th>566</th>\n",
       "      <td>-79.895487</td>\n",
       "      <td>40.426092</td>\n",
       "      <td>-79.891258</td>\n",
       "      <td>40.427202</td>\n",
       "      <td>38.864311</td>\n",
       "      <td>20</td>\n",
       "      <td>0</td>\n",
       "    </tr>\n",
       "    <tr>\n",
       "      <th>567</th>\n",
       "      <td>-79.895487</td>\n",
       "      <td>40.426092</td>\n",
       "      <td>-79.891258</td>\n",
       "      <td>40.427202</td>\n",
       "      <td>46.044388</td>\n",
       "      <td>20</td>\n",
       "      <td>0</td>\n",
       "    </tr>\n",
       "    <tr>\n",
       "      <th>568</th>\n",
       "      <td>-79.926933</td>\n",
       "      <td>40.426905</td>\n",
       "      <td>-79.927907</td>\n",
       "      <td>40.427623</td>\n",
       "      <td>23.390307</td>\n",
       "      <td>20</td>\n",
       "      <td>0</td>\n",
       "    </tr>\n",
       "    <tr>\n",
       "      <th>569</th>\n",
       "      <td>-79.928842</td>\n",
       "      <td>40.428295</td>\n",
       "      <td>-79.930989</td>\n",
       "      <td>40.428424</td>\n",
       "      <td>24.585221</td>\n",
       "      <td>20</td>\n",
       "      <td>0</td>\n",
       "    </tr>\n",
       "  </tbody>\n",
       "</table>\n",
       "<p>570 rows × 7 columns</p>\n",
       "</div>"
      ],
      "text/plain": [
       "        from.x     from.y       to.x       to.y      speed  time  is.weekday\n",
       "0   -80.010193  40.439438 -80.009608  40.439757  27.603437     8           1\n",
       "1   -79.975452  40.435881 -79.966978  40.435817  53.779673     8           1\n",
       "2   -79.926506  40.427954 -79.911553  40.425766  39.520281     8           1\n",
       "3   -80.010193  40.439438 -80.000976  40.436302  24.878792     8           1\n",
       "4   -80.007891  40.448433 -80.004527  40.449137  41.973019     8           1\n",
       "..         ...        ...        ...        ...        ...   ...         ...\n",
       "565 -79.895381  40.425906 -79.892002  40.427876  51.251842    20           0\n",
       "566 -79.895487  40.426092 -79.891258  40.427202  38.864311    20           0\n",
       "567 -79.895487  40.426092 -79.891258  40.427202  46.044388    20           0\n",
       "568 -79.926933  40.426905 -79.927907  40.427623  23.390307    20           0\n",
       "569 -79.928842  40.428295 -79.930989  40.428424  24.585221    20           0\n",
       "\n",
       "[570 rows x 7 columns]"
      ]
     },
     "execution_count": 2,
     "metadata": {},
     "output_type": "execute_result"
    }
   ],
   "source": [
    "data = pd.read_csv('pgh_train.csv')\n",
    "data"
   ]
  },
  {
   "cell_type": "code",
   "execution_count": 3,
   "id": "45bbd650-2c65-4ffb-b256-fd70c3c4e148",
   "metadata": {},
   "outputs": [
    {
     "name": "stdout",
     "output_type": "stream",
     "text": [
      "<class 'pandas.core.frame.DataFrame'>\n",
      "RangeIndex: 570 entries, 0 to 569\n",
      "Data columns (total 7 columns):\n",
      " #   Column      Non-Null Count  Dtype  \n",
      "---  ------      --------------  -----  \n",
      " 0   from.x      570 non-null    float64\n",
      " 1   from.y      570 non-null    float64\n",
      " 2   to.x        570 non-null    float64\n",
      " 3   to.y        570 non-null    float64\n",
      " 4   speed       570 non-null    float64\n",
      " 5   time        570 non-null    int64  \n",
      " 6   is.weekday  570 non-null    int64  \n",
      "dtypes: float64(5), int64(2)\n",
      "memory usage: 31.3 KB\n"
     ]
    }
   ],
   "source": [
    "data.info()"
   ]
  },
  {
   "cell_type": "markdown",
   "id": "7affdac8-880e-4707-bed1-e14f12bb9a25",
   "metadata": {},
   "source": [
    "### Visualizing Correlations"
   ]
  },
  {
   "cell_type": "code",
   "execution_count": 5,
   "id": "e4244248-6e9d-41ac-8b41-5d62f0fb53d4",
   "metadata": {},
   "outputs": [
    {
     "data": {
      "image/png": "[encoded data removed]",
      "text/plain": [
       "<Figure size 800x800 with 2 Axes>"
      ]
     },
     "metadata": {},
     "output_type": "display_data"
    }
   ],
   "source": [
    "plt.figure(figsize=(8,8))\n",
    "sns.heatmap(data.corr(), annot=True, vmin=-1.0, cmap='mako')\n",
    "plt.show()"
   ]
  },
  {
   "cell_type": "markdown",
   "id": "90c638f4-0e17-4906-891f-15d79393ee12",
   "metadata": {},
   "source": [
    "### Preprocessing"
   ]
  },
  {
   "cell_type": "code",
   "execution_count": 6,
   "id": "fcb39996-22b9-439a-b8db-a00955b9bccf",
   "metadata": {},
   "outputs": [],
   "source": [
    "df = data.copy()"
   ]
  },
  {
   "cell_type": "code",
   "execution_count": 7,
   "id": "d0d7ea07-8589-4127-9014-80f81d3c77b6",
   "metadata": {},
   "outputs": [
    {
     "data": {
      "text/plain": [
       "array([ 8, 14, 20])"
      ]
     },
     "execution_count": 7,
     "metadata": {},
     "output_type": "execute_result"
    }
   ],
   "source": [
    "df['time'].unique()"
   ]
  },
  {
   "cell_type": "code",
   "execution_count": 8,
   "id": "6f7c88a0-5ee1-41af-be74-709d431e8f8b",
   "metadata": {},
   "outputs": [],
   "source": [
    "# Split df into X and y\n",
    "y = df['speed']\n",
    "X = df.drop('speed', axis=1)"
   ]
  },
  {
   "cell_type": "code",
   "execution_count": 9,
   "id": "748b6dd4-2047-41cf-a18f-9ab31b25d596",
   "metadata": {},
   "outputs": [],
   "source": [
    "# Train test split\n",
    "X_train, X_test, y_train, y_test = train_test_split(X, y, train_size=0.7, shuffle=True, random_state=1)"
   ]
  },
  {
   "cell_type": "code",
   "execution_count": 13,
   "id": "8af436ac-ae08-4430-ac08-40cc2719dfa6",
   "metadata": {},
   "outputs": [
    {
     "data": {
      "text/plain": [
       "((399, 6), (171, 6))"
      ]
     },
     "execution_count": 13,
     "metadata": {},
     "output_type": "execute_result"
    }
   ],
   "source": [
    "X_train.shape, X_test.shape"
   ]
  },
  {
   "cell_type": "code",
   "execution_count": 12,
   "id": "e0795dbe-82c6-493c-98fd-6e836e0fa570",
   "metadata": {},
   "outputs": [
    {
     "data": {
      "text/plain": [
       "11     28.033636\n",
       "285    52.736325\n",
       "430    47.225966\n",
       "556    14.175614\n",
       "58     33.340474\n",
       "         ...    \n",
       "129    16.850889\n",
       "144    13.373810\n",
       "72     23.649053\n",
       "235    35.804771\n",
       "37     10.198333\n",
       "Name: speed, Length: 399, dtype: float64"
      ]
     },
     "execution_count": 12,
     "metadata": {},
     "output_type": "execute_result"
    }
   ],
   "source": [
    "y_train"
   ]
  },
  {
   "cell_type": "code",
   "execution_count": 14,
   "id": "44430cea-435b-4b94-9ed1-23d9acf1d0ce",
   "metadata": {},
   "outputs": [],
   "source": [
    "# Scale X\n",
    "scaler = StandardScaler()\n",
    "scaler.fit(X_train)\n",
    "\n",
    "X_train = pd.DataFrame(scaler.transform(X_train), columns=X_train.columns, index=X_train.index)\n",
    "X_test = pd.DataFrame(scaler.transform(X_test), columns=X_test.columns, index=X_test.index)"
   ]
  },
  {
   "cell_type": "markdown",
   "id": "1bfdb0ab-ed53-4c94-8c96-e51e0d5ebb41",
   "metadata": {},
   "source": [
    "### Training / Model Selection"
   ]
  },
  {
   "cell_type": "code",
   "execution_count": 15,
   "id": "a16c4bff-c89b-4cbc-9fb9-bae6857922af",
   "metadata": {},
   "outputs": [],
   "source": [
    "models = {\n",
    "    \"                     Linear Regression\": LinearRegression(),\n",
    "    \"                   K-Nearest Neighbors\": KNeighborsRegressor(),\n",
    "    \"                        Neural Network\": MLPRegressor(),\n",
    "    \"Support Vector Machine (Linear Kernel)\": LinearSVR(),\n",
    "    \"   Support Vector Machine (RBF Kernel)\": SVR(),\n",
    "    \"                         Decision Tree\": DecisionTreeRegressor(),\n",
    "    \"                         Random Forest\": RandomForestRegressor(),\n",
    "    \"                     Gradient Boosting\": GradientBoostingRegressor()\n",
    "}"
   ]
  },
  {
   "cell_type": "code",
   "execution_count": 16,
   "id": "45e9a91a-a8b5-440d-9c67-488a5d5381b6",
   "metadata": {},
   "outputs": [
    {
     "name": "stdout",
     "output_type": "stream",
     "text": [
      "                     Linear Regression trained.\n",
      "                   K-Nearest Neighbors trained.\n",
      "                        Neural Network trained.\n",
      "Support Vector Machine (Linear Kernel) trained.\n",
      "   Support Vector Machine (RBF Kernel) trained.\n",
      "                         Decision Tree trained.\n",
      "                         Random Forest trained.\n",
      "                     Gradient Boosting trained.\n"
     ]
    }
   ],
   "source": [
    "for name, model in models.items():\n",
    "    model.fit(X_train, y_train)\n",
    "    print(name+\" trained.\")"
   ]
  },
  {
   "cell_type": "markdown",
   "id": "216bc031-ecad-4110-9a49-49482f9a90a1",
   "metadata": {},
   "source": [
    "### Results"
   ]
  },
  {
   "cell_type": "code",
   "execution_count": 17,
   "id": "eac8ee5c-e04d-4021-a45a-23550d518120",
   "metadata": {},
   "outputs": [
    {
     "name": "stdout",
     "output_type": "stream",
     "text": [
      "                     Linear Regression R^2 Score: 0.00029\n",
      "                   K-Nearest Neighbors R^2 Score: 0.11157\n",
      "                        Neural Network R^2 Score: -0.18079\n",
      "Support Vector Machine (Linear Kernel) R^2 Score: -0.02482\n",
      "   Support Vector Machine (RBF Kernel) R^2 Score: 0.06563\n",
      "                         Decision Tree R^2 Score: 0.42271\n",
      "                         Random Forest R^2 Score: 0.60589\n",
      "                     Gradient Boosting R^2 Score: 0.48386\n"
     ]
    }
   ],
   "source": [
    "for name, model in models.items():\n",
    "    print(name + \" R^2 Score: {:.5f}\".format(model.score(X_test, y_test)))"
   ]
  },
  {
   "cell_type": "code",
   "execution_count": 18,
   "id": "56ed2193-9bcb-4e23-a0a6-0f85b4faf8fc",
   "metadata": {},
   "outputs": [
    {
     "name": "stdout",
     "output_type": "stream",
     "text": [
      "                     Linear Regression trained.\n",
      "                   K-Nearest Neighbors trained.\n",
      "                        Neural Network trained.\n",
      "Support Vector Machine (Linear Kernel) trained.\n",
      "   Support Vector Machine (RBF Kernel) trained.\n",
      "                         Decision Tree trained.\n",
      "                         Random Forest trained.\n",
      "                     Gradient Boosting trained.\n",
      "                     Linear Regression R^2 Score: 0.00029\n",
      "                   K-Nearest Neighbors R^2 Score: 0.09804\n",
      "                        Neural Network R^2 Score: -0.00373\n",
      "Support Vector Machine (Linear Kernel) R^2 Score: -0.06575\n",
      "   Support Vector Machine (RBF Kernel) R^2 Score: -0.01027\n",
      "                         Decision Tree R^2 Score: 0.39040\n",
      "                         Random Forest R^2 Score: 0.62931\n",
      "                     Gradient Boosting R^2 Score: 0.47032\n"
     ]
    }
   ],
   "source": [
    "### Results Without Scaling\n",
    "X_train, X_test, y_train, y_test = train_test_split(X, y, train_size=0.7, shuffle=True, random_state=1)\n",
    "\n",
    "for name, model in models.items():\n",
    "    model.fit(X_train, y_train)\n",
    "    print(name+\" trained.\")\n",
    "\n",
    "for name, model in models.items():\n",
    "    print(name + \" R^2 Score: {:.5f}\".format(model.score(X_test, y_test)))"
   ]
  },
  {
   "cell_type": "code",
   "execution_count": null,
   "id": "7680312a-3f36-4060-a09a-2e181391562c",
   "metadata": {},
   "outputs": [],
   "source": []
  }
 ],
 "metadata": {
  "kernelspec": {
   "display_name": "Python 3 (ipykernel)",
   "language": "python",
   "name": "python3"
  },
  "language_info": {
   "codemirror_mode": {
    "name": "ipython",
    "version": 3
   },
   "file_extension": ".py",
   "mimetype": "text/x-python",
   "name": "python",
   "nbconvert_exporter": "python",
   "pygments_lexer": "ipython3",
   "version": "3.10.16"
  }
 },
 "nbformat": 4,
 "nbformat_minor": 5
}
