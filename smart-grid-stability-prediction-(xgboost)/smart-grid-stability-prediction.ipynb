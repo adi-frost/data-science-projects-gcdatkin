{
 "cells": [
  {
   "cell_type": "markdown",
   "id": "0d3cdc0d-394d-4f28-8c89-158a55727ac6",
   "metadata": {},
   "source": [
    "## ⚡ Smart Grid Stability Prediction\n",
    "\n",
    "Given *data about smart grids*, let's try to predict if a given grid is **stable** or not, and also predict a numerical estimate of its **stability**.\n",
    "\n",
    "We will use both classification and regression models from XGBoost to make our predictions.\n",
    "\n",
    "Data source: https://www.kaggle.com/datasets/pcbreviglieri/smart-grid-stability"
   ]
  },
  {
   "cell_type": "markdown",
   "id": "f5b10661-d828-464a-8511-ba6238f1b5cc",
   "metadata": {},
   "source": [
    "### Importing Libraries"
   ]
  },
  {
   "cell_type": "code",
   "execution_count": 1,
   "id": "07f892f9-c17c-4ffe-91dc-066dc806ea11",
   "metadata": {},
   "outputs": [],
   "source": [
    "import numpy as np\n",
    "import pandas as pd\n",
    "\n",
    "from sklearn.model_selection import train_test_split\n",
    "\n",
    "from xgboost import XGBClassifier, XGBRegressor"
   ]
  },
  {
   "cell_type": "code",
   "execution_count": 2,
   "id": "7be0e94b-8c7c-45ef-abdf-bdbdf9772361",
   "metadata": {},
   "outputs": [
    {
     "data": {
      "text/html": [
       "<div>\n",
       "<style scoped>\n",
       "    .dataframe tbody tr th:only-of-type {\n",
       "        vertical-align: middle;\n",
       "    }\n",
       "\n",
       "    .dataframe tbody tr th {\n",
       "        vertical-align: top;\n",
       "    }\n",
       "\n",
       "    .dataframe thead th {\n",
       "        text-align: right;\n",
       "    }\n",
       "</style>\n",
       "<table border=\"1\" class=\"dataframe\">\n",
       "  <thead>\n",
       "    <tr style=\"text-align: right;\">\n",
       "      <th></th>\n",
       "      <th>tau1</th>\n",
       "      <th>tau2</th>\n",
       "      <th>tau3</th>\n",
       "      <th>tau4</th>\n",
       "      <th>p1</th>\n",
       "      <th>p2</th>\n",
       "      <th>p3</th>\n",
       "      <th>p4</th>\n",
       "      <th>g1</th>\n",
       "      <th>g2</th>\n",
       "      <th>g3</th>\n",
       "      <th>g4</th>\n",
       "      <th>stab</th>\n",
       "      <th>stabf</th>\n",
       "    </tr>\n",
       "  </thead>\n",
       "  <tbody>\n",
       "    <tr>\n",
       "      <th>0</th>\n",
       "      <td>2.959060</td>\n",
       "      <td>3.079885</td>\n",
       "      <td>8.381025</td>\n",
       "      <td>9.780754</td>\n",
       "      <td>3.763085</td>\n",
       "      <td>-0.782604</td>\n",
       "      <td>-1.257395</td>\n",
       "      <td>-1.723086</td>\n",
       "      <td>0.650456</td>\n",
       "      <td>0.859578</td>\n",
       "      <td>0.887445</td>\n",
       "      <td>0.958034</td>\n",
       "      <td>0.055347</td>\n",
       "      <td>unstable</td>\n",
       "    </tr>\n",
       "    <tr>\n",
       "      <th>1</th>\n",
       "      <td>9.304097</td>\n",
       "      <td>4.902524</td>\n",
       "      <td>3.047541</td>\n",
       "      <td>1.369357</td>\n",
       "      <td>5.067812</td>\n",
       "      <td>-1.940058</td>\n",
       "      <td>-1.872742</td>\n",
       "      <td>-1.255012</td>\n",
       "      <td>0.413441</td>\n",
       "      <td>0.862414</td>\n",
       "      <td>0.562139</td>\n",
       "      <td>0.781760</td>\n",
       "      <td>-0.005957</td>\n",
       "      <td>stable</td>\n",
       "    </tr>\n",
       "    <tr>\n",
       "      <th>2</th>\n",
       "      <td>8.971707</td>\n",
       "      <td>8.848428</td>\n",
       "      <td>3.046479</td>\n",
       "      <td>1.214518</td>\n",
       "      <td>3.405158</td>\n",
       "      <td>-1.207456</td>\n",
       "      <td>-1.277210</td>\n",
       "      <td>-0.920492</td>\n",
       "      <td>0.163041</td>\n",
       "      <td>0.766689</td>\n",
       "      <td>0.839444</td>\n",
       "      <td>0.109853</td>\n",
       "      <td>0.003471</td>\n",
       "      <td>unstable</td>\n",
       "    </tr>\n",
       "    <tr>\n",
       "      <th>3</th>\n",
       "      <td>0.716415</td>\n",
       "      <td>7.669600</td>\n",
       "      <td>4.486641</td>\n",
       "      <td>2.340563</td>\n",
       "      <td>3.963791</td>\n",
       "      <td>-1.027473</td>\n",
       "      <td>-1.938944</td>\n",
       "      <td>-0.997374</td>\n",
       "      <td>0.446209</td>\n",
       "      <td>0.976744</td>\n",
       "      <td>0.929381</td>\n",
       "      <td>0.362718</td>\n",
       "      <td>0.028871</td>\n",
       "      <td>unstable</td>\n",
       "    </tr>\n",
       "    <tr>\n",
       "      <th>4</th>\n",
       "      <td>3.134112</td>\n",
       "      <td>7.608772</td>\n",
       "      <td>4.943759</td>\n",
       "      <td>9.857573</td>\n",
       "      <td>3.525811</td>\n",
       "      <td>-1.125531</td>\n",
       "      <td>-1.845975</td>\n",
       "      <td>-0.554305</td>\n",
       "      <td>0.797110</td>\n",
       "      <td>0.455450</td>\n",
       "      <td>0.656947</td>\n",
       "      <td>0.820923</td>\n",
       "      <td>0.049860</td>\n",
       "      <td>unstable</td>\n",
       "    </tr>\n",
       "    <tr>\n",
       "      <th>...</th>\n",
       "      <td>...</td>\n",
       "      <td>...</td>\n",
       "      <td>...</td>\n",
       "      <td>...</td>\n",
       "      <td>...</td>\n",
       "      <td>...</td>\n",
       "      <td>...</td>\n",
       "      <td>...</td>\n",
       "      <td>...</td>\n",
       "      <td>...</td>\n",
       "      <td>...</td>\n",
       "      <td>...</td>\n",
       "      <td>...</td>\n",
       "      <td>...</td>\n",
       "    </tr>\n",
       "    <tr>\n",
       "      <th>59995</th>\n",
       "      <td>2.930406</td>\n",
       "      <td>2.376523</td>\n",
       "      <td>9.487627</td>\n",
       "      <td>6.187797</td>\n",
       "      <td>3.343416</td>\n",
       "      <td>-1.449106</td>\n",
       "      <td>-0.658054</td>\n",
       "      <td>-1.236256</td>\n",
       "      <td>0.601709</td>\n",
       "      <td>0.813512</td>\n",
       "      <td>0.779642</td>\n",
       "      <td>0.608385</td>\n",
       "      <td>0.023892</td>\n",
       "      <td>unstable</td>\n",
       "    </tr>\n",
       "    <tr>\n",
       "      <th>59996</th>\n",
       "      <td>3.392299</td>\n",
       "      <td>2.954947</td>\n",
       "      <td>1.274827</td>\n",
       "      <td>6.894759</td>\n",
       "      <td>4.349512</td>\n",
       "      <td>-0.952437</td>\n",
       "      <td>-1.663661</td>\n",
       "      <td>-1.733414</td>\n",
       "      <td>0.502079</td>\n",
       "      <td>0.285880</td>\n",
       "      <td>0.567242</td>\n",
       "      <td>0.366120</td>\n",
       "      <td>-0.025803</td>\n",
       "      <td>stable</td>\n",
       "    </tr>\n",
       "    <tr>\n",
       "      <th>59997</th>\n",
       "      <td>2.364034</td>\n",
       "      <td>8.776391</td>\n",
       "      <td>2.842030</td>\n",
       "      <td>1.008906</td>\n",
       "      <td>4.299976</td>\n",
       "      <td>-0.943884</td>\n",
       "      <td>-1.380719</td>\n",
       "      <td>-1.975373</td>\n",
       "      <td>0.487838</td>\n",
       "      <td>0.149286</td>\n",
       "      <td>0.986505</td>\n",
       "      <td>0.145984</td>\n",
       "      <td>-0.031810</td>\n",
       "      <td>stable</td>\n",
       "    </tr>\n",
       "    <tr>\n",
       "      <th>59998</th>\n",
       "      <td>9.631511</td>\n",
       "      <td>2.757071</td>\n",
       "      <td>3.994398</td>\n",
       "      <td>7.821347</td>\n",
       "      <td>2.514755</td>\n",
       "      <td>-0.649915</td>\n",
       "      <td>-0.966330</td>\n",
       "      <td>-0.898510</td>\n",
       "      <td>0.365246</td>\n",
       "      <td>0.889118</td>\n",
       "      <td>0.587558</td>\n",
       "      <td>0.818391</td>\n",
       "      <td>0.037789</td>\n",
       "      <td>unstable</td>\n",
       "    </tr>\n",
       "    <tr>\n",
       "      <th>59999</th>\n",
       "      <td>6.530527</td>\n",
       "      <td>4.349695</td>\n",
       "      <td>6.781790</td>\n",
       "      <td>8.673138</td>\n",
       "      <td>3.492807</td>\n",
       "      <td>-1.532193</td>\n",
       "      <td>-1.390285</td>\n",
       "      <td>-0.570329</td>\n",
       "      <td>0.073056</td>\n",
       "      <td>0.378761</td>\n",
       "      <td>0.505441</td>\n",
       "      <td>0.942631</td>\n",
       "      <td>0.045263</td>\n",
       "      <td>unstable</td>\n",
       "    </tr>\n",
       "  </tbody>\n",
       "</table>\n",
       "<p>60000 rows × 14 columns</p>\n",
       "</div>"
      ],
      "text/plain": [
       "           tau1      tau2      tau3      tau4        p1        p2        p3  \\\n",
       "0      2.959060  3.079885  8.381025  9.780754  3.763085 -0.782604 -1.257395   \n",
       "1      9.304097  4.902524  3.047541  1.369357  5.067812 -1.940058 -1.872742   \n",
       "2      8.971707  8.848428  3.046479  1.214518  3.405158 -1.207456 -1.277210   \n",
       "3      0.716415  7.669600  4.486641  2.340563  3.963791 -1.027473 -1.938944   \n",
       "4      3.134112  7.608772  4.943759  9.857573  3.525811 -1.125531 -1.845975   \n",
       "...         ...       ...       ...       ...       ...       ...       ...   \n",
       "59995  2.930406  2.376523  9.487627  6.187797  3.343416 -1.449106 -0.658054   \n",
       "59996  3.392299  2.954947  1.274827  6.894759  4.349512 -0.952437 -1.663661   \n",
       "59997  2.364034  8.776391  2.842030  1.008906  4.299976 -0.943884 -1.380719   \n",
       "59998  9.631511  2.757071  3.994398  7.821347  2.514755 -0.649915 -0.966330   \n",
       "59999  6.530527  4.349695  6.781790  8.673138  3.492807 -1.532193 -1.390285   \n",
       "\n",
       "             p4        g1        g2        g3        g4      stab     stabf  \n",
       "0     -1.723086  0.650456  0.859578  0.887445  0.958034  0.055347  unstable  \n",
       "1     -1.255012  0.413441  0.862414  0.562139  0.781760 -0.005957    stable  \n",
       "2     -0.920492  0.163041  0.766689  0.839444  0.109853  0.003471  unstable  \n",
       "3     -0.997374  0.446209  0.976744  0.929381  0.362718  0.028871  unstable  \n",
       "4     -0.554305  0.797110  0.455450  0.656947  0.820923  0.049860  unstable  \n",
       "...         ...       ...       ...       ...       ...       ...       ...  \n",
       "59995 -1.236256  0.601709  0.813512  0.779642  0.608385  0.023892  unstable  \n",
       "59996 -1.733414  0.502079  0.285880  0.567242  0.366120 -0.025803    stable  \n",
       "59997 -1.975373  0.487838  0.149286  0.986505  0.145984 -0.031810    stable  \n",
       "59998 -0.898510  0.365246  0.889118  0.587558  0.818391  0.037789  unstable  \n",
       "59999 -0.570329  0.073056  0.378761  0.505441  0.942631  0.045263  unstable  \n",
       "\n",
       "[60000 rows x 14 columns]"
      ]
     },
     "execution_count": 2,
     "metadata": {},
     "output_type": "execute_result"
    }
   ],
   "source": [
    "data = pd.read_csv('smart_grid_stability_augmented.csv')\n",
    "data"
   ]
  },
  {
   "cell_type": "code",
   "execution_count": 3,
   "id": "8081780b-7b86-4902-a852-54a39cea91bb",
   "metadata": {},
   "outputs": [
    {
     "name": "stdout",
     "output_type": "stream",
     "text": [
      "<class 'pandas.core.frame.DataFrame'>\n",
      "RangeIndex: 60000 entries, 0 to 59999\n",
      "Data columns (total 14 columns):\n",
      " #   Column  Non-Null Count  Dtype  \n",
      "---  ------  --------------  -----  \n",
      " 0   tau1    60000 non-null  float64\n",
      " 1   tau2    60000 non-null  float64\n",
      " 2   tau3    60000 non-null  float64\n",
      " 3   tau4    60000 non-null  float64\n",
      " 4   p1      60000 non-null  float64\n",
      " 5   p2      60000 non-null  float64\n",
      " 6   p3      60000 non-null  float64\n",
      " 7   p4      60000 non-null  float64\n",
      " 8   g1      60000 non-null  float64\n",
      " 9   g2      60000 non-null  float64\n",
      " 10  g3      60000 non-null  float64\n",
      " 11  g4      60000 non-null  float64\n",
      " 12  stab    60000 non-null  float64\n",
      " 13  stabf   60000 non-null  object \n",
      "dtypes: float64(13), object(1)\n",
      "memory usage: 6.4+ MB\n"
     ]
    }
   ],
   "source": [
    "data.info()"
   ]
  },
  {
   "cell_type": "markdown",
   "id": "f42ca6b5-b036-470c-9593-c94ab304ad7a",
   "metadata": {},
   "source": [
    "### Preprocessing"
   ]
  },
  {
   "cell_type": "code",
   "execution_count": 4,
   "id": "cbd20b9a-4e8e-4999-bce7-6880a0705478",
   "metadata": {},
   "outputs": [],
   "source": [
    "df = data.copy()"
   ]
  },
  {
   "cell_type": "markdown",
   "id": "6b499957-ec7a-4989-991d-a91c1a99271b",
   "metadata": {},
   "source": [
    "#### Task: 'Classification'"
   ]
  },
  {
   "cell_type": "code",
   "execution_count": 5,
   "id": "2c31a4ae-41fa-4890-b4a8-ebbfd4b746c4",
   "metadata": {},
   "outputs": [],
   "source": [
    "df = df.drop('stab', axis=1)"
   ]
  },
  {
   "cell_type": "code",
   "execution_count": 6,
   "id": "5114d8ed-e81c-488f-87c0-58e6382384b2",
   "metadata": {},
   "outputs": [
    {
     "name": "stderr",
     "output_type": "stream",
     "text": [
      "/tmp/ipykernel_9983/399070888.py:2: FutureWarning: Downcasting behavior in `replace` is deprecated and will be removed in a future version. To retain the old behavior, explicitly call `result.infer_objects(copy=False)`. To opt-in to the future behavior, set `pd.set_option('future.no_silent_downcasting', True)`\n",
      "  y = y.replace({'stable': 1, 'unstable': 0})\n"
     ]
    }
   ],
   "source": [
    "y = df['stabf'].copy()\n",
    "y = y.replace({'stable': 1, 'unstable': 0})\n",
    "X = df.drop('stabf', axis=1).copy()"
   ]
  },
  {
   "cell_type": "code",
   "execution_count": 7,
   "id": "185c2e51-e4e5-414f-bca4-06bf290eda3b",
   "metadata": {},
   "outputs": [
    {
     "data": {
      "text/html": [
       "<div>\n",
       "<style scoped>\n",
       "    .dataframe tbody tr th:only-of-type {\n",
       "        vertical-align: middle;\n",
       "    }\n",
       "\n",
       "    .dataframe tbody tr th {\n",
       "        vertical-align: top;\n",
       "    }\n",
       "\n",
       "    .dataframe thead th {\n",
       "        text-align: right;\n",
       "    }\n",
       "</style>\n",
       "<table border=\"1\" class=\"dataframe\">\n",
       "  <thead>\n",
       "    <tr style=\"text-align: right;\">\n",
       "      <th></th>\n",
       "      <th>tau1</th>\n",
       "      <th>tau2</th>\n",
       "      <th>tau3</th>\n",
       "      <th>tau4</th>\n",
       "      <th>p1</th>\n",
       "      <th>p2</th>\n",
       "      <th>p3</th>\n",
       "      <th>p4</th>\n",
       "      <th>g1</th>\n",
       "      <th>g2</th>\n",
       "      <th>g3</th>\n",
       "      <th>g4</th>\n",
       "    </tr>\n",
       "  </thead>\n",
       "  <tbody>\n",
       "    <tr>\n",
       "      <th>0</th>\n",
       "      <td>2.959060</td>\n",
       "      <td>3.079885</td>\n",
       "      <td>8.381025</td>\n",
       "      <td>9.780754</td>\n",
       "      <td>3.763085</td>\n",
       "      <td>-0.782604</td>\n",
       "      <td>-1.257395</td>\n",
       "      <td>-1.723086</td>\n",
       "      <td>0.650456</td>\n",
       "      <td>0.859578</td>\n",
       "      <td>0.887445</td>\n",
       "      <td>0.958034</td>\n",
       "    </tr>\n",
       "    <tr>\n",
       "      <th>1</th>\n",
       "      <td>9.304097</td>\n",
       "      <td>4.902524</td>\n",
       "      <td>3.047541</td>\n",
       "      <td>1.369357</td>\n",
       "      <td>5.067812</td>\n",
       "      <td>-1.940058</td>\n",
       "      <td>-1.872742</td>\n",
       "      <td>-1.255012</td>\n",
       "      <td>0.413441</td>\n",
       "      <td>0.862414</td>\n",
       "      <td>0.562139</td>\n",
       "      <td>0.781760</td>\n",
       "    </tr>\n",
       "    <tr>\n",
       "      <th>2</th>\n",
       "      <td>8.971707</td>\n",
       "      <td>8.848428</td>\n",
       "      <td>3.046479</td>\n",
       "      <td>1.214518</td>\n",
       "      <td>3.405158</td>\n",
       "      <td>-1.207456</td>\n",
       "      <td>-1.277210</td>\n",
       "      <td>-0.920492</td>\n",
       "      <td>0.163041</td>\n",
       "      <td>0.766689</td>\n",
       "      <td>0.839444</td>\n",
       "      <td>0.109853</td>\n",
       "    </tr>\n",
       "    <tr>\n",
       "      <th>3</th>\n",
       "      <td>0.716415</td>\n",
       "      <td>7.669600</td>\n",
       "      <td>4.486641</td>\n",
       "      <td>2.340563</td>\n",
       "      <td>3.963791</td>\n",
       "      <td>-1.027473</td>\n",
       "      <td>-1.938944</td>\n",
       "      <td>-0.997374</td>\n",
       "      <td>0.446209</td>\n",
       "      <td>0.976744</td>\n",
       "      <td>0.929381</td>\n",
       "      <td>0.362718</td>\n",
       "    </tr>\n",
       "    <tr>\n",
       "      <th>4</th>\n",
       "      <td>3.134112</td>\n",
       "      <td>7.608772</td>\n",
       "      <td>4.943759</td>\n",
       "      <td>9.857573</td>\n",
       "      <td>3.525811</td>\n",
       "      <td>-1.125531</td>\n",
       "      <td>-1.845975</td>\n",
       "      <td>-0.554305</td>\n",
       "      <td>0.797110</td>\n",
       "      <td>0.455450</td>\n",
       "      <td>0.656947</td>\n",
       "      <td>0.820923</td>\n",
       "    </tr>\n",
       "    <tr>\n",
       "      <th>...</th>\n",
       "      <td>...</td>\n",
       "      <td>...</td>\n",
       "      <td>...</td>\n",
       "      <td>...</td>\n",
       "      <td>...</td>\n",
       "      <td>...</td>\n",
       "      <td>...</td>\n",
       "      <td>...</td>\n",
       "      <td>...</td>\n",
       "      <td>...</td>\n",
       "      <td>...</td>\n",
       "      <td>...</td>\n",
       "    </tr>\n",
       "    <tr>\n",
       "      <th>59995</th>\n",
       "      <td>2.930406</td>\n",
       "      <td>2.376523</td>\n",
       "      <td>9.487627</td>\n",
       "      <td>6.187797</td>\n",
       "      <td>3.343416</td>\n",
       "      <td>-1.449106</td>\n",
       "      <td>-0.658054</td>\n",
       "      <td>-1.236256</td>\n",
       "      <td>0.601709</td>\n",
       "      <td>0.813512</td>\n",
       "      <td>0.779642</td>\n",
       "      <td>0.608385</td>\n",
       "    </tr>\n",
       "    <tr>\n",
       "      <th>59996</th>\n",
       "      <td>3.392299</td>\n",
       "      <td>2.954947</td>\n",
       "      <td>1.274827</td>\n",
       "      <td>6.894759</td>\n",
       "      <td>4.349512</td>\n",
       "      <td>-0.952437</td>\n",
       "      <td>-1.663661</td>\n",
       "      <td>-1.733414</td>\n",
       "      <td>0.502079</td>\n",
       "      <td>0.285880</td>\n",
       "      <td>0.567242</td>\n",
       "      <td>0.366120</td>\n",
       "    </tr>\n",
       "    <tr>\n",
       "      <th>59997</th>\n",
       "      <td>2.364034</td>\n",
       "      <td>8.776391</td>\n",
       "      <td>2.842030</td>\n",
       "      <td>1.008906</td>\n",
       "      <td>4.299976</td>\n",
       "      <td>-0.943884</td>\n",
       "      <td>-1.380719</td>\n",
       "      <td>-1.975373</td>\n",
       "      <td>0.487838</td>\n",
       "      <td>0.149286</td>\n",
       "      <td>0.986505</td>\n",
       "      <td>0.145984</td>\n",
       "    </tr>\n",
       "    <tr>\n",
       "      <th>59998</th>\n",
       "      <td>9.631511</td>\n",
       "      <td>2.757071</td>\n",
       "      <td>3.994398</td>\n",
       "      <td>7.821347</td>\n",
       "      <td>2.514755</td>\n",
       "      <td>-0.649915</td>\n",
       "      <td>-0.966330</td>\n",
       "      <td>-0.898510</td>\n",
       "      <td>0.365246</td>\n",
       "      <td>0.889118</td>\n",
       "      <td>0.587558</td>\n",
       "      <td>0.818391</td>\n",
       "    </tr>\n",
       "    <tr>\n",
       "      <th>59999</th>\n",
       "      <td>6.530527</td>\n",
       "      <td>4.349695</td>\n",
       "      <td>6.781790</td>\n",
       "      <td>8.673138</td>\n",
       "      <td>3.492807</td>\n",
       "      <td>-1.532193</td>\n",
       "      <td>-1.390285</td>\n",
       "      <td>-0.570329</td>\n",
       "      <td>0.073056</td>\n",
       "      <td>0.378761</td>\n",
       "      <td>0.505441</td>\n",
       "      <td>0.942631</td>\n",
       "    </tr>\n",
       "  </tbody>\n",
       "</table>\n",
       "<p>60000 rows × 12 columns</p>\n",
       "</div>"
      ],
      "text/plain": [
       "           tau1      tau2      tau3      tau4        p1        p2        p3  \\\n",
       "0      2.959060  3.079885  8.381025  9.780754  3.763085 -0.782604 -1.257395   \n",
       "1      9.304097  4.902524  3.047541  1.369357  5.067812 -1.940058 -1.872742   \n",
       "2      8.971707  8.848428  3.046479  1.214518  3.405158 -1.207456 -1.277210   \n",
       "3      0.716415  7.669600  4.486641  2.340563  3.963791 -1.027473 -1.938944   \n",
       "4      3.134112  7.608772  4.943759  9.857573  3.525811 -1.125531 -1.845975   \n",
       "...         ...       ...       ...       ...       ...       ...       ...   \n",
       "59995  2.930406  2.376523  9.487627  6.187797  3.343416 -1.449106 -0.658054   \n",
       "59996  3.392299  2.954947  1.274827  6.894759  4.349512 -0.952437 -1.663661   \n",
       "59997  2.364034  8.776391  2.842030  1.008906  4.299976 -0.943884 -1.380719   \n",
       "59998  9.631511  2.757071  3.994398  7.821347  2.514755 -0.649915 -0.966330   \n",
       "59999  6.530527  4.349695  6.781790  8.673138  3.492807 -1.532193 -1.390285   \n",
       "\n",
       "             p4        g1        g2        g3        g4  \n",
       "0     -1.723086  0.650456  0.859578  0.887445  0.958034  \n",
       "1     -1.255012  0.413441  0.862414  0.562139  0.781760  \n",
       "2     -0.920492  0.163041  0.766689  0.839444  0.109853  \n",
       "3     -0.997374  0.446209  0.976744  0.929381  0.362718  \n",
       "4     -0.554305  0.797110  0.455450  0.656947  0.820923  \n",
       "...         ...       ...       ...       ...       ...  \n",
       "59995 -1.236256  0.601709  0.813512  0.779642  0.608385  \n",
       "59996 -1.733414  0.502079  0.285880  0.567242  0.366120  \n",
       "59997 -1.975373  0.487838  0.149286  0.986505  0.145984  \n",
       "59998 -0.898510  0.365246  0.889118  0.587558  0.818391  \n",
       "59999 -0.570329  0.073056  0.378761  0.505441  0.942631  \n",
       "\n",
       "[60000 rows x 12 columns]"
      ]
     },
     "execution_count": 7,
     "metadata": {},
     "output_type": "execute_result"
    }
   ],
   "source": [
    "X"
   ]
  },
  {
   "cell_type": "code",
   "execution_count": 8,
   "id": "4841ef50-de02-42bc-ae45-5c0d8330ef18",
   "metadata": {},
   "outputs": [
    {
     "data": {
      "text/plain": [
       "tau1    5.250000\n",
       "tau2    5.250001\n",
       "tau3    5.250001\n",
       "tau4    5.250001\n",
       "p1      3.750000\n",
       "p2     -1.250000\n",
       "p3     -1.250000\n",
       "p4     -1.250000\n",
       "g1      0.525000\n",
       "g2      0.525000\n",
       "g3      0.525000\n",
       "g4      0.525000\n",
       "dtype: float64"
      ]
     },
     "execution_count": 8,
     "metadata": {},
     "output_type": "execute_result"
    }
   ],
   "source": [
    "X.mean()"
   ]
  },
  {
   "cell_type": "code",
   "execution_count": 9,
   "id": "23b3920f-9b42-491c-b5a4-5d18692d99a2",
   "metadata": {},
   "outputs": [
    {
     "data": {
      "text/plain": [
       "tau1    7.520945\n",
       "tau2    7.520960\n",
       "tau3    7.520960\n",
       "tau4    7.520960\n",
       "p1      0.565698\n",
       "p2      0.187504\n",
       "p3      0.187504\n",
       "p4      0.187504\n",
       "g1      0.075210\n",
       "g2      0.075209\n",
       "g3      0.075209\n",
       "g4      0.075209\n",
       "dtype: float64"
      ]
     },
     "execution_count": 9,
     "metadata": {},
     "output_type": "execute_result"
    }
   ],
   "source": [
    "X.var()"
   ]
  },
  {
   "cell_type": "code",
   "execution_count": 10,
   "id": "37d8aa12-4a84-4c58-a183-234a13ca2333",
   "metadata": {},
   "outputs": [],
   "source": [
    "X_train, X_test, y_train, y_test = train_test_split(X, y, train_size=0.7, shuffle=True, random_state=1)"
   ]
  },
  {
   "cell_type": "code",
   "execution_count": 11,
   "id": "6b0aa7ab-a601-46dd-86ad-7ac4a425eda9",
   "metadata": {},
   "outputs": [
    {
     "data": {
      "text/plain": [
       "((42000, 12), (18000, 12))"
      ]
     },
     "execution_count": 11,
     "metadata": {},
     "output_type": "execute_result"
    }
   ],
   "source": [
    "X_train.shape, X_test.shape"
   ]
  },
  {
   "cell_type": "code",
   "execution_count": 12,
   "id": "cec31ad4-ac94-48e7-ac14-703e3ad85e93",
   "metadata": {},
   "outputs": [
    {
     "data": {
      "text/plain": [
       "51782    1\n",
       "53781    0\n",
       "55123    0\n",
       "35823    1\n",
       "48869    0\n",
       "        ..\n",
       "50057    1\n",
       "32511    0\n",
       "5192     0\n",
       "12172    1\n",
       "33003    0\n",
       "Name: stabf, Length: 42000, dtype: int64"
      ]
     },
     "execution_count": 12,
     "metadata": {},
     "output_type": "execute_result"
    }
   ],
   "source": [
    "y_train"
   ]
  },
  {
   "cell_type": "code",
   "execution_count": 13,
   "id": "126ae34d-433b-4cc7-b3ac-c13b0db6fb4b",
   "metadata": {},
   "outputs": [
    {
     "name": "stdout",
     "output_type": "stream",
     "text": [
      "Classifier trained.\n"
     ]
    }
   ],
   "source": [
    "clf = XGBClassifier()\n",
    "clf.fit(X_train, y_train)\n",
    "print(\"Classifier trained.\")"
   ]
  },
  {
   "cell_type": "code",
   "execution_count": 14,
   "id": "b71d616d-1eef-4107-ab1a-aaaf5caafdb0",
   "metadata": {},
   "outputs": [
    {
     "name": "stdout",
     "output_type": "stream",
     "text": [
      "Classification Test Accuracy: 97.62%\n"
     ]
    }
   ],
   "source": [
    "print(\"Classification Test Accuracy: {:.2f}%\".format(clf.score(X_test, y_test)*100))"
   ]
  },
  {
   "cell_type": "markdown",
   "id": "263caaee-0ab1-4da2-a697-6c6aa4aa7db5",
   "metadata": {},
   "source": [
    "#### Task: Regression"
   ]
  },
  {
   "cell_type": "code",
   "execution_count": 15,
   "id": "0d7a6582-118f-4faa-bf3c-bdedebb0e362",
   "metadata": {},
   "outputs": [],
   "source": [
    "df = data.copy()"
   ]
  },
  {
   "cell_type": "code",
   "execution_count": 16,
   "id": "4beb344b-d0db-44b2-8694-cda86a2edad0",
   "metadata": {},
   "outputs": [],
   "source": [
    "df = df.drop('stabf', axis=1)"
   ]
  },
  {
   "cell_type": "code",
   "execution_count": 17,
   "id": "b502dc9f-9f3b-439a-905e-6ef3ffe25279",
   "metadata": {},
   "outputs": [],
   "source": [
    "y = df['stab'].copy()\n",
    "X = df.drop('stab', axis=1)"
   ]
  },
  {
   "cell_type": "code",
   "execution_count": 18,
   "id": "4a53bcb3-651c-4d89-8520-61bfd79b953c",
   "metadata": {},
   "outputs": [],
   "source": [
    "X_train, X_test, y_train, y_test = train_test_split(X, y, train_size=0.7, shuffle=True, random_state=1)"
   ]
  },
  {
   "cell_type": "code",
   "execution_count": 19,
   "id": "c3c2be7c-67b2-421c-b00b-2a7b253d793a",
   "metadata": {},
   "outputs": [
    {
     "name": "stdout",
     "output_type": "stream",
     "text": [
      "Regressor Trained.\n"
     ]
    }
   ],
   "source": [
    "reg = XGBRegressor()\n",
    "reg.fit(X_train, y_train)\n",
    "print(\"Regressor Trained.\")"
   ]
  },
  {
   "cell_type": "code",
   "execution_count": 21,
   "id": "e82aa027-5c8c-44f8-8fcc-de541bb427b6",
   "metadata": {},
   "outputs": [
    {
     "name": "stdout",
     "output_type": "stream",
     "text": [
      "Regression Test R^2 Score: 0.96223\n"
     ]
    }
   ],
   "source": [
    "print(\"Regression Test R^2 Score: {:.5f}\".format(reg.score(X_test, y_test)))"
   ]
  },
  {
   "cell_type": "code",
   "execution_count": null,
   "id": "bed8ddb5-fae9-404f-85f6-a81595025d92",
   "metadata": {},
   "outputs": [],
   "source": []
  }
 ],
 "metadata": {
  "kernelspec": {
   "display_name": "Python 3 (ipykernel)",
   "language": "python",
   "name": "python3"
  },
  "language_info": {
   "codemirror_mode": {
    "name": "ipython",
    "version": 3
   },
   "file_extension": ".py",
   "mimetype": "text/x-python",
   "name": "python",
   "nbconvert_exporter": "python",
   "pygments_lexer": "ipython3",
   "version": "3.10.16"
  }
 },
 "nbformat": 4,
 "nbformat_minor": 5
}
