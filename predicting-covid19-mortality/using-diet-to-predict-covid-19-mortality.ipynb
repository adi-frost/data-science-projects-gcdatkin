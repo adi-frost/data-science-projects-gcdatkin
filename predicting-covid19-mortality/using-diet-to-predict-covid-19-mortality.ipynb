{
 "cells": [
  {
   "cell_type": "markdown",
   "id": "65183ae2-0bff-4c55-93d5-c93dff3fd113",
   "metadata": {},
   "source": [
    "## Predicting Covid 19 Mortality Based on Diet\n",
    "\n",
    "Given *data about various countries and their daily intakes of different food groups*, let's try to predict whether a given country will have a **high or low COVID-19 mortality rate**.\n",
    "\n",
    "We will use a Tensorflow ANN to make our predictions.\n",
    "\n",
    "Data source: https://www.kaggle.com/datasets/mariaren/covid19-healthy-diet-dataset"
   ]
  },
  {
   "cell_type": "markdown",
   "id": "31e096ca-4199-4705-84cc-bc8244c41a4f",
   "metadata": {},
   "source": [
    "### Importing Libraries"
   ]
  },
  {
   "cell_type": "code",
   "execution_count": 1,
   "id": "b9bc2337-3664-46ec-b210-73d3ca8391ae",
   "metadata": {},
   "outputs": [
    {
     "name": "stderr",
     "output_type": "stream",
     "text": [
      "2025-06-15 11:22:59.395781: I tensorflow/core/platform/cpu_feature_guard.cc:182] This TensorFlow binary is optimized to use available CPU instructions in performance-critical operations.\n",
      "To enable the following instructions: SSE4.1 SSE4.2 AVX AVX2 FMA, in other operations, rebuild TensorFlow with the appropriate compiler flags.\n"
     ]
    }
   ],
   "source": [
    "import numpy as np\n",
    "import pandas as pd\n",
    "import plotly.express as px\n",
    "pd.set_option('display.max_columns', None)\n",
    "\n",
    "from sklearn.preprocessing import StandardScaler\n",
    "from sklearn.model_selection import train_test_split\n",
    "\n",
    "import tensorflow as tf"
   ]
  },
  {
   "cell_type": "code",
   "execution_count": 2,
   "id": "7da123e2-d061-4f7c-92e9-01274faea3e4",
   "metadata": {},
   "outputs": [
    {
     "data": {
      "text/html": [
       "<div>\n",
       "<style scoped>\n",
       "    .dataframe tbody tr th:only-of-type {\n",
       "        vertical-align: middle;\n",
       "    }\n",
       "\n",
       "    .dataframe tbody tr th {\n",
       "        vertical-align: top;\n",
       "    }\n",
       "\n",
       "    .dataframe thead th {\n",
       "        text-align: right;\n",
       "    }\n",
       "</style>\n",
       "<table border=\"1\" class=\"dataframe\">\n",
       "  <thead>\n",
       "    <tr style=\"text-align: right;\">\n",
       "      <th></th>\n",
       "      <th>Country</th>\n",
       "      <th>Alcoholic Beverages</th>\n",
       "      <th>Animal fats</th>\n",
       "      <th>Animal Products</th>\n",
       "      <th>Aquatic Products, Other</th>\n",
       "      <th>Cereals - Excluding Beer</th>\n",
       "      <th>Eggs</th>\n",
       "      <th>Fish, Seafood</th>\n",
       "      <th>Fruits - Excluding Wine</th>\n",
       "      <th>Meat</th>\n",
       "      <th>Milk - Excluding Butter</th>\n",
       "      <th>Miscellaneous</th>\n",
       "      <th>Offals</th>\n",
       "      <th>Oilcrops</th>\n",
       "      <th>Pulses</th>\n",
       "      <th>Spices</th>\n",
       "      <th>Starchy Roots</th>\n",
       "      <th>Stimulants</th>\n",
       "      <th>Sugar &amp; Sweeteners</th>\n",
       "      <th>Sugar Crops</th>\n",
       "      <th>Treenuts</th>\n",
       "      <th>Vegetable Oils</th>\n",
       "      <th>Vegetables</th>\n",
       "      <th>Vegetal Products</th>\n",
       "      <th>Obesity</th>\n",
       "      <th>Undernourished</th>\n",
       "      <th>Confirmed</th>\n",
       "      <th>Deaths</th>\n",
       "      <th>Recovered</th>\n",
       "      <th>Active</th>\n",
       "      <th>Population</th>\n",
       "      <th>Unit (all except Population)</th>\n",
       "    </tr>\n",
       "  </thead>\n",
       "  <tbody>\n",
       "    <tr>\n",
       "      <th>0</th>\n",
       "      <td>Afghanistan</td>\n",
       "      <td>0.0014</td>\n",
       "      <td>0.1973</td>\n",
       "      <td>9.4341</td>\n",
       "      <td>0.0000</td>\n",
       "      <td>24.8097</td>\n",
       "      <td>0.2099</td>\n",
       "      <td>0.0350</td>\n",
       "      <td>5.3495</td>\n",
       "      <td>1.2020</td>\n",
       "      <td>7.5828</td>\n",
       "      <td>0.0728</td>\n",
       "      <td>0.2057</td>\n",
       "      <td>0.0700</td>\n",
       "      <td>0.2953</td>\n",
       "      <td>0.0574</td>\n",
       "      <td>0.8802</td>\n",
       "      <td>0.3078</td>\n",
       "      <td>1.3489</td>\n",
       "      <td>0.000</td>\n",
       "      <td>0.0770</td>\n",
       "      <td>0.5345</td>\n",
       "      <td>6.7642</td>\n",
       "      <td>40.5645</td>\n",
       "      <td>4.5</td>\n",
       "      <td>29.8</td>\n",
       "      <td>0.142134</td>\n",
       "      <td>0.006186</td>\n",
       "      <td>0.123374</td>\n",
       "      <td>0.012574</td>\n",
       "      <td>38928000.0</td>\n",
       "      <td>%</td>\n",
       "    </tr>\n",
       "    <tr>\n",
       "      <th>1</th>\n",
       "      <td>Albania</td>\n",
       "      <td>1.6719</td>\n",
       "      <td>0.1357</td>\n",
       "      <td>18.7684</td>\n",
       "      <td>0.0000</td>\n",
       "      <td>5.7817</td>\n",
       "      <td>0.5815</td>\n",
       "      <td>0.2126</td>\n",
       "      <td>6.7861</td>\n",
       "      <td>1.8845</td>\n",
       "      <td>15.7213</td>\n",
       "      <td>0.1123</td>\n",
       "      <td>0.2324</td>\n",
       "      <td>0.9377</td>\n",
       "      <td>0.2380</td>\n",
       "      <td>0.0008</td>\n",
       "      <td>1.8096</td>\n",
       "      <td>0.1055</td>\n",
       "      <td>1.5367</td>\n",
       "      <td>0.000</td>\n",
       "      <td>0.1515</td>\n",
       "      <td>0.3261</td>\n",
       "      <td>11.7753</td>\n",
       "      <td>31.2304</td>\n",
       "      <td>22.3</td>\n",
       "      <td>6.2</td>\n",
       "      <td>2.967301</td>\n",
       "      <td>0.050951</td>\n",
       "      <td>1.792636</td>\n",
       "      <td>1.123714</td>\n",
       "      <td>2838000.0</td>\n",
       "      <td>%</td>\n",
       "    </tr>\n",
       "    <tr>\n",
       "      <th>2</th>\n",
       "      <td>Algeria</td>\n",
       "      <td>0.2711</td>\n",
       "      <td>0.0282</td>\n",
       "      <td>9.6334</td>\n",
       "      <td>0.0000</td>\n",
       "      <td>13.6816</td>\n",
       "      <td>0.5277</td>\n",
       "      <td>0.2416</td>\n",
       "      <td>6.3801</td>\n",
       "      <td>1.1305</td>\n",
       "      <td>7.6189</td>\n",
       "      <td>0.1671</td>\n",
       "      <td>0.0870</td>\n",
       "      <td>0.3493</td>\n",
       "      <td>0.4783</td>\n",
       "      <td>0.0557</td>\n",
       "      <td>4.1340</td>\n",
       "      <td>0.2216</td>\n",
       "      <td>1.8342</td>\n",
       "      <td>0.000</td>\n",
       "      <td>0.1152</td>\n",
       "      <td>1.0310</td>\n",
       "      <td>11.6484</td>\n",
       "      <td>40.3651</td>\n",
       "      <td>26.6</td>\n",
       "      <td>3.9</td>\n",
       "      <td>0.244897</td>\n",
       "      <td>0.006558</td>\n",
       "      <td>0.167572</td>\n",
       "      <td>0.070767</td>\n",
       "      <td>44357000.0</td>\n",
       "      <td>%</td>\n",
       "    </tr>\n",
       "    <tr>\n",
       "      <th>3</th>\n",
       "      <td>Angola</td>\n",
       "      <td>5.8087</td>\n",
       "      <td>0.0560</td>\n",
       "      <td>4.9278</td>\n",
       "      <td>0.0000</td>\n",
       "      <td>9.1085</td>\n",
       "      <td>0.0587</td>\n",
       "      <td>1.7707</td>\n",
       "      <td>6.0005</td>\n",
       "      <td>2.0571</td>\n",
       "      <td>0.8311</td>\n",
       "      <td>0.1165</td>\n",
       "      <td>0.1550</td>\n",
       "      <td>0.4186</td>\n",
       "      <td>0.6507</td>\n",
       "      <td>0.0009</td>\n",
       "      <td>18.1102</td>\n",
       "      <td>0.0508</td>\n",
       "      <td>1.8495</td>\n",
       "      <td>0.000</td>\n",
       "      <td>0.0061</td>\n",
       "      <td>0.6463</td>\n",
       "      <td>2.3041</td>\n",
       "      <td>45.0722</td>\n",
       "      <td>6.8</td>\n",
       "      <td>25</td>\n",
       "      <td>0.061687</td>\n",
       "      <td>0.001461</td>\n",
       "      <td>0.056808</td>\n",
       "      <td>0.003419</td>\n",
       "      <td>32522000.0</td>\n",
       "      <td>%</td>\n",
       "    </tr>\n",
       "    <tr>\n",
       "      <th>4</th>\n",
       "      <td>Antigua and Barbuda</td>\n",
       "      <td>3.5764</td>\n",
       "      <td>0.0087</td>\n",
       "      <td>16.6613</td>\n",
       "      <td>0.0000</td>\n",
       "      <td>5.9960</td>\n",
       "      <td>0.2274</td>\n",
       "      <td>4.1489</td>\n",
       "      <td>10.7451</td>\n",
       "      <td>5.6888</td>\n",
       "      <td>6.3663</td>\n",
       "      <td>0.7139</td>\n",
       "      <td>0.2219</td>\n",
       "      <td>0.2172</td>\n",
       "      <td>0.1840</td>\n",
       "      <td>0.1524</td>\n",
       "      <td>1.4522</td>\n",
       "      <td>0.1564</td>\n",
       "      <td>3.8749</td>\n",
       "      <td>0.000</td>\n",
       "      <td>0.0253</td>\n",
       "      <td>0.8102</td>\n",
       "      <td>5.4495</td>\n",
       "      <td>33.3233</td>\n",
       "      <td>19.1</td>\n",
       "      <td>NaN</td>\n",
       "      <td>0.293878</td>\n",
       "      <td>0.007143</td>\n",
       "      <td>0.190816</td>\n",
       "      <td>0.095918</td>\n",
       "      <td>98000.0</td>\n",
       "      <td>%</td>\n",
       "    </tr>\n",
       "    <tr>\n",
       "      <th>...</th>\n",
       "      <td>...</td>\n",
       "      <td>...</td>\n",
       "      <td>...</td>\n",
       "      <td>...</td>\n",
       "      <td>...</td>\n",
       "      <td>...</td>\n",
       "      <td>...</td>\n",
       "      <td>...</td>\n",
       "      <td>...</td>\n",
       "      <td>...</td>\n",
       "      <td>...</td>\n",
       "      <td>...</td>\n",
       "      <td>...</td>\n",
       "      <td>...</td>\n",
       "      <td>...</td>\n",
       "      <td>...</td>\n",
       "      <td>...</td>\n",
       "      <td>...</td>\n",
       "      <td>...</td>\n",
       "      <td>...</td>\n",
       "      <td>...</td>\n",
       "      <td>...</td>\n",
       "      <td>...</td>\n",
       "      <td>...</td>\n",
       "      <td>...</td>\n",
       "      <td>...</td>\n",
       "      <td>...</td>\n",
       "      <td>...</td>\n",
       "      <td>...</td>\n",
       "      <td>...</td>\n",
       "      <td>...</td>\n",
       "      <td>...</td>\n",
       "    </tr>\n",
       "    <tr>\n",
       "      <th>165</th>\n",
       "      <td>Venezuela (Bolivarian Republic of)</td>\n",
       "      <td>2.5952</td>\n",
       "      <td>0.0403</td>\n",
       "      <td>14.7565</td>\n",
       "      <td>0.0000</td>\n",
       "      <td>12.9253</td>\n",
       "      <td>0.3389</td>\n",
       "      <td>0.9456</td>\n",
       "      <td>7.6460</td>\n",
       "      <td>3.8328</td>\n",
       "      <td>9.3920</td>\n",
       "      <td>0.0702</td>\n",
       "      <td>0.2078</td>\n",
       "      <td>0.0281</td>\n",
       "      <td>0.3342</td>\n",
       "      <td>0.0009</td>\n",
       "      <td>2.5643</td>\n",
       "      <td>0.1479</td>\n",
       "      <td>3.4106</td>\n",
       "      <td>0.000</td>\n",
       "      <td>0.0009</td>\n",
       "      <td>1.3734</td>\n",
       "      <td>4.1474</td>\n",
       "      <td>35.2416</td>\n",
       "      <td>25.2</td>\n",
       "      <td>21.2</td>\n",
       "      <td>0.452585</td>\n",
       "      <td>0.004287</td>\n",
       "      <td>0.424399</td>\n",
       "      <td>0.023899</td>\n",
       "      <td>28645000.0</td>\n",
       "      <td>%</td>\n",
       "    </tr>\n",
       "    <tr>\n",
       "      <th>166</th>\n",
       "      <td>Vietnam</td>\n",
       "      <td>1.4591</td>\n",
       "      <td>0.1640</td>\n",
       "      <td>8.5765</td>\n",
       "      <td>0.0042</td>\n",
       "      <td>16.8740</td>\n",
       "      <td>0.3077</td>\n",
       "      <td>2.6392</td>\n",
       "      <td>5.9029</td>\n",
       "      <td>4.4382</td>\n",
       "      <td>0.6069</td>\n",
       "      <td>0.0126</td>\n",
       "      <td>0.4149</td>\n",
       "      <td>0.8410</td>\n",
       "      <td>0.2032</td>\n",
       "      <td>0.2074</td>\n",
       "      <td>1.0596</td>\n",
       "      <td>0.2880</td>\n",
       "      <td>1.2846</td>\n",
       "      <td>0.815</td>\n",
       "      <td>0.3070</td>\n",
       "      <td>0.2201</td>\n",
       "      <td>11.9508</td>\n",
       "      <td>41.4232</td>\n",
       "      <td>2.1</td>\n",
       "      <td>9.3</td>\n",
       "      <td>0.002063</td>\n",
       "      <td>0.000036</td>\n",
       "      <td>0.001526</td>\n",
       "      <td>0.000501</td>\n",
       "      <td>96209000.0</td>\n",
       "      <td>%</td>\n",
       "    </tr>\n",
       "    <tr>\n",
       "      <th>167</th>\n",
       "      <td>Yemen</td>\n",
       "      <td>0.0364</td>\n",
       "      <td>0.0446</td>\n",
       "      <td>5.7874</td>\n",
       "      <td>0.0000</td>\n",
       "      <td>27.2077</td>\n",
       "      <td>0.2579</td>\n",
       "      <td>0.5240</td>\n",
       "      <td>5.1344</td>\n",
       "      <td>2.7871</td>\n",
       "      <td>1.8911</td>\n",
       "      <td>0.2033</td>\n",
       "      <td>0.2827</td>\n",
       "      <td>0.0893</td>\n",
       "      <td>0.8645</td>\n",
       "      <td>0.0347</td>\n",
       "      <td>1.0794</td>\n",
       "      <td>0.2199</td>\n",
       "      <td>5.0468</td>\n",
       "      <td>0.000</td>\n",
       "      <td>0.0017</td>\n",
       "      <td>1.0811</td>\n",
       "      <td>3.2135</td>\n",
       "      <td>44.2126</td>\n",
       "      <td>14.1</td>\n",
       "      <td>38.9</td>\n",
       "      <td>0.007131</td>\n",
       "      <td>0.002062</td>\n",
       "      <td>0.004788</td>\n",
       "      <td>0.000282</td>\n",
       "      <td>29826000.0</td>\n",
       "      <td>%</td>\n",
       "    </tr>\n",
       "    <tr>\n",
       "      <th>168</th>\n",
       "      <td>Zambia</td>\n",
       "      <td>5.7360</td>\n",
       "      <td>0.0829</td>\n",
       "      <td>6.0197</td>\n",
       "      <td>0.0000</td>\n",
       "      <td>21.1938</td>\n",
       "      <td>0.3399</td>\n",
       "      <td>1.6924</td>\n",
       "      <td>1.0183</td>\n",
       "      <td>1.8427</td>\n",
       "      <td>1.7570</td>\n",
       "      <td>0.2149</td>\n",
       "      <td>0.3048</td>\n",
       "      <td>1.8736</td>\n",
       "      <td>0.1756</td>\n",
       "      <td>0.0478</td>\n",
       "      <td>7.9649</td>\n",
       "      <td>0.0618</td>\n",
       "      <td>1.5632</td>\n",
       "      <td>0.000</td>\n",
       "      <td>0.0014</td>\n",
       "      <td>0.6657</td>\n",
       "      <td>3.4649</td>\n",
       "      <td>43.9789</td>\n",
       "      <td>6.5</td>\n",
       "      <td>46.7</td>\n",
       "      <td>0.334133</td>\n",
       "      <td>0.004564</td>\n",
       "      <td>0.290524</td>\n",
       "      <td>0.039045</td>\n",
       "      <td>18384000.0</td>\n",
       "      <td>%</td>\n",
       "    </tr>\n",
       "    <tr>\n",
       "      <th>169</th>\n",
       "      <td>Zimbabwe</td>\n",
       "      <td>4.0552</td>\n",
       "      <td>0.0755</td>\n",
       "      <td>8.1489</td>\n",
       "      <td>0.0000</td>\n",
       "      <td>22.6240</td>\n",
       "      <td>0.2678</td>\n",
       "      <td>0.5518</td>\n",
       "      <td>2.2000</td>\n",
       "      <td>2.6142</td>\n",
       "      <td>4.4310</td>\n",
       "      <td>0.2012</td>\n",
       "      <td>0.2086</td>\n",
       "      <td>0.4498</td>\n",
       "      <td>0.4261</td>\n",
       "      <td>0.0252</td>\n",
       "      <td>2.9870</td>\n",
       "      <td>0.1494</td>\n",
       "      <td>4.6485</td>\n",
       "      <td>0.000</td>\n",
       "      <td>0.0518</td>\n",
       "      <td>1.7103</td>\n",
       "      <td>2.3213</td>\n",
       "      <td>41.8526</td>\n",
       "      <td>12.3</td>\n",
       "      <td>51.3</td>\n",
       "      <td>0.232033</td>\n",
       "      <td>0.008854</td>\n",
       "      <td>0.190964</td>\n",
       "      <td>0.032214</td>\n",
       "      <td>14863000.0</td>\n",
       "      <td>%</td>\n",
       "    </tr>\n",
       "  </tbody>\n",
       "</table>\n",
       "<p>170 rows × 32 columns</p>\n",
       "</div>"
      ],
      "text/plain": [
       "                                Country  Alcoholic Beverages  Animal fats  \\\n",
       "0                           Afghanistan               0.0014       0.1973   \n",
       "1                               Albania               1.6719       0.1357   \n",
       "2                               Algeria               0.2711       0.0282   \n",
       "3                                Angola               5.8087       0.0560   \n",
       "4                   Antigua and Barbuda               3.5764       0.0087   \n",
       "..                                  ...                  ...          ...   \n",
       "165  Venezuela (Bolivarian Republic of)               2.5952       0.0403   \n",
       "166                             Vietnam               1.4591       0.1640   \n",
       "167                               Yemen               0.0364       0.0446   \n",
       "168                              Zambia               5.7360       0.0829   \n",
       "169                            Zimbabwe               4.0552       0.0755   \n",
       "\n",
       "     Animal Products  Aquatic Products, Other  Cereals - Excluding Beer  \\\n",
       "0             9.4341                   0.0000                   24.8097   \n",
       "1            18.7684                   0.0000                    5.7817   \n",
       "2             9.6334                   0.0000                   13.6816   \n",
       "3             4.9278                   0.0000                    9.1085   \n",
       "4            16.6613                   0.0000                    5.9960   \n",
       "..               ...                      ...                       ...   \n",
       "165          14.7565                   0.0000                   12.9253   \n",
       "166           8.5765                   0.0042                   16.8740   \n",
       "167           5.7874                   0.0000                   27.2077   \n",
       "168           6.0197                   0.0000                   21.1938   \n",
       "169           8.1489                   0.0000                   22.6240   \n",
       "\n",
       "       Eggs  Fish, Seafood  Fruits - Excluding Wine    Meat  \\\n",
       "0    0.2099         0.0350                   5.3495  1.2020   \n",
       "1    0.5815         0.2126                   6.7861  1.8845   \n",
       "2    0.5277         0.2416                   6.3801  1.1305   \n",
       "3    0.0587         1.7707                   6.0005  2.0571   \n",
       "4    0.2274         4.1489                  10.7451  5.6888   \n",
       "..      ...            ...                      ...     ...   \n",
       "165  0.3389         0.9456                   7.6460  3.8328   \n",
       "166  0.3077         2.6392                   5.9029  4.4382   \n",
       "167  0.2579         0.5240                   5.1344  2.7871   \n",
       "168  0.3399         1.6924                   1.0183  1.8427   \n",
       "169  0.2678         0.5518                   2.2000  2.6142   \n",
       "\n",
       "     Milk - Excluding Butter  Miscellaneous  Offals  Oilcrops  Pulses  Spices  \\\n",
       "0                     7.5828         0.0728  0.2057    0.0700  0.2953  0.0574   \n",
       "1                    15.7213         0.1123  0.2324    0.9377  0.2380  0.0008   \n",
       "2                     7.6189         0.1671  0.0870    0.3493  0.4783  0.0557   \n",
       "3                     0.8311         0.1165  0.1550    0.4186  0.6507  0.0009   \n",
       "4                     6.3663         0.7139  0.2219    0.2172  0.1840  0.1524   \n",
       "..                       ...            ...     ...       ...     ...     ...   \n",
       "165                   9.3920         0.0702  0.2078    0.0281  0.3342  0.0009   \n",
       "166                   0.6069         0.0126  0.4149    0.8410  0.2032  0.2074   \n",
       "167                   1.8911         0.2033  0.2827    0.0893  0.8645  0.0347   \n",
       "168                   1.7570         0.2149  0.3048    1.8736  0.1756  0.0478   \n",
       "169                   4.4310         0.2012  0.2086    0.4498  0.4261  0.0252   \n",
       "\n",
       "     Starchy Roots  Stimulants  Sugar & Sweeteners  Sugar Crops  Treenuts  \\\n",
       "0           0.8802      0.3078              1.3489        0.000    0.0770   \n",
       "1           1.8096      0.1055              1.5367        0.000    0.1515   \n",
       "2           4.1340      0.2216              1.8342        0.000    0.1152   \n",
       "3          18.1102      0.0508              1.8495        0.000    0.0061   \n",
       "4           1.4522      0.1564              3.8749        0.000    0.0253   \n",
       "..             ...         ...                 ...          ...       ...   \n",
       "165         2.5643      0.1479              3.4106        0.000    0.0009   \n",
       "166         1.0596      0.2880              1.2846        0.815    0.3070   \n",
       "167         1.0794      0.2199              5.0468        0.000    0.0017   \n",
       "168         7.9649      0.0618              1.5632        0.000    0.0014   \n",
       "169         2.9870      0.1494              4.6485        0.000    0.0518   \n",
       "\n",
       "     Vegetable Oils  Vegetables  Vegetal Products  Obesity Undernourished  \\\n",
       "0            0.5345      6.7642           40.5645      4.5           29.8   \n",
       "1            0.3261     11.7753           31.2304     22.3            6.2   \n",
       "2            1.0310     11.6484           40.3651     26.6            3.9   \n",
       "3            0.6463      2.3041           45.0722      6.8             25   \n",
       "4            0.8102      5.4495           33.3233     19.1            NaN   \n",
       "..              ...         ...               ...      ...            ...   \n",
       "165          1.3734      4.1474           35.2416     25.2           21.2   \n",
       "166          0.2201     11.9508           41.4232      2.1            9.3   \n",
       "167          1.0811      3.2135           44.2126     14.1           38.9   \n",
       "168          0.6657      3.4649           43.9789      6.5           46.7   \n",
       "169          1.7103      2.3213           41.8526     12.3           51.3   \n",
       "\n",
       "     Confirmed    Deaths  Recovered    Active  Population  \\\n",
       "0     0.142134  0.006186   0.123374  0.012574  38928000.0   \n",
       "1     2.967301  0.050951   1.792636  1.123714   2838000.0   \n",
       "2     0.244897  0.006558   0.167572  0.070767  44357000.0   \n",
       "3     0.061687  0.001461   0.056808  0.003419  32522000.0   \n",
       "4     0.293878  0.007143   0.190816  0.095918     98000.0   \n",
       "..         ...       ...        ...       ...         ...   \n",
       "165   0.452585  0.004287   0.424399  0.023899  28645000.0   \n",
       "166   0.002063  0.000036   0.001526  0.000501  96209000.0   \n",
       "167   0.007131  0.002062   0.004788  0.000282  29826000.0   \n",
       "168   0.334133  0.004564   0.290524  0.039045  18384000.0   \n",
       "169   0.232033  0.008854   0.190964  0.032214  14863000.0   \n",
       "\n",
       "    Unit (all except Population)  \n",
       "0                              %  \n",
       "1                              %  \n",
       "2                              %  \n",
       "3                              %  \n",
       "4                              %  \n",
       "..                           ...  \n",
       "165                            %  \n",
       "166                            %  \n",
       "167                            %  \n",
       "168                            %  \n",
       "169                            %  \n",
       "\n",
       "[170 rows x 32 columns]"
      ]
     },
     "execution_count": 2,
     "metadata": {},
     "output_type": "execute_result"
    }
   ],
   "source": [
    "data = pd.read_csv('archive/Food_Supply_Quantity_kg_Data.csv')\n",
    "data"
   ]
  },
  {
   "cell_type": "code",
   "execution_count": 3,
   "id": "3259e746-b746-49ea-b4e3-b53229d91693",
   "metadata": {},
   "outputs": [
    {
     "name": "stdout",
     "output_type": "stream",
     "text": [
      "<class 'pandas.core.frame.DataFrame'>\n",
      "RangeIndex: 170 entries, 0 to 169\n",
      "Data columns (total 32 columns):\n",
      " #   Column                        Non-Null Count  Dtype  \n",
      "---  ------                        --------------  -----  \n",
      " 0   Country                       170 non-null    object \n",
      " 1   Alcoholic Beverages           170 non-null    float64\n",
      " 2   Animal fats                   170 non-null    float64\n",
      " 3   Animal Products               170 non-null    float64\n",
      " 4   Aquatic Products, Other       170 non-null    float64\n",
      " 5   Cereals - Excluding Beer      170 non-null    float64\n",
      " 6   Eggs                          170 non-null    float64\n",
      " 7   Fish, Seafood                 170 non-null    float64\n",
      " 8   Fruits - Excluding Wine       170 non-null    float64\n",
      " 9   Meat                          170 non-null    float64\n",
      " 10  Milk - Excluding Butter       170 non-null    float64\n",
      " 11  Miscellaneous                 170 non-null    float64\n",
      " 12  Offals                        170 non-null    float64\n",
      " 13  Oilcrops                      170 non-null    float64\n",
      " 14  Pulses                        170 non-null    float64\n",
      " 15  Spices                        170 non-null    float64\n",
      " 16  Starchy Roots                 170 non-null    float64\n",
      " 17  Stimulants                    170 non-null    float64\n",
      " 18  Sugar & Sweeteners            170 non-null    float64\n",
      " 19  Sugar Crops                   170 non-null    float64\n",
      " 20  Treenuts                      170 non-null    float64\n",
      " 21  Vegetable Oils                170 non-null    float64\n",
      " 22  Vegetables                    170 non-null    float64\n",
      " 23  Vegetal Products              170 non-null    float64\n",
      " 24  Obesity                       167 non-null    float64\n",
      " 25  Undernourished                163 non-null    object \n",
      " 26  Confirmed                     164 non-null    float64\n",
      " 27  Deaths                        164 non-null    float64\n",
      " 28  Recovered                     164 non-null    float64\n",
      " 29  Active                        162 non-null    float64\n",
      " 30  Population                    170 non-null    float64\n",
      " 31  Unit (all except Population)  170 non-null    object \n",
      "dtypes: float64(29), object(3)\n",
      "memory usage: 42.6+ KB\n"
     ]
    }
   ],
   "source": [
    "data.info()"
   ]
  },
  {
   "cell_type": "markdown",
   "id": "e7cebd50-d037-4005-a533-4bf55857a084",
   "metadata": {},
   "source": [
    "### Preprocessing"
   ]
  },
  {
   "cell_type": "code",
   "execution_count": 4,
   "id": "cb7f1940-55d7-4711-80d0-73665bf82ce5",
   "metadata": {},
   "outputs": [],
   "source": [
    "data = data.drop('Unit (all except Population)', axis=1)"
   ]
  },
  {
   "cell_type": "markdown",
   "id": "17eb78e4-a40f-48fd-acee-61fbeb223ccf",
   "metadata": {},
   "source": [
    "##### Missing values"
   ]
  },
  {
   "cell_type": "code",
   "execution_count": 5,
   "id": "76b4b91b-eac8-484f-8480-d4be3918649c",
   "metadata": {},
   "outputs": [
    {
     "data": {
      "text/plain": [
       "Country                     0\n",
       "Alcoholic Beverages         0\n",
       "Animal fats                 0\n",
       "Animal Products             0\n",
       "Aquatic Products, Other     0\n",
       "Cereals - Excluding Beer    0\n",
       "Eggs                        0\n",
       "Fish, Seafood               0\n",
       "Fruits - Excluding Wine     0\n",
       "Meat                        0\n",
       "Milk - Excluding Butter     0\n",
       "Miscellaneous               0\n",
       "Offals                      0\n",
       "Oilcrops                    0\n",
       "Pulses                      0\n",
       "Spices                      0\n",
       "Starchy Roots               0\n",
       "Stimulants                  0\n",
       "Sugar & Sweeteners          0\n",
       "Sugar Crops                 0\n",
       "Treenuts                    0\n",
       "Vegetable Oils              0\n",
       "Vegetables                  0\n",
       "Vegetal Products            0\n",
       "Obesity                     3\n",
       "Undernourished              7\n",
       "Confirmed                   6\n",
       "Deaths                      6\n",
       "Recovered                   6\n",
       "Active                      8\n",
       "Population                  0\n",
       "dtype: int64"
      ]
     },
     "execution_count": 5,
     "metadata": {},
     "output_type": "execute_result"
    }
   ],
   "source": [
    "data.isna().sum()"
   ]
  },
  {
   "cell_type": "code",
   "execution_count": 6,
   "id": "3127807d-583f-4995-b926-f9cca5398339",
   "metadata": {},
   "outputs": [],
   "source": [
    "for column in data.columns:\n",
    "    if data.dtypes[column] != 'object' and data.isna().sum()[column] > 0:\n",
    "        data[column] = data[column].fillna(data[column].mean())"
   ]
  },
  {
   "cell_type": "code",
   "execution_count": 7,
   "id": "40963088-60cd-4e4e-bb3c-705bce8cb98b",
   "metadata": {},
   "outputs": [
    {
     "data": {
      "text/plain": [
       "Country                     0\n",
       "Alcoholic Beverages         0\n",
       "Animal fats                 0\n",
       "Animal Products             0\n",
       "Aquatic Products, Other     0\n",
       "Cereals - Excluding Beer    0\n",
       "Eggs                        0\n",
       "Fish, Seafood               0\n",
       "Fruits - Excluding Wine     0\n",
       "Meat                        0\n",
       "Milk - Excluding Butter     0\n",
       "Miscellaneous               0\n",
       "Offals                      0\n",
       "Oilcrops                    0\n",
       "Pulses                      0\n",
       "Spices                      0\n",
       "Starchy Roots               0\n",
       "Stimulants                  0\n",
       "Sugar & Sweeteners          0\n",
       "Sugar Crops                 0\n",
       "Treenuts                    0\n",
       "Vegetable Oils              0\n",
       "Vegetables                  0\n",
       "Vegetal Products            0\n",
       "Obesity                     0\n",
       "Undernourished              7\n",
       "Confirmed                   0\n",
       "Deaths                      0\n",
       "Recovered                   0\n",
       "Active                      0\n",
       "Population                  0\n",
       "dtype: int64"
      ]
     },
     "execution_count": 7,
     "metadata": {},
     "output_type": "execute_result"
    }
   ],
   "source": [
    "data.isna().sum()"
   ]
  },
  {
   "cell_type": "code",
   "execution_count": 8,
   "id": "c8f851cc-152e-43c5-a917-b8512d781dbc",
   "metadata": {},
   "outputs": [
    {
     "data": {
      "text/plain": [
       "Undernourished\n",
       "<2.5    44\n",
       "16.5     3\n",
       "7.1      3\n",
       "2.7      3\n",
       "6.2      3\n",
       "        ..\n",
       "15.2     1\n",
       "10.2     1\n",
       "10.5     1\n",
       "4.2      1\n",
       "51.3     1\n",
       "Name: count, Length: 98, dtype: int64"
      ]
     },
     "execution_count": 8,
     "metadata": {},
     "output_type": "execute_result"
    }
   ],
   "source": [
    "# Dealing with the 'Undernourished' column\n",
    "data['Undernourished'].value_counts()"
   ]
  },
  {
   "cell_type": "code",
   "execution_count": 9,
   "id": "0e6fe03e-2446-45c5-80c7-22cd2ddbf9bc",
   "metadata": {},
   "outputs": [
    {
     "data": {
      "text/plain": [
       "0      29.8\n",
       "1       6.2\n",
       "2       3.9\n",
       "3      25.0\n",
       "4       NaN\n",
       "       ... \n",
       "165    21.2\n",
       "166     9.3\n",
       "167    38.9\n",
       "168    46.7\n",
       "169    51.3\n",
       "Name: Undernourished, Length: 126, dtype: float64"
      ]
     },
     "execution_count": 9,
     "metadata": {},
     "output_type": "execute_result"
    }
   ],
   "source": [
    "undernourished_numeric = data.loc[data['Undernourished'] != '<2.5', 'Undernourished'].astype(float)\n",
    "undernourished_numeric"
   ]
  },
  {
   "cell_type": "code",
   "execution_count": 10,
   "id": "bceec52f-ffe3-4af9-9c35-3aaf3428c5f7",
   "metadata": {},
   "outputs": [],
   "source": [
    "undernourished_numeric = undernourished_numeric.fillna(undernourished_numeric.mean())"
   ]
  },
  {
   "cell_type": "code",
   "execution_count": 11,
   "id": "b13b2c4e-3652-4611-a930-47f93f008829",
   "metadata": {},
   "outputs": [
    {
     "data": {
      "text/plain": [
       "0      3\n",
       "1      1\n",
       "2      1\n",
       "3      3\n",
       "4      2\n",
       "      ..\n",
       "165    3\n",
       "166    2\n",
       "167    3\n",
       "168    3\n",
       "169    3\n",
       "Name: Undernourished, Length: 126, dtype: category\n",
       "Categories (3, int64): [1 < 2 < 3]"
      ]
     },
     "execution_count": 11,
     "metadata": {},
     "output_type": "execute_result"
    }
   ],
   "source": [
    "undernourished_numeric = pd.qcut(undernourished_numeric, q=3, labels=[1, 2, 3])\n",
    "undernourished_numeric"
   ]
  },
  {
   "cell_type": "code",
   "execution_count": 16,
   "id": "ad13c7c1-cbbb-457e-91dc-b798740bfc9a",
   "metadata": {},
   "outputs": [],
   "source": [
    "data['Undernourished'] = data['Undernourished'].apply(lambda x: 0 if x == '<2.5' else x)"
   ]
  },
  {
   "cell_type": "code",
   "execution_count": 18,
   "id": "a831f495-1681-45c5-90ab-9881772341cf",
   "metadata": {},
   "outputs": [],
   "source": [
    "data.loc[undernourished_numeric.index, 'Undernourished'] = undernourished_numeric"
   ]
  },
  {
   "cell_type": "code",
   "execution_count": 20,
   "id": "88fda67c-a044-461a-869d-62b7f197640b",
   "metadata": {},
   "outputs": [
    {
     "data": {
      "text/plain": [
       "Undernourished\n",
       "0    44\n",
       "3    42\n",
       "1    42\n",
       "2    42\n",
       "Name: count, dtype: int64"
      ]
     },
     "execution_count": 20,
     "metadata": {},
     "output_type": "execute_result"
    }
   ],
   "source": [
    "data['Undernourished'].value_counts()"
   ]
  },
  {
   "cell_type": "markdown",
   "id": "7e7986c4-68e7-4e07-b2ee-c447559601fe",
   "metadata": {},
   "source": [
    "#### Feature and Target Selection"
   ]
  },
  {
   "cell_type": "code",
   "execution_count": 21,
   "id": "1389afc9-9a1f-4e91-a780-f8dec8638aba",
   "metadata": {},
   "outputs": [
    {
     "data": {
      "text/html": [
       "<div>\n",
       "<style scoped>\n",
       "    .dataframe tbody tr th:only-of-type {\n",
       "        vertical-align: middle;\n",
       "    }\n",
       "\n",
       "    .dataframe tbody tr th {\n",
       "        vertical-align: top;\n",
       "    }\n",
       "\n",
       "    .dataframe thead th {\n",
       "        text-align: right;\n",
       "    }\n",
       "</style>\n",
       "<table border=\"1\" class=\"dataframe\">\n",
       "  <thead>\n",
       "    <tr style=\"text-align: right;\">\n",
       "      <th></th>\n",
       "      <th>Country</th>\n",
       "      <th>Alcoholic Beverages</th>\n",
       "      <th>Animal fats</th>\n",
       "      <th>Animal Products</th>\n",
       "      <th>Aquatic Products, Other</th>\n",
       "      <th>Cereals - Excluding Beer</th>\n",
       "      <th>Eggs</th>\n",
       "      <th>Fish, Seafood</th>\n",
       "      <th>Fruits - Excluding Wine</th>\n",
       "      <th>Meat</th>\n",
       "      <th>Milk - Excluding Butter</th>\n",
       "      <th>Miscellaneous</th>\n",
       "      <th>Offals</th>\n",
       "      <th>Oilcrops</th>\n",
       "      <th>Pulses</th>\n",
       "      <th>Spices</th>\n",
       "      <th>Starchy Roots</th>\n",
       "      <th>Stimulants</th>\n",
       "      <th>Sugar &amp; Sweeteners</th>\n",
       "      <th>Sugar Crops</th>\n",
       "      <th>Treenuts</th>\n",
       "      <th>Vegetable Oils</th>\n",
       "      <th>Vegetables</th>\n",
       "      <th>Vegetal Products</th>\n",
       "      <th>Obesity</th>\n",
       "      <th>Undernourished</th>\n",
       "      <th>Confirmed</th>\n",
       "      <th>Deaths</th>\n",
       "      <th>Recovered</th>\n",
       "      <th>Active</th>\n",
       "      <th>Population</th>\n",
       "    </tr>\n",
       "  </thead>\n",
       "  <tbody>\n",
       "    <tr>\n",
       "      <th>0</th>\n",
       "      <td>Afghanistan</td>\n",
       "      <td>0.0014</td>\n",
       "      <td>0.1973</td>\n",
       "      <td>9.4341</td>\n",
       "      <td>0.0000</td>\n",
       "      <td>24.8097</td>\n",
       "      <td>0.2099</td>\n",
       "      <td>0.0350</td>\n",
       "      <td>5.3495</td>\n",
       "      <td>1.2020</td>\n",
       "      <td>7.5828</td>\n",
       "      <td>0.0728</td>\n",
       "      <td>0.2057</td>\n",
       "      <td>0.0700</td>\n",
       "      <td>0.2953</td>\n",
       "      <td>0.0574</td>\n",
       "      <td>0.8802</td>\n",
       "      <td>0.3078</td>\n",
       "      <td>1.3489</td>\n",
       "      <td>0.000</td>\n",
       "      <td>0.0770</td>\n",
       "      <td>0.5345</td>\n",
       "      <td>6.7642</td>\n",
       "      <td>40.5645</td>\n",
       "      <td>4.5</td>\n",
       "      <td>3</td>\n",
       "      <td>0.142134</td>\n",
       "      <td>0.006186</td>\n",
       "      <td>0.123374</td>\n",
       "      <td>0.012574</td>\n",
       "      <td>38928000.0</td>\n",
       "    </tr>\n",
       "    <tr>\n",
       "      <th>1</th>\n",
       "      <td>Albania</td>\n",
       "      <td>1.6719</td>\n",
       "      <td>0.1357</td>\n",
       "      <td>18.7684</td>\n",
       "      <td>0.0000</td>\n",
       "      <td>5.7817</td>\n",
       "      <td>0.5815</td>\n",
       "      <td>0.2126</td>\n",
       "      <td>6.7861</td>\n",
       "      <td>1.8845</td>\n",
       "      <td>15.7213</td>\n",
       "      <td>0.1123</td>\n",
       "      <td>0.2324</td>\n",
       "      <td>0.9377</td>\n",
       "      <td>0.2380</td>\n",
       "      <td>0.0008</td>\n",
       "      <td>1.8096</td>\n",
       "      <td>0.1055</td>\n",
       "      <td>1.5367</td>\n",
       "      <td>0.000</td>\n",
       "      <td>0.1515</td>\n",
       "      <td>0.3261</td>\n",
       "      <td>11.7753</td>\n",
       "      <td>31.2304</td>\n",
       "      <td>22.3</td>\n",
       "      <td>1</td>\n",
       "      <td>2.967301</td>\n",
       "      <td>0.050951</td>\n",
       "      <td>1.792636</td>\n",
       "      <td>1.123714</td>\n",
       "      <td>2838000.0</td>\n",
       "    </tr>\n",
       "    <tr>\n",
       "      <th>2</th>\n",
       "      <td>Algeria</td>\n",
       "      <td>0.2711</td>\n",
       "      <td>0.0282</td>\n",
       "      <td>9.6334</td>\n",
       "      <td>0.0000</td>\n",
       "      <td>13.6816</td>\n",
       "      <td>0.5277</td>\n",
       "      <td>0.2416</td>\n",
       "      <td>6.3801</td>\n",
       "      <td>1.1305</td>\n",
       "      <td>7.6189</td>\n",
       "      <td>0.1671</td>\n",
       "      <td>0.0870</td>\n",
       "      <td>0.3493</td>\n",
       "      <td>0.4783</td>\n",
       "      <td>0.0557</td>\n",
       "      <td>4.1340</td>\n",
       "      <td>0.2216</td>\n",
       "      <td>1.8342</td>\n",
       "      <td>0.000</td>\n",
       "      <td>0.1152</td>\n",
       "      <td>1.0310</td>\n",
       "      <td>11.6484</td>\n",
       "      <td>40.3651</td>\n",
       "      <td>26.6</td>\n",
       "      <td>1</td>\n",
       "      <td>0.244897</td>\n",
       "      <td>0.006558</td>\n",
       "      <td>0.167572</td>\n",
       "      <td>0.070767</td>\n",
       "      <td>44357000.0</td>\n",
       "    </tr>\n",
       "    <tr>\n",
       "      <th>3</th>\n",
       "      <td>Angola</td>\n",
       "      <td>5.8087</td>\n",
       "      <td>0.0560</td>\n",
       "      <td>4.9278</td>\n",
       "      <td>0.0000</td>\n",
       "      <td>9.1085</td>\n",
       "      <td>0.0587</td>\n",
       "      <td>1.7707</td>\n",
       "      <td>6.0005</td>\n",
       "      <td>2.0571</td>\n",
       "      <td>0.8311</td>\n",
       "      <td>0.1165</td>\n",
       "      <td>0.1550</td>\n",
       "      <td>0.4186</td>\n",
       "      <td>0.6507</td>\n",
       "      <td>0.0009</td>\n",
       "      <td>18.1102</td>\n",
       "      <td>0.0508</td>\n",
       "      <td>1.8495</td>\n",
       "      <td>0.000</td>\n",
       "      <td>0.0061</td>\n",
       "      <td>0.6463</td>\n",
       "      <td>2.3041</td>\n",
       "      <td>45.0722</td>\n",
       "      <td>6.8</td>\n",
       "      <td>3</td>\n",
       "      <td>0.061687</td>\n",
       "      <td>0.001461</td>\n",
       "      <td>0.056808</td>\n",
       "      <td>0.003419</td>\n",
       "      <td>32522000.0</td>\n",
       "    </tr>\n",
       "    <tr>\n",
       "      <th>4</th>\n",
       "      <td>Antigua and Barbuda</td>\n",
       "      <td>3.5764</td>\n",
       "      <td>0.0087</td>\n",
       "      <td>16.6613</td>\n",
       "      <td>0.0000</td>\n",
       "      <td>5.9960</td>\n",
       "      <td>0.2274</td>\n",
       "      <td>4.1489</td>\n",
       "      <td>10.7451</td>\n",
       "      <td>5.6888</td>\n",
       "      <td>6.3663</td>\n",
       "      <td>0.7139</td>\n",
       "      <td>0.2219</td>\n",
       "      <td>0.2172</td>\n",
       "      <td>0.1840</td>\n",
       "      <td>0.1524</td>\n",
       "      <td>1.4522</td>\n",
       "      <td>0.1564</td>\n",
       "      <td>3.8749</td>\n",
       "      <td>0.000</td>\n",
       "      <td>0.0253</td>\n",
       "      <td>0.8102</td>\n",
       "      <td>5.4495</td>\n",
       "      <td>33.3233</td>\n",
       "      <td>19.1</td>\n",
       "      <td>2</td>\n",
       "      <td>0.293878</td>\n",
       "      <td>0.007143</td>\n",
       "      <td>0.190816</td>\n",
       "      <td>0.095918</td>\n",
       "      <td>98000.0</td>\n",
       "    </tr>\n",
       "    <tr>\n",
       "      <th>...</th>\n",
       "      <td>...</td>\n",
       "      <td>...</td>\n",
       "      <td>...</td>\n",
       "      <td>...</td>\n",
       "      <td>...</td>\n",
       "      <td>...</td>\n",
       "      <td>...</td>\n",
       "      <td>...</td>\n",
       "      <td>...</td>\n",
       "      <td>...</td>\n",
       "      <td>...</td>\n",
       "      <td>...</td>\n",
       "      <td>...</td>\n",
       "      <td>...</td>\n",
       "      <td>...</td>\n",
       "      <td>...</td>\n",
       "      <td>...</td>\n",
       "      <td>...</td>\n",
       "      <td>...</td>\n",
       "      <td>...</td>\n",
       "      <td>...</td>\n",
       "      <td>...</td>\n",
       "      <td>...</td>\n",
       "      <td>...</td>\n",
       "      <td>...</td>\n",
       "      <td>...</td>\n",
       "      <td>...</td>\n",
       "      <td>...</td>\n",
       "      <td>...</td>\n",
       "      <td>...</td>\n",
       "      <td>...</td>\n",
       "    </tr>\n",
       "    <tr>\n",
       "      <th>165</th>\n",
       "      <td>Venezuela (Bolivarian Republic of)</td>\n",
       "      <td>2.5952</td>\n",
       "      <td>0.0403</td>\n",
       "      <td>14.7565</td>\n",
       "      <td>0.0000</td>\n",
       "      <td>12.9253</td>\n",
       "      <td>0.3389</td>\n",
       "      <td>0.9456</td>\n",
       "      <td>7.6460</td>\n",
       "      <td>3.8328</td>\n",
       "      <td>9.3920</td>\n",
       "      <td>0.0702</td>\n",
       "      <td>0.2078</td>\n",
       "      <td>0.0281</td>\n",
       "      <td>0.3342</td>\n",
       "      <td>0.0009</td>\n",
       "      <td>2.5643</td>\n",
       "      <td>0.1479</td>\n",
       "      <td>3.4106</td>\n",
       "      <td>0.000</td>\n",
       "      <td>0.0009</td>\n",
       "      <td>1.3734</td>\n",
       "      <td>4.1474</td>\n",
       "      <td>35.2416</td>\n",
       "      <td>25.2</td>\n",
       "      <td>3</td>\n",
       "      <td>0.452585</td>\n",
       "      <td>0.004287</td>\n",
       "      <td>0.424399</td>\n",
       "      <td>0.023899</td>\n",
       "      <td>28645000.0</td>\n",
       "    </tr>\n",
       "    <tr>\n",
       "      <th>166</th>\n",
       "      <td>Vietnam</td>\n",
       "      <td>1.4591</td>\n",
       "      <td>0.1640</td>\n",
       "      <td>8.5765</td>\n",
       "      <td>0.0042</td>\n",
       "      <td>16.8740</td>\n",
       "      <td>0.3077</td>\n",
       "      <td>2.6392</td>\n",
       "      <td>5.9029</td>\n",
       "      <td>4.4382</td>\n",
       "      <td>0.6069</td>\n",
       "      <td>0.0126</td>\n",
       "      <td>0.4149</td>\n",
       "      <td>0.8410</td>\n",
       "      <td>0.2032</td>\n",
       "      <td>0.2074</td>\n",
       "      <td>1.0596</td>\n",
       "      <td>0.2880</td>\n",
       "      <td>1.2846</td>\n",
       "      <td>0.815</td>\n",
       "      <td>0.3070</td>\n",
       "      <td>0.2201</td>\n",
       "      <td>11.9508</td>\n",
       "      <td>41.4232</td>\n",
       "      <td>2.1</td>\n",
       "      <td>2</td>\n",
       "      <td>0.002063</td>\n",
       "      <td>0.000036</td>\n",
       "      <td>0.001526</td>\n",
       "      <td>0.000501</td>\n",
       "      <td>96209000.0</td>\n",
       "    </tr>\n",
       "    <tr>\n",
       "      <th>167</th>\n",
       "      <td>Yemen</td>\n",
       "      <td>0.0364</td>\n",
       "      <td>0.0446</td>\n",
       "      <td>5.7874</td>\n",
       "      <td>0.0000</td>\n",
       "      <td>27.2077</td>\n",
       "      <td>0.2579</td>\n",
       "      <td>0.5240</td>\n",
       "      <td>5.1344</td>\n",
       "      <td>2.7871</td>\n",
       "      <td>1.8911</td>\n",
       "      <td>0.2033</td>\n",
       "      <td>0.2827</td>\n",
       "      <td>0.0893</td>\n",
       "      <td>0.8645</td>\n",
       "      <td>0.0347</td>\n",
       "      <td>1.0794</td>\n",
       "      <td>0.2199</td>\n",
       "      <td>5.0468</td>\n",
       "      <td>0.000</td>\n",
       "      <td>0.0017</td>\n",
       "      <td>1.0811</td>\n",
       "      <td>3.2135</td>\n",
       "      <td>44.2126</td>\n",
       "      <td>14.1</td>\n",
       "      <td>3</td>\n",
       "      <td>0.007131</td>\n",
       "      <td>0.002062</td>\n",
       "      <td>0.004788</td>\n",
       "      <td>0.000282</td>\n",
       "      <td>29826000.0</td>\n",
       "    </tr>\n",
       "    <tr>\n",
       "      <th>168</th>\n",
       "      <td>Zambia</td>\n",
       "      <td>5.7360</td>\n",
       "      <td>0.0829</td>\n",
       "      <td>6.0197</td>\n",
       "      <td>0.0000</td>\n",
       "      <td>21.1938</td>\n",
       "      <td>0.3399</td>\n",
       "      <td>1.6924</td>\n",
       "      <td>1.0183</td>\n",
       "      <td>1.8427</td>\n",
       "      <td>1.7570</td>\n",
       "      <td>0.2149</td>\n",
       "      <td>0.3048</td>\n",
       "      <td>1.8736</td>\n",
       "      <td>0.1756</td>\n",
       "      <td>0.0478</td>\n",
       "      <td>7.9649</td>\n",
       "      <td>0.0618</td>\n",
       "      <td>1.5632</td>\n",
       "      <td>0.000</td>\n",
       "      <td>0.0014</td>\n",
       "      <td>0.6657</td>\n",
       "      <td>3.4649</td>\n",
       "      <td>43.9789</td>\n",
       "      <td>6.5</td>\n",
       "      <td>3</td>\n",
       "      <td>0.334133</td>\n",
       "      <td>0.004564</td>\n",
       "      <td>0.290524</td>\n",
       "      <td>0.039045</td>\n",
       "      <td>18384000.0</td>\n",
       "    </tr>\n",
       "    <tr>\n",
       "      <th>169</th>\n",
       "      <td>Zimbabwe</td>\n",
       "      <td>4.0552</td>\n",
       "      <td>0.0755</td>\n",
       "      <td>8.1489</td>\n",
       "      <td>0.0000</td>\n",
       "      <td>22.6240</td>\n",
       "      <td>0.2678</td>\n",
       "      <td>0.5518</td>\n",
       "      <td>2.2000</td>\n",
       "      <td>2.6142</td>\n",
       "      <td>4.4310</td>\n",
       "      <td>0.2012</td>\n",
       "      <td>0.2086</td>\n",
       "      <td>0.4498</td>\n",
       "      <td>0.4261</td>\n",
       "      <td>0.0252</td>\n",
       "      <td>2.9870</td>\n",
       "      <td>0.1494</td>\n",
       "      <td>4.6485</td>\n",
       "      <td>0.000</td>\n",
       "      <td>0.0518</td>\n",
       "      <td>1.7103</td>\n",
       "      <td>2.3213</td>\n",
       "      <td>41.8526</td>\n",
       "      <td>12.3</td>\n",
       "      <td>3</td>\n",
       "      <td>0.232033</td>\n",
       "      <td>0.008854</td>\n",
       "      <td>0.190964</td>\n",
       "      <td>0.032214</td>\n",
       "      <td>14863000.0</td>\n",
       "    </tr>\n",
       "  </tbody>\n",
       "</table>\n",
       "<p>170 rows × 31 columns</p>\n",
       "</div>"
      ],
      "text/plain": [
       "                                Country  Alcoholic Beverages  Animal fats  \\\n",
       "0                           Afghanistan               0.0014       0.1973   \n",
       "1                               Albania               1.6719       0.1357   \n",
       "2                               Algeria               0.2711       0.0282   \n",
       "3                                Angola               5.8087       0.0560   \n",
       "4                   Antigua and Barbuda               3.5764       0.0087   \n",
       "..                                  ...                  ...          ...   \n",
       "165  Venezuela (Bolivarian Republic of)               2.5952       0.0403   \n",
       "166                             Vietnam               1.4591       0.1640   \n",
       "167                               Yemen               0.0364       0.0446   \n",
       "168                              Zambia               5.7360       0.0829   \n",
       "169                            Zimbabwe               4.0552       0.0755   \n",
       "\n",
       "     Animal Products  Aquatic Products, Other  Cereals - Excluding Beer  \\\n",
       "0             9.4341                   0.0000                   24.8097   \n",
       "1            18.7684                   0.0000                    5.7817   \n",
       "2             9.6334                   0.0000                   13.6816   \n",
       "3             4.9278                   0.0000                    9.1085   \n",
       "4            16.6613                   0.0000                    5.9960   \n",
       "..               ...                      ...                       ...   \n",
       "165          14.7565                   0.0000                   12.9253   \n",
       "166           8.5765                   0.0042                   16.8740   \n",
       "167           5.7874                   0.0000                   27.2077   \n",
       "168           6.0197                   0.0000                   21.1938   \n",
       "169           8.1489                   0.0000                   22.6240   \n",
       "\n",
       "       Eggs  Fish, Seafood  Fruits - Excluding Wine    Meat  \\\n",
       "0    0.2099         0.0350                   5.3495  1.2020   \n",
       "1    0.5815         0.2126                   6.7861  1.8845   \n",
       "2    0.5277         0.2416                   6.3801  1.1305   \n",
       "3    0.0587         1.7707                   6.0005  2.0571   \n",
       "4    0.2274         4.1489                  10.7451  5.6888   \n",
       "..      ...            ...                      ...     ...   \n",
       "165  0.3389         0.9456                   7.6460  3.8328   \n",
       "166  0.3077         2.6392                   5.9029  4.4382   \n",
       "167  0.2579         0.5240                   5.1344  2.7871   \n",
       "168  0.3399         1.6924                   1.0183  1.8427   \n",
       "169  0.2678         0.5518                   2.2000  2.6142   \n",
       "\n",
       "     Milk - Excluding Butter  Miscellaneous  Offals  Oilcrops  Pulses  Spices  \\\n",
       "0                     7.5828         0.0728  0.2057    0.0700  0.2953  0.0574   \n",
       "1                    15.7213         0.1123  0.2324    0.9377  0.2380  0.0008   \n",
       "2                     7.6189         0.1671  0.0870    0.3493  0.4783  0.0557   \n",
       "3                     0.8311         0.1165  0.1550    0.4186  0.6507  0.0009   \n",
       "4                     6.3663         0.7139  0.2219    0.2172  0.1840  0.1524   \n",
       "..                       ...            ...     ...       ...     ...     ...   \n",
       "165                   9.3920         0.0702  0.2078    0.0281  0.3342  0.0009   \n",
       "166                   0.6069         0.0126  0.4149    0.8410  0.2032  0.2074   \n",
       "167                   1.8911         0.2033  0.2827    0.0893  0.8645  0.0347   \n",
       "168                   1.7570         0.2149  0.3048    1.8736  0.1756  0.0478   \n",
       "169                   4.4310         0.2012  0.2086    0.4498  0.4261  0.0252   \n",
       "\n",
       "     Starchy Roots  Stimulants  Sugar & Sweeteners  Sugar Crops  Treenuts  \\\n",
       "0           0.8802      0.3078              1.3489        0.000    0.0770   \n",
       "1           1.8096      0.1055              1.5367        0.000    0.1515   \n",
       "2           4.1340      0.2216              1.8342        0.000    0.1152   \n",
       "3          18.1102      0.0508              1.8495        0.000    0.0061   \n",
       "4           1.4522      0.1564              3.8749        0.000    0.0253   \n",
       "..             ...         ...                 ...          ...       ...   \n",
       "165         2.5643      0.1479              3.4106        0.000    0.0009   \n",
       "166         1.0596      0.2880              1.2846        0.815    0.3070   \n",
       "167         1.0794      0.2199              5.0468        0.000    0.0017   \n",
       "168         7.9649      0.0618              1.5632        0.000    0.0014   \n",
       "169         2.9870      0.1494              4.6485        0.000    0.0518   \n",
       "\n",
       "     Vegetable Oils  Vegetables  Vegetal Products  Obesity Undernourished  \\\n",
       "0            0.5345      6.7642           40.5645      4.5              3   \n",
       "1            0.3261     11.7753           31.2304     22.3              1   \n",
       "2            1.0310     11.6484           40.3651     26.6              1   \n",
       "3            0.6463      2.3041           45.0722      6.8              3   \n",
       "4            0.8102      5.4495           33.3233     19.1              2   \n",
       "..              ...         ...               ...      ...            ...   \n",
       "165          1.3734      4.1474           35.2416     25.2              3   \n",
       "166          0.2201     11.9508           41.4232      2.1              2   \n",
       "167          1.0811      3.2135           44.2126     14.1              3   \n",
       "168          0.6657      3.4649           43.9789      6.5              3   \n",
       "169          1.7103      2.3213           41.8526     12.3              3   \n",
       "\n",
       "     Confirmed    Deaths  Recovered    Active  Population  \n",
       "0     0.142134  0.006186   0.123374  0.012574  38928000.0  \n",
       "1     2.967301  0.050951   1.792636  1.123714   2838000.0  \n",
       "2     0.244897  0.006558   0.167572  0.070767  44357000.0  \n",
       "3     0.061687  0.001461   0.056808  0.003419  32522000.0  \n",
       "4     0.293878  0.007143   0.190816  0.095918     98000.0  \n",
       "..         ...       ...        ...       ...         ...  \n",
       "165   0.452585  0.004287   0.424399  0.023899  28645000.0  \n",
       "166   0.002063  0.000036   0.001526  0.000501  96209000.0  \n",
       "167   0.007131  0.002062   0.004788  0.000282  29826000.0  \n",
       "168   0.334133  0.004564   0.290524  0.039045  18384000.0  \n",
       "169   0.232033  0.008854   0.190964  0.032214  14863000.0  \n",
       "\n",
       "[170 rows x 31 columns]"
      ]
     },
     "execution_count": 21,
     "metadata": {},
     "output_type": "execute_result"
    }
   ],
   "source": [
    "data"
   ]
  },
  {
   "cell_type": "code",
   "execution_count": 22,
   "id": "32d54c34-07b1-4d8c-8cdf-9fd642d19581",
   "metadata": {},
   "outputs": [],
   "source": [
    "data = data.drop('Country', axis=1)\n",
    "\n",
    "data = data.drop(['Confirmed', 'Recovered', 'Active'], axis=1)"
   ]
  },
  {
   "cell_type": "code",
   "execution_count": 23,
   "id": "5d82dde6-ee4a-4652-85f1-198d9c11fefd",
   "metadata": {},
   "outputs": [
    {
     "data": {
      "text/html": [
       "<div>\n",
       "<style scoped>\n",
       "    .dataframe tbody tr th:only-of-type {\n",
       "        vertical-align: middle;\n",
       "    }\n",
       "\n",
       "    .dataframe tbody tr th {\n",
       "        vertical-align: top;\n",
       "    }\n",
       "\n",
       "    .dataframe thead th {\n",
       "        text-align: right;\n",
       "    }\n",
       "</style>\n",
       "<table border=\"1\" class=\"dataframe\">\n",
       "  <thead>\n",
       "    <tr style=\"text-align: right;\">\n",
       "      <th></th>\n",
       "      <th>Alcoholic Beverages</th>\n",
       "      <th>Animal fats</th>\n",
       "      <th>Animal Products</th>\n",
       "      <th>Aquatic Products, Other</th>\n",
       "      <th>Cereals - Excluding Beer</th>\n",
       "      <th>Eggs</th>\n",
       "      <th>Fish, Seafood</th>\n",
       "      <th>Fruits - Excluding Wine</th>\n",
       "      <th>Meat</th>\n",
       "      <th>Milk - Excluding Butter</th>\n",
       "      <th>Miscellaneous</th>\n",
       "      <th>Offals</th>\n",
       "      <th>Oilcrops</th>\n",
       "      <th>Pulses</th>\n",
       "      <th>Spices</th>\n",
       "      <th>Starchy Roots</th>\n",
       "      <th>Stimulants</th>\n",
       "      <th>Sugar &amp; Sweeteners</th>\n",
       "      <th>Sugar Crops</th>\n",
       "      <th>Treenuts</th>\n",
       "      <th>Vegetable Oils</th>\n",
       "      <th>Vegetables</th>\n",
       "      <th>Vegetal Products</th>\n",
       "      <th>Obesity</th>\n",
       "      <th>Undernourished</th>\n",
       "      <th>Deaths</th>\n",
       "      <th>Population</th>\n",
       "    </tr>\n",
       "  </thead>\n",
       "  <tbody>\n",
       "    <tr>\n",
       "      <th>0</th>\n",
       "      <td>0.0014</td>\n",
       "      <td>0.1973</td>\n",
       "      <td>9.4341</td>\n",
       "      <td>0.0000</td>\n",
       "      <td>24.8097</td>\n",
       "      <td>0.2099</td>\n",
       "      <td>0.0350</td>\n",
       "      <td>5.3495</td>\n",
       "      <td>1.2020</td>\n",
       "      <td>7.5828</td>\n",
       "      <td>0.0728</td>\n",
       "      <td>0.2057</td>\n",
       "      <td>0.0700</td>\n",
       "      <td>0.2953</td>\n",
       "      <td>0.0574</td>\n",
       "      <td>0.8802</td>\n",
       "      <td>0.3078</td>\n",
       "      <td>1.3489</td>\n",
       "      <td>0.000</td>\n",
       "      <td>0.0770</td>\n",
       "      <td>0.5345</td>\n",
       "      <td>6.7642</td>\n",
       "      <td>40.5645</td>\n",
       "      <td>4.5</td>\n",
       "      <td>3</td>\n",
       "      <td>0.006186</td>\n",
       "      <td>38928000.0</td>\n",
       "    </tr>\n",
       "    <tr>\n",
       "      <th>1</th>\n",
       "      <td>1.6719</td>\n",
       "      <td>0.1357</td>\n",
       "      <td>18.7684</td>\n",
       "      <td>0.0000</td>\n",
       "      <td>5.7817</td>\n",
       "      <td>0.5815</td>\n",
       "      <td>0.2126</td>\n",
       "      <td>6.7861</td>\n",
       "      <td>1.8845</td>\n",
       "      <td>15.7213</td>\n",
       "      <td>0.1123</td>\n",
       "      <td>0.2324</td>\n",
       "      <td>0.9377</td>\n",
       "      <td>0.2380</td>\n",
       "      <td>0.0008</td>\n",
       "      <td>1.8096</td>\n",
       "      <td>0.1055</td>\n",
       "      <td>1.5367</td>\n",
       "      <td>0.000</td>\n",
       "      <td>0.1515</td>\n",
       "      <td>0.3261</td>\n",
       "      <td>11.7753</td>\n",
       "      <td>31.2304</td>\n",
       "      <td>22.3</td>\n",
       "      <td>1</td>\n",
       "      <td>0.050951</td>\n",
       "      <td>2838000.0</td>\n",
       "    </tr>\n",
       "    <tr>\n",
       "      <th>2</th>\n",
       "      <td>0.2711</td>\n",
       "      <td>0.0282</td>\n",
       "      <td>9.6334</td>\n",
       "      <td>0.0000</td>\n",
       "      <td>13.6816</td>\n",
       "      <td>0.5277</td>\n",
       "      <td>0.2416</td>\n",
       "      <td>6.3801</td>\n",
       "      <td>1.1305</td>\n",
       "      <td>7.6189</td>\n",
       "      <td>0.1671</td>\n",
       "      <td>0.0870</td>\n",
       "      <td>0.3493</td>\n",
       "      <td>0.4783</td>\n",
       "      <td>0.0557</td>\n",
       "      <td>4.1340</td>\n",
       "      <td>0.2216</td>\n",
       "      <td>1.8342</td>\n",
       "      <td>0.000</td>\n",
       "      <td>0.1152</td>\n",
       "      <td>1.0310</td>\n",
       "      <td>11.6484</td>\n",
       "      <td>40.3651</td>\n",
       "      <td>26.6</td>\n",
       "      <td>1</td>\n",
       "      <td>0.006558</td>\n",
       "      <td>44357000.0</td>\n",
       "    </tr>\n",
       "    <tr>\n",
       "      <th>3</th>\n",
       "      <td>5.8087</td>\n",
       "      <td>0.0560</td>\n",
       "      <td>4.9278</td>\n",
       "      <td>0.0000</td>\n",
       "      <td>9.1085</td>\n",
       "      <td>0.0587</td>\n",
       "      <td>1.7707</td>\n",
       "      <td>6.0005</td>\n",
       "      <td>2.0571</td>\n",
       "      <td>0.8311</td>\n",
       "      <td>0.1165</td>\n",
       "      <td>0.1550</td>\n",
       "      <td>0.4186</td>\n",
       "      <td>0.6507</td>\n",
       "      <td>0.0009</td>\n",
       "      <td>18.1102</td>\n",
       "      <td>0.0508</td>\n",
       "      <td>1.8495</td>\n",
       "      <td>0.000</td>\n",
       "      <td>0.0061</td>\n",
       "      <td>0.6463</td>\n",
       "      <td>2.3041</td>\n",
       "      <td>45.0722</td>\n",
       "      <td>6.8</td>\n",
       "      <td>3</td>\n",
       "      <td>0.001461</td>\n",
       "      <td>32522000.0</td>\n",
       "    </tr>\n",
       "    <tr>\n",
       "      <th>4</th>\n",
       "      <td>3.5764</td>\n",
       "      <td>0.0087</td>\n",
       "      <td>16.6613</td>\n",
       "      <td>0.0000</td>\n",
       "      <td>5.9960</td>\n",
       "      <td>0.2274</td>\n",
       "      <td>4.1489</td>\n",
       "      <td>10.7451</td>\n",
       "      <td>5.6888</td>\n",
       "      <td>6.3663</td>\n",
       "      <td>0.7139</td>\n",
       "      <td>0.2219</td>\n",
       "      <td>0.2172</td>\n",
       "      <td>0.1840</td>\n",
       "      <td>0.1524</td>\n",
       "      <td>1.4522</td>\n",
       "      <td>0.1564</td>\n",
       "      <td>3.8749</td>\n",
       "      <td>0.000</td>\n",
       "      <td>0.0253</td>\n",
       "      <td>0.8102</td>\n",
       "      <td>5.4495</td>\n",
       "      <td>33.3233</td>\n",
       "      <td>19.1</td>\n",
       "      <td>2</td>\n",
       "      <td>0.007143</td>\n",
       "      <td>98000.0</td>\n",
       "    </tr>\n",
       "    <tr>\n",
       "      <th>...</th>\n",
       "      <td>...</td>\n",
       "      <td>...</td>\n",
       "      <td>...</td>\n",
       "      <td>...</td>\n",
       "      <td>...</td>\n",
       "      <td>...</td>\n",
       "      <td>...</td>\n",
       "      <td>...</td>\n",
       "      <td>...</td>\n",
       "      <td>...</td>\n",
       "      <td>...</td>\n",
       "      <td>...</td>\n",
       "      <td>...</td>\n",
       "      <td>...</td>\n",
       "      <td>...</td>\n",
       "      <td>...</td>\n",
       "      <td>...</td>\n",
       "      <td>...</td>\n",
       "      <td>...</td>\n",
       "      <td>...</td>\n",
       "      <td>...</td>\n",
       "      <td>...</td>\n",
       "      <td>...</td>\n",
       "      <td>...</td>\n",
       "      <td>...</td>\n",
       "      <td>...</td>\n",
       "      <td>...</td>\n",
       "    </tr>\n",
       "    <tr>\n",
       "      <th>165</th>\n",
       "      <td>2.5952</td>\n",
       "      <td>0.0403</td>\n",
       "      <td>14.7565</td>\n",
       "      <td>0.0000</td>\n",
       "      <td>12.9253</td>\n",
       "      <td>0.3389</td>\n",
       "      <td>0.9456</td>\n",
       "      <td>7.6460</td>\n",
       "      <td>3.8328</td>\n",
       "      <td>9.3920</td>\n",
       "      <td>0.0702</td>\n",
       "      <td>0.2078</td>\n",
       "      <td>0.0281</td>\n",
       "      <td>0.3342</td>\n",
       "      <td>0.0009</td>\n",
       "      <td>2.5643</td>\n",
       "      <td>0.1479</td>\n",
       "      <td>3.4106</td>\n",
       "      <td>0.000</td>\n",
       "      <td>0.0009</td>\n",
       "      <td>1.3734</td>\n",
       "      <td>4.1474</td>\n",
       "      <td>35.2416</td>\n",
       "      <td>25.2</td>\n",
       "      <td>3</td>\n",
       "      <td>0.004287</td>\n",
       "      <td>28645000.0</td>\n",
       "    </tr>\n",
       "    <tr>\n",
       "      <th>166</th>\n",
       "      <td>1.4591</td>\n",
       "      <td>0.1640</td>\n",
       "      <td>8.5765</td>\n",
       "      <td>0.0042</td>\n",
       "      <td>16.8740</td>\n",
       "      <td>0.3077</td>\n",
       "      <td>2.6392</td>\n",
       "      <td>5.9029</td>\n",
       "      <td>4.4382</td>\n",
       "      <td>0.6069</td>\n",
       "      <td>0.0126</td>\n",
       "      <td>0.4149</td>\n",
       "      <td>0.8410</td>\n",
       "      <td>0.2032</td>\n",
       "      <td>0.2074</td>\n",
       "      <td>1.0596</td>\n",
       "      <td>0.2880</td>\n",
       "      <td>1.2846</td>\n",
       "      <td>0.815</td>\n",
       "      <td>0.3070</td>\n",
       "      <td>0.2201</td>\n",
       "      <td>11.9508</td>\n",
       "      <td>41.4232</td>\n",
       "      <td>2.1</td>\n",
       "      <td>2</td>\n",
       "      <td>0.000036</td>\n",
       "      <td>96209000.0</td>\n",
       "    </tr>\n",
       "    <tr>\n",
       "      <th>167</th>\n",
       "      <td>0.0364</td>\n",
       "      <td>0.0446</td>\n",
       "      <td>5.7874</td>\n",
       "      <td>0.0000</td>\n",
       "      <td>27.2077</td>\n",
       "      <td>0.2579</td>\n",
       "      <td>0.5240</td>\n",
       "      <td>5.1344</td>\n",
       "      <td>2.7871</td>\n",
       "      <td>1.8911</td>\n",
       "      <td>0.2033</td>\n",
       "      <td>0.2827</td>\n",
       "      <td>0.0893</td>\n",
       "      <td>0.8645</td>\n",
       "      <td>0.0347</td>\n",
       "      <td>1.0794</td>\n",
       "      <td>0.2199</td>\n",
       "      <td>5.0468</td>\n",
       "      <td>0.000</td>\n",
       "      <td>0.0017</td>\n",
       "      <td>1.0811</td>\n",
       "      <td>3.2135</td>\n",
       "      <td>44.2126</td>\n",
       "      <td>14.1</td>\n",
       "      <td>3</td>\n",
       "      <td>0.002062</td>\n",
       "      <td>29826000.0</td>\n",
       "    </tr>\n",
       "    <tr>\n",
       "      <th>168</th>\n",
       "      <td>5.7360</td>\n",
       "      <td>0.0829</td>\n",
       "      <td>6.0197</td>\n",
       "      <td>0.0000</td>\n",
       "      <td>21.1938</td>\n",
       "      <td>0.3399</td>\n",
       "      <td>1.6924</td>\n",
       "      <td>1.0183</td>\n",
       "      <td>1.8427</td>\n",
       "      <td>1.7570</td>\n",
       "      <td>0.2149</td>\n",
       "      <td>0.3048</td>\n",
       "      <td>1.8736</td>\n",
       "      <td>0.1756</td>\n",
       "      <td>0.0478</td>\n",
       "      <td>7.9649</td>\n",
       "      <td>0.0618</td>\n",
       "      <td>1.5632</td>\n",
       "      <td>0.000</td>\n",
       "      <td>0.0014</td>\n",
       "      <td>0.6657</td>\n",
       "      <td>3.4649</td>\n",
       "      <td>43.9789</td>\n",
       "      <td>6.5</td>\n",
       "      <td>3</td>\n",
       "      <td>0.004564</td>\n",
       "      <td>18384000.0</td>\n",
       "    </tr>\n",
       "    <tr>\n",
       "      <th>169</th>\n",
       "      <td>4.0552</td>\n",
       "      <td>0.0755</td>\n",
       "      <td>8.1489</td>\n",
       "      <td>0.0000</td>\n",
       "      <td>22.6240</td>\n",
       "      <td>0.2678</td>\n",
       "      <td>0.5518</td>\n",
       "      <td>2.2000</td>\n",
       "      <td>2.6142</td>\n",
       "      <td>4.4310</td>\n",
       "      <td>0.2012</td>\n",
       "      <td>0.2086</td>\n",
       "      <td>0.4498</td>\n",
       "      <td>0.4261</td>\n",
       "      <td>0.0252</td>\n",
       "      <td>2.9870</td>\n",
       "      <td>0.1494</td>\n",
       "      <td>4.6485</td>\n",
       "      <td>0.000</td>\n",
       "      <td>0.0518</td>\n",
       "      <td>1.7103</td>\n",
       "      <td>2.3213</td>\n",
       "      <td>41.8526</td>\n",
       "      <td>12.3</td>\n",
       "      <td>3</td>\n",
       "      <td>0.008854</td>\n",
       "      <td>14863000.0</td>\n",
       "    </tr>\n",
       "  </tbody>\n",
       "</table>\n",
       "<p>170 rows × 27 columns</p>\n",
       "</div>"
      ],
      "text/plain": [
       "     Alcoholic Beverages  Animal fats  Animal Products  \\\n",
       "0                 0.0014       0.1973           9.4341   \n",
       "1                 1.6719       0.1357          18.7684   \n",
       "2                 0.2711       0.0282           9.6334   \n",
       "3                 5.8087       0.0560           4.9278   \n",
       "4                 3.5764       0.0087          16.6613   \n",
       "..                   ...          ...              ...   \n",
       "165               2.5952       0.0403          14.7565   \n",
       "166               1.4591       0.1640           8.5765   \n",
       "167               0.0364       0.0446           5.7874   \n",
       "168               5.7360       0.0829           6.0197   \n",
       "169               4.0552       0.0755           8.1489   \n",
       "\n",
       "     Aquatic Products, Other  Cereals - Excluding Beer    Eggs  Fish, Seafood  \\\n",
       "0                     0.0000                   24.8097  0.2099         0.0350   \n",
       "1                     0.0000                    5.7817  0.5815         0.2126   \n",
       "2                     0.0000                   13.6816  0.5277         0.2416   \n",
       "3                     0.0000                    9.1085  0.0587         1.7707   \n",
       "4                     0.0000                    5.9960  0.2274         4.1489   \n",
       "..                       ...                       ...     ...            ...   \n",
       "165                   0.0000                   12.9253  0.3389         0.9456   \n",
       "166                   0.0042                   16.8740  0.3077         2.6392   \n",
       "167                   0.0000                   27.2077  0.2579         0.5240   \n",
       "168                   0.0000                   21.1938  0.3399         1.6924   \n",
       "169                   0.0000                   22.6240  0.2678         0.5518   \n",
       "\n",
       "     Fruits - Excluding Wine    Meat  Milk - Excluding Butter  Miscellaneous  \\\n",
       "0                     5.3495  1.2020                   7.5828         0.0728   \n",
       "1                     6.7861  1.8845                  15.7213         0.1123   \n",
       "2                     6.3801  1.1305                   7.6189         0.1671   \n",
       "3                     6.0005  2.0571                   0.8311         0.1165   \n",
       "4                    10.7451  5.6888                   6.3663         0.7139   \n",
       "..                       ...     ...                      ...            ...   \n",
       "165                   7.6460  3.8328                   9.3920         0.0702   \n",
       "166                   5.9029  4.4382                   0.6069         0.0126   \n",
       "167                   5.1344  2.7871                   1.8911         0.2033   \n",
       "168                   1.0183  1.8427                   1.7570         0.2149   \n",
       "169                   2.2000  2.6142                   4.4310         0.2012   \n",
       "\n",
       "     Offals  Oilcrops  Pulses  Spices  Starchy Roots  Stimulants  \\\n",
       "0    0.2057    0.0700  0.2953  0.0574         0.8802      0.3078   \n",
       "1    0.2324    0.9377  0.2380  0.0008         1.8096      0.1055   \n",
       "2    0.0870    0.3493  0.4783  0.0557         4.1340      0.2216   \n",
       "3    0.1550    0.4186  0.6507  0.0009        18.1102      0.0508   \n",
       "4    0.2219    0.2172  0.1840  0.1524         1.4522      0.1564   \n",
       "..      ...       ...     ...     ...            ...         ...   \n",
       "165  0.2078    0.0281  0.3342  0.0009         2.5643      0.1479   \n",
       "166  0.4149    0.8410  0.2032  0.2074         1.0596      0.2880   \n",
       "167  0.2827    0.0893  0.8645  0.0347         1.0794      0.2199   \n",
       "168  0.3048    1.8736  0.1756  0.0478         7.9649      0.0618   \n",
       "169  0.2086    0.4498  0.4261  0.0252         2.9870      0.1494   \n",
       "\n",
       "     Sugar & Sweeteners  Sugar Crops  Treenuts  Vegetable Oils  Vegetables  \\\n",
       "0                1.3489        0.000    0.0770          0.5345      6.7642   \n",
       "1                1.5367        0.000    0.1515          0.3261     11.7753   \n",
       "2                1.8342        0.000    0.1152          1.0310     11.6484   \n",
       "3                1.8495        0.000    0.0061          0.6463      2.3041   \n",
       "4                3.8749        0.000    0.0253          0.8102      5.4495   \n",
       "..                  ...          ...       ...             ...         ...   \n",
       "165              3.4106        0.000    0.0009          1.3734      4.1474   \n",
       "166              1.2846        0.815    0.3070          0.2201     11.9508   \n",
       "167              5.0468        0.000    0.0017          1.0811      3.2135   \n",
       "168              1.5632        0.000    0.0014          0.6657      3.4649   \n",
       "169              4.6485        0.000    0.0518          1.7103      2.3213   \n",
       "\n",
       "     Vegetal Products  Obesity Undernourished    Deaths  Population  \n",
       "0             40.5645      4.5              3  0.006186  38928000.0  \n",
       "1             31.2304     22.3              1  0.050951   2838000.0  \n",
       "2             40.3651     26.6              1  0.006558  44357000.0  \n",
       "3             45.0722      6.8              3  0.001461  32522000.0  \n",
       "4             33.3233     19.1              2  0.007143     98000.0  \n",
       "..                ...      ...            ...       ...         ...  \n",
       "165           35.2416     25.2              3  0.004287  28645000.0  \n",
       "166           41.4232      2.1              2  0.000036  96209000.0  \n",
       "167           44.2126     14.1              3  0.002062  29826000.0  \n",
       "168           43.9789      6.5              3  0.004564  18384000.0  \n",
       "169           41.8526     12.3              3  0.008854  14863000.0  \n",
       "\n",
       "[170 rows x 27 columns]"
      ]
     },
     "execution_count": 23,
     "metadata": {},
     "output_type": "execute_result"
    }
   ],
   "source": [
    "data"
   ]
  },
  {
   "cell_type": "code",
   "execution_count": 25,
   "id": "eac2c9be-59a9-4eca-a38c-afd3cb9343bb",
   "metadata": {},
   "outputs": [
    {
     "data": {
      "text/plain": [
       "Deaths\n",
       "0    85\n",
       "1    85\n",
       "Name: count, dtype: int64"
      ]
     },
     "execution_count": 25,
     "metadata": {},
     "output_type": "execute_result"
    }
   ],
   "source": [
    "pd.qcut(data['Deaths'], q=2, labels=[0, 1]).value_counts()"
   ]
  },
  {
   "cell_type": "code",
   "execution_count": 26,
   "id": "aa0d5910-24f2-47be-b467-ef27ffc6ee02",
   "metadata": {},
   "outputs": [],
   "source": [
    "data['Deaths'] = pd.qcut(data['Deaths'], q=2, labels=[0,1])"
   ]
  },
  {
   "cell_type": "markdown",
   "id": "e45efc61-ffcd-406e-bf79-e43373223205",
   "metadata": {},
   "source": [
    "#### Splitting/Scaling"
   ]
  },
  {
   "cell_type": "code",
   "execution_count": 27,
   "id": "f1ed9636-fee9-44ba-85e3-0d2c59197187",
   "metadata": {},
   "outputs": [
    {
     "data": {
      "text/html": [
       "<div>\n",
       "<style scoped>\n",
       "    .dataframe tbody tr th:only-of-type {\n",
       "        vertical-align: middle;\n",
       "    }\n",
       "\n",
       "    .dataframe tbody tr th {\n",
       "        vertical-align: top;\n",
       "    }\n",
       "\n",
       "    .dataframe thead th {\n",
       "        text-align: right;\n",
       "    }\n",
       "</style>\n",
       "<table border=\"1\" class=\"dataframe\">\n",
       "  <thead>\n",
       "    <tr style=\"text-align: right;\">\n",
       "      <th></th>\n",
       "      <th>Alcoholic Beverages</th>\n",
       "      <th>Animal fats</th>\n",
       "      <th>Animal Products</th>\n",
       "      <th>Aquatic Products, Other</th>\n",
       "      <th>Cereals - Excluding Beer</th>\n",
       "      <th>Eggs</th>\n",
       "      <th>Fish, Seafood</th>\n",
       "      <th>Fruits - Excluding Wine</th>\n",
       "      <th>Meat</th>\n",
       "      <th>Milk - Excluding Butter</th>\n",
       "      <th>Miscellaneous</th>\n",
       "      <th>Offals</th>\n",
       "      <th>Oilcrops</th>\n",
       "      <th>Pulses</th>\n",
       "      <th>Spices</th>\n",
       "      <th>Starchy Roots</th>\n",
       "      <th>Stimulants</th>\n",
       "      <th>Sugar &amp; Sweeteners</th>\n",
       "      <th>Sugar Crops</th>\n",
       "      <th>Treenuts</th>\n",
       "      <th>Vegetable Oils</th>\n",
       "      <th>Vegetables</th>\n",
       "      <th>Vegetal Products</th>\n",
       "      <th>Obesity</th>\n",
       "      <th>Undernourished</th>\n",
       "      <th>Deaths</th>\n",
       "      <th>Population</th>\n",
       "    </tr>\n",
       "  </thead>\n",
       "  <tbody>\n",
       "    <tr>\n",
       "      <th>0</th>\n",
       "      <td>0.0014</td>\n",
       "      <td>0.1973</td>\n",
       "      <td>9.4341</td>\n",
       "      <td>0.0000</td>\n",
       "      <td>24.8097</td>\n",
       "      <td>0.2099</td>\n",
       "      <td>0.0350</td>\n",
       "      <td>5.3495</td>\n",
       "      <td>1.2020</td>\n",
       "      <td>7.5828</td>\n",
       "      <td>0.0728</td>\n",
       "      <td>0.2057</td>\n",
       "      <td>0.0700</td>\n",
       "      <td>0.2953</td>\n",
       "      <td>0.0574</td>\n",
       "      <td>0.8802</td>\n",
       "      <td>0.3078</td>\n",
       "      <td>1.3489</td>\n",
       "      <td>0.000</td>\n",
       "      <td>0.0770</td>\n",
       "      <td>0.5345</td>\n",
       "      <td>6.7642</td>\n",
       "      <td>40.5645</td>\n",
       "      <td>4.5</td>\n",
       "      <td>3</td>\n",
       "      <td>0</td>\n",
       "      <td>38928000.0</td>\n",
       "    </tr>\n",
       "    <tr>\n",
       "      <th>1</th>\n",
       "      <td>1.6719</td>\n",
       "      <td>0.1357</td>\n",
       "      <td>18.7684</td>\n",
       "      <td>0.0000</td>\n",
       "      <td>5.7817</td>\n",
       "      <td>0.5815</td>\n",
       "      <td>0.2126</td>\n",
       "      <td>6.7861</td>\n",
       "      <td>1.8845</td>\n",
       "      <td>15.7213</td>\n",
       "      <td>0.1123</td>\n",
       "      <td>0.2324</td>\n",
       "      <td>0.9377</td>\n",
       "      <td>0.2380</td>\n",
       "      <td>0.0008</td>\n",
       "      <td>1.8096</td>\n",
       "      <td>0.1055</td>\n",
       "      <td>1.5367</td>\n",
       "      <td>0.000</td>\n",
       "      <td>0.1515</td>\n",
       "      <td>0.3261</td>\n",
       "      <td>11.7753</td>\n",
       "      <td>31.2304</td>\n",
       "      <td>22.3</td>\n",
       "      <td>1</td>\n",
       "      <td>1</td>\n",
       "      <td>2838000.0</td>\n",
       "    </tr>\n",
       "    <tr>\n",
       "      <th>2</th>\n",
       "      <td>0.2711</td>\n",
       "      <td>0.0282</td>\n",
       "      <td>9.6334</td>\n",
       "      <td>0.0000</td>\n",
       "      <td>13.6816</td>\n",
       "      <td>0.5277</td>\n",
       "      <td>0.2416</td>\n",
       "      <td>6.3801</td>\n",
       "      <td>1.1305</td>\n",
       "      <td>7.6189</td>\n",
       "      <td>0.1671</td>\n",
       "      <td>0.0870</td>\n",
       "      <td>0.3493</td>\n",
       "      <td>0.4783</td>\n",
       "      <td>0.0557</td>\n",
       "      <td>4.1340</td>\n",
       "      <td>0.2216</td>\n",
       "      <td>1.8342</td>\n",
       "      <td>0.000</td>\n",
       "      <td>0.1152</td>\n",
       "      <td>1.0310</td>\n",
       "      <td>11.6484</td>\n",
       "      <td>40.3651</td>\n",
       "      <td>26.6</td>\n",
       "      <td>1</td>\n",
       "      <td>0</td>\n",
       "      <td>44357000.0</td>\n",
       "    </tr>\n",
       "    <tr>\n",
       "      <th>3</th>\n",
       "      <td>5.8087</td>\n",
       "      <td>0.0560</td>\n",
       "      <td>4.9278</td>\n",
       "      <td>0.0000</td>\n",
       "      <td>9.1085</td>\n",
       "      <td>0.0587</td>\n",
       "      <td>1.7707</td>\n",
       "      <td>6.0005</td>\n",
       "      <td>2.0571</td>\n",
       "      <td>0.8311</td>\n",
       "      <td>0.1165</td>\n",
       "      <td>0.1550</td>\n",
       "      <td>0.4186</td>\n",
       "      <td>0.6507</td>\n",
       "      <td>0.0009</td>\n",
       "      <td>18.1102</td>\n",
       "      <td>0.0508</td>\n",
       "      <td>1.8495</td>\n",
       "      <td>0.000</td>\n",
       "      <td>0.0061</td>\n",
       "      <td>0.6463</td>\n",
       "      <td>2.3041</td>\n",
       "      <td>45.0722</td>\n",
       "      <td>6.8</td>\n",
       "      <td>3</td>\n",
       "      <td>0</td>\n",
       "      <td>32522000.0</td>\n",
       "    </tr>\n",
       "    <tr>\n",
       "      <th>4</th>\n",
       "      <td>3.5764</td>\n",
       "      <td>0.0087</td>\n",
       "      <td>16.6613</td>\n",
       "      <td>0.0000</td>\n",
       "      <td>5.9960</td>\n",
       "      <td>0.2274</td>\n",
       "      <td>4.1489</td>\n",
       "      <td>10.7451</td>\n",
       "      <td>5.6888</td>\n",
       "      <td>6.3663</td>\n",
       "      <td>0.7139</td>\n",
       "      <td>0.2219</td>\n",
       "      <td>0.2172</td>\n",
       "      <td>0.1840</td>\n",
       "      <td>0.1524</td>\n",
       "      <td>1.4522</td>\n",
       "      <td>0.1564</td>\n",
       "      <td>3.8749</td>\n",
       "      <td>0.000</td>\n",
       "      <td>0.0253</td>\n",
       "      <td>0.8102</td>\n",
       "      <td>5.4495</td>\n",
       "      <td>33.3233</td>\n",
       "      <td>19.1</td>\n",
       "      <td>2</td>\n",
       "      <td>0</td>\n",
       "      <td>98000.0</td>\n",
       "    </tr>\n",
       "    <tr>\n",
       "      <th>...</th>\n",
       "      <td>...</td>\n",
       "      <td>...</td>\n",
       "      <td>...</td>\n",
       "      <td>...</td>\n",
       "      <td>...</td>\n",
       "      <td>...</td>\n",
       "      <td>...</td>\n",
       "      <td>...</td>\n",
       "      <td>...</td>\n",
       "      <td>...</td>\n",
       "      <td>...</td>\n",
       "      <td>...</td>\n",
       "      <td>...</td>\n",
       "      <td>...</td>\n",
       "      <td>...</td>\n",
       "      <td>...</td>\n",
       "      <td>...</td>\n",
       "      <td>...</td>\n",
       "      <td>...</td>\n",
       "      <td>...</td>\n",
       "      <td>...</td>\n",
       "      <td>...</td>\n",
       "      <td>...</td>\n",
       "      <td>...</td>\n",
       "      <td>...</td>\n",
       "      <td>...</td>\n",
       "      <td>...</td>\n",
       "    </tr>\n",
       "    <tr>\n",
       "      <th>165</th>\n",
       "      <td>2.5952</td>\n",
       "      <td>0.0403</td>\n",
       "      <td>14.7565</td>\n",
       "      <td>0.0000</td>\n",
       "      <td>12.9253</td>\n",
       "      <td>0.3389</td>\n",
       "      <td>0.9456</td>\n",
       "      <td>7.6460</td>\n",
       "      <td>3.8328</td>\n",
       "      <td>9.3920</td>\n",
       "      <td>0.0702</td>\n",
       "      <td>0.2078</td>\n",
       "      <td>0.0281</td>\n",
       "      <td>0.3342</td>\n",
       "      <td>0.0009</td>\n",
       "      <td>2.5643</td>\n",
       "      <td>0.1479</td>\n",
       "      <td>3.4106</td>\n",
       "      <td>0.000</td>\n",
       "      <td>0.0009</td>\n",
       "      <td>1.3734</td>\n",
       "      <td>4.1474</td>\n",
       "      <td>35.2416</td>\n",
       "      <td>25.2</td>\n",
       "      <td>3</td>\n",
       "      <td>0</td>\n",
       "      <td>28645000.0</td>\n",
       "    </tr>\n",
       "    <tr>\n",
       "      <th>166</th>\n",
       "      <td>1.4591</td>\n",
       "      <td>0.1640</td>\n",
       "      <td>8.5765</td>\n",
       "      <td>0.0042</td>\n",
       "      <td>16.8740</td>\n",
       "      <td>0.3077</td>\n",
       "      <td>2.6392</td>\n",
       "      <td>5.9029</td>\n",
       "      <td>4.4382</td>\n",
       "      <td>0.6069</td>\n",
       "      <td>0.0126</td>\n",
       "      <td>0.4149</td>\n",
       "      <td>0.8410</td>\n",
       "      <td>0.2032</td>\n",
       "      <td>0.2074</td>\n",
       "      <td>1.0596</td>\n",
       "      <td>0.2880</td>\n",
       "      <td>1.2846</td>\n",
       "      <td>0.815</td>\n",
       "      <td>0.3070</td>\n",
       "      <td>0.2201</td>\n",
       "      <td>11.9508</td>\n",
       "      <td>41.4232</td>\n",
       "      <td>2.1</td>\n",
       "      <td>2</td>\n",
       "      <td>0</td>\n",
       "      <td>96209000.0</td>\n",
       "    </tr>\n",
       "    <tr>\n",
       "      <th>167</th>\n",
       "      <td>0.0364</td>\n",
       "      <td>0.0446</td>\n",
       "      <td>5.7874</td>\n",
       "      <td>0.0000</td>\n",
       "      <td>27.2077</td>\n",
       "      <td>0.2579</td>\n",
       "      <td>0.5240</td>\n",
       "      <td>5.1344</td>\n",
       "      <td>2.7871</td>\n",
       "      <td>1.8911</td>\n",
       "      <td>0.2033</td>\n",
       "      <td>0.2827</td>\n",
       "      <td>0.0893</td>\n",
       "      <td>0.8645</td>\n",
       "      <td>0.0347</td>\n",
       "      <td>1.0794</td>\n",
       "      <td>0.2199</td>\n",
       "      <td>5.0468</td>\n",
       "      <td>0.000</td>\n",
       "      <td>0.0017</td>\n",
       "      <td>1.0811</td>\n",
       "      <td>3.2135</td>\n",
       "      <td>44.2126</td>\n",
       "      <td>14.1</td>\n",
       "      <td>3</td>\n",
       "      <td>0</td>\n",
       "      <td>29826000.0</td>\n",
       "    </tr>\n",
       "    <tr>\n",
       "      <th>168</th>\n",
       "      <td>5.7360</td>\n",
       "      <td>0.0829</td>\n",
       "      <td>6.0197</td>\n",
       "      <td>0.0000</td>\n",
       "      <td>21.1938</td>\n",
       "      <td>0.3399</td>\n",
       "      <td>1.6924</td>\n",
       "      <td>1.0183</td>\n",
       "      <td>1.8427</td>\n",
       "      <td>1.7570</td>\n",
       "      <td>0.2149</td>\n",
       "      <td>0.3048</td>\n",
       "      <td>1.8736</td>\n",
       "      <td>0.1756</td>\n",
       "      <td>0.0478</td>\n",
       "      <td>7.9649</td>\n",
       "      <td>0.0618</td>\n",
       "      <td>1.5632</td>\n",
       "      <td>0.000</td>\n",
       "      <td>0.0014</td>\n",
       "      <td>0.6657</td>\n",
       "      <td>3.4649</td>\n",
       "      <td>43.9789</td>\n",
       "      <td>6.5</td>\n",
       "      <td>3</td>\n",
       "      <td>0</td>\n",
       "      <td>18384000.0</td>\n",
       "    </tr>\n",
       "    <tr>\n",
       "      <th>169</th>\n",
       "      <td>4.0552</td>\n",
       "      <td>0.0755</td>\n",
       "      <td>8.1489</td>\n",
       "      <td>0.0000</td>\n",
       "      <td>22.6240</td>\n",
       "      <td>0.2678</td>\n",
       "      <td>0.5518</td>\n",
       "      <td>2.2000</td>\n",
       "      <td>2.6142</td>\n",
       "      <td>4.4310</td>\n",
       "      <td>0.2012</td>\n",
       "      <td>0.2086</td>\n",
       "      <td>0.4498</td>\n",
       "      <td>0.4261</td>\n",
       "      <td>0.0252</td>\n",
       "      <td>2.9870</td>\n",
       "      <td>0.1494</td>\n",
       "      <td>4.6485</td>\n",
       "      <td>0.000</td>\n",
       "      <td>0.0518</td>\n",
       "      <td>1.7103</td>\n",
       "      <td>2.3213</td>\n",
       "      <td>41.8526</td>\n",
       "      <td>12.3</td>\n",
       "      <td>3</td>\n",
       "      <td>0</td>\n",
       "      <td>14863000.0</td>\n",
       "    </tr>\n",
       "  </tbody>\n",
       "</table>\n",
       "<p>170 rows × 27 columns</p>\n",
       "</div>"
      ],
      "text/plain": [
       "     Alcoholic Beverages  Animal fats  Animal Products  \\\n",
       "0                 0.0014       0.1973           9.4341   \n",
       "1                 1.6719       0.1357          18.7684   \n",
       "2                 0.2711       0.0282           9.6334   \n",
       "3                 5.8087       0.0560           4.9278   \n",
       "4                 3.5764       0.0087          16.6613   \n",
       "..                   ...          ...              ...   \n",
       "165               2.5952       0.0403          14.7565   \n",
       "166               1.4591       0.1640           8.5765   \n",
       "167               0.0364       0.0446           5.7874   \n",
       "168               5.7360       0.0829           6.0197   \n",
       "169               4.0552       0.0755           8.1489   \n",
       "\n",
       "     Aquatic Products, Other  Cereals - Excluding Beer    Eggs  Fish, Seafood  \\\n",
       "0                     0.0000                   24.8097  0.2099         0.0350   \n",
       "1                     0.0000                    5.7817  0.5815         0.2126   \n",
       "2                     0.0000                   13.6816  0.5277         0.2416   \n",
       "3                     0.0000                    9.1085  0.0587         1.7707   \n",
       "4                     0.0000                    5.9960  0.2274         4.1489   \n",
       "..                       ...                       ...     ...            ...   \n",
       "165                   0.0000                   12.9253  0.3389         0.9456   \n",
       "166                   0.0042                   16.8740  0.3077         2.6392   \n",
       "167                   0.0000                   27.2077  0.2579         0.5240   \n",
       "168                   0.0000                   21.1938  0.3399         1.6924   \n",
       "169                   0.0000                   22.6240  0.2678         0.5518   \n",
       "\n",
       "     Fruits - Excluding Wine    Meat  Milk - Excluding Butter  Miscellaneous  \\\n",
       "0                     5.3495  1.2020                   7.5828         0.0728   \n",
       "1                     6.7861  1.8845                  15.7213         0.1123   \n",
       "2                     6.3801  1.1305                   7.6189         0.1671   \n",
       "3                     6.0005  2.0571                   0.8311         0.1165   \n",
       "4                    10.7451  5.6888                   6.3663         0.7139   \n",
       "..                       ...     ...                      ...            ...   \n",
       "165                   7.6460  3.8328                   9.3920         0.0702   \n",
       "166                   5.9029  4.4382                   0.6069         0.0126   \n",
       "167                   5.1344  2.7871                   1.8911         0.2033   \n",
       "168                   1.0183  1.8427                   1.7570         0.2149   \n",
       "169                   2.2000  2.6142                   4.4310         0.2012   \n",
       "\n",
       "     Offals  Oilcrops  Pulses  Spices  Starchy Roots  Stimulants  \\\n",
       "0    0.2057    0.0700  0.2953  0.0574         0.8802      0.3078   \n",
       "1    0.2324    0.9377  0.2380  0.0008         1.8096      0.1055   \n",
       "2    0.0870    0.3493  0.4783  0.0557         4.1340      0.2216   \n",
       "3    0.1550    0.4186  0.6507  0.0009        18.1102      0.0508   \n",
       "4    0.2219    0.2172  0.1840  0.1524         1.4522      0.1564   \n",
       "..      ...       ...     ...     ...            ...         ...   \n",
       "165  0.2078    0.0281  0.3342  0.0009         2.5643      0.1479   \n",
       "166  0.4149    0.8410  0.2032  0.2074         1.0596      0.2880   \n",
       "167  0.2827    0.0893  0.8645  0.0347         1.0794      0.2199   \n",
       "168  0.3048    1.8736  0.1756  0.0478         7.9649      0.0618   \n",
       "169  0.2086    0.4498  0.4261  0.0252         2.9870      0.1494   \n",
       "\n",
       "     Sugar & Sweeteners  Sugar Crops  Treenuts  Vegetable Oils  Vegetables  \\\n",
       "0                1.3489        0.000    0.0770          0.5345      6.7642   \n",
       "1                1.5367        0.000    0.1515          0.3261     11.7753   \n",
       "2                1.8342        0.000    0.1152          1.0310     11.6484   \n",
       "3                1.8495        0.000    0.0061          0.6463      2.3041   \n",
       "4                3.8749        0.000    0.0253          0.8102      5.4495   \n",
       "..                  ...          ...       ...             ...         ...   \n",
       "165              3.4106        0.000    0.0009          1.3734      4.1474   \n",
       "166              1.2846        0.815    0.3070          0.2201     11.9508   \n",
       "167              5.0468        0.000    0.0017          1.0811      3.2135   \n",
       "168              1.5632        0.000    0.0014          0.6657      3.4649   \n",
       "169              4.6485        0.000    0.0518          1.7103      2.3213   \n",
       "\n",
       "     Vegetal Products  Obesity Undernourished Deaths  Population  \n",
       "0             40.5645      4.5              3      0  38928000.0  \n",
       "1             31.2304     22.3              1      1   2838000.0  \n",
       "2             40.3651     26.6              1      0  44357000.0  \n",
       "3             45.0722      6.8              3      0  32522000.0  \n",
       "4             33.3233     19.1              2      0     98000.0  \n",
       "..                ...      ...            ...    ...         ...  \n",
       "165           35.2416     25.2              3      0  28645000.0  \n",
       "166           41.4232      2.1              2      0  96209000.0  \n",
       "167           44.2126     14.1              3      0  29826000.0  \n",
       "168           43.9789      6.5              3      0  18384000.0  \n",
       "169           41.8526     12.3              3      0  14863000.0  \n",
       "\n",
       "[170 rows x 27 columns]"
      ]
     },
     "execution_count": 27,
     "metadata": {},
     "output_type": "execute_result"
    }
   ],
   "source": [
    "data"
   ]
  },
  {
   "cell_type": "code",
   "execution_count": 28,
   "id": "df92ebbb-2ab1-4a2c-94dd-557f0c122096",
   "metadata": {},
   "outputs": [],
   "source": [
    "y = data['Deaths']\n",
    "X = data.drop('Deaths', axis=1)"
   ]
  },
  {
   "cell_type": "code",
   "execution_count": 29,
   "id": "cacf2880-5a0e-4894-986b-d8e5714e5825",
   "metadata": {},
   "outputs": [],
   "source": [
    "scaler = StandardScaler()\n",
    "\n",
    "X = pd.DataFrame(scaler.fit_transform(X), columns=X.columns)"
   ]
  },
  {
   "cell_type": "code",
   "execution_count": 30,
   "id": "1dcaaefb-d7a6-4a93-b94c-fb45e5959253",
   "metadata": {},
   "outputs": [],
   "source": [
    "X_train, X_test, y_train, y_test = train_test_split(X, y, train_size=0.8)"
   ]
  },
  {
   "cell_type": "markdown",
   "id": "4bebc847-0b16-4ecb-aa63-67a4e4e6bd32",
   "metadata": {},
   "source": [
    "### Training"
   ]
  },
  {
   "cell_type": "code",
   "execution_count": 31,
   "id": "61844c73-b1d9-4120-9282-51297e02b936",
   "metadata": {},
   "outputs": [
    {
     "data": {
      "text/plain": [
       "(170, 26)"
      ]
     },
     "execution_count": 31,
     "metadata": {},
     "output_type": "execute_result"
    }
   ],
   "source": [
    "X.shape"
   ]
  },
  {
   "cell_type": "code",
   "execution_count": 39,
   "id": "404e1581-d6cf-4bbc-bc0d-afc8cba9d212",
   "metadata": {},
   "outputs": [],
   "source": [
    "inputs = tf.keras.Input(shape=(26, ))\n",
    "x = tf.keras.layers.Dense(64, activation='relu')(inputs)\n",
    "x = tf.keras.layers.Dense(64, activation='relu')(x)\n",
    "outputs = tf.keras.layers.Dense(1, activation='sigmoid')(x)\n",
    "\n",
    "model = tf.keras.Model(inputs=inputs, outputs=outputs)"
   ]
  },
  {
   "cell_type": "code",
   "execution_count": 40,
   "id": "830abf87-4e52-4517-a862-b5ce94144a6b",
   "metadata": {
    "scrolled": true
   },
   "outputs": [
    {
     "name": "stdout",
     "output_type": "stream",
     "text": [
      "Epoch 1/17\n",
      "2/2 [==============================] - 1s 340ms/step - loss: 0.6968 - accuracy: 0.5370 - auc: 0.5415 - val_loss: 0.7492 - val_accuracy: 0.5000 - val_auc: 0.5179\n",
      "Epoch 2/17\n",
      "2/2 [==============================] - 0s 76ms/step - loss: 0.6483 - accuracy: 0.6204 - auc: 0.6754 - val_loss: 0.7137 - val_accuracy: 0.6071 - val_auc: 0.5974\n",
      "Epoch 3/17\n",
      "2/2 [==============================] - 0s 78ms/step - loss: 0.6017 - accuracy: 0.7037 - auc: 0.7743 - val_loss: 0.6846 - val_accuracy: 0.6429 - val_auc: 0.6436\n",
      "Epoch 4/17\n",
      "2/2 [==============================] - 0s 80ms/step - loss: 0.5680 - accuracy: 0.7130 - auc: 0.8278 - val_loss: 0.6593 - val_accuracy: 0.6429 - val_auc: 0.6769\n",
      "Epoch 5/17\n",
      "2/2 [==============================] - 0s 77ms/step - loss: 0.5373 - accuracy: 0.7407 - auc: 0.8560 - val_loss: 0.6375 - val_accuracy: 0.6429 - val_auc: 0.7179\n",
      "Epoch 6/17\n",
      "2/2 [==============================] - 0s 94ms/step - loss: 0.5140 - accuracy: 0.7500 - auc: 0.8651 - val_loss: 0.6175 - val_accuracy: 0.6429 - val_auc: 0.7436\n",
      "Epoch 7/17\n",
      "2/2 [==============================] - 0s 97ms/step - loss: 0.4932 - accuracy: 0.7593 - auc: 0.8723 - val_loss: 0.6013 - val_accuracy: 0.6071 - val_auc: 0.7641\n",
      "Epoch 8/17\n",
      "2/2 [==============================] - 0s 68ms/step - loss: 0.4738 - accuracy: 0.7963 - auc: 0.8817 - val_loss: 0.5874 - val_accuracy: 0.6429 - val_auc: 0.7769\n",
      "Epoch 9/17\n",
      "2/2 [==============================] - 0s 43ms/step - loss: 0.4577 - accuracy: 0.8056 - auc: 0.8884 - val_loss: 0.5761 - val_accuracy: 0.6786 - val_auc: 0.7949\n",
      "Epoch 10/17\n",
      "2/2 [==============================] - 0s 62ms/step - loss: 0.4427 - accuracy: 0.8056 - auc: 0.8956 - val_loss: 0.5667 - val_accuracy: 0.6786 - val_auc: 0.8077\n",
      "Epoch 11/17\n",
      "2/2 [==============================] - 0s 68ms/step - loss: 0.4298 - accuracy: 0.8241 - auc: 0.9026 - val_loss: 0.5585 - val_accuracy: 0.7143 - val_auc: 0.8179\n",
      "Epoch 12/17\n",
      "2/2 [==============================] - 0s 67ms/step - loss: 0.4175 - accuracy: 0.8333 - auc: 0.9064 - val_loss: 0.5512 - val_accuracy: 0.7143 - val_auc: 0.8179\n",
      "Epoch 13/17\n",
      "2/2 [==============================] - 0s 71ms/step - loss: 0.4056 - accuracy: 0.8426 - auc: 0.9102 - val_loss: 0.5461 - val_accuracy: 0.7143 - val_auc: 0.8205\n",
      "Epoch 14/17\n",
      "2/2 [==============================] - 0s 70ms/step - loss: 0.3946 - accuracy: 0.8426 - auc: 0.9141 - val_loss: 0.5432 - val_accuracy: 0.7500 - val_auc: 0.8282\n",
      "Epoch 15/17\n",
      "2/2 [==============================] - 0s 70ms/step - loss: 0.3843 - accuracy: 0.8611 - auc: 0.9184 - val_loss: 0.5415 - val_accuracy: 0.7500 - val_auc: 0.8385\n",
      "Epoch 16/17\n",
      "2/2 [==============================] - 0s 70ms/step - loss: 0.3742 - accuracy: 0.8611 - auc: 0.9230 - val_loss: 0.5409 - val_accuracy: 0.7500 - val_auc: 0.8436\n",
      "Epoch 17/17\n",
      "2/2 [==============================] - 0s 69ms/step - loss: 0.3643 - accuracy: 0.8611 - auc: 0.9276 - val_loss: 0.5419 - val_accuracy: 0.7857 - val_auc: 0.8462\n"
     ]
    }
   ],
   "source": [
    "model.compile(\n",
    "    optimizer='adam',\n",
    "    loss='binary_crossentropy',\n",
    "    metrics=[\n",
    "        'accuracy',\n",
    "        tf.keras.metrics.AUC(name='auc')\n",
    "    ]\n",
    ")\n",
    "\n",
    "batch_size = 64\n",
    "epochs = 17\n",
    "\n",
    "history = model.fit(\n",
    "    X_train,\n",
    "    y_train,\n",
    "    validation_split = 0.2,\n",
    "    batch_size = batch_size,\n",
    "    epochs = epochs\n",
    ")"
   ]
  },
  {
   "cell_type": "markdown",
   "id": "a5e19cc7-d523-4560-94c9-1e6ad0d4df69",
   "metadata": {},
   "source": [
    "### Results"
   ]
  },
  {
   "cell_type": "code",
   "execution_count": 41,
   "id": "3cd2a224-88c3-4dd2-a9f4-ba2f14583ba5",
   "metadata": {},
   "outputs": [
    {
     "data": {
      "application/vnd.plotly.v1+json": {
       "config": {
        "plotlyServerURL": "https://plot.ly"
       },
       "data": [
        {
         "hovertemplate": "variable=loss<br>Epoch=%{x}<br>Loss=%{y}<extra></extra>",
         "legendgroup": "loss",
         "line": {
          "color": "#636efa",
          "dash": "solid"
         },
         "marker": {
          "symbol": "circle"
         },
         "mode": "lines",
         "name": "loss",
         "orientation": "v",
         "showlegend": true,
         "type": "scatter",
         "x": [
          0,
          1,
          2,
          3,
          4,
          5,
          6,
          7,
          8,
          9,
          10,
          11,
          12,
          13,
          14,
          15,
          16
         ],
         "xaxis": "x",
         "y": [
          0.6968416571617126,
          0.6482539772987366,
          0.6017386317253113,
          0.5679845213890076,
          0.5373488068580627,
          0.5139670968055725,
          0.4932168424129486,
          0.4737829566001892,
          0.4576836824417114,
          0.44273969531059265,
          0.42977213859558105,
          0.41748565435409546,
          0.40564194321632385,
          0.3945781886577606,
          0.3842582702636719,
          0.3742130994796753,
          0.36429569125175476
         ],
         "yaxis": "y"
        },
        {
         "hovertemplate": "variable=val_loss<br>Epoch=%{x}<br>Loss=%{y}<extra></extra>",
         "legendgroup": "val_loss",
         "line": {
          "color": "#EF553B",
          "dash": "solid"
         },
         "marker": {
          "symbol": "circle"
         },
         "mode": "lines",
         "name": "val_loss",
         "orientation": "v",
         "showlegend": true,
         "type": "scatter",
         "x": [
          0,
          1,
          2,
          3,
          4,
          5,
          6,
          7,
          8,
          9,
          10,
          11,
          12,
          13,
          14,
          15,
          16
         ],
         "xaxis": "x",
         "y": [
          0.7491569519042969,
          0.7136566042900085,
          0.6845666170120239,
          0.6593304872512817,
          0.6374678015708923,
          0.6174826622009277,
          0.6013137102127075,
          0.5874155759811401,
          0.5761141180992126,
          0.5667065978050232,
          0.5584551692008972,
          0.5511732697486877,
          0.546147882938385,
          0.543235182762146,
          0.5415021777153015,
          0.5408922433853149,
          0.5419015288352966
         ],
         "yaxis": "y"
        }
       ],
       "layout": {
        "legend": {
         "title": {
          "text": "variable"
         },
         "tracegroupgap": 0
        },
        "template": {
         "data": {
          "bar": [
           {
            "error_x": {
             "color": "#2a3f5f"
            },
            "error_y": {
             "color": "#2a3f5f"
            },
            "marker": {
             "line": {
              "color": "#E5ECF6",
              "width": 0.5
             },
             "pattern": {
              "fillmode": "overlay",
              "size": 10,
              "solidity": 0.2
             }
            },
            "type": "bar"
           }
          ],
          "barpolar": [
           {
            "marker": {
             "line": {
              "color": "#E5ECF6",
              "width": 0.5
             },
             "pattern": {
              "fillmode": "overlay",
              "size": 10,
              "solidity": 0.2
             }
            },
            "type": "barpolar"
           }
          ],
          "carpet": [
           {
            "aaxis": {
             "endlinecolor": "#2a3f5f",
             "gridcolor": "white",
             "linecolor": "white",
             "minorgridcolor": "white",
             "startlinecolor": "#2a3f5f"
            },
            "baxis": {
             "endlinecolor": "#2a3f5f",
             "gridcolor": "white",
             "linecolor": "white",
             "minorgridcolor": "white",
             "startlinecolor": "#2a3f5f"
            },
            "type": "carpet"
           }
          ],
          "choropleth": [
           {
            "colorbar": {
             "outlinewidth": 0,
             "ticks": ""
            },
            "type": "choropleth"
           }
          ],
          "contour": [
           {
            "colorbar": {
             "outlinewidth": 0,
             "ticks": ""
            },
            "colorscale": [
             [
              0,
              "#0d0887"
             ],
             [
              0.1111111111111111,
              "#46039f"
             ],
             [
              0.2222222222222222,
              "#7201a8"
             ],
             [
              0.3333333333333333,
              "#9c179e"
             ],
             [
              0.4444444444444444,
              "#bd3786"
             ],
             [
              0.5555555555555556,
              "#d8576b"
             ],
             [
              0.6666666666666666,
              "#ed7953"
             ],
             [
              0.7777777777777778,
              "#fb9f3a"
             ],
             [
              0.8888888888888888,
              "#fdca26"
             ],
             [
              1,
              "#f0f921"
             ]
            ],
            "type": "contour"
           }
          ],
          "contourcarpet": [
           {
            "colorbar": {
             "outlinewidth": 0,
             "ticks": ""
            },
            "type": "contourcarpet"
           }
          ],
          "heatmap": [
           {
            "colorbar": {
             "outlinewidth": 0,
             "ticks": ""
            },
            "colorscale": [
             [
              0,
              "#0d0887"
             ],
             [
              0.1111111111111111,
              "#46039f"
             ],
             [
              0.2222222222222222,
              "#7201a8"
             ],
             [
              0.3333333333333333,
              "#9c179e"
             ],
             [
              0.4444444444444444,
              "#bd3786"
             ],
             [
              0.5555555555555556,
              "#d8576b"
             ],
             [
              0.6666666666666666,
              "#ed7953"
             ],
             [
              0.7777777777777778,
              "#fb9f3a"
             ],
             [
              0.8888888888888888,
              "#fdca26"
             ],
             [
              1,
              "#f0f921"
             ]
            ],
            "type": "heatmap"
           }
          ],
          "heatmapgl": [
           {
            "colorbar": {
             "outlinewidth": 0,
             "ticks": ""
            },
            "colorscale": [
             [
              0,
              "#0d0887"
             ],
             [
              0.1111111111111111,
              "#46039f"
             ],
             [
              0.2222222222222222,
              "#7201a8"
             ],
             [
              0.3333333333333333,
              "#9c179e"
             ],
             [
              0.4444444444444444,
              "#bd3786"
             ],
             [
              0.5555555555555556,
              "#d8576b"
             ],
             [
              0.6666666666666666,
              "#ed7953"
             ],
             [
              0.7777777777777778,
              "#fb9f3a"
             ],
             [
              0.8888888888888888,
              "#fdca26"
             ],
             [
              1,
              "#f0f921"
             ]
            ],
            "type": "heatmapgl"
           }
          ],
          "histogram": [
           {
            "marker": {
             "pattern": {
              "fillmode": "overlay",
              "size": 10,
              "solidity": 0.2
             }
            },
            "type": "histogram"
           }
          ],
          "histogram2d": [
           {
            "colorbar": {
             "outlinewidth": 0,
             "ticks": ""
            },
            "colorscale": [
             [
              0,
              "#0d0887"
             ],
             [
              0.1111111111111111,
              "#46039f"
             ],
             [
              0.2222222222222222,
              "#7201a8"
             ],
             [
              0.3333333333333333,
              "#9c179e"
             ],
             [
              0.4444444444444444,
              "#bd3786"
             ],
             [
              0.5555555555555556,
              "#d8576b"
             ],
             [
              0.6666666666666666,
              "#ed7953"
             ],
             [
              0.7777777777777778,
              "#fb9f3a"
             ],
             [
              0.8888888888888888,
              "#fdca26"
             ],
             [
              1,
              "#f0f921"
             ]
            ],
            "type": "histogram2d"
           }
          ],
          "histogram2dcontour": [
           {
            "colorbar": {
             "outlinewidth": 0,
             "ticks": ""
            },
            "colorscale": [
             [
              0,
              "#0d0887"
             ],
             [
              0.1111111111111111,
              "#46039f"
             ],
             [
              0.2222222222222222,
              "#7201a8"
             ],
             [
              0.3333333333333333,
              "#9c179e"
             ],
             [
              0.4444444444444444,
              "#bd3786"
             ],
             [
              0.5555555555555556,
              "#d8576b"
             ],
             [
              0.6666666666666666,
              "#ed7953"
             ],
             [
              0.7777777777777778,
              "#fb9f3a"
             ],
             [
              0.8888888888888888,
              "#fdca26"
             ],
             [
              1,
              "#f0f921"
             ]
            ],
            "type": "histogram2dcontour"
           }
          ],
          "mesh3d": [
           {
            "colorbar": {
             "outlinewidth": 0,
             "ticks": ""
            },
            "type": "mesh3d"
           }
          ],
          "parcoords": [
           {
            "line": {
             "colorbar": {
              "outlinewidth": 0,
              "ticks": ""
             }
            },
            "type": "parcoords"
           }
          ],
          "pie": [
           {
            "automargin": true,
            "type": "pie"
           }
          ],
          "scatter": [
           {
            "fillpattern": {
             "fillmode": "overlay",
             "size": 10,
             "solidity": 0.2
            },
            "type": "scatter"
           }
          ],
          "scatter3d": [
           {
            "line": {
             "colorbar": {
              "outlinewidth": 0,
              "ticks": ""
             }
            },
            "marker": {
             "colorbar": {
              "outlinewidth": 0,
              "ticks": ""
             }
            },
            "type": "scatter3d"
           }
          ],
          "scattercarpet": [
           {
            "marker": {
             "colorbar": {
              "outlinewidth": 0,
              "ticks": ""
             }
            },
            "type": "scattercarpet"
           }
          ],
          "scattergeo": [
           {
            "marker": {
             "colorbar": {
              "outlinewidth": 0,
              "ticks": ""
             }
            },
            "type": "scattergeo"
           }
          ],
          "scattergl": [
           {
            "marker": {
             "colorbar": {
              "outlinewidth": 0,
              "ticks": ""
             }
            },
            "type": "scattergl"
           }
          ],
          "scattermapbox": [
           {
            "marker": {
             "colorbar": {
              "outlinewidth": 0,
              "ticks": ""
             }
            },
            "type": "scattermapbox"
           }
          ],
          "scatterpolar": [
           {
            "marker": {
             "colorbar": {
              "outlinewidth": 0,
              "ticks": ""
             }
            },
            "type": "scatterpolar"
           }
          ],
          "scatterpolargl": [
           {
            "marker": {
             "colorbar": {
              "outlinewidth": 0,
              "ticks": ""
             }
            },
            "type": "scatterpolargl"
           }
          ],
          "scatterternary": [
           {
            "marker": {
             "colorbar": {
              "outlinewidth": 0,
              "ticks": ""
             }
            },
            "type": "scatterternary"
           }
          ],
          "surface": [
           {
            "colorbar": {
             "outlinewidth": 0,
             "ticks": ""
            },
            "colorscale": [
             [
              0,
              "#0d0887"
             ],
             [
              0.1111111111111111,
              "#46039f"
             ],
             [
              0.2222222222222222,
              "#7201a8"
             ],
             [
              0.3333333333333333,
              "#9c179e"
             ],
             [
              0.4444444444444444,
              "#bd3786"
             ],
             [
              0.5555555555555556,
              "#d8576b"
             ],
             [
              0.6666666666666666,
              "#ed7953"
             ],
             [
              0.7777777777777778,
              "#fb9f3a"
             ],
             [
              0.8888888888888888,
              "#fdca26"
             ],
             [
              1,
              "#f0f921"
             ]
            ],
            "type": "surface"
           }
          ],
          "table": [
           {
            "cells": {
             "fill": {
              "color": "#EBF0F8"
             },
             "line": {
              "color": "white"
             }
            },
            "header": {
             "fill": {
              "color": "#C8D4E3"
             },
             "line": {
              "color": "white"
             }
            },
            "type": "table"
           }
          ]
         },
         "layout": {
          "annotationdefaults": {
           "arrowcolor": "#2a3f5f",
           "arrowhead": 0,
           "arrowwidth": 1
          },
          "autotypenumbers": "strict",
          "coloraxis": {
           "colorbar": {
            "outlinewidth": 0,
            "ticks": ""
           }
          },
          "colorscale": {
           "diverging": [
            [
             0,
             "#8e0152"
            ],
            [
             0.1,
             "#c51b7d"
            ],
            [
             0.2,
             "#de77ae"
            ],
            [
             0.3,
             "#f1b6da"
            ],
            [
             0.4,
             "#fde0ef"
            ],
            [
             0.5,
             "#f7f7f7"
            ],
            [
             0.6,
             "#e6f5d0"
            ],
            [
             0.7,
             "#b8e186"
            ],
            [
             0.8,
             "#7fbc41"
            ],
            [
             0.9,
             "#4d9221"
            ],
            [
             1,
             "#276419"
            ]
           ],
           "sequential": [
            [
             0,
             "#0d0887"
            ],
            [
             0.1111111111111111,
             "#46039f"
            ],
            [
             0.2222222222222222,
             "#7201a8"
            ],
            [
             0.3333333333333333,
             "#9c179e"
            ],
            [
             0.4444444444444444,
             "#bd3786"
            ],
            [
             0.5555555555555556,
             "#d8576b"
            ],
            [
             0.6666666666666666,
             "#ed7953"
            ],
            [
             0.7777777777777778,
             "#fb9f3a"
            ],
            [
             0.8888888888888888,
             "#fdca26"
            ],
            [
             1,
             "#f0f921"
            ]
           ],
           "sequentialminus": [
            [
             0,
             "#0d0887"
            ],
            [
             0.1111111111111111,
             "#46039f"
            ],
            [
             0.2222222222222222,
             "#7201a8"
            ],
            [
             0.3333333333333333,
             "#9c179e"
            ],
            [
             0.4444444444444444,
             "#bd3786"
            ],
            [
             0.5555555555555556,
             "#d8576b"
            ],
            [
             0.6666666666666666,
             "#ed7953"
            ],
            [
             0.7777777777777778,
             "#fb9f3a"
            ],
            [
             0.8888888888888888,
             "#fdca26"
            ],
            [
             1,
             "#f0f921"
            ]
           ]
          },
          "colorway": [
           "#636efa",
           "#EF553B",
           "#00cc96",
           "#ab63fa",
           "#FFA15A",
           "#19d3f3",
           "#FF6692",
           "#B6E880",
           "#FF97FF",
           "#FECB52"
          ],
          "font": {
           "color": "#2a3f5f"
          },
          "geo": {
           "bgcolor": "white",
           "lakecolor": "white",
           "landcolor": "#E5ECF6",
           "showlakes": true,
           "showland": true,
           "subunitcolor": "white"
          },
          "hoverlabel": {
           "align": "left"
          },
          "hovermode": "closest",
          "mapbox": {
           "style": "light"
          },
          "paper_bgcolor": "white",
          "plot_bgcolor": "#E5ECF6",
          "polar": {
           "angularaxis": {
            "gridcolor": "white",
            "linecolor": "white",
            "ticks": ""
           },
           "bgcolor": "#E5ECF6",
           "radialaxis": {
            "gridcolor": "white",
            "linecolor": "white",
            "ticks": ""
           }
          },
          "scene": {
           "xaxis": {
            "backgroundcolor": "#E5ECF6",
            "gridcolor": "white",
            "gridwidth": 2,
            "linecolor": "white",
            "showbackground": true,
            "ticks": "",
            "zerolinecolor": "white"
           },
           "yaxis": {
            "backgroundcolor": "#E5ECF6",
            "gridcolor": "white",
            "gridwidth": 2,
            "linecolor": "white",
            "showbackground": true,
            "ticks": "",
            "zerolinecolor": "white"
           },
           "zaxis": {
            "backgroundcolor": "#E5ECF6",
            "gridcolor": "white",
            "gridwidth": 2,
            "linecolor": "white",
            "showbackground": true,
            "ticks": "",
            "zerolinecolor": "white"
           }
          },
          "shapedefaults": {
           "line": {
            "color": "#2a3f5f"
           }
          },
          "ternary": {
           "aaxis": {
            "gridcolor": "white",
            "linecolor": "white",
            "ticks": ""
           },
           "baxis": {
            "gridcolor": "white",
            "linecolor": "white",
            "ticks": ""
           },
           "bgcolor": "#E5ECF6",
           "caxis": {
            "gridcolor": "white",
            "linecolor": "white",
            "ticks": ""
           }
          },
          "title": {
           "x": 0.05
          },
          "xaxis": {
           "automargin": true,
           "gridcolor": "white",
           "linecolor": "white",
           "ticks": "",
           "title": {
            "standoff": 15
           },
           "zerolinecolor": "white",
           "zerolinewidth": 2
          },
          "yaxis": {
           "automargin": true,
           "gridcolor": "white",
           "linecolor": "white",
           "ticks": "",
           "title": {
            "standoff": 15
           },
           "zerolinecolor": "white",
           "zerolinewidth": 2
          }
         }
        },
        "title": {
         "text": "Training and Validation Loss"
        },
        "xaxis": {
         "anchor": "y",
         "domain": [
          0,
          1
         ],
         "title": {
          "text": "Epoch"
         }
        },
        "yaxis": {
         "anchor": "x",
         "domain": [
          0,
          1
         ],
         "title": {
          "text": "Loss"
         }
        }
       }
      },
      "image/png": "[encoded data removed]",
      "text/html": [
       "<div>                            <div id=\"0bbe8ecb-882c-48de-b8b1-81fa76d029fe\" class=\"plotly-graph-div\" style=\"height:525px; width:100%;\"></div>            <script type=\"text/javascript\">                require([\"plotly\"], function(Plotly) {                    window.PLOTLYENV=window.PLOTLYENV || {};                                    if (document.getElementById(\"0bbe8ecb-882c-48de-b8b1-81fa76d029fe\")) {                    Plotly.newPlot(                        \"0bbe8ecb-882c-48de-b8b1-81fa76d029fe\",                        [{\"hovertemplate\":\"variable=loss\\u003cbr\\u003eEpoch=%{x}\\u003cbr\\u003eLoss=%{y}\\u003cextra\\u003e\\u003c\\u002fextra\\u003e\",\"legendgroup\":\"loss\",\"line\":{\"color\":\"#636efa\",\"dash\":\"solid\"},\"marker\":{\"symbol\":\"circle\"},\"mode\":\"lines\",\"name\":\"loss\",\"orientation\":\"v\",\"showlegend\":true,\"x\":[0,1,2,3,4,5,6,7,8,9,10,11,12,13,14,15,16],\"xaxis\":\"x\",\"y\":[0.6968416571617126,0.6482539772987366,0.6017386317253113,0.5679845213890076,0.5373488068580627,0.5139670968055725,0.4932168424129486,0.4737829566001892,0.4576836824417114,0.44273969531059265,0.42977213859558105,0.41748565435409546,0.40564194321632385,0.3945781886577606,0.3842582702636719,0.3742130994796753,0.36429569125175476],\"yaxis\":\"y\",\"type\":\"scatter\"},{\"hovertemplate\":\"variable=val_loss\\u003cbr\\u003eEpoch=%{x}\\u003cbr\\u003eLoss=%{y}\\u003cextra\\u003e\\u003c\\u002fextra\\u003e\",\"legendgroup\":\"val_loss\",\"line\":{\"color\":\"#EF553B\",\"dash\":\"solid\"},\"marker\":{\"symbol\":\"circle\"},\"mode\":\"lines\",\"name\":\"val_loss\",\"orientation\":\"v\",\"showlegend\":true,\"x\":[0,1,2,3,4,5,6,7,8,9,10,11,12,13,14,15,16],\"xaxis\":\"x\",\"y\":[0.7491569519042969,0.7136566042900085,0.6845666170120239,0.6593304872512817,0.6374678015708923,0.6174826622009277,0.6013137102127075,0.5874155759811401,0.5761141180992126,0.5667065978050232,0.5584551692008972,0.5511732697486877,0.546147882938385,0.543235182762146,0.5415021777153015,0.5408922433853149,0.5419015288352966],\"yaxis\":\"y\",\"type\":\"scatter\"}],                        {\"template\":{\"data\":{\"histogram2dcontour\":[{\"type\":\"histogram2dcontour\",\"colorbar\":{\"outlinewidth\":0,\"ticks\":\"\"},\"colorscale\":[[0.0,\"#0d0887\"],[0.1111111111111111,\"#46039f\"],[0.2222222222222222,\"#7201a8\"],[0.3333333333333333,\"#9c179e\"],[0.4444444444444444,\"#bd3786\"],[0.5555555555555556,\"#d8576b\"],[0.6666666666666666,\"#ed7953\"],[0.7777777777777778,\"#fb9f3a\"],[0.8888888888888888,\"#fdca26\"],[1.0,\"#f0f921\"]]}],\"choropleth\":[{\"type\":\"choropleth\",\"colorbar\":{\"outlinewidth\":0,\"ticks\":\"\"}}],\"histogram2d\":[{\"type\":\"histogram2d\",\"colorbar\":{\"outlinewidth\":0,\"ticks\":\"\"},\"colorscale\":[[0.0,\"#0d0887\"],[0.1111111111111111,\"#46039f\"],[0.2222222222222222,\"#7201a8\"],[0.3333333333333333,\"#9c179e\"],[0.4444444444444444,\"#bd3786\"],[0.5555555555555556,\"#d8576b\"],[0.6666666666666666,\"#ed7953\"],[0.7777777777777778,\"#fb9f3a\"],[0.8888888888888888,\"#fdca26\"],[1.0,\"#f0f921\"]]}],\"heatmap\":[{\"type\":\"heatmap\",\"colorbar\":{\"outlinewidth\":0,\"ticks\":\"\"},\"colorscale\":[[0.0,\"#0d0887\"],[0.1111111111111111,\"#46039f\"],[0.2222222222222222,\"#7201a8\"],[0.3333333333333333,\"#9c179e\"],[0.4444444444444444,\"#bd3786\"],[0.5555555555555556,\"#d8576b\"],[0.6666666666666666,\"#ed7953\"],[0.7777777777777778,\"#fb9f3a\"],[0.8888888888888888,\"#fdca26\"],[1.0,\"#f0f921\"]]}],\"heatmapgl\":[{\"type\":\"heatmapgl\",\"colorbar\":{\"outlinewidth\":0,\"ticks\":\"\"},\"colorscale\":[[0.0,\"#0d0887\"],[0.1111111111111111,\"#46039f\"],[0.2222222222222222,\"#7201a8\"],[0.3333333333333333,\"#9c179e\"],[0.4444444444444444,\"#bd3786\"],[0.5555555555555556,\"#d8576b\"],[0.6666666666666666,\"#ed7953\"],[0.7777777777777778,\"#fb9f3a\"],[0.8888888888888888,\"#fdca26\"],[1.0,\"#f0f921\"]]}],\"contourcarpet\":[{\"type\":\"contourcarpet\",\"colorbar\":{\"outlinewidth\":0,\"ticks\":\"\"}}],\"contour\":[{\"type\":\"contour\",\"colorbar\":{\"outlinewidth\":0,\"ticks\":\"\"},\"colorscale\":[[0.0,\"#0d0887\"],[0.1111111111111111,\"#46039f\"],[0.2222222222222222,\"#7201a8\"],[0.3333333333333333,\"#9c179e\"],[0.4444444444444444,\"#bd3786\"],[0.5555555555555556,\"#d8576b\"],[0.6666666666666666,\"#ed7953\"],[0.7777777777777778,\"#fb9f3a\"],[0.8888888888888888,\"#fdca26\"],[1.0,\"#f0f921\"]]}],\"surface\":[{\"type\":\"surface\",\"colorbar\":{\"outlinewidth\":0,\"ticks\":\"\"},\"colorscale\":[[0.0,\"#0d0887\"],[0.1111111111111111,\"#46039f\"],[0.2222222222222222,\"#7201a8\"],[0.3333333333333333,\"#9c179e\"],[0.4444444444444444,\"#bd3786\"],[0.5555555555555556,\"#d8576b\"],[0.6666666666666666,\"#ed7953\"],[0.7777777777777778,\"#fb9f3a\"],[0.8888888888888888,\"#fdca26\"],[1.0,\"#f0f921\"]]}],\"mesh3d\":[{\"type\":\"mesh3d\",\"colorbar\":{\"outlinewidth\":0,\"ticks\":\"\"}}],\"scatter\":[{\"fillpattern\":{\"fillmode\":\"overlay\",\"size\":10,\"solidity\":0.2},\"type\":\"scatter\"}],\"parcoords\":[{\"type\":\"parcoords\",\"line\":{\"colorbar\":{\"outlinewidth\":0,\"ticks\":\"\"}}}],\"scatterpolargl\":[{\"type\":\"scatterpolargl\",\"marker\":{\"colorbar\":{\"outlinewidth\":0,\"ticks\":\"\"}}}],\"bar\":[{\"error_x\":{\"color\":\"#2a3f5f\"},\"error_y\":{\"color\":\"#2a3f5f\"},\"marker\":{\"line\":{\"color\":\"#E5ECF6\",\"width\":0.5},\"pattern\":{\"fillmode\":\"overlay\",\"size\":10,\"solidity\":0.2}},\"type\":\"bar\"}],\"scattergeo\":[{\"type\":\"scattergeo\",\"marker\":{\"colorbar\":{\"outlinewidth\":0,\"ticks\":\"\"}}}],\"scatterpolar\":[{\"type\":\"scatterpolar\",\"marker\":{\"colorbar\":{\"outlinewidth\":0,\"ticks\":\"\"}}}],\"histogram\":[{\"marker\":{\"pattern\":{\"fillmode\":\"overlay\",\"size\":10,\"solidity\":0.2}},\"type\":\"histogram\"}],\"scattergl\":[{\"type\":\"scattergl\",\"marker\":{\"colorbar\":{\"outlinewidth\":0,\"ticks\":\"\"}}}],\"scatter3d\":[{\"type\":\"scatter3d\",\"line\":{\"colorbar\":{\"outlinewidth\":0,\"ticks\":\"\"}},\"marker\":{\"colorbar\":{\"outlinewidth\":0,\"ticks\":\"\"}}}],\"scattermapbox\":[{\"type\":\"scattermapbox\",\"marker\":{\"colorbar\":{\"outlinewidth\":0,\"ticks\":\"\"}}}],\"scatterternary\":[{\"type\":\"scatterternary\",\"marker\":{\"colorbar\":{\"outlinewidth\":0,\"ticks\":\"\"}}}],\"scattercarpet\":[{\"type\":\"scattercarpet\",\"marker\":{\"colorbar\":{\"outlinewidth\":0,\"ticks\":\"\"}}}],\"carpet\":[{\"aaxis\":{\"endlinecolor\":\"#2a3f5f\",\"gridcolor\":\"white\",\"linecolor\":\"white\",\"minorgridcolor\":\"white\",\"startlinecolor\":\"#2a3f5f\"},\"baxis\":{\"endlinecolor\":\"#2a3f5f\",\"gridcolor\":\"white\",\"linecolor\":\"white\",\"minorgridcolor\":\"white\",\"startlinecolor\":\"#2a3f5f\"},\"type\":\"carpet\"}],\"table\":[{\"cells\":{\"fill\":{\"color\":\"#EBF0F8\"},\"line\":{\"color\":\"white\"}},\"header\":{\"fill\":{\"color\":\"#C8D4E3\"},\"line\":{\"color\":\"white\"}},\"type\":\"table\"}],\"barpolar\":[{\"marker\":{\"line\":{\"color\":\"#E5ECF6\",\"width\":0.5},\"pattern\":{\"fillmode\":\"overlay\",\"size\":10,\"solidity\":0.2}},\"type\":\"barpolar\"}],\"pie\":[{\"automargin\":true,\"type\":\"pie\"}]},\"layout\":{\"autotypenumbers\":\"strict\",\"colorway\":[\"#636efa\",\"#EF553B\",\"#00cc96\",\"#ab63fa\",\"#FFA15A\",\"#19d3f3\",\"#FF6692\",\"#B6E880\",\"#FF97FF\",\"#FECB52\"],\"font\":{\"color\":\"#2a3f5f\"},\"hovermode\":\"closest\",\"hoverlabel\":{\"align\":\"left\"},\"paper_bgcolor\":\"white\",\"plot_bgcolor\":\"#E5ECF6\",\"polar\":{\"bgcolor\":\"#E5ECF6\",\"angularaxis\":{\"gridcolor\":\"white\",\"linecolor\":\"white\",\"ticks\":\"\"},\"radialaxis\":{\"gridcolor\":\"white\",\"linecolor\":\"white\",\"ticks\":\"\"}},\"ternary\":{\"bgcolor\":\"#E5ECF6\",\"aaxis\":{\"gridcolor\":\"white\",\"linecolor\":\"white\",\"ticks\":\"\"},\"baxis\":{\"gridcolor\":\"white\",\"linecolor\":\"white\",\"ticks\":\"\"},\"caxis\":{\"gridcolor\":\"white\",\"linecolor\":\"white\",\"ticks\":\"\"}},\"coloraxis\":{\"colorbar\":{\"outlinewidth\":0,\"ticks\":\"\"}},\"colorscale\":{\"sequential\":[[0.0,\"#0d0887\"],[0.1111111111111111,\"#46039f\"],[0.2222222222222222,\"#7201a8\"],[0.3333333333333333,\"#9c179e\"],[0.4444444444444444,\"#bd3786\"],[0.5555555555555556,\"#d8576b\"],[0.6666666666666666,\"#ed7953\"],[0.7777777777777778,\"#fb9f3a\"],[0.8888888888888888,\"#fdca26\"],[1.0,\"#f0f921\"]],\"sequentialminus\":[[0.0,\"#0d0887\"],[0.1111111111111111,\"#46039f\"],[0.2222222222222222,\"#7201a8\"],[0.3333333333333333,\"#9c179e\"],[0.4444444444444444,\"#bd3786\"],[0.5555555555555556,\"#d8576b\"],[0.6666666666666666,\"#ed7953\"],[0.7777777777777778,\"#fb9f3a\"],[0.8888888888888888,\"#fdca26\"],[1.0,\"#f0f921\"]],\"diverging\":[[0,\"#8e0152\"],[0.1,\"#c51b7d\"],[0.2,\"#de77ae\"],[0.3,\"#f1b6da\"],[0.4,\"#fde0ef\"],[0.5,\"#f7f7f7\"],[0.6,\"#e6f5d0\"],[0.7,\"#b8e186\"],[0.8,\"#7fbc41\"],[0.9,\"#4d9221\"],[1,\"#276419\"]]},\"xaxis\":{\"gridcolor\":\"white\",\"linecolor\":\"white\",\"ticks\":\"\",\"title\":{\"standoff\":15},\"zerolinecolor\":\"white\",\"automargin\":true,\"zerolinewidth\":2},\"yaxis\":{\"gridcolor\":\"white\",\"linecolor\":\"white\",\"ticks\":\"\",\"title\":{\"standoff\":15},\"zerolinecolor\":\"white\",\"automargin\":true,\"zerolinewidth\":2},\"scene\":{\"xaxis\":{\"backgroundcolor\":\"#E5ECF6\",\"gridcolor\":\"white\",\"linecolor\":\"white\",\"showbackground\":true,\"ticks\":\"\",\"zerolinecolor\":\"white\",\"gridwidth\":2},\"yaxis\":{\"backgroundcolor\":\"#E5ECF6\",\"gridcolor\":\"white\",\"linecolor\":\"white\",\"showbackground\":true,\"ticks\":\"\",\"zerolinecolor\":\"white\",\"gridwidth\":2},\"zaxis\":{\"backgroundcolor\":\"#E5ECF6\",\"gridcolor\":\"white\",\"linecolor\":\"white\",\"showbackground\":true,\"ticks\":\"\",\"zerolinecolor\":\"white\",\"gridwidth\":2}},\"shapedefaults\":{\"line\":{\"color\":\"#2a3f5f\"}},\"annotationdefaults\":{\"arrowcolor\":\"#2a3f5f\",\"arrowhead\":0,\"arrowwidth\":1},\"geo\":{\"bgcolor\":\"white\",\"landcolor\":\"#E5ECF6\",\"subunitcolor\":\"white\",\"showland\":true,\"showlakes\":true,\"lakecolor\":\"white\"},\"title\":{\"x\":0.05},\"mapbox\":{\"style\":\"light\"}}},\"xaxis\":{\"anchor\":\"y\",\"domain\":[0.0,1.0],\"title\":{\"text\":\"Epoch\"}},\"yaxis\":{\"anchor\":\"x\",\"domain\":[0.0,1.0],\"title\":{\"text\":\"Loss\"}},\"legend\":{\"title\":{\"text\":\"variable\"},\"tracegroupgap\":0},\"title\":{\"text\":\"Training and Validation Loss\"}},                        {\"responsive\": true}                    ).then(function(){\n",
       "                            \n",
       "var gd = document.getElementById('0bbe8ecb-882c-48de-b8b1-81fa76d029fe');\n",
       "var x = new MutationObserver(function (mutations, observer) {{\n",
       "        var display = window.getComputedStyle(gd).display;\n",
       "        if (!display || display === 'none') {{\n",
       "            console.log([gd, 'removed!']);\n",
       "            Plotly.purge(gd);\n",
       "            observer.disconnect();\n",
       "        }}\n",
       "}});\n",
       "\n",
       "// Listen for the removal of the full notebook cells\n",
       "var notebookContainer = gd.closest('#notebook-container');\n",
       "if (notebookContainer) {{\n",
       "    x.observe(notebookContainer, {childList: true});\n",
       "}}\n",
       "\n",
       "// Listen for the clearing of the current output cell\n",
       "var outputEl = gd.closest('.output');\n",
       "if (outputEl) {{\n",
       "    x.observe(outputEl, {childList: true});\n",
       "}}\n",
       "\n",
       "                        })                };                });            </script>        </div>"
      ]
     },
     "metadata": {},
     "output_type": "display_data"
    }
   ],
   "source": [
    "fig = px.line(\n",
    "    history.history,\n",
    "    y=['loss', 'val_loss'],\n",
    "    labels = {'index': 'Epoch', 'value': 'Loss'},\n",
    "    title = \"Training and Validation Loss\"\n",
    ")\n",
    "\n",
    "fig.show()"
   ]
  },
  {
   "cell_type": "code",
   "execution_count": 43,
   "id": "e20afe16-863b-456d-a0a8-68d815f0a82c",
   "metadata": {},
   "outputs": [
    {
     "name": "stdout",
     "output_type": "stream",
     "text": [
      "2/2 [==============================] - 0s 12ms/step - loss: 0.4407 - accuracy: 0.7647 - auc: 0.8837\n"
     ]
    },
    {
     "data": {
      "text/plain": [
       "[0.440687894821167, 0.7647058963775635, 0.8836805820465088]"
      ]
     },
     "execution_count": 43,
     "metadata": {},
     "output_type": "execute_result"
    }
   ],
   "source": [
    "model.evaluate(X_test, y_test)"
   ]
  },
  {
   "cell_type": "code",
   "execution_count": null,
   "id": "f6c4abc2-4642-4a8e-a2e6-d86a84654ca7",
   "metadata": {},
   "outputs": [],
   "source": []
  }
 ],
 "metadata": {
  "kernelspec": {
   "display_name": "Python 3 (ipykernel)",
   "language": "python",
   "name": "python3"
  },
  "language_info": {
   "codemirror_mode": {
    "name": "ipython",
    "version": 3
   },
   "file_extension": ".py",
   "mimetype": "text/x-python",
   "name": "python",
   "nbconvert_exporter": "python",
   "pygments_lexer": "ipython3",
   "version": "3.10.13"
  }
 },
 "nbformat": 4,
 "nbformat_minor": 5
}
