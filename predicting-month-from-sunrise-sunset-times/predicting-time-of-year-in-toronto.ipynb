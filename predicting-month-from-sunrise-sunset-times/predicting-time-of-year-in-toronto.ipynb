{
 "cells": [
  {
   "cell_type": "markdown",
   "id": "24bdee8d-599c-4312-871d-4c09fde09aff",
   "metadata": {},
   "source": [
    "## 🌅🌇 Month Prediction from Sunrise/Sunset Data\n",
    "\n",
    "Given *data about daily sunrise and sunset in Toronto*, let's try to predict the **month** of a given record.\n",
    "\n",
    "We will use a logistic regression model to make our predictions.\n",
    "\n",
    "Data source: https://www.kaggle.com/datasets/kapastor/sundown-and-sunset-data-20102020"
   ]
  },
  {
   "cell_type": "markdown",
   "id": "d7b0b9fd-1fd4-432b-8513-8c1ca7311402",
   "metadata": {},
   "source": [
    "### Importing Libraries"
   ]
  },
  {
   "cell_type": "code",
   "execution_count": 1,
   "id": "bc67dcaa-ed12-463a-905e-c19b741efd7e",
   "metadata": {},
   "outputs": [],
   "source": [
    "import numpy as np\n",
    "import pandas as pd\n",
    "import re\n",
    "\n",
    "import matplotlib.pyplot as plt\n",
    "import seaborn as sns\n",
    "\n",
    "from sklearn.preprocessing import StandardScaler\n",
    "from sklearn.model_selection import train_test_split\n",
    "\n",
    "from sklearn.linear_model import LogisticRegression\n",
    "\n",
    "import warnings\n",
    "warnings.simplefilter('ignore')"
   ]
  },
  {
   "cell_type": "code",
   "execution_count": 2,
   "id": "9755a6c4-ceba-44e2-8c5e-586dd892cae7",
   "metadata": {},
   "outputs": [
    {
     "data": {
      "text/html": [
       "<div>\n",
       "<style scoped>\n",
       "    .dataframe tbody tr th:only-of-type {\n",
       "        vertical-align: middle;\n",
       "    }\n",
       "\n",
       "    .dataframe tbody tr th {\n",
       "        vertical-align: top;\n",
       "    }\n",
       "\n",
       "    .dataframe thead th {\n",
       "        text-align: right;\n",
       "    }\n",
       "</style>\n",
       "<table border=\"1\" class=\"dataframe\">\n",
       "  <thead>\n",
       "    <tr style=\"text-align: right;\">\n",
       "      <th></th>\n",
       "      <th>City</th>\n",
       "      <th>Date</th>\n",
       "      <th>Sunup</th>\n",
       "      <th>Sundown</th>\n",
       "    </tr>\n",
       "  </thead>\n",
       "  <tbody>\n",
       "    <tr>\n",
       "      <th>0</th>\n",
       "      <td>toronto</td>\n",
       "      <td>01-01-10</td>\n",
       "      <td>7.0:51</td>\n",
       "      <td>16.0:51</td>\n",
       "    </tr>\n",
       "    <tr>\n",
       "      <th>1</th>\n",
       "      <td>toronto</td>\n",
       "      <td>01-02-10</td>\n",
       "      <td>7.0:51</td>\n",
       "      <td>16.0:52</td>\n",
       "    </tr>\n",
       "    <tr>\n",
       "      <th>2</th>\n",
       "      <td>toronto</td>\n",
       "      <td>01-03-10</td>\n",
       "      <td>7.0:51</td>\n",
       "      <td>16.0:53</td>\n",
       "    </tr>\n",
       "    <tr>\n",
       "      <th>3</th>\n",
       "      <td>toronto</td>\n",
       "      <td>01-04-10</td>\n",
       "      <td>7.0:51</td>\n",
       "      <td>16.0:54</td>\n",
       "    </tr>\n",
       "    <tr>\n",
       "      <th>4</th>\n",
       "      <td>toronto</td>\n",
       "      <td>01-05-10</td>\n",
       "      <td>7.0:51</td>\n",
       "      <td>16.0:55</td>\n",
       "    </tr>\n",
       "    <tr>\n",
       "      <th>...</th>\n",
       "      <td>...</td>\n",
       "      <td>...</td>\n",
       "      <td>...</td>\n",
       "      <td>...</td>\n",
       "    </tr>\n",
       "    <tr>\n",
       "      <th>4013</th>\n",
       "      <td>toronto</td>\n",
       "      <td>12-27-20</td>\n",
       "      <td>7.0000000</td>\n",
       "      <td>16.0:47</td>\n",
       "    </tr>\n",
       "    <tr>\n",
       "      <th>4014</th>\n",
       "      <td>toronto</td>\n",
       "      <td>12-28-20</td>\n",
       "      <td>7.0000000</td>\n",
       "      <td>16.0:48</td>\n",
       "    </tr>\n",
       "    <tr>\n",
       "      <th>4015</th>\n",
       "      <td>toronto</td>\n",
       "      <td>12-29-20</td>\n",
       "      <td>7.0000000</td>\n",
       "      <td>16.0:49</td>\n",
       "    </tr>\n",
       "    <tr>\n",
       "      <th>4016</th>\n",
       "      <td>toronto</td>\n",
       "      <td>12-30-20</td>\n",
       "      <td>7.0000000</td>\n",
       "      <td>16.0:49</td>\n",
       "    </tr>\n",
       "    <tr>\n",
       "      <th>4017</th>\n",
       "      <td>toronto</td>\n",
       "      <td>12-31-20</td>\n",
       "      <td>7.0:51</td>\n",
       "      <td>16.0000000</td>\n",
       "    </tr>\n",
       "  </tbody>\n",
       "</table>\n",
       "<p>4018 rows × 4 columns</p>\n",
       "</div>"
      ],
      "text/plain": [
       "         City      Date      Sunup     Sundown\n",
       "0     toronto  01-01-10     7.0:51     16.0:51\n",
       "1     toronto  01-02-10     7.0:51     16.0:52\n",
       "2     toronto  01-03-10     7.0:51     16.0:53\n",
       "3     toronto  01-04-10     7.0:51     16.0:54\n",
       "4     toronto  01-05-10     7.0:51     16.0:55\n",
       "...       ...       ...        ...         ...\n",
       "4013  toronto  12-27-20  7.0000000     16.0:47\n",
       "4014  toronto  12-28-20  7.0000000     16.0:48\n",
       "4015  toronto  12-29-20  7.0000000     16.0:49\n",
       "4016  toronto  12-30-20  7.0000000     16.0:49\n",
       "4017  toronto  12-31-20     7.0:51  16.0000000\n",
       "\n",
       "[4018 rows x 4 columns]"
      ]
     },
     "execution_count": 2,
     "metadata": {},
     "output_type": "execute_result"
    }
   ],
   "source": [
    "data = pd.read_csv('Sunup_Sundown_Data.csv')\n",
    "data"
   ]
  },
  {
   "cell_type": "markdown",
   "id": "bb52cab1-e30d-4631-b200-b6b5af84df9c",
   "metadata": {},
   "source": [
    "### Preprocessing"
   ]
  },
  {
   "cell_type": "code",
   "execution_count": 3,
   "id": "c194ab1e-f1af-4ac2-a061-65bf06663bfc",
   "metadata": {},
   "outputs": [],
   "source": [
    "df = data.copy()"
   ]
  },
  {
   "cell_type": "code",
   "execution_count": 4,
   "id": "20138cb6-a1c5-4a26-a855-bb5bc4772b9c",
   "metadata": {},
   "outputs": [
    {
     "name": "stdout",
     "output_type": "stream",
     "text": [
      "<class 'pandas.core.frame.DataFrame'>\n",
      "RangeIndex: 4018 entries, 0 to 4017\n",
      "Data columns (total 4 columns):\n",
      " #   Column   Non-Null Count  Dtype \n",
      "---  ------   --------------  ----- \n",
      " 0   City     4018 non-null   object\n",
      " 1   Date     4018 non-null   object\n",
      " 2   Sunup    4018 non-null   object\n",
      " 3   Sundown  4018 non-null   object\n",
      "dtypes: object(4)\n",
      "memory usage: 125.7+ KB\n"
     ]
    }
   ],
   "source": [
    "df.info()"
   ]
  },
  {
   "cell_type": "code",
   "execution_count": 5,
   "id": "bf69f810-eb89-44ea-9f26-c267b5e3d28d",
   "metadata": {},
   "outputs": [
    {
     "data": {
      "text/html": [
       "<div>\n",
       "<style scoped>\n",
       "    .dataframe tbody tr th:only-of-type {\n",
       "        vertical-align: middle;\n",
       "    }\n",
       "\n",
       "    .dataframe tbody tr th {\n",
       "        vertical-align: top;\n",
       "    }\n",
       "\n",
       "    .dataframe thead th {\n",
       "        text-align: right;\n",
       "    }\n",
       "</style>\n",
       "<table border=\"1\" class=\"dataframe\">\n",
       "  <thead>\n",
       "    <tr style=\"text-align: right;\">\n",
       "      <th></th>\n",
       "      <th>City</th>\n",
       "      <th>Date</th>\n",
       "      <th>Sunup</th>\n",
       "      <th>Sundown</th>\n",
       "      <th>Month</th>\n",
       "    </tr>\n",
       "  </thead>\n",
       "  <tbody>\n",
       "    <tr>\n",
       "      <th>0</th>\n",
       "      <td>toronto</td>\n",
       "      <td>01-01-10</td>\n",
       "      <td>7.0:51</td>\n",
       "      <td>16.0:51</td>\n",
       "      <td>01</td>\n",
       "    </tr>\n",
       "    <tr>\n",
       "      <th>1</th>\n",
       "      <td>toronto</td>\n",
       "      <td>01-02-10</td>\n",
       "      <td>7.0:51</td>\n",
       "      <td>16.0:52</td>\n",
       "      <td>01</td>\n",
       "    </tr>\n",
       "    <tr>\n",
       "      <th>2</th>\n",
       "      <td>toronto</td>\n",
       "      <td>01-03-10</td>\n",
       "      <td>7.0:51</td>\n",
       "      <td>16.0:53</td>\n",
       "      <td>01</td>\n",
       "    </tr>\n",
       "    <tr>\n",
       "      <th>3</th>\n",
       "      <td>toronto</td>\n",
       "      <td>01-04-10</td>\n",
       "      <td>7.0:51</td>\n",
       "      <td>16.0:54</td>\n",
       "      <td>01</td>\n",
       "    </tr>\n",
       "    <tr>\n",
       "      <th>4</th>\n",
       "      <td>toronto</td>\n",
       "      <td>01-05-10</td>\n",
       "      <td>7.0:51</td>\n",
       "      <td>16.0:55</td>\n",
       "      <td>01</td>\n",
       "    </tr>\n",
       "    <tr>\n",
       "      <th>...</th>\n",
       "      <td>...</td>\n",
       "      <td>...</td>\n",
       "      <td>...</td>\n",
       "      <td>...</td>\n",
       "      <td>...</td>\n",
       "    </tr>\n",
       "    <tr>\n",
       "      <th>4013</th>\n",
       "      <td>toronto</td>\n",
       "      <td>12-27-20</td>\n",
       "      <td>7.0000000</td>\n",
       "      <td>16.0:47</td>\n",
       "      <td>12</td>\n",
       "    </tr>\n",
       "    <tr>\n",
       "      <th>4014</th>\n",
       "      <td>toronto</td>\n",
       "      <td>12-28-20</td>\n",
       "      <td>7.0000000</td>\n",
       "      <td>16.0:48</td>\n",
       "      <td>12</td>\n",
       "    </tr>\n",
       "    <tr>\n",
       "      <th>4015</th>\n",
       "      <td>toronto</td>\n",
       "      <td>12-29-20</td>\n",
       "      <td>7.0000000</td>\n",
       "      <td>16.0:49</td>\n",
       "      <td>12</td>\n",
       "    </tr>\n",
       "    <tr>\n",
       "      <th>4016</th>\n",
       "      <td>toronto</td>\n",
       "      <td>12-30-20</td>\n",
       "      <td>7.0000000</td>\n",
       "      <td>16.0:49</td>\n",
       "      <td>12</td>\n",
       "    </tr>\n",
       "    <tr>\n",
       "      <th>4017</th>\n",
       "      <td>toronto</td>\n",
       "      <td>12-31-20</td>\n",
       "      <td>7.0:51</td>\n",
       "      <td>16.0000000</td>\n",
       "      <td>12</td>\n",
       "    </tr>\n",
       "  </tbody>\n",
       "</table>\n",
       "<p>4018 rows × 5 columns</p>\n",
       "</div>"
      ],
      "text/plain": [
       "         City      Date      Sunup     Sundown Month\n",
       "0     toronto  01-01-10     7.0:51     16.0:51    01\n",
       "1     toronto  01-02-10     7.0:51     16.0:52    01\n",
       "2     toronto  01-03-10     7.0:51     16.0:53    01\n",
       "3     toronto  01-04-10     7.0:51     16.0:54    01\n",
       "4     toronto  01-05-10     7.0:51     16.0:55    01\n",
       "...       ...       ...        ...         ...   ...\n",
       "4013  toronto  12-27-20  7.0000000     16.0:47    12\n",
       "4014  toronto  12-28-20  7.0000000     16.0:48    12\n",
       "4015  toronto  12-29-20  7.0000000     16.0:49    12\n",
       "4016  toronto  12-30-20  7.0000000     16.0:49    12\n",
       "4017  toronto  12-31-20     7.0:51  16.0000000    12\n",
       "\n",
       "[4018 rows x 5 columns]"
      ]
     },
     "execution_count": 5,
     "metadata": {},
     "output_type": "execute_result"
    }
   ],
   "source": [
    "df['Month'] = df['Date'].apply(lambda x: x[0:2]) # Month extracted from date\n",
    "df"
   ]
  },
  {
   "cell_type": "code",
   "execution_count": 6,
   "id": "71ef9679-64be-4de7-ad86-12cc784b128f",
   "metadata": {},
   "outputs": [
    {
     "data": {
      "text/plain": [
       "array(['7.0:51', '7.0000000', '7.0:49', '7.0:48', '7.0:47', '7.0:46',\n",
       "       '7.0:45', '7.0:44', '7.0:43', '7.0:42', '7.0:41', '7.0:39',\n",
       "       '7.0:38', '7.0:37', '7.0:36', '7.0:35', '7.0:34', '7.0:32',\n",
       "       '7.0:31', '7.0:29', '7.0:28', '7.0:26', '7.0:25', '7.0:24',\n",
       "       '7.0:23', '7.0:21', '7.0:18', '7.0:17', '7.0:16', '7.0:14',\n",
       "       '7.0:13', '7.0:11', '7.000008', '7.000007', '7.000005', '7.000003',\n",
       "       '7.000002', '6.0:59', '6.0:57', '6.0:55', '6.0:54', '6.0:52',\n",
       "       '6.0000000', '6.0:49', '6.0:47', '6.0:45', '6.0:43', '6.0:42',\n",
       "       '6.0:38', '6.0:36', '6.0:35', '6.0:33', '7.0:22', '7.0:19',\n",
       "       '7.0:15', '7.000006', '7.000004', '7.000001', '6.0:53', '6.0:48',\n",
       "       '6.0:46', '6.0:41', '6.0:39', '6.0:34', '6.0:31', '6.0:29',\n",
       "       '6.0:28', '6.0:26', '6.0:25', '6.0:23', '6.0:21', '6.0:18',\n",
       "       '6.0:17', '6.0:15', '6.0:14', '6.0:12', '6.0:11', '6.000008',\n",
       "       '6.000007', '6.000005', '6.000004', '6.000003', '6.000001',\n",
       "       '5.0:59', '5.0:58', '5.0:57', '5.0:55', '5.0:54', '5.0:53',\n",
       "       '5.0:52', '5.0:51', '5.0000000', '5.0:49', '5.0:48', '5.0:47',\n",
       "       '5.0:46', '5.0:45', '5.0:44', '5.0:43', '5.0:42', '5.0:41',\n",
       "       '5.0:39', '5.0:38', '5.0:37', '5.0:36', '5.0:35', '5.0:56',\n",
       "       '6.000002', '6.000006', '6.000009', '6.0:13', '6.0:16', '6.0:19',\n",
       "       '6.0:22', '6.0:24', '6.0:27', '6.0:32', '6.0:37', '6.0:44',\n",
       "       '6.0:51', '6.0:56', '7.000009', '7.0:12', '7.0:53', '7.0:54',\n",
       "       '7.0:55', '7.0:57', '7.0:58', '7.0:59', '7.0:27', '7.0:33',\n",
       "       '6.0:58', '7.0:52', '7.0:56'], dtype=object)"
      ]
     },
     "execution_count": 6,
     "metadata": {},
     "output_type": "execute_result"
    }
   ],
   "source": [
    "df['Sunup'].unique()"
   ]
  },
  {
   "cell_type": "code",
   "execution_count": 7,
   "id": "ab23f5af-1213-4f3f-9e7c-a9d1dab0e9db",
   "metadata": {},
   "outputs": [
    {
     "data": {
      "text/plain": [
       "0       07:51\n",
       "1       07:51\n",
       "2       07:51\n",
       "3       07:51\n",
       "4       07:51\n",
       "        ...  \n",
       "4013    07:00\n",
       "4014    07:00\n",
       "4015    07:00\n",
       "4016    07:00\n",
       "4017    07:51\n",
       "Name: Sunup, Length: 4018, dtype: object"
      ]
     },
     "execution_count": 7,
     "metadata": {},
     "output_type": "execute_result"
    }
   ],
   "source": [
    "df['Sunup'] = df['Sunup'].apply(lambda x: '0' + x.replace('.0', ''))\n",
    "df['Sunup'] = df['Sunup'].apply(lambda x: re.sub(r'(.{2}).*', r'\\1:00', x) if ':' not in x else x)\n",
    "df['Sunup']"
   ]
  },
  {
   "cell_type": "code",
   "execution_count": 8,
   "id": "33ea4ed3-4e14-4603-b981-fe78999198ad",
   "metadata": {},
   "outputs": [
    {
     "data": {
      "text/plain": [
       "array(['16.0:51', '16.0:52', '16.0:53', '16.0:54', '16.0:55', '16.0:56',\n",
       "       '16.0:57', '16.0:58', '16.0:59', '17.0000000', '17.000001',\n",
       "       '17.000002', '17.000003', '17.000005', '17.000006', '17.000007',\n",
       "       '17.000008', '17.0:11', '17.0:12', '17.0:13', '17.0:15', '17.0:16',\n",
       "       '17.0:17', '17.0:19', '17.0:21', '17.0:23', '17.0:24', '17.0:25',\n",
       "       '17.0:27', '17.0:28', '17.0:31', '17.0:32', '17.0:34', '17.0:35',\n",
       "       '17.0:36', '17.0:38', '17.0:39', '17.0:42', '17.0:43', '17.0:45',\n",
       "       '17.0:46', '17.0:47', '17.0:49', '17.0:51', '17.0:53', '17.0:54',\n",
       "       '17.0:55', '17.0:57', '17.0:58', '17.0:59', '18.000001',\n",
       "       '18.000002', '18.000003', '18.000004', '18.000006', '18.000007',\n",
       "       '18.000008', '18.0000000', '18.0:11', '18.0:12', '18.0:13',\n",
       "       '18.0:15', '18.0:16', '18.0:17', '18.0:18', '18.0:21', '19.0:22',\n",
       "       '19.0:23', '19.0:24', '19.0:26', '19.0:27', '19.0:28', '19.0:29',\n",
       "       '19.0:31', '19.0:32', '19.0:33', '19.0:34', '19.0:35', '19.0:37',\n",
       "       '19.0:38', '19.0:39', '19.0000000', '19.0:41', '19.0:43',\n",
       "       '19.0:44', '19.0:45', '19.0:46', '19.0:47', '19.0:49', '19.0:51',\n",
       "       '19.0:52', '19.0:53', '19.0:54', '19.0:56', '19.0:57', '19.0:58',\n",
       "       '19.0:59', '20.0000000', '20.000002', '20.000003', '20.000004',\n",
       "       '20.000005', '20.000006', '20.000008', '20.000009', '20.0:11',\n",
       "       '20.0:12', '20.0:14', '20.0:15', '20.0:16', '20.0:17', '20.0:18',\n",
       "       '20.0:19', '20.0:21', '20.0:22', '20.0:23', '20.0:24', '20.0:25',\n",
       "       '20.0:26', '20.0:28', '20.0:29', '20.0:31', '20.0:32', '20.0:33',\n",
       "       '20.0:34', '20.0:35', '20.0:36', '20.0:38', '20.0:39', '20.0:41',\n",
       "       '20.0:42', '20.0:43', '20.0:44', '20.0:45', '20.0:46', '20.0:47',\n",
       "       '20.0:48', '20.0:49', '20.0:51', '20.0:52', '20.0:53', '20.0:54',\n",
       "       '20.0:55', '20.0:56', '20.0:57', '20.0:58', '20.0:59',\n",
       "       '21.0000000', '21.000001', '21.000002', '21.000003', '20.0:37',\n",
       "       '20.0:27', '20.0:13', '20.000001', '19.0:42', '19.0:36', '19.0:25',\n",
       "       '19.0:18', '19.0:16', '19.0:14', '19.0:13', '19.0:11', '19.000009',\n",
       "       '19.000007', '19.000005', '19.000003', '19.000002', '18.0:58',\n",
       "       '18.0:56', '18.0:54', '18.0:53', '18.0:51', '18.0:49', '18.0:47',\n",
       "       '18.0:46', '18.0:44', '18.0:42', '18.0:39', '18.0:37', '18.0:35',\n",
       "       '18.0:34', '18.0:32', '18.0:29', '18.0:27', '18.0:26', '18.0:24',\n",
       "       '18.0:22', '18.0:19', '18.000009', '18.000005', '16.0000000',\n",
       "       '16.0:49', '16.0:48', '16.0:47', '16.0:46', '16.0:45', '16.0:44',\n",
       "       '16.0:43', '16.0:42', '16.0:41', '17.000004', '17.000009',\n",
       "       '17.0:14', '17.0:18', '17.0:22', '17.0:26', '17.0:29', '17.0:33',\n",
       "       '17.0:37', '17.0:44', '17.0:48', '17.0:52', '17.0:56', '18.0:14',\n",
       "       '19.0:21', '19.0:48', '19.0:55', '20.000007', '19.0:19', '19.0:17',\n",
       "       '19.0:15', '19.000008', '19.000006', '19.000004', '18.0:57',\n",
       "       '18.0:55', '18.0:48', '18.0:43', '18.0:41', '18.0:36', '18.0:31',\n",
       "       '18.0:28', '18.0:23', '17.0:41', '19.0:12', '19.000001', '18.0:59',\n",
       "       '18.0:52', '18.0:45', '18.0:38', '18.0:33', '18.0:25'],\n",
       "      dtype=object)"
      ]
     },
     "execution_count": 8,
     "metadata": {},
     "output_type": "execute_result"
    }
   ],
   "source": [
    "df['Sundown'].unique()"
   ]
  },
  {
   "cell_type": "code",
   "execution_count": 9,
   "id": "f318e684-c1f9-4b1b-b567-a9d1be51b31c",
   "metadata": {},
   "outputs": [
    {
     "data": {
      "text/plain": [
       "0       16:51\n",
       "1       16:52\n",
       "2       16:53\n",
       "3       16:54\n",
       "4       16:55\n",
       "        ...  \n",
       "4013    16:47\n",
       "4014    16:48\n",
       "4015    16:49\n",
       "4016    16:49\n",
       "4017    16:00\n",
       "Name: Sundown, Length: 4018, dtype: object"
      ]
     },
     "execution_count": 9,
     "metadata": {},
     "output_type": "execute_result"
    }
   ],
   "source": [
    "df['Sundown'] = df['Sundown'].apply(lambda x: x.replace('.0', ''))\n",
    "df['Sundown'] = df['Sundown'].apply(lambda x: re.sub(r'(.{2}).*', r'\\1:00', x) if ':' not in x else x)\n",
    "df['Sundown']"
   ]
  },
  {
   "cell_type": "code",
   "execution_count": 10,
   "id": "3bd7340b-9645-4d2d-bba3-bc5b9f193244",
   "metadata": {},
   "outputs": [],
   "source": [
    "# Hour Extraction\n",
    "df['SunupHour'] = df['Sunup'].apply(lambda time: time[:2])\n",
    "df['SunupMinute'] = df['Sunup'].apply(lambda time: time[-2:])\n",
    "\n",
    "df['SundownHour'] = df['Sundown'].apply(lambda time: time[:2])\n",
    "df['SundownMinute'] = df['Sundown'].apply(lambda time: time[-2:])"
   ]
  },
  {
   "cell_type": "code",
   "execution_count": 11,
   "id": "2356203b-ff13-4804-8109-0fb044c289eb",
   "metadata": {},
   "outputs": [
    {
     "data": {
      "text/html": [
       "<div>\n",
       "<style scoped>\n",
       "    .dataframe tbody tr th:only-of-type {\n",
       "        vertical-align: middle;\n",
       "    }\n",
       "\n",
       "    .dataframe tbody tr th {\n",
       "        vertical-align: top;\n",
       "    }\n",
       "\n",
       "    .dataframe thead th {\n",
       "        text-align: right;\n",
       "    }\n",
       "</style>\n",
       "<table border=\"1\" class=\"dataframe\">\n",
       "  <thead>\n",
       "    <tr style=\"text-align: right;\">\n",
       "      <th></th>\n",
       "      <th>City</th>\n",
       "      <th>Date</th>\n",
       "      <th>Sunup</th>\n",
       "      <th>Sundown</th>\n",
       "      <th>Month</th>\n",
       "      <th>SunupHour</th>\n",
       "      <th>SunupMinute</th>\n",
       "      <th>SundownHour</th>\n",
       "      <th>SundownMinute</th>\n",
       "    </tr>\n",
       "  </thead>\n",
       "  <tbody>\n",
       "    <tr>\n",
       "      <th>0</th>\n",
       "      <td>toronto</td>\n",
       "      <td>01-01-10</td>\n",
       "      <td>07:51</td>\n",
       "      <td>16:51</td>\n",
       "      <td>01</td>\n",
       "      <td>07</td>\n",
       "      <td>51</td>\n",
       "      <td>16</td>\n",
       "      <td>51</td>\n",
       "    </tr>\n",
       "    <tr>\n",
       "      <th>1</th>\n",
       "      <td>toronto</td>\n",
       "      <td>01-02-10</td>\n",
       "      <td>07:51</td>\n",
       "      <td>16:52</td>\n",
       "      <td>01</td>\n",
       "      <td>07</td>\n",
       "      <td>51</td>\n",
       "      <td>16</td>\n",
       "      <td>52</td>\n",
       "    </tr>\n",
       "    <tr>\n",
       "      <th>2</th>\n",
       "      <td>toronto</td>\n",
       "      <td>01-03-10</td>\n",
       "      <td>07:51</td>\n",
       "      <td>16:53</td>\n",
       "      <td>01</td>\n",
       "      <td>07</td>\n",
       "      <td>51</td>\n",
       "      <td>16</td>\n",
       "      <td>53</td>\n",
       "    </tr>\n",
       "    <tr>\n",
       "      <th>3</th>\n",
       "      <td>toronto</td>\n",
       "      <td>01-04-10</td>\n",
       "      <td>07:51</td>\n",
       "      <td>16:54</td>\n",
       "      <td>01</td>\n",
       "      <td>07</td>\n",
       "      <td>51</td>\n",
       "      <td>16</td>\n",
       "      <td>54</td>\n",
       "    </tr>\n",
       "    <tr>\n",
       "      <th>4</th>\n",
       "      <td>toronto</td>\n",
       "      <td>01-05-10</td>\n",
       "      <td>07:51</td>\n",
       "      <td>16:55</td>\n",
       "      <td>01</td>\n",
       "      <td>07</td>\n",
       "      <td>51</td>\n",
       "      <td>16</td>\n",
       "      <td>55</td>\n",
       "    </tr>\n",
       "    <tr>\n",
       "      <th>...</th>\n",
       "      <td>...</td>\n",
       "      <td>...</td>\n",
       "      <td>...</td>\n",
       "      <td>...</td>\n",
       "      <td>...</td>\n",
       "      <td>...</td>\n",
       "      <td>...</td>\n",
       "      <td>...</td>\n",
       "      <td>...</td>\n",
       "    </tr>\n",
       "    <tr>\n",
       "      <th>4013</th>\n",
       "      <td>toronto</td>\n",
       "      <td>12-27-20</td>\n",
       "      <td>07:00</td>\n",
       "      <td>16:47</td>\n",
       "      <td>12</td>\n",
       "      <td>07</td>\n",
       "      <td>00</td>\n",
       "      <td>16</td>\n",
       "      <td>47</td>\n",
       "    </tr>\n",
       "    <tr>\n",
       "      <th>4014</th>\n",
       "      <td>toronto</td>\n",
       "      <td>12-28-20</td>\n",
       "      <td>07:00</td>\n",
       "      <td>16:48</td>\n",
       "      <td>12</td>\n",
       "      <td>07</td>\n",
       "      <td>00</td>\n",
       "      <td>16</td>\n",
       "      <td>48</td>\n",
       "    </tr>\n",
       "    <tr>\n",
       "      <th>4015</th>\n",
       "      <td>toronto</td>\n",
       "      <td>12-29-20</td>\n",
       "      <td>07:00</td>\n",
       "      <td>16:49</td>\n",
       "      <td>12</td>\n",
       "      <td>07</td>\n",
       "      <td>00</td>\n",
       "      <td>16</td>\n",
       "      <td>49</td>\n",
       "    </tr>\n",
       "    <tr>\n",
       "      <th>4016</th>\n",
       "      <td>toronto</td>\n",
       "      <td>12-30-20</td>\n",
       "      <td>07:00</td>\n",
       "      <td>16:49</td>\n",
       "      <td>12</td>\n",
       "      <td>07</td>\n",
       "      <td>00</td>\n",
       "      <td>16</td>\n",
       "      <td>49</td>\n",
       "    </tr>\n",
       "    <tr>\n",
       "      <th>4017</th>\n",
       "      <td>toronto</td>\n",
       "      <td>12-31-20</td>\n",
       "      <td>07:51</td>\n",
       "      <td>16:00</td>\n",
       "      <td>12</td>\n",
       "      <td>07</td>\n",
       "      <td>51</td>\n",
       "      <td>16</td>\n",
       "      <td>00</td>\n",
       "    </tr>\n",
       "  </tbody>\n",
       "</table>\n",
       "<p>4018 rows × 9 columns</p>\n",
       "</div>"
      ],
      "text/plain": [
       "         City      Date  Sunup Sundown Month SunupHour SunupMinute  \\\n",
       "0     toronto  01-01-10  07:51   16:51    01        07          51   \n",
       "1     toronto  01-02-10  07:51   16:52    01        07          51   \n",
       "2     toronto  01-03-10  07:51   16:53    01        07          51   \n",
       "3     toronto  01-04-10  07:51   16:54    01        07          51   \n",
       "4     toronto  01-05-10  07:51   16:55    01        07          51   \n",
       "...       ...       ...    ...     ...   ...       ...         ...   \n",
       "4013  toronto  12-27-20  07:00   16:47    12        07          00   \n",
       "4014  toronto  12-28-20  07:00   16:48    12        07          00   \n",
       "4015  toronto  12-29-20  07:00   16:49    12        07          00   \n",
       "4016  toronto  12-30-20  07:00   16:49    12        07          00   \n",
       "4017  toronto  12-31-20  07:51   16:00    12        07          51   \n",
       "\n",
       "     SundownHour SundownMinute  \n",
       "0             16            51  \n",
       "1             16            52  \n",
       "2             16            53  \n",
       "3             16            54  \n",
       "4             16            55  \n",
       "...          ...           ...  \n",
       "4013          16            47  \n",
       "4014          16            48  \n",
       "4015          16            49  \n",
       "4016          16            49  \n",
       "4017          16            00  \n",
       "\n",
       "[4018 rows x 9 columns]"
      ]
     },
     "execution_count": 11,
     "metadata": {},
     "output_type": "execute_result"
    }
   ],
   "source": [
    "df"
   ]
  },
  {
   "cell_type": "code",
   "execution_count": 12,
   "id": "6ea292f4-2cb1-4a4f-8d57-76be6c0d3755",
   "metadata": {},
   "outputs": [
    {
     "data": {
      "text/plain": [
       "array(['toronto'], dtype=object)"
      ]
     },
     "execution_count": 12,
     "metadata": {},
     "output_type": "execute_result"
    }
   ],
   "source": [
    "df['City'].unique()"
   ]
  },
  {
   "cell_type": "code",
   "execution_count": 13,
   "id": "5a239e62-8f71-4291-ac4d-d8aa13882596",
   "metadata": {},
   "outputs": [
    {
     "data": {
      "text/html": [
       "<div>\n",
       "<style scoped>\n",
       "    .dataframe tbody tr th:only-of-type {\n",
       "        vertical-align: middle;\n",
       "    }\n",
       "\n",
       "    .dataframe tbody tr th {\n",
       "        vertical-align: top;\n",
       "    }\n",
       "\n",
       "    .dataframe thead th {\n",
       "        text-align: right;\n",
       "    }\n",
       "</style>\n",
       "<table border=\"1\" class=\"dataframe\">\n",
       "  <thead>\n",
       "    <tr style=\"text-align: right;\">\n",
       "      <th></th>\n",
       "      <th>Month</th>\n",
       "      <th>SunupHour</th>\n",
       "      <th>SunupMinute</th>\n",
       "      <th>SundownHour</th>\n",
       "      <th>SundownMinute</th>\n",
       "    </tr>\n",
       "  </thead>\n",
       "  <tbody>\n",
       "    <tr>\n",
       "      <th>0</th>\n",
       "      <td>01</td>\n",
       "      <td>07</td>\n",
       "      <td>51</td>\n",
       "      <td>16</td>\n",
       "      <td>51</td>\n",
       "    </tr>\n",
       "    <tr>\n",
       "      <th>1</th>\n",
       "      <td>01</td>\n",
       "      <td>07</td>\n",
       "      <td>51</td>\n",
       "      <td>16</td>\n",
       "      <td>52</td>\n",
       "    </tr>\n",
       "    <tr>\n",
       "      <th>2</th>\n",
       "      <td>01</td>\n",
       "      <td>07</td>\n",
       "      <td>51</td>\n",
       "      <td>16</td>\n",
       "      <td>53</td>\n",
       "    </tr>\n",
       "    <tr>\n",
       "      <th>3</th>\n",
       "      <td>01</td>\n",
       "      <td>07</td>\n",
       "      <td>51</td>\n",
       "      <td>16</td>\n",
       "      <td>54</td>\n",
       "    </tr>\n",
       "    <tr>\n",
       "      <th>4</th>\n",
       "      <td>01</td>\n",
       "      <td>07</td>\n",
       "      <td>51</td>\n",
       "      <td>16</td>\n",
       "      <td>55</td>\n",
       "    </tr>\n",
       "    <tr>\n",
       "      <th>...</th>\n",
       "      <td>...</td>\n",
       "      <td>...</td>\n",
       "      <td>...</td>\n",
       "      <td>...</td>\n",
       "      <td>...</td>\n",
       "    </tr>\n",
       "    <tr>\n",
       "      <th>4013</th>\n",
       "      <td>12</td>\n",
       "      <td>07</td>\n",
       "      <td>00</td>\n",
       "      <td>16</td>\n",
       "      <td>47</td>\n",
       "    </tr>\n",
       "    <tr>\n",
       "      <th>4014</th>\n",
       "      <td>12</td>\n",
       "      <td>07</td>\n",
       "      <td>00</td>\n",
       "      <td>16</td>\n",
       "      <td>48</td>\n",
       "    </tr>\n",
       "    <tr>\n",
       "      <th>4015</th>\n",
       "      <td>12</td>\n",
       "      <td>07</td>\n",
       "      <td>00</td>\n",
       "      <td>16</td>\n",
       "      <td>49</td>\n",
       "    </tr>\n",
       "    <tr>\n",
       "      <th>4016</th>\n",
       "      <td>12</td>\n",
       "      <td>07</td>\n",
       "      <td>00</td>\n",
       "      <td>16</td>\n",
       "      <td>49</td>\n",
       "    </tr>\n",
       "    <tr>\n",
       "      <th>4017</th>\n",
       "      <td>12</td>\n",
       "      <td>07</td>\n",
       "      <td>51</td>\n",
       "      <td>16</td>\n",
       "      <td>00</td>\n",
       "    </tr>\n",
       "  </tbody>\n",
       "</table>\n",
       "<p>4018 rows × 5 columns</p>\n",
       "</div>"
      ],
      "text/plain": [
       "     Month SunupHour SunupMinute SundownHour SundownMinute\n",
       "0       01        07          51          16            51\n",
       "1       01        07          51          16            52\n",
       "2       01        07          51          16            53\n",
       "3       01        07          51          16            54\n",
       "4       01        07          51          16            55\n",
       "...    ...       ...         ...         ...           ...\n",
       "4013    12        07          00          16            47\n",
       "4014    12        07          00          16            48\n",
       "4015    12        07          00          16            49\n",
       "4016    12        07          00          16            49\n",
       "4017    12        07          51          16            00\n",
       "\n",
       "[4018 rows x 5 columns]"
      ]
     },
     "execution_count": 13,
     "metadata": {},
     "output_type": "execute_result"
    }
   ],
   "source": [
    "df = df.drop(['City', 'Date', 'Sunup', 'Sundown'], axis=1)\n",
    "df"
   ]
  },
  {
   "cell_type": "markdown",
   "id": "1bf8bb24-7187-48af-aacd-5cf817cdc376",
   "metadata": {},
   "source": [
    "### Visualization"
   ]
  },
  {
   "cell_type": "code",
   "execution_count": 14,
   "id": "4ac8a0fa-013f-40b5-a7f5-9af7c627234b",
   "metadata": {},
   "outputs": [],
   "source": [
    "df = df.astype(int)"
   ]
  },
  {
   "cell_type": "code",
   "execution_count": 15,
   "id": "514c3cd6-ff46-46d2-92f1-076d9f9d7df1",
   "metadata": {},
   "outputs": [
    {
     "data": {
      "image/png": "[encoded data removed]",
      "text/plain": [
       "<Figure size 1000x800 with 2 Axes>"
      ]
     },
     "metadata": {},
     "output_type": "display_data"
    }
   ],
   "source": [
    "corr = df.corr()\n",
    "plt.figure(figsize=(10, 8))\n",
    "sns.heatmap(corr, annot=True, vmin=-1.0, vmax=1.0, cmap='rocket')\n",
    "plt.show()"
   ]
  },
  {
   "cell_type": "markdown",
   "id": "dd380370-664b-4b88-aac9-29c0800a9970",
   "metadata": {},
   "source": [
    "### Splitting and Scaling"
   ]
  },
  {
   "cell_type": "code",
   "execution_count": 26,
   "id": "310b63ae-78b0-47f2-94b4-cc87deea91a5",
   "metadata": {},
   "outputs": [
    {
     "data": {
      "image/png": "[encoded data removed]",
      "text/plain": [
       "<Figure size 1000x500 with 1 Axes>"
      ]
     },
     "metadata": {},
     "output_type": "display_data"
    }
   ],
   "source": [
    "plt.figure(figsize=(10, 5))\n",
    "for column in df.columns:\n",
    "    sns.kdeplot(df[column], shade=True, label=column)\n",
    "    plt.legend()\n",
    "plt.show()"
   ]
  },
  {
   "cell_type": "code",
   "execution_count": 27,
   "id": "e8a4e16a-c9b0-4741-b55a-20c13bcf0304",
   "metadata": {},
   "outputs": [],
   "source": [
    "y = df['Month'].copy()\n",
    "X = df.drop('Month', axis=1).copy()"
   ]
  },
  {
   "cell_type": "code",
   "execution_count": 28,
   "id": "5e974e06-bec1-403a-bc99-5e42f7bed70a",
   "metadata": {},
   "outputs": [],
   "source": [
    "scaler = StandardScaler()\n",
    "\n",
    "X = pd.DataFrame(scaler.fit_transform(X), columns=X.columns)"
   ]
  },
  {
   "cell_type": "code",
   "execution_count": 29,
   "id": "9b7bb722-3c8b-4a16-b971-98e24799c583",
   "metadata": {},
   "outputs": [],
   "source": [
    "X_train, X_test, y_train, y_test = train_test_split(X, y, train_size=0.7, random_state=122)"
   ]
  },
  {
   "cell_type": "markdown",
   "id": "ea94124d-5764-44e0-aeb1-10dc93c9ed5c",
   "metadata": {},
   "source": [
    "### Training"
   ]
  },
  {
   "cell_type": "code",
   "execution_count": 37,
   "id": "25a37d12-c9d7-4416-9b22-a89a4404c523",
   "metadata": {},
   "outputs": [],
   "source": [
    "models = []\n",
    "Cs = [0.01, 0.1, 1.0,  10.0, 100.0, 1000.0]\n",
    "\n",
    "for C in Cs:\n",
    "    model = LogisticRegression(C=C)\n",
    "    model.fit(X_train, y_train)\n",
    "    models.append(model)"
   ]
  },
  {
   "cell_type": "code",
   "execution_count": 38,
   "id": "83b13325-107f-4e0a-8265-64c6283f2056",
   "metadata": {},
   "outputs": [
    {
     "data": {
      "text/plain": [
       "[LogisticRegression(C=0.01),\n",
       " LogisticRegression(C=0.1),\n",
       " LogisticRegression(),\n",
       " LogisticRegression(C=10.0),\n",
       " LogisticRegression(C=100.0),\n",
       " LogisticRegression(C=1000.0)]"
      ]
     },
     "execution_count": 38,
     "metadata": {},
     "output_type": "execute_result"
    }
   ],
   "source": [
    "models"
   ]
  },
  {
   "cell_type": "markdown",
   "id": "1ec741c0-23b2-466d-8890-5e511be5edd8",
   "metadata": {},
   "source": [
    "### Results"
   ]
  },
  {
   "cell_type": "code",
   "execution_count": 41,
   "id": "55458fce-e86b-482a-844e-744153021d0b",
   "metadata": {},
   "outputs": [
    {
     "name": "stdout",
     "output_type": "stream",
     "text": [
      "   Model Accuracy (C=0.01): 0.48092868988391374\n",
      "    Model Accuracy (C=0.1): 0.548922056384743\n",
      "    Model Accuracy (C=1.0): 0.6683250414593698\n",
      "   Model Accuracy (C=10.0): 0.7520729684908789\n",
      "  Model Accuracy (C=100.0): 0.7893864013266998\n",
      " Model Accuracy (C=1000.0): 0.7893864013266998\n"
     ]
    }
   ],
   "source": [
    "model_acc = [model.score(X_test, y_test) for model in models]\n",
    "\n",
    "print(f\"   Model Accuracy (C={Cs[0]}):\", model_acc[0])\n",
    "print(f\"    Model Accuracy (C={Cs[1]}):\", model_acc[1])\n",
    "print(f\"    Model Accuracy (C={Cs[2]}):\", model_acc[2])\n",
    "print(f\"   Model Accuracy (C={Cs[3]}):\", model_acc[3])\n",
    "print(f\"  Model Accuracy (C={Cs[4]}):\", model_acc[4])\n",
    "print(f\" Model Accuracy (C={Cs[5]}):\", model_acc[5])"
   ]
  },
  {
   "cell_type": "code",
   "execution_count": null,
   "id": "f7c1a530-e642-4e81-a720-73aad8c000f4",
   "metadata": {},
   "outputs": [],
   "source": []
  }
 ],
 "metadata": {
  "kernelspec": {
   "display_name": "Python 3 (ipykernel)",
   "language": "python",
   "name": "python3"
  },
  "language_info": {
   "codemirror_mode": {
    "name": "ipython",
    "version": 3
   },
   "file_extension": ".py",
   "mimetype": "text/x-python",
   "name": "python",
   "nbconvert_exporter": "python",
   "pygments_lexer": "ipython3",
   "version": "3.10.16"
  }
 },
 "nbformat": 4,
 "nbformat_minor": 5
}
