{
 "cells": [
  {
   "cell_type": "markdown",
   "id": "d853f474-d828-422d-927f-88d179549968",
   "metadata": {},
   "source": [
    "## 🦪 Abalone Attribute Prediction\n",
    "\n",
    "Given *data about abalone*, let's try to predict **multiple attributes** of a given organism.\n",
    "\n",
    "We will use Linear Regression and Logistic Regression models to make our predictions.\n",
    "\n",
    "Data source: https://www.kaggle.com/datasets/hurshd0/abalone-uci"
   ]
  },
  {
   "cell_type": "markdown",
   "id": "4c530f21-7a55-4084-9a80-faa8fd23a8e8",
   "metadata": {},
   "source": [
    "### Importing Libraries"
   ]
  },
  {
   "cell_type": "code",
   "execution_count": 1,
   "id": "08d44284-826c-4a48-bc67-a2f2b49a8810",
   "metadata": {},
   "outputs": [],
   "source": [
    "import numpy as np\n",
    "import pandas as pd\n",
    "\n",
    "from sklearn.model_selection import train_test_split\n",
    "from sklearn.preprocessing import StandardScaler\n",
    "\n",
    "from sklearn.linear_model import LinearRegression, LogisticRegression"
   ]
  },
  {
   "cell_type": "code",
   "execution_count": 2,
   "id": "a602b2d4-3bf9-450b-8144-7a343294c265",
   "metadata": {},
   "outputs": [
    {
     "data": {
      "text/html": [
       "<div>\n",
       "<style scoped>\n",
       "    .dataframe tbody tr th:only-of-type {\n",
       "        vertical-align: middle;\n",
       "    }\n",
       "\n",
       "    .dataframe tbody tr th {\n",
       "        vertical-align: top;\n",
       "    }\n",
       "\n",
       "    .dataframe thead th {\n",
       "        text-align: right;\n",
       "    }\n",
       "</style>\n",
       "<table border=\"1\" class=\"dataframe\">\n",
       "  <thead>\n",
       "    <tr style=\"text-align: right;\">\n",
       "      <th></th>\n",
       "      <th>sex</th>\n",
       "      <th>length</th>\n",
       "      <th>diameter</th>\n",
       "      <th>height</th>\n",
       "      <th>whole-weight</th>\n",
       "      <th>shucked-weight</th>\n",
       "      <th>viscera-weight</th>\n",
       "      <th>shell-weight</th>\n",
       "      <th>rings</th>\n",
       "    </tr>\n",
       "  </thead>\n",
       "  <tbody>\n",
       "    <tr>\n",
       "      <th>0</th>\n",
       "      <td>M</td>\n",
       "      <td>91</td>\n",
       "      <td>73</td>\n",
       "      <td>19</td>\n",
       "      <td>102.8</td>\n",
       "      <td>44.9</td>\n",
       "      <td>20.2</td>\n",
       "      <td>30.0</td>\n",
       "      <td>15</td>\n",
       "    </tr>\n",
       "    <tr>\n",
       "      <th>1</th>\n",
       "      <td>M</td>\n",
       "      <td>70</td>\n",
       "      <td>53</td>\n",
       "      <td>18</td>\n",
       "      <td>45.1</td>\n",
       "      <td>19.9</td>\n",
       "      <td>9.7</td>\n",
       "      <td>14.0</td>\n",
       "      <td>7</td>\n",
       "    </tr>\n",
       "    <tr>\n",
       "      <th>2</th>\n",
       "      <td>F</td>\n",
       "      <td>106</td>\n",
       "      <td>84</td>\n",
       "      <td>27</td>\n",
       "      <td>135.4</td>\n",
       "      <td>51.3</td>\n",
       "      <td>28.3</td>\n",
       "      <td>42.0</td>\n",
       "      <td>9</td>\n",
       "    </tr>\n",
       "    <tr>\n",
       "      <th>3</th>\n",
       "      <td>M</td>\n",
       "      <td>88</td>\n",
       "      <td>73</td>\n",
       "      <td>25</td>\n",
       "      <td>103.2</td>\n",
       "      <td>43.1</td>\n",
       "      <td>22.8</td>\n",
       "      <td>31.0</td>\n",
       "      <td>10</td>\n",
       "    </tr>\n",
       "    <tr>\n",
       "      <th>4</th>\n",
       "      <td>I</td>\n",
       "      <td>66</td>\n",
       "      <td>51</td>\n",
       "      <td>16</td>\n",
       "      <td>41.0</td>\n",
       "      <td>17.9</td>\n",
       "      <td>7.9</td>\n",
       "      <td>11.0</td>\n",
       "      <td>7</td>\n",
       "    </tr>\n",
       "    <tr>\n",
       "      <th>...</th>\n",
       "      <td>...</td>\n",
       "      <td>...</td>\n",
       "      <td>...</td>\n",
       "      <td>...</td>\n",
       "      <td>...</td>\n",
       "      <td>...</td>\n",
       "      <td>...</td>\n",
       "      <td>...</td>\n",
       "      <td>...</td>\n",
       "    </tr>\n",
       "    <tr>\n",
       "      <th>4172</th>\n",
       "      <td>F</td>\n",
       "      <td>113</td>\n",
       "      <td>90</td>\n",
       "      <td>33</td>\n",
       "      <td>177.4</td>\n",
       "      <td>74.0</td>\n",
       "      <td>47.8</td>\n",
       "      <td>49.8</td>\n",
       "      <td>11</td>\n",
       "    </tr>\n",
       "    <tr>\n",
       "      <th>4173</th>\n",
       "      <td>M</td>\n",
       "      <td>118</td>\n",
       "      <td>88</td>\n",
       "      <td>27</td>\n",
       "      <td>193.2</td>\n",
       "      <td>87.8</td>\n",
       "      <td>42.9</td>\n",
       "      <td>52.1</td>\n",
       "      <td>10</td>\n",
       "    </tr>\n",
       "    <tr>\n",
       "      <th>4174</th>\n",
       "      <td>M</td>\n",
       "      <td>120</td>\n",
       "      <td>95</td>\n",
       "      <td>41</td>\n",
       "      <td>235.2</td>\n",
       "      <td>105.1</td>\n",
       "      <td>57.5</td>\n",
       "      <td>61.6</td>\n",
       "      <td>9</td>\n",
       "    </tr>\n",
       "    <tr>\n",
       "      <th>4175</th>\n",
       "      <td>F</td>\n",
       "      <td>125</td>\n",
       "      <td>97</td>\n",
       "      <td>30</td>\n",
       "      <td>218.9</td>\n",
       "      <td>106.2</td>\n",
       "      <td>52.2</td>\n",
       "      <td>59.2</td>\n",
       "      <td>10</td>\n",
       "    </tr>\n",
       "    <tr>\n",
       "      <th>4176</th>\n",
       "      <td>M</td>\n",
       "      <td>142</td>\n",
       "      <td>111</td>\n",
       "      <td>39</td>\n",
       "      <td>389.7</td>\n",
       "      <td>189.1</td>\n",
       "      <td>75.3</td>\n",
       "      <td>99.0</td>\n",
       "      <td>12</td>\n",
       "    </tr>\n",
       "  </tbody>\n",
       "</table>\n",
       "<p>4177 rows × 9 columns</p>\n",
       "</div>"
      ],
      "text/plain": [
       "     sex  length  diameter  height  whole-weight  shucked-weight  \\\n",
       "0      M      91        73      19         102.8            44.9   \n",
       "1      M      70        53      18          45.1            19.9   \n",
       "2      F     106        84      27         135.4            51.3   \n",
       "3      M      88        73      25         103.2            43.1   \n",
       "4      I      66        51      16          41.0            17.9   \n",
       "...   ..     ...       ...     ...           ...             ...   \n",
       "4172   F     113        90      33         177.4            74.0   \n",
       "4173   M     118        88      27         193.2            87.8   \n",
       "4174   M     120        95      41         235.2           105.1   \n",
       "4175   F     125        97      30         218.9           106.2   \n",
       "4176   M     142       111      39         389.7           189.1   \n",
       "\n",
       "      viscera-weight  shell-weight  rings  \n",
       "0               20.2          30.0     15  \n",
       "1                9.7          14.0      7  \n",
       "2               28.3          42.0      9  \n",
       "3               22.8          31.0     10  \n",
       "4                7.9          11.0      7  \n",
       "...              ...           ...    ...  \n",
       "4172            47.8          49.8     11  \n",
       "4173            42.9          52.1     10  \n",
       "4174            57.5          61.6      9  \n",
       "4175            52.2          59.2     10  \n",
       "4176            75.3          99.0     12  \n",
       "\n",
       "[4177 rows x 9 columns]"
      ]
     },
     "execution_count": 2,
     "metadata": {},
     "output_type": "execute_result"
    }
   ],
   "source": [
    "data = pd.read_csv('abalone_original.csv')\n",
    "data"
   ]
  },
  {
   "cell_type": "code",
   "execution_count": 3,
   "id": "356b9bdf-bede-42e3-9c9c-25ecc4854d8b",
   "metadata": {},
   "outputs": [
    {
     "name": "stdout",
     "output_type": "stream",
     "text": [
      "<class 'pandas.core.frame.DataFrame'>\n",
      "RangeIndex: 4177 entries, 0 to 4176\n",
      "Data columns (total 9 columns):\n",
      " #   Column          Non-Null Count  Dtype  \n",
      "---  ------          --------------  -----  \n",
      " 0   sex             4177 non-null   object \n",
      " 1   length          4177 non-null   int64  \n",
      " 2   diameter        4177 non-null   int64  \n",
      " 3   height          4177 non-null   int64  \n",
      " 4   whole-weight    4177 non-null   float64\n",
      " 5   shucked-weight  4177 non-null   float64\n",
      " 6   viscera-weight  4177 non-null   float64\n",
      " 7   shell-weight    4177 non-null   float64\n",
      " 8   rings           4177 non-null   int64  \n",
      "dtypes: float64(4), int64(4), object(1)\n",
      "memory usage: 293.8+ KB\n"
     ]
    }
   ],
   "source": [
    "data.info()"
   ]
  },
  {
   "cell_type": "markdown",
   "id": "5fd7d860-7125-4048-8157-8ca20416ca11",
   "metadata": {},
   "source": [
    "### Preprocessing and Training"
   ]
  },
  {
   "cell_type": "code",
   "execution_count": 4,
   "id": "04d9aae4-25e9-4011-81ea-8a46da54f017",
   "metadata": {},
   "outputs": [],
   "source": [
    "df = data.copy()"
   ]
  },
  {
   "cell_type": "code",
   "execution_count": 5,
   "id": "281b9a31-06a8-4e17-a13a-cdfc181f84ae",
   "metadata": {},
   "outputs": [
    {
     "name": "stdout",
     "output_type": "stream",
     "text": [
      "Sex Classification Test Accuracy: 57.10%\n"
     ]
    }
   ],
   "source": [
    "# Target column: sex\n",
    "\n",
    "y = df['sex'].copy()\n",
    "X = df.drop('sex', axis=1).copy()\n",
    "\n",
    "# Train-test split \n",
    "X_train, X_test, y_train, y_test = train_test_split(X, y, train_size=0.7, shuffle=True, random_state=1)\n",
    "\n",
    "# Scale X\n",
    "scaler = StandardScaler()\n",
    "scaler.fit(X_train)\n",
    "X_train = pd.DataFrame(scaler.transform(X_train), index=X_train.index, columns=X_train.columns)\n",
    "X_test = pd.DataFrame(scaler.transform(X_test), index=X_test.index, columns=X_test.columns)\n",
    "\n",
    "# Define Model\n",
    "model = LogisticRegression()\n",
    "\n",
    "# Fit model to train set\n",
    "model.fit(X_train, y_train)\n",
    "\n",
    "# Return test results\n",
    "results = model.score(X_test, y_test)\n",
    "print(\"Sex Classification Test Accuracy: {:.2f}%\".format(results*100))"
   ]
  },
  {
   "cell_type": "code",
   "execution_count": 8,
   "id": "99d794cf-4cca-4cca-a994-4c932658fb5e",
   "metadata": {},
   "outputs": [
    {
     "name": "stdout",
     "output_type": "stream",
     "text": [
      "Length Regression R^2 Score: 0.9753\n"
     ]
    }
   ],
   "source": [
    "# Target column: length\n",
    "\n",
    "df = data.copy()\n",
    "\n",
    "# One-hot encode sex column\n",
    "dummies = pd.get_dummies(df['sex'])\n",
    "df = pd.concat([df, dummies], axis=1)\n",
    "df = df.drop('sex', axis=1)\n",
    "\n",
    "y = df['length'].copy()\n",
    "X = df.drop('length', axis=1).copy()\n",
    "\n",
    "# Train-test split \n",
    "X_train, X_test, y_train, y_test = train_test_split(X, y, train_size=0.7, shuffle=True, random_state=1)\n",
    "\n",
    "# Scale X\n",
    "scaler = StandardScaler()\n",
    "scaler.fit(X_train)\n",
    "X_train = pd.DataFrame(scaler.transform(X_train), index=X_train.index, columns=X_train.columns)\n",
    "X_test = pd.DataFrame(scaler.transform(X_test), index=X_test.index, columns=X_test.columns)\n",
    "\n",
    "# Define Model\n",
    "model = LinearRegression()\n",
    "\n",
    "# Fit model to train set\n",
    "model.fit(X_train, y_train)\n",
    "\n",
    "# Return test results\n",
    "results = model.score(X_test, y_test)\n",
    "print(\"Length Regression R^2 Score: {:.4f}\".format(results))"
   ]
  },
  {
   "cell_type": "code",
   "execution_count": 10,
   "id": "c7a132b9-9ae5-4a40-93b0-f66ed3c9c0ec",
   "metadata": {},
   "outputs": [
    {
     "name": "stdout",
     "output_type": "stream",
     "text": [
      "Diameter Regression R^2 Score: 0.9758\n"
     ]
    }
   ],
   "source": [
    "# Target column: diameter\n",
    "\n",
    "df = data.copy()\n",
    "\n",
    "# One-hot encode sex column\n",
    "dummies = pd.get_dummies(df['sex'])\n",
    "df = pd.concat([df, dummies], axis=1)\n",
    "df = df.drop('sex', axis=1)\n",
    "\n",
    "y = df['diameter'].copy()\n",
    "X = df.drop('diameter', axis=1).copy()\n",
    "\n",
    "# Train-test split \n",
    "X_train, X_test, y_train, y_test = train_test_split(X, y, train_size=0.7, shuffle=True, random_state=1)\n",
    "\n",
    "# Scale X\n",
    "scaler = StandardScaler()\n",
    "scaler.fit(X_train)\n",
    "X_train = pd.DataFrame(scaler.transform(X_train), index=X_train.index, columns=X_train.columns)\n",
    "X_test = pd.DataFrame(scaler.transform(X_test), index=X_test.index, columns=X_test.columns)\n",
    "\n",
    "# Define Model\n",
    "model = LinearRegression()\n",
    "\n",
    "# Fit model to train set\n",
    "model.fit(X_train, y_train)\n",
    "\n",
    "# Return test results\n",
    "results = model.score(X_test, y_test)\n",
    "print(\"Diameter Regression R^2 Score: {:.4f}\".format(results))"
   ]
  },
  {
   "cell_type": "code",
   "execution_count": 12,
   "id": "fedb3114-7fc0-4357-aab0-16f041695623",
   "metadata": {},
   "outputs": [
    {
     "name": "stdout",
     "output_type": "stream",
     "text": [
      "Height Regression R^2 Score: 0.8147\n"
     ]
    }
   ],
   "source": [
    "# Target column: height\n",
    "\n",
    "df = data.copy()\n",
    "\n",
    "# One-hot encode sex column\n",
    "dummies = pd.get_dummies(df['sex'])\n",
    "df = pd.concat([df, dummies], axis=1)\n",
    "df = df.drop('sex', axis=1)\n",
    "\n",
    "y = df['height'].copy()\n",
    "X = df.drop('height', axis=1).copy()\n",
    "\n",
    "# Train-test split \n",
    "X_train, X_test, y_train, y_test = train_test_split(X, y, train_size=0.7, shuffle=True, random_state=1)\n",
    "\n",
    "# Scale X\n",
    "scaler = StandardScaler()\n",
    "scaler.fit(X_train)\n",
    "X_train = pd.DataFrame(scaler.transform(X_train), index=X_train.index, columns=X_train.columns)\n",
    "X_test = pd.DataFrame(scaler.transform(X_test), index=X_test.index, columns=X_test.columns)\n",
    "\n",
    "# Define Model\n",
    "model = LinearRegression()\n",
    "\n",
    "# Fit model to train set\n",
    "model.fit(X_train, y_train)\n",
    "\n",
    "# Return test results\n",
    "results = model.score(X_test, y_test)\n",
    "print(\"Height Regression R^2 Score: {:.4f}\".format(results))"
   ]
  },
  {
   "cell_type": "code",
   "execution_count": 14,
   "id": "24e36dd7-1356-4c2f-b892-5e5b43111acf",
   "metadata": {},
   "outputs": [
    {
     "name": "stdout",
     "output_type": "stream",
     "text": [
      "Whole Weight Regression R^2 Score: 0.9908\n"
     ]
    }
   ],
   "source": [
    "# Target column: whole-weight\n",
    "\n",
    "df = data.copy()\n",
    "\n",
    "# One-hot encode sex column\n",
    "dummies = pd.get_dummies(df['sex'])\n",
    "df = pd.concat([df, dummies], axis=1)\n",
    "df = df.drop('sex', axis=1)\n",
    "\n",
    "y = df['whole-weight'].copy()\n",
    "X = df.drop('whole-weight', axis=1).copy()\n",
    "\n",
    "# Train-test split \n",
    "X_train, X_test, y_train, y_test = train_test_split(X, y, train_size=0.7, shuffle=True, random_state=1)\n",
    "\n",
    "# Scale X\n",
    "scaler = StandardScaler()\n",
    "scaler.fit(X_train)\n",
    "X_train = pd.DataFrame(scaler.transform(X_train), index=X_train.index, columns=X_train.columns)\n",
    "X_test = pd.DataFrame(scaler.transform(X_test), index=X_test.index, columns=X_test.columns)\n",
    "\n",
    "# Define Model\n",
    "model = LinearRegression()\n",
    "\n",
    "# Fit model to train set\n",
    "model.fit(X_train, y_train)\n",
    "\n",
    "# Return test results\n",
    "results = model.score(X_test, y_test)\n",
    "print(\"Whole Weight Regression R^2 Score: {:.4f}\".format(results))"
   ]
  },
  {
   "cell_type": "code",
   "execution_count": 15,
   "id": "5aa8c45a-bdc1-4923-875c-7dedd4eb65b2",
   "metadata": {},
   "outputs": [
    {
     "name": "stdout",
     "output_type": "stream",
     "text": [
      "Shucked Weight Regression R^2 Score: 0.9676\n"
     ]
    }
   ],
   "source": [
    "# Target column: shucked-weight\n",
    "\n",
    "df = data.copy()\n",
    "\n",
    "# One-hot encode sex column\n",
    "dummies = pd.get_dummies(df['sex'])\n",
    "df = pd.concat([df, dummies], axis=1)\n",
    "df = df.drop('sex', axis=1)\n",
    "\n",
    "y = df['shucked-weight'].copy()\n",
    "X = df.drop('shucked-weight', axis=1).copy()\n",
    "\n",
    "# Train-test split \n",
    "X_train, X_test, y_train, y_test = train_test_split(X, y, train_size=0.7, shuffle=True, random_state=1)\n",
    "\n",
    "# Scale X\n",
    "scaler = StandardScaler()\n",
    "scaler.fit(X_train)\n",
    "X_train = pd.DataFrame(scaler.transform(X_train), index=X_train.index, columns=X_train.columns)\n",
    "X_test = pd.DataFrame(scaler.transform(X_test), index=X_test.index, columns=X_test.columns)\n",
    "\n",
    "# Define Model\n",
    "model = LinearRegression()\n",
    "\n",
    "# Fit model to train set\n",
    "model.fit(X_train, y_train)\n",
    "\n",
    "# Return test results\n",
    "results = model.score(X_test, y_test)\n",
    "print(\"Shucked Weight Regression R^2 Score: {:.4f}\".format(results))"
   ]
  },
  {
   "cell_type": "code",
   "execution_count": 16,
   "id": "5dd36400-f353-4f59-9664-022e30527a7a",
   "metadata": {},
   "outputs": [
    {
     "name": "stdout",
     "output_type": "stream",
     "text": [
      "Viscera-Weight Regression R^2 Score: 0.9462\n"
     ]
    }
   ],
   "source": [
    "# Target column: viscera-weight\n",
    "\n",
    "df = data.copy()\n",
    "\n",
    "# One-hot encode sex column\n",
    "dummies = pd.get_dummies(df['sex'])\n",
    "df = pd.concat([df, dummies], axis=1)\n",
    "df = df.drop('sex', axis=1)\n",
    "\n",
    "y = df['viscera-weight'].copy()\n",
    "X = df.drop('viscera-weight', axis=1).copy()\n",
    "\n",
    "# Train-test split \n",
    "X_train, X_test, y_train, y_test = train_test_split(X, y, train_size=0.7, shuffle=True, random_state=1)\n",
    "\n",
    "# Scale X\n",
    "scaler = StandardScaler()\n",
    "scaler.fit(X_train)\n",
    "X_train = pd.DataFrame(scaler.transform(X_train), index=X_train.index, columns=X_train.columns)\n",
    "X_test = pd.DataFrame(scaler.transform(X_test), index=X_test.index, columns=X_test.columns)\n",
    "\n",
    "# Define Model\n",
    "model = LinearRegression()\n",
    "\n",
    "# Fit model to train set\n",
    "model.fit(X_train, y_train)\n",
    "\n",
    "# Return test results\n",
    "results = model.score(X_test, y_test)\n",
    "print(\"Viscera-Weight Regression R^2 Score: {:.4f}\".format(results))"
   ]
  },
  {
   "cell_type": "code",
   "execution_count": 17,
   "id": "aa9d88ce-b9ee-4b10-9689-96edfa085fbf",
   "metadata": {},
   "outputs": [
    {
     "name": "stdout",
     "output_type": "stream",
     "text": [
      "Shell Weight Regression R^2 Score: 0.9511\n"
     ]
    }
   ],
   "source": [
    "# Target column: shell-weight\n",
    "\n",
    "df = data.copy()\n",
    "\n",
    "# One-hot encode sex column\n",
    "dummies = pd.get_dummies(df['sex'])\n",
    "df = pd.concat([df, dummies], axis=1)\n",
    "df = df.drop('sex', axis=1)\n",
    "\n",
    "y = df['shell-weight'].copy()\n",
    "X = df.drop('shell-weight', axis=1).copy()\n",
    "\n",
    "# Train-test split \n",
    "X_train, X_test, y_train, y_test = train_test_split(X, y, train_size=0.7, shuffle=True, random_state=1)\n",
    "\n",
    "# Scale X\n",
    "scaler = StandardScaler()\n",
    "scaler.fit(X_train)\n",
    "X_train = pd.DataFrame(scaler.transform(X_train), index=X_train.index, columns=X_train.columns)\n",
    "X_test = pd.DataFrame(scaler.transform(X_test), index=X_test.index, columns=X_test.columns)\n",
    "\n",
    "# Define Model\n",
    "model = LinearRegression()\n",
    "\n",
    "# Fit model to train set\n",
    "model.fit(X_train, y_train)\n",
    "\n",
    "# Return test results\n",
    "results = model.score(X_test, y_test)\n",
    "print(\"Shell Weight Regression R^2 Score: {:.4f}\".format(results))"
   ]
  },
  {
   "cell_type": "code",
   "execution_count": 18,
   "id": "48898e35-2179-4808-81de-fcaa0595b9dd",
   "metadata": {},
   "outputs": [
    {
     "name": "stdout",
     "output_type": "stream",
     "text": [
      "Rings Regression R^2 Score: 0.5196\n"
     ]
    }
   ],
   "source": [
    "# Target column: rings (regression)\n",
    "\n",
    "df = data.copy()\n",
    "\n",
    "# One-hot encode sex column\n",
    "dummies = pd.get_dummies(df['sex'])\n",
    "df = pd.concat([df, dummies], axis=1)\n",
    "df = df.drop('sex', axis=1)\n",
    "\n",
    "y = df['rings'].copy()\n",
    "X = df.drop('rings', axis=1).copy()\n",
    "\n",
    "# Train-test split \n",
    "X_train, X_test, y_train, y_test = train_test_split(X, y, train_size=0.7, shuffle=True, random_state=1)\n",
    "\n",
    "# Scale X\n",
    "scaler = StandardScaler()\n",
    "scaler.fit(X_train)\n",
    "X_train = pd.DataFrame(scaler.transform(X_train), index=X_train.index, columns=X_train.columns)\n",
    "X_test = pd.DataFrame(scaler.transform(X_test), index=X_test.index, columns=X_test.columns)\n",
    "\n",
    "# Define Model\n",
    "model = LinearRegression()\n",
    "\n",
    "# Fit model to train set\n",
    "model.fit(X_train, y_train)\n",
    "\n",
    "# Return test results\n",
    "results = model.score(X_test, y_test)\n",
    "print(\"Rings Regression R^2 Score: {:.4f}\".format(results))"
   ]
  },
  {
   "cell_type": "code",
   "execution_count": 19,
   "id": "ceb137ae-b615-4ec0-9cff-8b6ed5eeda07",
   "metadata": {},
   "outputs": [
    {
     "name": "stdout",
     "output_type": "stream",
     "text": [
      "Rings Classification Accuracy: 25.92%\n"
     ]
    },
    {
     "name": "stderr",
     "output_type": "stream",
     "text": [
      "/home/aditya/miniconda3/envs/dsenv/lib/python3.10/site-packages/sklearn/linear_model/_logistic.py:465: ConvergenceWarning: lbfgs failed to converge (status=1):\n",
      "STOP: TOTAL NO. OF ITERATIONS REACHED LIMIT.\n",
      "\n",
      "Increase the number of iterations (max_iter) or scale the data as shown in:\n",
      "    https://scikit-learn.org/stable/modules/preprocessing.html\n",
      "Please also refer to the documentation for alternative solver options:\n",
      "    https://scikit-learn.org/stable/modules/linear_model.html#logistic-regression\n",
      "  n_iter_i = _check_optimize_result(\n"
     ]
    }
   ],
   "source": [
    "# Target column: rings (classification)\n",
    "\n",
    "df = data.copy()\n",
    "\n",
    "# One-hot encode sex column\n",
    "dummies = pd.get_dummies(df['sex'])\n",
    "df = pd.concat([df, dummies], axis=1)\n",
    "df = df.drop('sex', axis=1)\n",
    "\n",
    "y = df['rings'].copy()\n",
    "X = df.drop('rings', axis=1).copy()\n",
    "\n",
    "# Train-test split \n",
    "X_train, X_test, y_train, y_test = train_test_split(X, y, train_size=0.7, shuffle=True, random_state=1)\n",
    "\n",
    "# Scale X\n",
    "scaler = StandardScaler()\n",
    "scaler.fit(X_train)\n",
    "X_train = pd.DataFrame(scaler.transform(X_train), index=X_train.index, columns=X_train.columns)\n",
    "X_test = pd.DataFrame(scaler.transform(X_test), index=X_test.index, columns=X_test.columns)\n",
    "\n",
    "# Define Model\n",
    "model = LogisticRegression()\n",
    "\n",
    "# Fit model to train set\n",
    "model.fit(X_train, y_train)\n",
    "\n",
    "# Return test results\n",
    "results = model.score(X_test, y_test)\n",
    "print(\"Rings Classification Accuracy: {:.2f}%\".format(results*100))"
   ]
  },
  {
   "cell_type": "code",
   "execution_count": null,
   "id": "ac073cf3-d6cd-4f68-9e81-c0f420f9011c",
   "metadata": {},
   "outputs": [],
   "source": []
  }
 ],
 "metadata": {
  "kernelspec": {
   "display_name": "Python 3 (ipykernel)",
   "language": "python",
   "name": "python3"
  },
  "language_info": {
   "codemirror_mode": {
    "name": "ipython",
    "version": 3
   },
   "file_extension": ".py",
   "mimetype": "text/x-python",
   "name": "python",
   "nbconvert_exporter": "python",
   "pygments_lexer": "ipython3",
   "version": "3.10.16"
  }
 },
 "nbformat": 4,
 "nbformat_minor": 5
}
