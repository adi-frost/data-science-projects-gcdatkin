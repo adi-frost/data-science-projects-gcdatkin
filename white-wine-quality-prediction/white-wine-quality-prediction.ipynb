{
 "cells": [
  {
   "cell_type": "markdown",
   "id": "955e2f44-fa1c-4000-ab90-d988460526a1",
   "metadata": {},
   "source": [
    "## White Wine Quality Prediction\n",
    "\n",
    "Given *data about various white wines*, let's try to predict the **quality** of a particular wine, according to experts.\n",
    "\n",
    "We will use a TensorFlow ANN to make our predictions.\n",
    "\n",
    "Data source: https://www.kaggle.com/datasets/piyushagni5/white-wine-quality"
   ]
  },
  {
   "cell_type": "markdown",
   "id": "b83927d1-cd1c-43c1-a2ae-4ed2bfb6c38c",
   "metadata": {},
   "source": [
    "### Importing Libraries"
   ]
  },
  {
   "cell_type": "code",
   "execution_count": 1,
   "id": "d85f3f0c-6748-47a7-bcc9-ba0f4b1b2bb2",
   "metadata": {},
   "outputs": [
    {
     "name": "stderr",
     "output_type": "stream",
     "text": [
      "2025-06-08 23:21:59.746057: I tensorflow/core/platform/cpu_feature_guard.cc:182] This TensorFlow binary is optimized to use available CPU instructions in performance-critical operations.\n",
      "To enable the following instructions: SSE4.1 SSE4.2 AVX AVX2 FMA, in other operations, rebuild TensorFlow with the appropriate compiler flags.\n"
     ]
    }
   ],
   "source": [
    "import numpy as np\n",
    "import pandas as pd\n",
    "import plotly.express as px\n",
    "import seaborn as sns\n",
    "import matplotlib.pyplot as plt\n",
    "\n",
    "from sklearn.preprocessing import LabelEncoder, StandardScaler\n",
    "from sklearn.model_selection import train_test_split\n",
    "\n",
    "import tensorflow as tf"
   ]
  },
  {
   "cell_type": "code",
   "execution_count": 2,
   "id": "033c7955-a2a8-4d3e-b00f-f84e95120534",
   "metadata": {},
   "outputs": [
    {
     "data": {
      "text/html": [
       "<div>\n",
       "<style scoped>\n",
       "    .dataframe tbody tr th:only-of-type {\n",
       "        vertical-align: middle;\n",
       "    }\n",
       "\n",
       "    .dataframe tbody tr th {\n",
       "        vertical-align: top;\n",
       "    }\n",
       "\n",
       "    .dataframe thead th {\n",
       "        text-align: right;\n",
       "    }\n",
       "</style>\n",
       "<table border=\"1\" class=\"dataframe\">\n",
       "  <thead>\n",
       "    <tr style=\"text-align: right;\">\n",
       "      <th></th>\n",
       "      <th>fixed acidity</th>\n",
       "      <th>volatile acidity</th>\n",
       "      <th>citric acid</th>\n",
       "      <th>residual sugar</th>\n",
       "      <th>chlorides</th>\n",
       "      <th>free sulfur dioxide</th>\n",
       "      <th>total sulfur dioxide</th>\n",
       "      <th>density</th>\n",
       "      <th>pH</th>\n",
       "      <th>sulphates</th>\n",
       "      <th>alcohol</th>\n",
       "      <th>quality</th>\n",
       "    </tr>\n",
       "  </thead>\n",
       "  <tbody>\n",
       "    <tr>\n",
       "      <th>0</th>\n",
       "      <td>7.0</td>\n",
       "      <td>0.27</td>\n",
       "      <td>0.36</td>\n",
       "      <td>20.7</td>\n",
       "      <td>0.045</td>\n",
       "      <td>45.0</td>\n",
       "      <td>170.0</td>\n",
       "      <td>1.00100</td>\n",
       "      <td>3.00</td>\n",
       "      <td>0.45</td>\n",
       "      <td>8.8</td>\n",
       "      <td>6</td>\n",
       "    </tr>\n",
       "    <tr>\n",
       "      <th>1</th>\n",
       "      <td>6.3</td>\n",
       "      <td>0.30</td>\n",
       "      <td>0.34</td>\n",
       "      <td>1.6</td>\n",
       "      <td>0.049</td>\n",
       "      <td>14.0</td>\n",
       "      <td>132.0</td>\n",
       "      <td>0.99400</td>\n",
       "      <td>3.30</td>\n",
       "      <td>0.49</td>\n",
       "      <td>9.5</td>\n",
       "      <td>6</td>\n",
       "    </tr>\n",
       "    <tr>\n",
       "      <th>2</th>\n",
       "      <td>8.1</td>\n",
       "      <td>0.28</td>\n",
       "      <td>0.40</td>\n",
       "      <td>6.9</td>\n",
       "      <td>0.050</td>\n",
       "      <td>30.0</td>\n",
       "      <td>97.0</td>\n",
       "      <td>0.99510</td>\n",
       "      <td>3.26</td>\n",
       "      <td>0.44</td>\n",
       "      <td>10.1</td>\n",
       "      <td>6</td>\n",
       "    </tr>\n",
       "    <tr>\n",
       "      <th>3</th>\n",
       "      <td>7.2</td>\n",
       "      <td>0.23</td>\n",
       "      <td>0.32</td>\n",
       "      <td>8.5</td>\n",
       "      <td>0.058</td>\n",
       "      <td>47.0</td>\n",
       "      <td>186.0</td>\n",
       "      <td>0.99560</td>\n",
       "      <td>3.19</td>\n",
       "      <td>0.40</td>\n",
       "      <td>9.9</td>\n",
       "      <td>6</td>\n",
       "    </tr>\n",
       "    <tr>\n",
       "      <th>4</th>\n",
       "      <td>7.2</td>\n",
       "      <td>0.23</td>\n",
       "      <td>0.32</td>\n",
       "      <td>8.5</td>\n",
       "      <td>0.058</td>\n",
       "      <td>47.0</td>\n",
       "      <td>186.0</td>\n",
       "      <td>0.99560</td>\n",
       "      <td>3.19</td>\n",
       "      <td>0.40</td>\n",
       "      <td>9.9</td>\n",
       "      <td>6</td>\n",
       "    </tr>\n",
       "    <tr>\n",
       "      <th>...</th>\n",
       "      <td>...</td>\n",
       "      <td>...</td>\n",
       "      <td>...</td>\n",
       "      <td>...</td>\n",
       "      <td>...</td>\n",
       "      <td>...</td>\n",
       "      <td>...</td>\n",
       "      <td>...</td>\n",
       "      <td>...</td>\n",
       "      <td>...</td>\n",
       "      <td>...</td>\n",
       "      <td>...</td>\n",
       "    </tr>\n",
       "    <tr>\n",
       "      <th>4893</th>\n",
       "      <td>6.2</td>\n",
       "      <td>0.21</td>\n",
       "      <td>0.29</td>\n",
       "      <td>1.6</td>\n",
       "      <td>0.039</td>\n",
       "      <td>24.0</td>\n",
       "      <td>92.0</td>\n",
       "      <td>0.99114</td>\n",
       "      <td>3.27</td>\n",
       "      <td>0.50</td>\n",
       "      <td>11.2</td>\n",
       "      <td>6</td>\n",
       "    </tr>\n",
       "    <tr>\n",
       "      <th>4894</th>\n",
       "      <td>6.6</td>\n",
       "      <td>0.32</td>\n",
       "      <td>0.36</td>\n",
       "      <td>8.0</td>\n",
       "      <td>0.047</td>\n",
       "      <td>57.0</td>\n",
       "      <td>168.0</td>\n",
       "      <td>0.99490</td>\n",
       "      <td>3.15</td>\n",
       "      <td>0.46</td>\n",
       "      <td>9.6</td>\n",
       "      <td>5</td>\n",
       "    </tr>\n",
       "    <tr>\n",
       "      <th>4895</th>\n",
       "      <td>6.5</td>\n",
       "      <td>0.24</td>\n",
       "      <td>0.19</td>\n",
       "      <td>1.2</td>\n",
       "      <td>0.041</td>\n",
       "      <td>30.0</td>\n",
       "      <td>111.0</td>\n",
       "      <td>0.99254</td>\n",
       "      <td>2.99</td>\n",
       "      <td>0.46</td>\n",
       "      <td>9.4</td>\n",
       "      <td>6</td>\n",
       "    </tr>\n",
       "    <tr>\n",
       "      <th>4896</th>\n",
       "      <td>5.5</td>\n",
       "      <td>0.29</td>\n",
       "      <td>0.30</td>\n",
       "      <td>1.1</td>\n",
       "      <td>0.022</td>\n",
       "      <td>20.0</td>\n",
       "      <td>110.0</td>\n",
       "      <td>0.98869</td>\n",
       "      <td>3.34</td>\n",
       "      <td>0.38</td>\n",
       "      <td>12.8</td>\n",
       "      <td>7</td>\n",
       "    </tr>\n",
       "    <tr>\n",
       "      <th>4897</th>\n",
       "      <td>6.0</td>\n",
       "      <td>0.21</td>\n",
       "      <td>0.38</td>\n",
       "      <td>0.8</td>\n",
       "      <td>0.020</td>\n",
       "      <td>22.0</td>\n",
       "      <td>98.0</td>\n",
       "      <td>0.98941</td>\n",
       "      <td>3.26</td>\n",
       "      <td>0.32</td>\n",
       "      <td>11.8</td>\n",
       "      <td>6</td>\n",
       "    </tr>\n",
       "  </tbody>\n",
       "</table>\n",
       "<p>4898 rows × 12 columns</p>\n",
       "</div>"
      ],
      "text/plain": [
       "      fixed acidity  volatile acidity  citric acid  residual sugar  chlorides  \\\n",
       "0               7.0              0.27         0.36            20.7      0.045   \n",
       "1               6.3              0.30         0.34             1.6      0.049   \n",
       "2               8.1              0.28         0.40             6.9      0.050   \n",
       "3               7.2              0.23         0.32             8.5      0.058   \n",
       "4               7.2              0.23         0.32             8.5      0.058   \n",
       "...             ...               ...          ...             ...        ...   \n",
       "4893            6.2              0.21         0.29             1.6      0.039   \n",
       "4894            6.6              0.32         0.36             8.0      0.047   \n",
       "4895            6.5              0.24         0.19             1.2      0.041   \n",
       "4896            5.5              0.29         0.30             1.1      0.022   \n",
       "4897            6.0              0.21         0.38             0.8      0.020   \n",
       "\n",
       "      free sulfur dioxide  total sulfur dioxide  density    pH  sulphates  \\\n",
       "0                    45.0                 170.0  1.00100  3.00       0.45   \n",
       "1                    14.0                 132.0  0.99400  3.30       0.49   \n",
       "2                    30.0                  97.0  0.99510  3.26       0.44   \n",
       "3                    47.0                 186.0  0.99560  3.19       0.40   \n",
       "4                    47.0                 186.0  0.99560  3.19       0.40   \n",
       "...                   ...                   ...      ...   ...        ...   \n",
       "4893                 24.0                  92.0  0.99114  3.27       0.50   \n",
       "4894                 57.0                 168.0  0.99490  3.15       0.46   \n",
       "4895                 30.0                 111.0  0.99254  2.99       0.46   \n",
       "4896                 20.0                 110.0  0.98869  3.34       0.38   \n",
       "4897                 22.0                  98.0  0.98941  3.26       0.32   \n",
       "\n",
       "      alcohol  quality  \n",
       "0         8.8        6  \n",
       "1         9.5        6  \n",
       "2        10.1        6  \n",
       "3         9.9        6  \n",
       "4         9.9        6  \n",
       "...       ...      ...  \n",
       "4893     11.2        6  \n",
       "4894      9.6        5  \n",
       "4895      9.4        6  \n",
       "4896     12.8        7  \n",
       "4897     11.8        6  \n",
       "\n",
       "[4898 rows x 12 columns]"
      ]
     },
     "execution_count": 2,
     "metadata": {},
     "output_type": "execute_result"
    }
   ],
   "source": [
    "data = pd.read_csv('winequality-white.csv', delimiter=';')\n",
    "data"
   ]
  },
  {
   "cell_type": "code",
   "execution_count": 3,
   "id": "a91de7a8-0320-4782-aaa6-0df47e53eadb",
   "metadata": {},
   "outputs": [
    {
     "name": "stdout",
     "output_type": "stream",
     "text": [
      "<class 'pandas.core.frame.DataFrame'>\n",
      "RangeIndex: 4898 entries, 0 to 4897\n",
      "Data columns (total 12 columns):\n",
      " #   Column                Non-Null Count  Dtype  \n",
      "---  ------                --------------  -----  \n",
      " 0   fixed acidity         4898 non-null   float64\n",
      " 1   volatile acidity      4898 non-null   float64\n",
      " 2   citric acid           4898 non-null   float64\n",
      " 3   residual sugar        4898 non-null   float64\n",
      " 4   chlorides             4898 non-null   float64\n",
      " 5   free sulfur dioxide   4898 non-null   float64\n",
      " 6   total sulfur dioxide  4898 non-null   float64\n",
      " 7   density               4898 non-null   float64\n",
      " 8   pH                    4898 non-null   float64\n",
      " 9   sulphates             4898 non-null   float64\n",
      " 10  alcohol               4898 non-null   float64\n",
      " 11  quality               4898 non-null   int64  \n",
      "dtypes: float64(11), int64(1)\n",
      "memory usage: 459.3 KB\n"
     ]
    }
   ],
   "source": [
    "data.info()"
   ]
  },
  {
   "cell_type": "markdown",
   "id": "4c421907-ea08-4e57-a132-848b129f4865",
   "metadata": {},
   "source": [
    "### Visualization"
   ]
  },
  {
   "cell_type": "code",
   "execution_count": 4,
   "id": "9ce3d34b-6b54-4f20-a0c5-1fd1159e99c7",
   "metadata": {},
   "outputs": [
    {
     "data": {
      "image/png": "[encoded data removed]",
      "text/plain": [
       "<Figure size 1200x1000 with 2 Axes>"
      ]
     },
     "metadata": {},
     "output_type": "display_data"
    }
   ],
   "source": [
    "corr = data.corr()\n",
    "plt.figure(figsize=(12, 10))\n",
    "sns.heatmap(corr, annot=True, vmin=-1.0, vmax=1.0)\n",
    "plt.show()"
   ]
  },
  {
   "cell_type": "markdown",
   "id": "cb00d949-085d-4ce7-b33c-3f93c3abc04b",
   "metadata": {},
   "source": [
    "### Preprocessing"
   ]
  },
  {
   "cell_type": "code",
   "execution_count": 5,
   "id": "cb5b38d1-cec6-430a-84bd-b3e8fb3c5dc5",
   "metadata": {},
   "outputs": [
    {
     "name": "stdout",
     "output_type": "stream",
     "text": [
      "Total null values:  0\n"
     ]
    }
   ],
   "source": [
    "print(\"Total null values: \", data.isna().sum().sum())"
   ]
  },
  {
   "cell_type": "code",
   "execution_count": 6,
   "id": "a881e3c7-1161-41c1-b0ee-b7c4ad865f5d",
   "metadata": {},
   "outputs": [
    {
     "data": {
      "text/plain": [
       "array([6, 5, 7, 8, 4, 3, 9])"
      ]
     },
     "execution_count": 6,
     "metadata": {},
     "output_type": "execute_result"
    }
   ],
   "source": [
    "data['quality'].unique()"
   ]
  },
  {
   "cell_type": "code",
   "execution_count": 7,
   "id": "fd0328e6-9dfb-4d41-bae5-45180c5f03e9",
   "metadata": {},
   "outputs": [
    {
     "data": {
      "text/plain": [
       "{0: 3, 1: 4, 2: 5, 3: 6, 4: 7, 5: 8, 6: 9}"
      ]
     },
     "execution_count": 7,
     "metadata": {},
     "output_type": "execute_result"
    }
   ],
   "source": [
    "encoder = LabelEncoder()\n",
    "\n",
    "data['quality'] = encoder.fit_transform(data['quality'])\n",
    "\n",
    "{index: label for index, label in enumerate(encoder.classes_)}"
   ]
  },
  {
   "cell_type": "code",
   "execution_count": 8,
   "id": "df1fd0e3-f779-4339-bc7d-09c8e158b1a7",
   "metadata": {},
   "outputs": [
    {
     "data": {
      "text/plain": [
       "array([3, 2, 4, 5, 1, 0, 6])"
      ]
     },
     "execution_count": 8,
     "metadata": {},
     "output_type": "execute_result"
    }
   ],
   "source": [
    "data['quality'].unique()"
   ]
  },
  {
   "cell_type": "code",
   "execution_count": 9,
   "id": "83b1dd6e-4d68-494d-95ee-7aebb11206e9",
   "metadata": {},
   "outputs": [],
   "source": [
    "y = data['quality']\n",
    "X = data.drop('quality', axis=1)"
   ]
  },
  {
   "cell_type": "code",
   "execution_count": 10,
   "id": "badeae5e-caa8-4745-9100-df2314849a72",
   "metadata": {},
   "outputs": [],
   "source": [
    "scaler = StandardScaler()\n",
    "X = pd.DataFrame(scaler.fit_transform(X), columns=X.columns)"
   ]
  },
  {
   "cell_type": "code",
   "execution_count": 11,
   "id": "b12be871-2121-4909-89b7-b5c09a5ef513",
   "metadata": {},
   "outputs": [
    {
     "data": {
      "text/html": [
       "<div>\n",
       "<style scoped>\n",
       "    .dataframe tbody tr th:only-of-type {\n",
       "        vertical-align: middle;\n",
       "    }\n",
       "\n",
       "    .dataframe tbody tr th {\n",
       "        vertical-align: top;\n",
       "    }\n",
       "\n",
       "    .dataframe thead th {\n",
       "        text-align: right;\n",
       "    }\n",
       "</style>\n",
       "<table border=\"1\" class=\"dataframe\">\n",
       "  <thead>\n",
       "    <tr style=\"text-align: right;\">\n",
       "      <th></th>\n",
       "      <th>fixed acidity</th>\n",
       "      <th>volatile acidity</th>\n",
       "      <th>citric acid</th>\n",
       "      <th>residual sugar</th>\n",
       "      <th>chlorides</th>\n",
       "      <th>free sulfur dioxide</th>\n",
       "      <th>total sulfur dioxide</th>\n",
       "      <th>density</th>\n",
       "      <th>pH</th>\n",
       "      <th>sulphates</th>\n",
       "      <th>alcohol</th>\n",
       "    </tr>\n",
       "  </thead>\n",
       "  <tbody>\n",
       "    <tr>\n",
       "      <th>0</th>\n",
       "      <td>0.172097</td>\n",
       "      <td>-0.081770</td>\n",
       "      <td>0.213280</td>\n",
       "      <td>2.821349</td>\n",
       "      <td>-0.035355</td>\n",
       "      <td>0.569932</td>\n",
       "      <td>0.744565</td>\n",
       "      <td>2.331512</td>\n",
       "      <td>-1.246921</td>\n",
       "      <td>-0.349184</td>\n",
       "      <td>-1.393152</td>\n",
       "    </tr>\n",
       "    <tr>\n",
       "      <th>1</th>\n",
       "      <td>-0.657501</td>\n",
       "      <td>0.215896</td>\n",
       "      <td>0.048001</td>\n",
       "      <td>-0.944765</td>\n",
       "      <td>0.147747</td>\n",
       "      <td>-1.253019</td>\n",
       "      <td>-0.149685</td>\n",
       "      <td>-0.009154</td>\n",
       "      <td>0.740029</td>\n",
       "      <td>0.001342</td>\n",
       "      <td>-0.824276</td>\n",
       "    </tr>\n",
       "    <tr>\n",
       "      <th>2</th>\n",
       "      <td>1.475751</td>\n",
       "      <td>0.017452</td>\n",
       "      <td>0.543838</td>\n",
       "      <td>0.100282</td>\n",
       "      <td>0.193523</td>\n",
       "      <td>-0.312141</td>\n",
       "      <td>-0.973336</td>\n",
       "      <td>0.358665</td>\n",
       "      <td>0.475102</td>\n",
       "      <td>-0.436816</td>\n",
       "      <td>-0.336667</td>\n",
       "    </tr>\n",
       "    <tr>\n",
       "      <th>3</th>\n",
       "      <td>0.409125</td>\n",
       "      <td>-0.478657</td>\n",
       "      <td>-0.117278</td>\n",
       "      <td>0.415768</td>\n",
       "      <td>0.559727</td>\n",
       "      <td>0.687541</td>\n",
       "      <td>1.121091</td>\n",
       "      <td>0.525855</td>\n",
       "      <td>0.011480</td>\n",
       "      <td>-0.787342</td>\n",
       "      <td>-0.499203</td>\n",
       "    </tr>\n",
       "    <tr>\n",
       "      <th>4</th>\n",
       "      <td>0.409125</td>\n",
       "      <td>-0.478657</td>\n",
       "      <td>-0.117278</td>\n",
       "      <td>0.415768</td>\n",
       "      <td>0.559727</td>\n",
       "      <td>0.687541</td>\n",
       "      <td>1.121091</td>\n",
       "      <td>0.525855</td>\n",
       "      <td>0.011480</td>\n",
       "      <td>-0.787342</td>\n",
       "      <td>-0.499203</td>\n",
       "    </tr>\n",
       "    <tr>\n",
       "      <th>...</th>\n",
       "      <td>...</td>\n",
       "      <td>...</td>\n",
       "      <td>...</td>\n",
       "      <td>...</td>\n",
       "      <td>...</td>\n",
       "      <td>...</td>\n",
       "      <td>...</td>\n",
       "      <td>...</td>\n",
       "      <td>...</td>\n",
       "      <td>...</td>\n",
       "      <td>...</td>\n",
       "    </tr>\n",
       "    <tr>\n",
       "      <th>4893</th>\n",
       "      <td>-0.776015</td>\n",
       "      <td>-0.677101</td>\n",
       "      <td>-0.365197</td>\n",
       "      <td>-0.944765</td>\n",
       "      <td>-0.310008</td>\n",
       "      <td>-0.664970</td>\n",
       "      <td>-1.091000</td>\n",
       "      <td>-0.965483</td>\n",
       "      <td>0.541334</td>\n",
       "      <td>0.088973</td>\n",
       "      <td>0.557282</td>\n",
       "    </tr>\n",
       "    <tr>\n",
       "      <th>4894</th>\n",
       "      <td>-0.301959</td>\n",
       "      <td>0.414339</td>\n",
       "      <td>0.213280</td>\n",
       "      <td>0.317179</td>\n",
       "      <td>0.056196</td>\n",
       "      <td>1.275590</td>\n",
       "      <td>0.697499</td>\n",
       "      <td>0.291789</td>\n",
       "      <td>-0.253446</td>\n",
       "      <td>-0.261553</td>\n",
       "      <td>-0.743008</td>\n",
       "    </tr>\n",
       "    <tr>\n",
       "      <th>4895</th>\n",
       "      <td>-0.420473</td>\n",
       "      <td>-0.379435</td>\n",
       "      <td>-1.191592</td>\n",
       "      <td>-1.023637</td>\n",
       "      <td>-0.218457</td>\n",
       "      <td>-0.312141</td>\n",
       "      <td>-0.643875</td>\n",
       "      <td>-0.497350</td>\n",
       "      <td>-1.313153</td>\n",
       "      <td>-0.261553</td>\n",
       "      <td>-0.905544</td>\n",
       "    </tr>\n",
       "    <tr>\n",
       "      <th>4896</th>\n",
       "      <td>-1.605613</td>\n",
       "      <td>0.116674</td>\n",
       "      <td>-0.282557</td>\n",
       "      <td>-1.043355</td>\n",
       "      <td>-1.088192</td>\n",
       "      <td>-0.900190</td>\n",
       "      <td>-0.667408</td>\n",
       "      <td>-1.784717</td>\n",
       "      <td>1.004955</td>\n",
       "      <td>-0.962605</td>\n",
       "      <td>1.857572</td>\n",
       "    </tr>\n",
       "    <tr>\n",
       "      <th>4897</th>\n",
       "      <td>-1.013043</td>\n",
       "      <td>-0.677101</td>\n",
       "      <td>0.378559</td>\n",
       "      <td>-1.102508</td>\n",
       "      <td>-1.179743</td>\n",
       "      <td>-0.782580</td>\n",
       "      <td>-0.949803</td>\n",
       "      <td>-1.543962</td>\n",
       "      <td>0.475102</td>\n",
       "      <td>-1.488394</td>\n",
       "      <td>1.044891</td>\n",
       "    </tr>\n",
       "  </tbody>\n",
       "</table>\n",
       "<p>4898 rows × 11 columns</p>\n",
       "</div>"
      ],
      "text/plain": [
       "      fixed acidity  volatile acidity  citric acid  residual sugar  chlorides  \\\n",
       "0          0.172097         -0.081770     0.213280        2.821349  -0.035355   \n",
       "1         -0.657501          0.215896     0.048001       -0.944765   0.147747   \n",
       "2          1.475751          0.017452     0.543838        0.100282   0.193523   \n",
       "3          0.409125         -0.478657    -0.117278        0.415768   0.559727   \n",
       "4          0.409125         -0.478657    -0.117278        0.415768   0.559727   \n",
       "...             ...               ...          ...             ...        ...   \n",
       "4893      -0.776015         -0.677101    -0.365197       -0.944765  -0.310008   \n",
       "4894      -0.301959          0.414339     0.213280        0.317179   0.056196   \n",
       "4895      -0.420473         -0.379435    -1.191592       -1.023637  -0.218457   \n",
       "4896      -1.605613          0.116674    -0.282557       -1.043355  -1.088192   \n",
       "4897      -1.013043         -0.677101     0.378559       -1.102508  -1.179743   \n",
       "\n",
       "      free sulfur dioxide  total sulfur dioxide   density        pH  \\\n",
       "0                0.569932              0.744565  2.331512 -1.246921   \n",
       "1               -1.253019             -0.149685 -0.009154  0.740029   \n",
       "2               -0.312141             -0.973336  0.358665  0.475102   \n",
       "3                0.687541              1.121091  0.525855  0.011480   \n",
       "4                0.687541              1.121091  0.525855  0.011480   \n",
       "...                   ...                   ...       ...       ...   \n",
       "4893            -0.664970             -1.091000 -0.965483  0.541334   \n",
       "4894             1.275590              0.697499  0.291789 -0.253446   \n",
       "4895            -0.312141             -0.643875 -0.497350 -1.313153   \n",
       "4896            -0.900190             -0.667408 -1.784717  1.004955   \n",
       "4897            -0.782580             -0.949803 -1.543962  0.475102   \n",
       "\n",
       "      sulphates   alcohol  \n",
       "0     -0.349184 -1.393152  \n",
       "1      0.001342 -0.824276  \n",
       "2     -0.436816 -0.336667  \n",
       "3     -0.787342 -0.499203  \n",
       "4     -0.787342 -0.499203  \n",
       "...         ...       ...  \n",
       "4893   0.088973  0.557282  \n",
       "4894  -0.261553 -0.743008  \n",
       "4895  -0.261553 -0.905544  \n",
       "4896  -0.962605  1.857572  \n",
       "4897  -1.488394  1.044891  \n",
       "\n",
       "[4898 rows x 11 columns]"
      ]
     },
     "execution_count": 11,
     "metadata": {},
     "output_type": "execute_result"
    }
   ],
   "source": [
    "X"
   ]
  },
  {
   "cell_type": "code",
   "execution_count": 12,
   "id": "a8b1759d-0454-481c-989e-5bbea1194674",
   "metadata": {},
   "outputs": [],
   "source": [
    "X_train, X_test, y_train, y_test = train_test_split(X, y, train_size=0.7, random_state=34)"
   ]
  },
  {
   "cell_type": "code",
   "execution_count": 13,
   "id": "29fd9b99-3e5f-4cb1-9a93-7dcf82270fb4",
   "metadata": {},
   "outputs": [
    {
     "data": {
      "text/plain": [
       "((3428, 11), (1470, 11))"
      ]
     },
     "execution_count": 13,
     "metadata": {},
     "output_type": "execute_result"
    }
   ],
   "source": [
    "X_train.shape, X_test.shape"
   ]
  },
  {
   "cell_type": "markdown",
   "id": "b847b7c6-cb19-4975-a077-c24d45d49896",
   "metadata": {},
   "source": [
    "### Modeling and Training"
   ]
  },
  {
   "cell_type": "code",
   "execution_count": 14,
   "id": "2d1e5061-c6f9-4a71-ba7e-01dc5a8c01e4",
   "metadata": {},
   "outputs": [
    {
     "name": "stdout",
     "output_type": "stream",
     "text": [
      "11\n"
     ]
    }
   ],
   "source": [
    "num_features = X_train.shape[1]\n",
    "print(num_features)"
   ]
  },
  {
   "cell_type": "code",
   "execution_count": 15,
   "id": "4598ec31-cbb5-4850-8dc0-67d9d4e69bee",
   "metadata": {},
   "outputs": [
    {
     "name": "stdout",
     "output_type": "stream",
     "text": [
      "7\n"
     ]
    }
   ],
   "source": [
    "num_classes = len(y.unique())\n",
    "print(num_classes)"
   ]
  },
  {
   "cell_type": "code",
   "execution_count": 16,
   "id": "93337d61-403f-488c-a6d0-2cac50ca9dc7",
   "metadata": {},
   "outputs": [
    {
     "name": "stderr",
     "output_type": "stream",
     "text": [
      "2025-06-08 23:22:02.247517: I tensorflow/core/common_runtime/process_util.cc:146] Creating new thread pool with default inter op setting: 2. Tune using inter_op_parallelism_threads for best performance.\n"
     ]
    }
   ],
   "source": [
    "inputs = tf.keras.Input(shape=(num_features, ))\n",
    "x = tf.keras.layers.Dense(64, activation='relu')(inputs)\n",
    "x = tf.keras.layers.Dense(64, activation='relu')(x)\n",
    "outputs = tf.keras.layers.Dense(num_classes, activation='softmax')(x)"
   ]
  },
  {
   "cell_type": "code",
   "execution_count": 17,
   "id": "44f5fec4-824b-4c94-bd19-658bdb068f78",
   "metadata": {},
   "outputs": [],
   "source": [
    "model = tf.keras.Model(inputs, outputs)"
   ]
  },
  {
   "cell_type": "code",
   "execution_count": 18,
   "id": "fcfb7ce5-cc7e-4bc0-b49c-792e62d7de07",
   "metadata": {},
   "outputs": [],
   "source": [
    "model.compile(\n",
    "    optimizer = 'adam',\n",
    "    loss = 'sparse_categorical_crossentropy',\n",
    "    metrics = ['accuracy']\n",
    ")"
   ]
  },
  {
   "cell_type": "code",
   "execution_count": 31,
   "id": "d96b228b-c626-435a-b1a0-a02422277cd3",
   "metadata": {
    "scrolled": true
   },
   "outputs": [
    {
     "name": "stdout",
     "output_type": "stream",
     "text": [
      "Epoch 1/100\n",
      "86/86 [==============================] - 0s 5ms/step - loss: 0.5837 - accuracy: 0.7739 - val_loss: 1.2232 - val_accuracy: 0.5787 - lr: 0.0010\n",
      "Epoch 2/100\n",
      "86/86 [==============================] - 0s 4ms/step - loss: 0.5794 - accuracy: 0.7739 - val_loss: 1.2332 - val_accuracy: 0.5729 - lr: 0.0010\n",
      "Epoch 3/100\n",
      "86/86 [==============================] - 1s 7ms/step - loss: 0.5726 - accuracy: 0.7743 - val_loss: 1.2280 - val_accuracy: 0.5641 - lr: 0.0010\n",
      "Epoch 4/100\n",
      "86/86 [==============================] - 0s 5ms/step - loss: 0.5710 - accuracy: 0.7717 - val_loss: 1.2195 - val_accuracy: 0.5816 - lr: 0.0010\n",
      "Epoch 5/100\n",
      "86/86 [==============================] - 1s 6ms/step - loss: 0.5690 - accuracy: 0.7819 - val_loss: 1.2342 - val_accuracy: 0.5729 - lr: 0.0010\n",
      "Epoch 6/100\n",
      "86/86 [==============================] - 1s 6ms/step - loss: 0.5647 - accuracy: 0.7801 - val_loss: 1.2387 - val_accuracy: 0.5758 - lr: 0.0010\n",
      "Epoch 7/100\n",
      "86/86 [==============================] - 0s 5ms/step - loss: 0.5721 - accuracy: 0.7761 - val_loss: 1.2509 - val_accuracy: 0.5831 - lr: 0.0010\n",
      "Epoch 8/100\n",
      "86/86 [==============================] - 0s 5ms/step - loss: 0.5632 - accuracy: 0.7837 - val_loss: 1.2728 - val_accuracy: 0.5743 - lr: 0.0010\n",
      "Epoch 9/100\n",
      "86/86 [==============================] - 0s 5ms/step - loss: 0.5606 - accuracy: 0.7823 - val_loss: 1.2713 - val_accuracy: 0.5598 - lr: 0.0010\n",
      "Epoch 10/100\n",
      "86/86 [==============================] - 1s 6ms/step - loss: 0.5565 - accuracy: 0.7888 - val_loss: 1.2653 - val_accuracy: 0.5671 - lr: 0.0010\n",
      "Epoch 11/100\n",
      "86/86 [==============================] - 1s 6ms/step - loss: 0.5517 - accuracy: 0.7874 - val_loss: 1.2583 - val_accuracy: 0.5700 - lr: 0.0010\n",
      "Epoch 12/100\n",
      "86/86 [==============================] - 0s 5ms/step - loss: 0.5496 - accuracy: 0.7888 - val_loss: 1.2851 - val_accuracy: 0.5671 - lr: 0.0010\n",
      "Epoch 13/100\n",
      "86/86 [==============================] - 1s 7ms/step - loss: 0.5450 - accuracy: 0.7969 - val_loss: 1.3013 - val_accuracy: 0.5510 - lr: 0.0010\n",
      "Epoch 14/100\n",
      "86/86 [==============================] - 0s 5ms/step - loss: 0.5424 - accuracy: 0.7969 - val_loss: 1.2813 - val_accuracy: 0.5787 - lr: 0.0010\n",
      "Epoch 15/100\n",
      "86/86 [==============================] - 0s 6ms/step - loss: 0.5147 - accuracy: 0.8082 - val_loss: 1.2672 - val_accuracy: 0.5685 - lr: 1.0000e-04\n",
      "Epoch 16/100\n",
      "86/86 [==============================] - 1s 6ms/step - loss: 0.5038 - accuracy: 0.8136 - val_loss: 1.2666 - val_accuracy: 0.5743 - lr: 1.0000e-04\n",
      "Epoch 17/100\n",
      "86/86 [==============================] - 0s 5ms/step - loss: 0.5020 - accuracy: 0.8191 - val_loss: 1.2667 - val_accuracy: 0.5773 - lr: 1.0000e-04\n",
      "Epoch 18/100\n",
      "86/86 [==============================] - 0s 4ms/step - loss: 0.5008 - accuracy: 0.8184 - val_loss: 1.2647 - val_accuracy: 0.5743 - lr: 1.0000e-04\n",
      "Epoch 19/100\n",
      "86/86 [==============================] - 0s 5ms/step - loss: 0.5000 - accuracy: 0.8191 - val_loss: 1.2672 - val_accuracy: 0.5743 - lr: 1.0000e-04\n",
      "Epoch 20/100\n",
      "86/86 [==============================] - 0s 6ms/step - loss: 0.4996 - accuracy: 0.8209 - val_loss: 1.2711 - val_accuracy: 0.5729 - lr: 1.0000e-04\n",
      "Epoch 21/100\n",
      "86/86 [==============================] - 0s 5ms/step - loss: 0.4991 - accuracy: 0.8187 - val_loss: 1.2680 - val_accuracy: 0.5700 - lr: 1.0000e-04\n",
      "Epoch 22/100\n",
      "86/86 [==============================] - 0s 5ms/step - loss: 0.4985 - accuracy: 0.8209 - val_loss: 1.2677 - val_accuracy: 0.5743 - lr: 1.0000e-04\n",
      "Epoch 23/100\n",
      "86/86 [==============================] - 0s 3ms/step - loss: 0.4981 - accuracy: 0.8144 - val_loss: 1.2686 - val_accuracy: 0.5627 - lr: 1.0000e-04\n",
      "Epoch 24/100\n",
      "86/86 [==============================] - 0s 4ms/step - loss: 0.4973 - accuracy: 0.8209 - val_loss: 1.2685 - val_accuracy: 0.5671 - lr: 1.0000e-04\n",
      "Epoch 25/100\n",
      "86/86 [==============================] - 0s 6ms/step - loss: 0.4933 - accuracy: 0.8231 - val_loss: 1.2690 - val_accuracy: 0.5685 - lr: 1.0000e-05\n",
      "Epoch 26/100\n",
      "86/86 [==============================] - 0s 4ms/step - loss: 0.4931 - accuracy: 0.8220 - val_loss: 1.2691 - val_accuracy: 0.5671 - lr: 1.0000e-05\n",
      "Epoch 27/100\n",
      "86/86 [==============================] - 0s 3ms/step - loss: 0.4930 - accuracy: 0.8217 - val_loss: 1.2696 - val_accuracy: 0.5656 - lr: 1.0000e-05\n",
      "Epoch 28/100\n",
      "86/86 [==============================] - 0s 5ms/step - loss: 0.4930 - accuracy: 0.8228 - val_loss: 1.2697 - val_accuracy: 0.5656 - lr: 1.0000e-05\n",
      "Epoch 29/100\n",
      "86/86 [==============================] - 0s 5ms/step - loss: 0.4929 - accuracy: 0.8228 - val_loss: 1.2697 - val_accuracy: 0.5656 - lr: 1.0000e-05\n",
      "Epoch 30/100\n",
      "86/86 [==============================] - 0s 5ms/step - loss: 0.4929 - accuracy: 0.8224 - val_loss: 1.2699 - val_accuracy: 0.5656 - lr: 1.0000e-05\n",
      "Epoch 31/100\n",
      "86/86 [==============================] - 0s 5ms/step - loss: 0.4928 - accuracy: 0.8228 - val_loss: 1.2701 - val_accuracy: 0.5656 - lr: 1.0000e-05\n",
      "Epoch 32/100\n",
      "86/86 [==============================] - 0s 5ms/step - loss: 0.4929 - accuracy: 0.8228 - val_loss: 1.2703 - val_accuracy: 0.5671 - lr: 1.0000e-05\n",
      "Epoch 33/100\n",
      "86/86 [==============================] - 0s 5ms/step - loss: 0.4927 - accuracy: 0.8228 - val_loss: 1.2705 - val_accuracy: 0.5656 - lr: 1.0000e-05\n",
      "Epoch 34/100\n",
      "86/86 [==============================] - 0s 5ms/step - loss: 0.4927 - accuracy: 0.8220 - val_loss: 1.2706 - val_accuracy: 0.5671 - lr: 1.0000e-05\n",
      "Epoch 35/100\n",
      "86/86 [==============================] - 0s 4ms/step - loss: 0.4922 - accuracy: 0.8228 - val_loss: 1.2706 - val_accuracy: 0.5671 - lr: 1.0000e-06\n",
      "Epoch 36/100\n",
      "86/86 [==============================] - 0s 5ms/step - loss: 0.4922 - accuracy: 0.8231 - val_loss: 1.2705 - val_accuracy: 0.5671 - lr: 1.0000e-06\n",
      "Epoch 37/100\n",
      "86/86 [==============================] - 1s 6ms/step - loss: 0.4922 - accuracy: 0.8231 - val_loss: 1.2705 - val_accuracy: 0.5671 - lr: 1.0000e-06\n",
      "Epoch 38/100\n",
      "86/86 [==============================] - 1s 7ms/step - loss: 0.4922 - accuracy: 0.8231 - val_loss: 1.2705 - val_accuracy: 0.5671 - lr: 1.0000e-06\n",
      "Epoch 39/100\n",
      "86/86 [==============================] - 0s 5ms/step - loss: 0.4922 - accuracy: 0.8231 - val_loss: 1.2705 - val_accuracy: 0.5671 - lr: 1.0000e-06\n",
      "Epoch 40/100\n",
      "86/86 [==============================] - 0s 5ms/step - loss: 0.4922 - accuracy: 0.8239 - val_loss: 1.2705 - val_accuracy: 0.5671 - lr: 1.0000e-06\n",
      "Epoch 41/100\n",
      "86/86 [==============================] - 0s 5ms/step - loss: 0.4922 - accuracy: 0.8231 - val_loss: 1.2705 - val_accuracy: 0.5671 - lr: 1.0000e-06\n",
      "Epoch 42/100\n",
      "86/86 [==============================] - 1s 6ms/step - loss: 0.4922 - accuracy: 0.8235 - val_loss: 1.2705 - val_accuracy: 0.5671 - lr: 1.0000e-06\n",
      "Epoch 43/100\n",
      "86/86 [==============================] - 1s 6ms/step - loss: 0.4922 - accuracy: 0.8231 - val_loss: 1.2705 - val_accuracy: 0.5671 - lr: 1.0000e-06\n",
      "Epoch 44/100\n",
      "86/86 [==============================] - 0s 5ms/step - loss: 0.4922 - accuracy: 0.8231 - val_loss: 1.2705 - val_accuracy: 0.5671 - lr: 1.0000e-06\n",
      "Epoch 45/100\n",
      "86/86 [==============================] - 0s 6ms/step - loss: 0.4921 - accuracy: 0.8231 - val_loss: 1.2705 - val_accuracy: 0.5671 - lr: 1.0000e-07\n",
      "Epoch 46/100\n",
      "86/86 [==============================] - 0s 5ms/step - loss: 0.4921 - accuracy: 0.8231 - val_loss: 1.2705 - val_accuracy: 0.5671 - lr: 1.0000e-07\n",
      "Epoch 47/100\n",
      "86/86 [==============================] - 0s 5ms/step - loss: 0.4921 - accuracy: 0.8235 - val_loss: 1.2705 - val_accuracy: 0.5671 - lr: 1.0000e-07\n",
      "Epoch 48/100\n",
      "86/86 [==============================] - 0s 5ms/step - loss: 0.4921 - accuracy: 0.8235 - val_loss: 1.2705 - val_accuracy: 0.5671 - lr: 1.0000e-07\n",
      "Epoch 49/100\n",
      "86/86 [==============================] - 0s 5ms/step - loss: 0.4921 - accuracy: 0.8231 - val_loss: 1.2705 - val_accuracy: 0.5671 - lr: 1.0000e-07\n",
      "Epoch 50/100\n",
      "86/86 [==============================] - 0s 5ms/step - loss: 0.4921 - accuracy: 0.8235 - val_loss: 1.2705 - val_accuracy: 0.5671 - lr: 1.0000e-07\n",
      "Epoch 51/100\n",
      "86/86 [==============================] - 0s 5ms/step - loss: 0.4921 - accuracy: 0.8235 - val_loss: 1.2705 - val_accuracy: 0.5671 - lr: 1.0000e-07\n",
      "Epoch 52/100\n",
      "86/86 [==============================] - 0s 5ms/step - loss: 0.4921 - accuracy: 0.8235 - val_loss: 1.2705 - val_accuracy: 0.5671 - lr: 1.0000e-07\n",
      "Epoch 53/100\n",
      "86/86 [==============================] - 0s 5ms/step - loss: 0.4921 - accuracy: 0.8235 - val_loss: 1.2705 - val_accuracy: 0.5671 - lr: 1.0000e-07\n",
      "Epoch 54/100\n",
      "86/86 [==============================] - 0s 4ms/step - loss: 0.4921 - accuracy: 0.8231 - val_loss: 1.2705 - val_accuracy: 0.5671 - lr: 1.0000e-07\n",
      "Epoch 55/100\n",
      "86/86 [==============================] - 0s 5ms/step - loss: 0.4921 - accuracy: 0.8231 - val_loss: 1.2705 - val_accuracy: 0.5671 - lr: 1.0000e-08\n",
      "Epoch 56/100\n",
      "86/86 [==============================] - 0s 5ms/step - loss: 0.4921 - accuracy: 0.8231 - val_loss: 1.2705 - val_accuracy: 0.5671 - lr: 1.0000e-08\n",
      "Epoch 57/100\n",
      "86/86 [==============================] - 0s 4ms/step - loss: 0.4921 - accuracy: 0.8231 - val_loss: 1.2705 - val_accuracy: 0.5671 - lr: 1.0000e-08\n",
      "Epoch 58/100\n",
      "86/86 [==============================] - 0s 5ms/step - loss: 0.4921 - accuracy: 0.8231 - val_loss: 1.2705 - val_accuracy: 0.5671 - lr: 1.0000e-08\n",
      "Epoch 59/100\n",
      "86/86 [==============================] - 0s 5ms/step - loss: 0.4921 - accuracy: 0.8231 - val_loss: 1.2705 - val_accuracy: 0.5671 - lr: 1.0000e-08\n",
      "Epoch 60/100\n",
      "86/86 [==============================] - 0s 4ms/step - loss: 0.4921 - accuracy: 0.8231 - val_loss: 1.2705 - val_accuracy: 0.5671 - lr: 1.0000e-08\n",
      "Epoch 61/100\n",
      "86/86 [==============================] - 0s 4ms/step - loss: 0.4921 - accuracy: 0.8231 - val_loss: 1.2705 - val_accuracy: 0.5671 - lr: 1.0000e-08\n",
      "Epoch 62/100\n",
      "86/86 [==============================] - 1s 6ms/step - loss: 0.4921 - accuracy: 0.8231 - val_loss: 1.2705 - val_accuracy: 0.5671 - lr: 1.0000e-08\n",
      "Epoch 63/100\n",
      "86/86 [==============================] - 1s 6ms/step - loss: 0.4921 - accuracy: 0.8231 - val_loss: 1.2705 - val_accuracy: 0.5671 - lr: 1.0000e-08\n",
      "Epoch 64/100\n",
      "86/86 [==============================] - 1s 6ms/step - loss: 0.4921 - accuracy: 0.8231 - val_loss: 1.2705 - val_accuracy: 0.5671 - lr: 1.0000e-08\n",
      "Epoch 65/100\n",
      "86/86 [==============================] - 0s 4ms/step - loss: 0.4921 - accuracy: 0.8231 - val_loss: 1.2705 - val_accuracy: 0.5671 - lr: 1.0000e-09\n",
      "Epoch 66/100\n",
      "86/86 [==============================] - 0s 5ms/step - loss: 0.4921 - accuracy: 0.8231 - val_loss: 1.2705 - val_accuracy: 0.5671 - lr: 1.0000e-09\n",
      "Epoch 67/100\n",
      "86/86 [==============================] - 0s 5ms/step - loss: 0.4921 - accuracy: 0.8231 - val_loss: 1.2705 - val_accuracy: 0.5671 - lr: 1.0000e-09\n",
      "Epoch 68/100\n",
      "86/86 [==============================] - 0s 5ms/step - loss: 0.4921 - accuracy: 0.8231 - val_loss: 1.2705 - val_accuracy: 0.5671 - lr: 1.0000e-09\n",
      "Epoch 69/100\n",
      "86/86 [==============================] - 0s 5ms/step - loss: 0.4921 - accuracy: 0.8231 - val_loss: 1.2705 - val_accuracy: 0.5671 - lr: 1.0000e-09\n",
      "Epoch 70/100\n",
      "86/86 [==============================] - 1s 6ms/step - loss: 0.4921 - accuracy: 0.8231 - val_loss: 1.2705 - val_accuracy: 0.5671 - lr: 1.0000e-09\n",
      "Epoch 71/100\n",
      "86/86 [==============================] - 0s 5ms/step - loss: 0.4921 - accuracy: 0.8231 - val_loss: 1.2705 - val_accuracy: 0.5671 - lr: 1.0000e-09\n",
      "Epoch 72/100\n",
      "86/86 [==============================] - 0s 4ms/step - loss: 0.4921 - accuracy: 0.8231 - val_loss: 1.2705 - val_accuracy: 0.5671 - lr: 1.0000e-09\n",
      "Epoch 73/100\n",
      "86/86 [==============================] - 0s 5ms/step - loss: 0.4921 - accuracy: 0.8231 - val_loss: 1.2705 - val_accuracy: 0.5671 - lr: 1.0000e-09\n",
      "Epoch 74/100\n",
      "86/86 [==============================] - 0s 5ms/step - loss: 0.4921 - accuracy: 0.8231 - val_loss: 1.2705 - val_accuracy: 0.5671 - lr: 1.0000e-09\n",
      "Epoch 75/100\n",
      "86/86 [==============================] - 0s 5ms/step - loss: 0.4921 - accuracy: 0.8231 - val_loss: 1.2705 - val_accuracy: 0.5671 - lr: 1.0000e-10\n",
      "Epoch 76/100\n",
      "86/86 [==============================] - 0s 5ms/step - loss: 0.4921 - accuracy: 0.8231 - val_loss: 1.2705 - val_accuracy: 0.5671 - lr: 1.0000e-10\n",
      "Epoch 77/100\n",
      "86/86 [==============================] - 0s 5ms/step - loss: 0.4921 - accuracy: 0.8231 - val_loss: 1.2705 - val_accuracy: 0.5671 - lr: 1.0000e-10\n",
      "Epoch 78/100\n",
      "86/86 [==============================] - 0s 6ms/step - loss: 0.4921 - accuracy: 0.8231 - val_loss: 1.2705 - val_accuracy: 0.5671 - lr: 1.0000e-10\n",
      "Epoch 79/100\n",
      "86/86 [==============================] - 0s 5ms/step - loss: 0.4921 - accuracy: 0.8231 - val_loss: 1.2705 - val_accuracy: 0.5671 - lr: 1.0000e-10\n",
      "Epoch 80/100\n",
      "86/86 [==============================] - 0s 5ms/step - loss: 0.4921 - accuracy: 0.8231 - val_loss: 1.2705 - val_accuracy: 0.5671 - lr: 1.0000e-10\n",
      "Epoch 81/100\n",
      "86/86 [==============================] - 1s 7ms/step - loss: 0.4921 - accuracy: 0.8231 - val_loss: 1.2705 - val_accuracy: 0.5671 - lr: 1.0000e-10\n",
      "Epoch 82/100\n",
      "86/86 [==============================] - 1s 6ms/step - loss: 0.4921 - accuracy: 0.8231 - val_loss: 1.2705 - val_accuracy: 0.5671 - lr: 1.0000e-10\n",
      "Epoch 83/100\n",
      "86/86 [==============================] - 0s 5ms/step - loss: 0.4921 - accuracy: 0.8231 - val_loss: 1.2705 - val_accuracy: 0.5671 - lr: 1.0000e-10\n",
      "Epoch 84/100\n",
      "86/86 [==============================] - 0s 4ms/step - loss: 0.4921 - accuracy: 0.8231 - val_loss: 1.2705 - val_accuracy: 0.5671 - lr: 1.0000e-10\n",
      "Epoch 85/100\n",
      "86/86 [==============================] - 0s 4ms/step - loss: 0.4921 - accuracy: 0.8231 - val_loss: 1.2705 - val_accuracy: 0.5671 - lr: 1.0000e-11\n",
      "Epoch 86/100\n",
      "86/86 [==============================] - 0s 5ms/step - loss: 0.4921 - accuracy: 0.8231 - val_loss: 1.2705 - val_accuracy: 0.5671 - lr: 1.0000e-11\n",
      "Epoch 87/100\n",
      "86/86 [==============================] - 1s 6ms/step - loss: 0.4921 - accuracy: 0.8231 - val_loss: 1.2705 - val_accuracy: 0.5671 - lr: 1.0000e-11\n",
      "Epoch 88/100\n",
      "86/86 [==============================] - 0s 5ms/step - loss: 0.4921 - accuracy: 0.8231 - val_loss: 1.2705 - val_accuracy: 0.5671 - lr: 1.0000e-11\n",
      "Epoch 89/100\n",
      "86/86 [==============================] - 1s 6ms/step - loss: 0.4921 - accuracy: 0.8231 - val_loss: 1.2705 - val_accuracy: 0.5671 - lr: 1.0000e-11\n",
      "Epoch 90/100\n",
      "86/86 [==============================] - 0s 5ms/step - loss: 0.4921 - accuracy: 0.8231 - val_loss: 1.2705 - val_accuracy: 0.5671 - lr: 1.0000e-11\n",
      "Epoch 91/100\n",
      "86/86 [==============================] - 0s 5ms/step - loss: 0.4921 - accuracy: 0.8231 - val_loss: 1.2705 - val_accuracy: 0.5671 - lr: 1.0000e-11\n",
      "Epoch 92/100\n",
      "86/86 [==============================] - 0s 5ms/step - loss: 0.4921 - accuracy: 0.8231 - val_loss: 1.2705 - val_accuracy: 0.5671 - lr: 1.0000e-11\n",
      "Epoch 93/100\n",
      "86/86 [==============================] - 0s 3ms/step - loss: 0.4921 - accuracy: 0.8231 - val_loss: 1.2705 - val_accuracy: 0.5671 - lr: 1.0000e-11\n",
      "Epoch 94/100\n",
      "86/86 [==============================] - 0s 3ms/step - loss: 0.4921 - accuracy: 0.8231 - val_loss: 1.2705 - val_accuracy: 0.5671 - lr: 1.0000e-11\n",
      "Epoch 95/100\n",
      "86/86 [==============================] - 0s 3ms/step - loss: 0.4921 - accuracy: 0.8231 - val_loss: 1.2705 - val_accuracy: 0.5671 - lr: 1.0000e-12\n",
      "Epoch 96/100\n",
      "86/86 [==============================] - 0s 3ms/step - loss: 0.4921 - accuracy: 0.8231 - val_loss: 1.2705 - val_accuracy: 0.5671 - lr: 1.0000e-12\n",
      "Epoch 97/100\n",
      "86/86 [==============================] - 0s 3ms/step - loss: 0.4921 - accuracy: 0.8231 - val_loss: 1.2705 - val_accuracy: 0.5671 - lr: 1.0000e-12\n",
      "Epoch 98/100\n",
      "86/86 [==============================] - 0s 3ms/step - loss: 0.4921 - accuracy: 0.8231 - val_loss: 1.2705 - val_accuracy: 0.5671 - lr: 1.0000e-12\n",
      "Epoch 99/100\n",
      "86/86 [==============================] - 1s 6ms/step - loss: 0.4921 - accuracy: 0.8231 - val_loss: 1.2705 - val_accuracy: 0.5671 - lr: 1.0000e-12\n",
      "Epoch 100/100\n",
      "86/86 [==============================] - 0s 5ms/step - loss: 0.4921 - accuracy: 0.8231 - val_loss: 1.2705 - val_accuracy: 0.5671 - lr: 1.0000e-12\n"
     ]
    }
   ],
   "source": [
    "batch_size = 32\n",
    "epochs = 100\n",
    "\n",
    "history = model.fit(\n",
    "    X_train,\n",
    "    y_train,\n",
    "    validation_split=0.2,\n",
    "    batch_size=batch_size,\n",
    "    epochs=epochs,\n",
    "    callbacks = [tf.keras.callbacks.ReduceLROnPlateau()]\n",
    ")"
   ]
  },
  {
   "cell_type": "markdown",
   "id": "93942d04-dd61-4a54-b42d-754c5c734643",
   "metadata": {},
   "source": [
    "### Results"
   ]
  },
  {
   "cell_type": "code",
   "execution_count": 32,
   "id": "c1401bf7-564c-4193-88a3-9d3ad38ab0ad",
   "metadata": {},
   "outputs": [
    {
     "data": {
      "application/vnd.plotly.v1+json": {
       "config": {
        "plotlyServerURL": "https://plot.ly"
       },
       "data": [
        {
         "hovertemplate": "variable=loss<br>index=%{x}<br>value=%{y}<extra></extra>",
         "legendgroup": "loss",
         "line": {
          "color": "#636efa",
          "dash": "solid"
         },
         "marker": {
          "symbol": "circle"
         },
         "mode": "lines",
         "name": "loss",
         "orientation": "v",
         "showlegend": true,
         "type": "scatter",
         "x": [
          0,
          1,
          2,
          3,
          4,
          5,
          6,
          7,
          8,
          9,
          10,
          11,
          12,
          13,
          14,
          15,
          16,
          17,
          18,
          19,
          20,
          21,
          22,
          23,
          24,
          25,
          26,
          27,
          28,
          29,
          30,
          31,
          32,
          33,
          34,
          35,
          36,
          37,
          38,
          39,
          40,
          41,
          42,
          43,
          44,
          45,
          46,
          47,
          48,
          49,
          50,
          51,
          52,
          53,
          54,
          55,
          56,
          57,
          58,
          59,
          60,
          61,
          62,
          63,
          64,
          65,
          66,
          67,
          68,
          69,
          70,
          71,
          72,
          73,
          74,
          75,
          76,
          77,
          78,
          79,
          80,
          81,
          82,
          83,
          84,
          85,
          86,
          87,
          88,
          89,
          90,
          91,
          92,
          93,
          94,
          95,
          96,
          97,
          98,
          99
         ],
         "xaxis": "x",
         "y": [
          0.5837320685386658,
          0.5794243216514587,
          0.5725707411766052,
          0.5709880590438843,
          0.5690253973007202,
          0.5647013187408447,
          0.5721480250358582,
          0.563187837600708,
          0.5605672001838684,
          0.5564571619033813,
          0.5517228245735168,
          0.5496360659599304,
          0.5449700951576233,
          0.5423882603645325,
          0.5146663188934326,
          0.503764271736145,
          0.5019875168800354,
          0.5007839202880859,
          0.5000285506248474,
          0.499585896730423,
          0.4991087019443512,
          0.4985145032405853,
          0.49812063574790955,
          0.49731308221817017,
          0.49329715967178345,
          0.49311932921409607,
          0.4930497705936432,
          0.4930342137813568,
          0.4929056763648987,
          0.4928804337978363,
          0.492832213640213,
          0.49286386370658875,
          0.4927310645580292,
          0.49268779158592224,
          0.49221330881118774,
          0.4922100305557251,
          0.4922027289867401,
          0.4922100305557251,
          0.4921930730342865,
          0.49218860268592834,
          0.49218595027923584,
          0.49218326807022095,
          0.4921799898147583,
          0.4921725392341614,
          0.4921197295188904,
          0.49211904406547546,
          0.4921192228794098,
          0.492118239402771,
          0.4921175539493561,
          0.49211743474006653,
          0.4921172857284546,
          0.4921168088912964,
          0.4921167194843292,
          0.4921155571937561,
          0.4921099841594696,
          0.4921100437641144,
          0.49210989475250244,
          0.49210989475250244,
          0.4921099841594696,
          0.4921099543571472,
          0.4921099841594696,
          0.4921099841594696,
          0.49210989475250244,
          0.4921100437641144,
          0.49210959672927856,
          0.4921098053455353,
          0.4921098053455353,
          0.4921098053455353,
          0.4921096861362457,
          0.49210986495018005,
          0.4921097159385681,
          0.4921098053455353,
          0.4921097755432129,
          0.4921096861362457,
          0.4921098053455353,
          0.4921097755432129,
          0.4921097755432129,
          0.4921097755432129,
          0.4921097159385681,
          0.4921096861362457,
          0.4921096861362457,
          0.4921097159385681,
          0.4921097755432129,
          0.49210989475250244,
          0.4921097159385681,
          0.4921097755432129,
          0.4921097755432129,
          0.49210986495018005,
          0.4921099543571472,
          0.49210962653160095,
          0.4921097159385681,
          0.49210986495018005,
          0.4921098053455353,
          0.4921098053455353,
          0.4921097159385681,
          0.49210962653160095,
          0.49210959672927856,
          0.4921098053455353,
          0.4921097159385681,
          0.4921097159385681
         ],
         "yaxis": "y"
        },
        {
         "hovertemplate": "variable=val_loss<br>index=%{x}<br>value=%{y}<extra></extra>",
         "legendgroup": "val_loss",
         "line": {
          "color": "#EF553B",
          "dash": "solid"
         },
         "marker": {
          "symbol": "circle"
         },
         "mode": "lines",
         "name": "val_loss",
         "orientation": "v",
         "showlegend": true,
         "type": "scatter",
         "x": [
          0,
          1,
          2,
          3,
          4,
          5,
          6,
          7,
          8,
          9,
          10,
          11,
          12,
          13,
          14,
          15,
          16,
          17,
          18,
          19,
          20,
          21,
          22,
          23,
          24,
          25,
          26,
          27,
          28,
          29,
          30,
          31,
          32,
          33,
          34,
          35,
          36,
          37,
          38,
          39,
          40,
          41,
          42,
          43,
          44,
          45,
          46,
          47,
          48,
          49,
          50,
          51,
          52,
          53,
          54,
          55,
          56,
          57,
          58,
          59,
          60,
          61,
          62,
          63,
          64,
          65,
          66,
          67,
          68,
          69,
          70,
          71,
          72,
          73,
          74,
          75,
          76,
          77,
          78,
          79,
          80,
          81,
          82,
          83,
          84,
          85,
          86,
          87,
          88,
          89,
          90,
          91,
          92,
          93,
          94,
          95,
          96,
          97,
          98,
          99
         ],
         "xaxis": "x",
         "y": [
          1.223219633102417,
          1.2332417964935303,
          1.2280479669570923,
          1.2195404767990112,
          1.2342040538787842,
          1.2386842966079712,
          1.2509047985076904,
          1.2727550268173218,
          1.2713322639465332,
          1.2653125524520874,
          1.2582643032073975,
          1.2851276397705078,
          1.3013113737106323,
          1.2812519073486328,
          1.2672181129455566,
          1.2666207551956177,
          1.2667016983032227,
          1.264703631401062,
          1.2671884298324585,
          1.2711405754089355,
          1.2680318355560303,
          1.2676665782928467,
          1.2686394453048706,
          1.2685147523880005,
          1.2689921855926514,
          1.2691041231155396,
          1.2696115970611572,
          1.269665002822876,
          1.2697250843048096,
          1.2699271440505981,
          1.2700899839401245,
          1.2703362703323364,
          1.270473599433899,
          1.2706005573272705,
          1.2705838680267334,
          1.2705234289169312,
          1.2705212831497192,
          1.2705317735671997,
          1.270530104637146,
          1.2705377340316772,
          1.2705014944076538,
          1.2705004215240479,
          1.2704827785491943,
          1.2705103158950806,
          1.270507574081421,
          1.2705055475234985,
          1.2705074548721313,
          1.2705059051513672,
          1.2705059051513672,
          1.2705034017562866,
          1.2705039978027344,
          1.270503044128418,
          1.2705082893371582,
          1.2705048322677612,
          1.2705045938491821,
          1.2705047130584717,
          1.2705044746398926,
          1.2705044746398926,
          1.2705044746398926,
          1.2705044746398926,
          1.270504355430603,
          1.2705044746398926,
          1.2705044746398926,
          1.270504355430603,
          1.270504355430603,
          1.270504355430603,
          1.270504355430603,
          1.270504355430603,
          1.270504355430603,
          1.270504355430603,
          1.270504355430603,
          1.270504355430603,
          1.270504355430603,
          1.270504355430603,
          1.270504355430603,
          1.270504355430603,
          1.270504355430603,
          1.270504355430603,
          1.270504355430603,
          1.270504355430603,
          1.270504355430603,
          1.270504355430603,
          1.270504355430603,
          1.270504355430603,
          1.270504355430603,
          1.270504355430603,
          1.270504355430603,
          1.270504355430603,
          1.270504355430603,
          1.270504355430603,
          1.270504355430603,
          1.270504355430603,
          1.270504355430603,
          1.270504355430603,
          1.270504355430603,
          1.270504355430603,
          1.270504355430603,
          1.270504355430603,
          1.270504355430603,
          1.270504355430603
         ],
         "yaxis": "y"
        }
       ],
       "layout": {
        "legend": {
         "title": {
          "text": "variable"
         },
         "tracegroupgap": 0
        },
        "template": {
         "data": {
          "bar": [
           {
            "error_x": {
             "color": "#2a3f5f"
            },
            "error_y": {
             "color": "#2a3f5f"
            },
            "marker": {
             "line": {
              "color": "#E5ECF6",
              "width": 0.5
             },
             "pattern": {
              "fillmode": "overlay",
              "size": 10,
              "solidity": 0.2
             }
            },
            "type": "bar"
           }
          ],
          "barpolar": [
           {
            "marker": {
             "line": {
              "color": "#E5ECF6",
              "width": 0.5
             },
             "pattern": {
              "fillmode": "overlay",
              "size": 10,
              "solidity": 0.2
             }
            },
            "type": "barpolar"
           }
          ],
          "carpet": [
           {
            "aaxis": {
             "endlinecolor": "#2a3f5f",
             "gridcolor": "white",
             "linecolor": "white",
             "minorgridcolor": "white",
             "startlinecolor": "#2a3f5f"
            },
            "baxis": {
             "endlinecolor": "#2a3f5f",
             "gridcolor": "white",
             "linecolor": "white",
             "minorgridcolor": "white",
             "startlinecolor": "#2a3f5f"
            },
            "type": "carpet"
           }
          ],
          "choropleth": [
           {
            "colorbar": {
             "outlinewidth": 0,
             "ticks": ""
            },
            "type": "choropleth"
           }
          ],
          "contour": [
           {
            "colorbar": {
             "outlinewidth": 0,
             "ticks": ""
            },
            "colorscale": [
             [
              0,
              "#0d0887"
             ],
             [
              0.1111111111111111,
              "#46039f"
             ],
             [
              0.2222222222222222,
              "#7201a8"
             ],
             [
              0.3333333333333333,
              "#9c179e"
             ],
             [
              0.4444444444444444,
              "#bd3786"
             ],
             [
              0.5555555555555556,
              "#d8576b"
             ],
             [
              0.6666666666666666,
              "#ed7953"
             ],
             [
              0.7777777777777778,
              "#fb9f3a"
             ],
             [
              0.8888888888888888,
              "#fdca26"
             ],
             [
              1,
              "#f0f921"
             ]
            ],
            "type": "contour"
           }
          ],
          "contourcarpet": [
           {
            "colorbar": {
             "outlinewidth": 0,
             "ticks": ""
            },
            "type": "contourcarpet"
           }
          ],
          "heatmap": [
           {
            "colorbar": {
             "outlinewidth": 0,
             "ticks": ""
            },
            "colorscale": [
             [
              0,
              "#0d0887"
             ],
             [
              0.1111111111111111,
              "#46039f"
             ],
             [
              0.2222222222222222,
              "#7201a8"
             ],
             [
              0.3333333333333333,
              "#9c179e"
             ],
             [
              0.4444444444444444,
              "#bd3786"
             ],
             [
              0.5555555555555556,
              "#d8576b"
             ],
             [
              0.6666666666666666,
              "#ed7953"
             ],
             [
              0.7777777777777778,
              "#fb9f3a"
             ],
             [
              0.8888888888888888,
              "#fdca26"
             ],
             [
              1,
              "#f0f921"
             ]
            ],
            "type": "heatmap"
           }
          ],
          "heatmapgl": [
           {
            "colorbar": {
             "outlinewidth": 0,
             "ticks": ""
            },
            "colorscale": [
             [
              0,
              "#0d0887"
             ],
             [
              0.1111111111111111,
              "#46039f"
             ],
             [
              0.2222222222222222,
              "#7201a8"
             ],
             [
              0.3333333333333333,
              "#9c179e"
             ],
             [
              0.4444444444444444,
              "#bd3786"
             ],
             [
              0.5555555555555556,
              "#d8576b"
             ],
             [
              0.6666666666666666,
              "#ed7953"
             ],
             [
              0.7777777777777778,
              "#fb9f3a"
             ],
             [
              0.8888888888888888,
              "#fdca26"
             ],
             [
              1,
              "#f0f921"
             ]
            ],
            "type": "heatmapgl"
           }
          ],
          "histogram": [
           {
            "marker": {
             "pattern": {
              "fillmode": "overlay",
              "size": 10,
              "solidity": 0.2
             }
            },
            "type": "histogram"
           }
          ],
          "histogram2d": [
           {
            "colorbar": {
             "outlinewidth": 0,
             "ticks": ""
            },
            "colorscale": [
             [
              0,
              "#0d0887"
             ],
             [
              0.1111111111111111,
              "#46039f"
             ],
             [
              0.2222222222222222,
              "#7201a8"
             ],
             [
              0.3333333333333333,
              "#9c179e"
             ],
             [
              0.4444444444444444,
              "#bd3786"
             ],
             [
              0.5555555555555556,
              "#d8576b"
             ],
             [
              0.6666666666666666,
              "#ed7953"
             ],
             [
              0.7777777777777778,
              "#fb9f3a"
             ],
             [
              0.8888888888888888,
              "#fdca26"
             ],
             [
              1,
              "#f0f921"
             ]
            ],
            "type": "histogram2d"
           }
          ],
          "histogram2dcontour": [
           {
            "colorbar": {
             "outlinewidth": 0,
             "ticks": ""
            },
            "colorscale": [
             [
              0,
              "#0d0887"
             ],
             [
              0.1111111111111111,
              "#46039f"
             ],
             [
              0.2222222222222222,
              "#7201a8"
             ],
             [
              0.3333333333333333,
              "#9c179e"
             ],
             [
              0.4444444444444444,
              "#bd3786"
             ],
             [
              0.5555555555555556,
              "#d8576b"
             ],
             [
              0.6666666666666666,
              "#ed7953"
             ],
             [
              0.7777777777777778,
              "#fb9f3a"
             ],
             [
              0.8888888888888888,
              "#fdca26"
             ],
             [
              1,
              "#f0f921"
             ]
            ],
            "type": "histogram2dcontour"
           }
          ],
          "mesh3d": [
           {
            "colorbar": {
             "outlinewidth": 0,
             "ticks": ""
            },
            "type": "mesh3d"
           }
          ],
          "parcoords": [
           {
            "line": {
             "colorbar": {
              "outlinewidth": 0,
              "ticks": ""
             }
            },
            "type": "parcoords"
           }
          ],
          "pie": [
           {
            "automargin": true,
            "type": "pie"
           }
          ],
          "scatter": [
           {
            "fillpattern": {
             "fillmode": "overlay",
             "size": 10,
             "solidity": 0.2
            },
            "type": "scatter"
           }
          ],
          "scatter3d": [
           {
            "line": {
             "colorbar": {
              "outlinewidth": 0,
              "ticks": ""
             }
            },
            "marker": {
             "colorbar": {
              "outlinewidth": 0,
              "ticks": ""
             }
            },
            "type": "scatter3d"
           }
          ],
          "scattercarpet": [
           {
            "marker": {
             "colorbar": {
              "outlinewidth": 0,
              "ticks": ""
             }
            },
            "type": "scattercarpet"
           }
          ],
          "scattergeo": [
           {
            "marker": {
             "colorbar": {
              "outlinewidth": 0,
              "ticks": ""
             }
            },
            "type": "scattergeo"
           }
          ],
          "scattergl": [
           {
            "marker": {
             "colorbar": {
              "outlinewidth": 0,
              "ticks": ""
             }
            },
            "type": "scattergl"
           }
          ],
          "scattermapbox": [
           {
            "marker": {
             "colorbar": {
              "outlinewidth": 0,
              "ticks": ""
             }
            },
            "type": "scattermapbox"
           }
          ],
          "scatterpolar": [
           {
            "marker": {
             "colorbar": {
              "outlinewidth": 0,
              "ticks": ""
             }
            },
            "type": "scatterpolar"
           }
          ],
          "scatterpolargl": [
           {
            "marker": {
             "colorbar": {
              "outlinewidth": 0,
              "ticks": ""
             }
            },
            "type": "scatterpolargl"
           }
          ],
          "scatterternary": [
           {
            "marker": {
             "colorbar": {
              "outlinewidth": 0,
              "ticks": ""
             }
            },
            "type": "scatterternary"
           }
          ],
          "surface": [
           {
            "colorbar": {
             "outlinewidth": 0,
             "ticks": ""
            },
            "colorscale": [
             [
              0,
              "#0d0887"
             ],
             [
              0.1111111111111111,
              "#46039f"
             ],
             [
              0.2222222222222222,
              "#7201a8"
             ],
             [
              0.3333333333333333,
              "#9c179e"
             ],
             [
              0.4444444444444444,
              "#bd3786"
             ],
             [
              0.5555555555555556,
              "#d8576b"
             ],
             [
              0.6666666666666666,
              "#ed7953"
             ],
             [
              0.7777777777777778,
              "#fb9f3a"
             ],
             [
              0.8888888888888888,
              "#fdca26"
             ],
             [
              1,
              "#f0f921"
             ]
            ],
            "type": "surface"
           }
          ],
          "table": [
           {
            "cells": {
             "fill": {
              "color": "#EBF0F8"
             },
             "line": {
              "color": "white"
             }
            },
            "header": {
             "fill": {
              "color": "#C8D4E3"
             },
             "line": {
              "color": "white"
             }
            },
            "type": "table"
           }
          ]
         },
         "layout": {
          "annotationdefaults": {
           "arrowcolor": "#2a3f5f",
           "arrowhead": 0,
           "arrowwidth": 1
          },
          "autotypenumbers": "strict",
          "coloraxis": {
           "colorbar": {
            "outlinewidth": 0,
            "ticks": ""
           }
          },
          "colorscale": {
           "diverging": [
            [
             0,
             "#8e0152"
            ],
            [
             0.1,
             "#c51b7d"
            ],
            [
             0.2,
             "#de77ae"
            ],
            [
             0.3,
             "#f1b6da"
            ],
            [
             0.4,
             "#fde0ef"
            ],
            [
             0.5,
             "#f7f7f7"
            ],
            [
             0.6,
             "#e6f5d0"
            ],
            [
             0.7,
             "#b8e186"
            ],
            [
             0.8,
             "#7fbc41"
            ],
            [
             0.9,
             "#4d9221"
            ],
            [
             1,
             "#276419"
            ]
           ],
           "sequential": [
            [
             0,
             "#0d0887"
            ],
            [
             0.1111111111111111,
             "#46039f"
            ],
            [
             0.2222222222222222,
             "#7201a8"
            ],
            [
             0.3333333333333333,
             "#9c179e"
            ],
            [
             0.4444444444444444,
             "#bd3786"
            ],
            [
             0.5555555555555556,
             "#d8576b"
            ],
            [
             0.6666666666666666,
             "#ed7953"
            ],
            [
             0.7777777777777778,
             "#fb9f3a"
            ],
            [
             0.8888888888888888,
             "#fdca26"
            ],
            [
             1,
             "#f0f921"
            ]
           ],
           "sequentialminus": [
            [
             0,
             "#0d0887"
            ],
            [
             0.1111111111111111,
             "#46039f"
            ],
            [
             0.2222222222222222,
             "#7201a8"
            ],
            [
             0.3333333333333333,
             "#9c179e"
            ],
            [
             0.4444444444444444,
             "#bd3786"
            ],
            [
             0.5555555555555556,
             "#d8576b"
            ],
            [
             0.6666666666666666,
             "#ed7953"
            ],
            [
             0.7777777777777778,
             "#fb9f3a"
            ],
            [
             0.8888888888888888,
             "#fdca26"
            ],
            [
             1,
             "#f0f921"
            ]
           ]
          },
          "colorway": [
           "#636efa",
           "#EF553B",
           "#00cc96",
           "#ab63fa",
           "#FFA15A",
           "#19d3f3",
           "#FF6692",
           "#B6E880",
           "#FF97FF",
           "#FECB52"
          ],
          "font": {
           "color": "#2a3f5f"
          },
          "geo": {
           "bgcolor": "white",
           "lakecolor": "white",
           "landcolor": "#E5ECF6",
           "showlakes": true,
           "showland": true,
           "subunitcolor": "white"
          },
          "hoverlabel": {
           "align": "left"
          },
          "hovermode": "closest",
          "mapbox": {
           "style": "light"
          },
          "paper_bgcolor": "white",
          "plot_bgcolor": "#E5ECF6",
          "polar": {
           "angularaxis": {
            "gridcolor": "white",
            "linecolor": "white",
            "ticks": ""
           },
           "bgcolor": "#E5ECF6",
           "radialaxis": {
            "gridcolor": "white",
            "linecolor": "white",
            "ticks": ""
           }
          },
          "scene": {
           "xaxis": {
            "backgroundcolor": "#E5ECF6",
            "gridcolor": "white",
            "gridwidth": 2,
            "linecolor": "white",
            "showbackground": true,
            "ticks": "",
            "zerolinecolor": "white"
           },
           "yaxis": {
            "backgroundcolor": "#E5ECF6",
            "gridcolor": "white",
            "gridwidth": 2,
            "linecolor": "white",
            "showbackground": true,
            "ticks": "",
            "zerolinecolor": "white"
           },
           "zaxis": {
            "backgroundcolor": "#E5ECF6",
            "gridcolor": "white",
            "gridwidth": 2,
            "linecolor": "white",
            "showbackground": true,
            "ticks": "",
            "zerolinecolor": "white"
           }
          },
          "shapedefaults": {
           "line": {
            "color": "#2a3f5f"
           }
          },
          "ternary": {
           "aaxis": {
            "gridcolor": "white",
            "linecolor": "white",
            "ticks": ""
           },
           "baxis": {
            "gridcolor": "white",
            "linecolor": "white",
            "ticks": ""
           },
           "bgcolor": "#E5ECF6",
           "caxis": {
            "gridcolor": "white",
            "linecolor": "white",
            "ticks": ""
           }
          },
          "title": {
           "x": 0.05
          },
          "xaxis": {
           "automargin": true,
           "gridcolor": "white",
           "linecolor": "white",
           "ticks": "",
           "title": {
            "standoff": 15
           },
           "zerolinecolor": "white",
           "zerolinewidth": 2
          },
          "yaxis": {
           "automargin": true,
           "gridcolor": "white",
           "linecolor": "white",
           "ticks": "",
           "title": {
            "standoff": 15
           },
           "zerolinecolor": "white",
           "zerolinewidth": 2
          }
         }
        },
        "title": {
         "text": "Loss Overtime"
        },
        "xaxis": {
         "anchor": "y",
         "domain": [
          0,
          1
         ],
         "title": {
          "text": "index"
         }
        },
        "yaxis": {
         "anchor": "x",
         "domain": [
          0,
          1
         ],
         "title": {
          "text": "value"
         }
        }
       }
      },
      "image/png": "[encoded data removed]",
      "text/html": [
       "<div>                            <div id=\"b843d11d-a589-483d-a62f-ec7bd9ad7096\" class=\"plotly-graph-div\" style=\"height:525px; width:100%;\"></div>            <script type=\"text/javascript\">                require([\"plotly\"], function(Plotly) {                    window.PLOTLYENV=window.PLOTLYENV || {};                                    if (document.getElementById(\"b843d11d-a589-483d-a62f-ec7bd9ad7096\")) {                    Plotly.newPlot(                        \"b843d11d-a589-483d-a62f-ec7bd9ad7096\",                        [{\"hovertemplate\":\"variable=loss\\u003cbr\\u003eindex=%{x}\\u003cbr\\u003evalue=%{y}\\u003cextra\\u003e\\u003c\\u002fextra\\u003e\",\"legendgroup\":\"loss\",\"line\":{\"color\":\"#636efa\",\"dash\":\"solid\"},\"marker\":{\"symbol\":\"circle\"},\"mode\":\"lines\",\"name\":\"loss\",\"orientation\":\"v\",\"showlegend\":true,\"x\":[0,1,2,3,4,5,6,7,8,9,10,11,12,13,14,15,16,17,18,19,20,21,22,23,24,25,26,27,28,29,30,31,32,33,34,35,36,37,38,39,40,41,42,43,44,45,46,47,48,49,50,51,52,53,54,55,56,57,58,59,60,61,62,63,64,65,66,67,68,69,70,71,72,73,74,75,76,77,78,79,80,81,82,83,84,85,86,87,88,89,90,91,92,93,94,95,96,97,98,99],\"xaxis\":\"x\",\"y\":[0.5837320685386658,0.5794243216514587,0.5725707411766052,0.5709880590438843,0.5690253973007202,0.5647013187408447,0.5721480250358582,0.563187837600708,0.5605672001838684,0.5564571619033813,0.5517228245735168,0.5496360659599304,0.5449700951576233,0.5423882603645325,0.5146663188934326,0.503764271736145,0.5019875168800354,0.5007839202880859,0.5000285506248474,0.499585896730423,0.4991087019443512,0.4985145032405853,0.49812063574790955,0.49731308221817017,0.49329715967178345,0.49311932921409607,0.4930497705936432,0.4930342137813568,0.4929056763648987,0.4928804337978363,0.492832213640213,0.49286386370658875,0.4927310645580292,0.49268779158592224,0.49221330881118774,0.4922100305557251,0.4922027289867401,0.4922100305557251,0.4921930730342865,0.49218860268592834,0.49218595027923584,0.49218326807022095,0.4921799898147583,0.4921725392341614,0.4921197295188904,0.49211904406547546,0.4921192228794098,0.492118239402771,0.4921175539493561,0.49211743474006653,0.4921172857284546,0.4921168088912964,0.4921167194843292,0.4921155571937561,0.4921099841594696,0.4921100437641144,0.49210989475250244,0.49210989475250244,0.4921099841594696,0.4921099543571472,0.4921099841594696,0.4921099841594696,0.49210989475250244,0.4921100437641144,0.49210959672927856,0.4921098053455353,0.4921098053455353,0.4921098053455353,0.4921096861362457,0.49210986495018005,0.4921097159385681,0.4921098053455353,0.4921097755432129,0.4921096861362457,0.4921098053455353,0.4921097755432129,0.4921097755432129,0.4921097755432129,0.4921097159385681,0.4921096861362457,0.4921096861362457,0.4921097159385681,0.4921097755432129,0.49210989475250244,0.4921097159385681,0.4921097755432129,0.4921097755432129,0.49210986495018005,0.4921099543571472,0.49210962653160095,0.4921097159385681,0.49210986495018005,0.4921098053455353,0.4921098053455353,0.4921097159385681,0.49210962653160095,0.49210959672927856,0.4921098053455353,0.4921097159385681,0.4921097159385681],\"yaxis\":\"y\",\"type\":\"scatter\"},{\"hovertemplate\":\"variable=val_loss\\u003cbr\\u003eindex=%{x}\\u003cbr\\u003evalue=%{y}\\u003cextra\\u003e\\u003c\\u002fextra\\u003e\",\"legendgroup\":\"val_loss\",\"line\":{\"color\":\"#EF553B\",\"dash\":\"solid\"},\"marker\":{\"symbol\":\"circle\"},\"mode\":\"lines\",\"name\":\"val_loss\",\"orientation\":\"v\",\"showlegend\":true,\"x\":[0,1,2,3,4,5,6,7,8,9,10,11,12,13,14,15,16,17,18,19,20,21,22,23,24,25,26,27,28,29,30,31,32,33,34,35,36,37,38,39,40,41,42,43,44,45,46,47,48,49,50,51,52,53,54,55,56,57,58,59,60,61,62,63,64,65,66,67,68,69,70,71,72,73,74,75,76,77,78,79,80,81,82,83,84,85,86,87,88,89,90,91,92,93,94,95,96,97,98,99],\"xaxis\":\"x\",\"y\":[1.223219633102417,1.2332417964935303,1.2280479669570923,1.2195404767990112,1.2342040538787842,1.2386842966079712,1.2509047985076904,1.2727550268173218,1.2713322639465332,1.2653125524520874,1.2582643032073975,1.2851276397705078,1.3013113737106323,1.2812519073486328,1.2672181129455566,1.2666207551956177,1.2667016983032227,1.264703631401062,1.2671884298324585,1.2711405754089355,1.2680318355560303,1.2676665782928467,1.2686394453048706,1.2685147523880005,1.2689921855926514,1.2691041231155396,1.2696115970611572,1.269665002822876,1.2697250843048096,1.2699271440505981,1.2700899839401245,1.2703362703323364,1.270473599433899,1.2706005573272705,1.2705838680267334,1.2705234289169312,1.2705212831497192,1.2705317735671997,1.270530104637146,1.2705377340316772,1.2705014944076538,1.2705004215240479,1.2704827785491943,1.2705103158950806,1.270507574081421,1.2705055475234985,1.2705074548721313,1.2705059051513672,1.2705059051513672,1.2705034017562866,1.2705039978027344,1.270503044128418,1.2705082893371582,1.2705048322677612,1.2705045938491821,1.2705047130584717,1.2705044746398926,1.2705044746398926,1.2705044746398926,1.2705044746398926,1.270504355430603,1.2705044746398926,1.2705044746398926,1.270504355430603,1.270504355430603,1.270504355430603,1.270504355430603,1.270504355430603,1.270504355430603,1.270504355430603,1.270504355430603,1.270504355430603,1.270504355430603,1.270504355430603,1.270504355430603,1.270504355430603,1.270504355430603,1.270504355430603,1.270504355430603,1.270504355430603,1.270504355430603,1.270504355430603,1.270504355430603,1.270504355430603,1.270504355430603,1.270504355430603,1.270504355430603,1.270504355430603,1.270504355430603,1.270504355430603,1.270504355430603,1.270504355430603,1.270504355430603,1.270504355430603,1.270504355430603,1.270504355430603,1.270504355430603,1.270504355430603,1.270504355430603,1.270504355430603],\"yaxis\":\"y\",\"type\":\"scatter\"}],                        {\"template\":{\"data\":{\"histogram2dcontour\":[{\"type\":\"histogram2dcontour\",\"colorbar\":{\"outlinewidth\":0,\"ticks\":\"\"},\"colorscale\":[[0.0,\"#0d0887\"],[0.1111111111111111,\"#46039f\"],[0.2222222222222222,\"#7201a8\"],[0.3333333333333333,\"#9c179e\"],[0.4444444444444444,\"#bd3786\"],[0.5555555555555556,\"#d8576b\"],[0.6666666666666666,\"#ed7953\"],[0.7777777777777778,\"#fb9f3a\"],[0.8888888888888888,\"#fdca26\"],[1.0,\"#f0f921\"]]}],\"choropleth\":[{\"type\":\"choropleth\",\"colorbar\":{\"outlinewidth\":0,\"ticks\":\"\"}}],\"histogram2d\":[{\"type\":\"histogram2d\",\"colorbar\":{\"outlinewidth\":0,\"ticks\":\"\"},\"colorscale\":[[0.0,\"#0d0887\"],[0.1111111111111111,\"#46039f\"],[0.2222222222222222,\"#7201a8\"],[0.3333333333333333,\"#9c179e\"],[0.4444444444444444,\"#bd3786\"],[0.5555555555555556,\"#d8576b\"],[0.6666666666666666,\"#ed7953\"],[0.7777777777777778,\"#fb9f3a\"],[0.8888888888888888,\"#fdca26\"],[1.0,\"#f0f921\"]]}],\"heatmap\":[{\"type\":\"heatmap\",\"colorbar\":{\"outlinewidth\":0,\"ticks\":\"\"},\"colorscale\":[[0.0,\"#0d0887\"],[0.1111111111111111,\"#46039f\"],[0.2222222222222222,\"#7201a8\"],[0.3333333333333333,\"#9c179e\"],[0.4444444444444444,\"#bd3786\"],[0.5555555555555556,\"#d8576b\"],[0.6666666666666666,\"#ed7953\"],[0.7777777777777778,\"#fb9f3a\"],[0.8888888888888888,\"#fdca26\"],[1.0,\"#f0f921\"]]}],\"heatmapgl\":[{\"type\":\"heatmapgl\",\"colorbar\":{\"outlinewidth\":0,\"ticks\":\"\"},\"colorscale\":[[0.0,\"#0d0887\"],[0.1111111111111111,\"#46039f\"],[0.2222222222222222,\"#7201a8\"],[0.3333333333333333,\"#9c179e\"],[0.4444444444444444,\"#bd3786\"],[0.5555555555555556,\"#d8576b\"],[0.6666666666666666,\"#ed7953\"],[0.7777777777777778,\"#fb9f3a\"],[0.8888888888888888,\"#fdca26\"],[1.0,\"#f0f921\"]]}],\"contourcarpet\":[{\"type\":\"contourcarpet\",\"colorbar\":{\"outlinewidth\":0,\"ticks\":\"\"}}],\"contour\":[{\"type\":\"contour\",\"colorbar\":{\"outlinewidth\":0,\"ticks\":\"\"},\"colorscale\":[[0.0,\"#0d0887\"],[0.1111111111111111,\"#46039f\"],[0.2222222222222222,\"#7201a8\"],[0.3333333333333333,\"#9c179e\"],[0.4444444444444444,\"#bd3786\"],[0.5555555555555556,\"#d8576b\"],[0.6666666666666666,\"#ed7953\"],[0.7777777777777778,\"#fb9f3a\"],[0.8888888888888888,\"#fdca26\"],[1.0,\"#f0f921\"]]}],\"surface\":[{\"type\":\"surface\",\"colorbar\":{\"outlinewidth\":0,\"ticks\":\"\"},\"colorscale\":[[0.0,\"#0d0887\"],[0.1111111111111111,\"#46039f\"],[0.2222222222222222,\"#7201a8\"],[0.3333333333333333,\"#9c179e\"],[0.4444444444444444,\"#bd3786\"],[0.5555555555555556,\"#d8576b\"],[0.6666666666666666,\"#ed7953\"],[0.7777777777777778,\"#fb9f3a\"],[0.8888888888888888,\"#fdca26\"],[1.0,\"#f0f921\"]]}],\"mesh3d\":[{\"type\":\"mesh3d\",\"colorbar\":{\"outlinewidth\":0,\"ticks\":\"\"}}],\"scatter\":[{\"fillpattern\":{\"fillmode\":\"overlay\",\"size\":10,\"solidity\":0.2},\"type\":\"scatter\"}],\"parcoords\":[{\"type\":\"parcoords\",\"line\":{\"colorbar\":{\"outlinewidth\":0,\"ticks\":\"\"}}}],\"scatterpolargl\":[{\"type\":\"scatterpolargl\",\"marker\":{\"colorbar\":{\"outlinewidth\":0,\"ticks\":\"\"}}}],\"bar\":[{\"error_x\":{\"color\":\"#2a3f5f\"},\"error_y\":{\"color\":\"#2a3f5f\"},\"marker\":{\"line\":{\"color\":\"#E5ECF6\",\"width\":0.5},\"pattern\":{\"fillmode\":\"overlay\",\"size\":10,\"solidity\":0.2}},\"type\":\"bar\"}],\"scattergeo\":[{\"type\":\"scattergeo\",\"marker\":{\"colorbar\":{\"outlinewidth\":0,\"ticks\":\"\"}}}],\"scatterpolar\":[{\"type\":\"scatterpolar\",\"marker\":{\"colorbar\":{\"outlinewidth\":0,\"ticks\":\"\"}}}],\"histogram\":[{\"marker\":{\"pattern\":{\"fillmode\":\"overlay\",\"size\":10,\"solidity\":0.2}},\"type\":\"histogram\"}],\"scattergl\":[{\"type\":\"scattergl\",\"marker\":{\"colorbar\":{\"outlinewidth\":0,\"ticks\":\"\"}}}],\"scatter3d\":[{\"type\":\"scatter3d\",\"line\":{\"colorbar\":{\"outlinewidth\":0,\"ticks\":\"\"}},\"marker\":{\"colorbar\":{\"outlinewidth\":0,\"ticks\":\"\"}}}],\"scattermapbox\":[{\"type\":\"scattermapbox\",\"marker\":{\"colorbar\":{\"outlinewidth\":0,\"ticks\":\"\"}}}],\"scatterternary\":[{\"type\":\"scatterternary\",\"marker\":{\"colorbar\":{\"outlinewidth\":0,\"ticks\":\"\"}}}],\"scattercarpet\":[{\"type\":\"scattercarpet\",\"marker\":{\"colorbar\":{\"outlinewidth\":0,\"ticks\":\"\"}}}],\"carpet\":[{\"aaxis\":{\"endlinecolor\":\"#2a3f5f\",\"gridcolor\":\"white\",\"linecolor\":\"white\",\"minorgridcolor\":\"white\",\"startlinecolor\":\"#2a3f5f\"},\"baxis\":{\"endlinecolor\":\"#2a3f5f\",\"gridcolor\":\"white\",\"linecolor\":\"white\",\"minorgridcolor\":\"white\",\"startlinecolor\":\"#2a3f5f\"},\"type\":\"carpet\"}],\"table\":[{\"cells\":{\"fill\":{\"color\":\"#EBF0F8\"},\"line\":{\"color\":\"white\"}},\"header\":{\"fill\":{\"color\":\"#C8D4E3\"},\"line\":{\"color\":\"white\"}},\"type\":\"table\"}],\"barpolar\":[{\"marker\":{\"line\":{\"color\":\"#E5ECF6\",\"width\":0.5},\"pattern\":{\"fillmode\":\"overlay\",\"size\":10,\"solidity\":0.2}},\"type\":\"barpolar\"}],\"pie\":[{\"automargin\":true,\"type\":\"pie\"}]},\"layout\":{\"autotypenumbers\":\"strict\",\"colorway\":[\"#636efa\",\"#EF553B\",\"#00cc96\",\"#ab63fa\",\"#FFA15A\",\"#19d3f3\",\"#FF6692\",\"#B6E880\",\"#FF97FF\",\"#FECB52\"],\"font\":{\"color\":\"#2a3f5f\"},\"hovermode\":\"closest\",\"hoverlabel\":{\"align\":\"left\"},\"paper_bgcolor\":\"white\",\"plot_bgcolor\":\"#E5ECF6\",\"polar\":{\"bgcolor\":\"#E5ECF6\",\"angularaxis\":{\"gridcolor\":\"white\",\"linecolor\":\"white\",\"ticks\":\"\"},\"radialaxis\":{\"gridcolor\":\"white\",\"linecolor\":\"white\",\"ticks\":\"\"}},\"ternary\":{\"bgcolor\":\"#E5ECF6\",\"aaxis\":{\"gridcolor\":\"white\",\"linecolor\":\"white\",\"ticks\":\"\"},\"baxis\":{\"gridcolor\":\"white\",\"linecolor\":\"white\",\"ticks\":\"\"},\"caxis\":{\"gridcolor\":\"white\",\"linecolor\":\"white\",\"ticks\":\"\"}},\"coloraxis\":{\"colorbar\":{\"outlinewidth\":0,\"ticks\":\"\"}},\"colorscale\":{\"sequential\":[[0.0,\"#0d0887\"],[0.1111111111111111,\"#46039f\"],[0.2222222222222222,\"#7201a8\"],[0.3333333333333333,\"#9c179e\"],[0.4444444444444444,\"#bd3786\"],[0.5555555555555556,\"#d8576b\"],[0.6666666666666666,\"#ed7953\"],[0.7777777777777778,\"#fb9f3a\"],[0.8888888888888888,\"#fdca26\"],[1.0,\"#f0f921\"]],\"sequentialminus\":[[0.0,\"#0d0887\"],[0.1111111111111111,\"#46039f\"],[0.2222222222222222,\"#7201a8\"],[0.3333333333333333,\"#9c179e\"],[0.4444444444444444,\"#bd3786\"],[0.5555555555555556,\"#d8576b\"],[0.6666666666666666,\"#ed7953\"],[0.7777777777777778,\"#fb9f3a\"],[0.8888888888888888,\"#fdca26\"],[1.0,\"#f0f921\"]],\"diverging\":[[0,\"#8e0152\"],[0.1,\"#c51b7d\"],[0.2,\"#de77ae\"],[0.3,\"#f1b6da\"],[0.4,\"#fde0ef\"],[0.5,\"#f7f7f7\"],[0.6,\"#e6f5d0\"],[0.7,\"#b8e186\"],[0.8,\"#7fbc41\"],[0.9,\"#4d9221\"],[1,\"#276419\"]]},\"xaxis\":{\"gridcolor\":\"white\",\"linecolor\":\"white\",\"ticks\":\"\",\"title\":{\"standoff\":15},\"zerolinecolor\":\"white\",\"automargin\":true,\"zerolinewidth\":2},\"yaxis\":{\"gridcolor\":\"white\",\"linecolor\":\"white\",\"ticks\":\"\",\"title\":{\"standoff\":15},\"zerolinecolor\":\"white\",\"automargin\":true,\"zerolinewidth\":2},\"scene\":{\"xaxis\":{\"backgroundcolor\":\"#E5ECF6\",\"gridcolor\":\"white\",\"linecolor\":\"white\",\"showbackground\":true,\"ticks\":\"\",\"zerolinecolor\":\"white\",\"gridwidth\":2},\"yaxis\":{\"backgroundcolor\":\"#E5ECF6\",\"gridcolor\":\"white\",\"linecolor\":\"white\",\"showbackground\":true,\"ticks\":\"\",\"zerolinecolor\":\"white\",\"gridwidth\":2},\"zaxis\":{\"backgroundcolor\":\"#E5ECF6\",\"gridcolor\":\"white\",\"linecolor\":\"white\",\"showbackground\":true,\"ticks\":\"\",\"zerolinecolor\":\"white\",\"gridwidth\":2}},\"shapedefaults\":{\"line\":{\"color\":\"#2a3f5f\"}},\"annotationdefaults\":{\"arrowcolor\":\"#2a3f5f\",\"arrowhead\":0,\"arrowwidth\":1},\"geo\":{\"bgcolor\":\"white\",\"landcolor\":\"#E5ECF6\",\"subunitcolor\":\"white\",\"showland\":true,\"showlakes\":true,\"lakecolor\":\"white\"},\"title\":{\"x\":0.05},\"mapbox\":{\"style\":\"light\"}}},\"xaxis\":{\"anchor\":\"y\",\"domain\":[0.0,1.0],\"title\":{\"text\":\"index\"}},\"yaxis\":{\"anchor\":\"x\",\"domain\":[0.0,1.0],\"title\":{\"text\":\"value\"}},\"legend\":{\"title\":{\"text\":\"variable\"},\"tracegroupgap\":0},\"title\":{\"text\":\"Loss Overtime\"}},                        {\"responsive\": true}                    ).then(function(){\n",
       "                            \n",
       "var gd = document.getElementById('b843d11d-a589-483d-a62f-ec7bd9ad7096');\n",
       "var x = new MutationObserver(function (mutations, observer) {{\n",
       "        var display = window.getComputedStyle(gd).display;\n",
       "        if (!display || display === 'none') {{\n",
       "            console.log([gd, 'removed!']);\n",
       "            Plotly.purge(gd);\n",
       "            observer.disconnect();\n",
       "        }}\n",
       "}});\n",
       "\n",
       "// Listen for the removal of the full notebook cells\n",
       "var notebookContainer = gd.closest('#notebook-container');\n",
       "if (notebookContainer) {{\n",
       "    x.observe(notebookContainer, {childList: true});\n",
       "}}\n",
       "\n",
       "// Listen for the clearing of the current output cell\n",
       "var outputEl = gd.closest('.output');\n",
       "if (outputEl) {{\n",
       "    x.observe(outputEl, {childList: true});\n",
       "}}\n",
       "\n",
       "                        })                };                });            </script>        </div>"
      ]
     },
     "metadata": {},
     "output_type": "display_data"
    }
   ],
   "source": [
    "fig = px.line(\n",
    "    history.history,\n",
    "    y=['loss', 'val_loss'],\n",
    "    labels={'x': 'Epoch', 'y': 'Loss'},\n",
    "    title='Loss Overtime'\n",
    ")\n",
    "fig.show()"
   ]
  },
  {
   "cell_type": "code",
   "execution_count": 33,
   "id": "e494511c-e67e-4668-994b-97e0f5c4e5db",
   "metadata": {},
   "outputs": [
    {
     "name": "stdout",
     "output_type": "stream",
     "text": [
      "46/46 [==============================] - 0s 5ms/step - loss: 1.2342 - accuracy: 0.5918\n"
     ]
    },
    {
     "data": {
      "text/plain": [
       "[1.2341915369033813, 0.5918367505073547]"
      ]
     },
     "execution_count": 33,
     "metadata": {},
     "output_type": "execute_result"
    }
   ],
   "source": [
    "model.evaluate(X_test, y_test)"
   ]
  },
  {
   "cell_type": "code",
   "execution_count": 34,
   "id": "d0d41517-99a0-497f-a57b-f24137d660fd",
   "metadata": {},
   "outputs": [
    {
     "data": {
      "text/plain": [
       "quality\n",
       "0      20\n",
       "1     163\n",
       "2    1457\n",
       "3    2198\n",
       "4     880\n",
       "5     175\n",
       "6       5\n",
       "Name: count, dtype: int64"
      ]
     },
     "execution_count": 34,
     "metadata": {},
     "output_type": "execute_result"
    }
   ],
   "source": [
    "y.value_counts().sort_index()"
   ]
  },
  {
   "cell_type": "markdown",
   "id": "e5c204d6-9424-4043-baa0-e2d7455745a1",
   "metadata": {},
   "source": [
    "### Re-structure the task:\n",
    "\n",
    "Let's try quantile-splitting the outputs into two categories: high quality wines and low quality wines."
   ]
  },
  {
   "cell_type": "code",
   "execution_count": 35,
   "id": "6f1305a1-d524-4bc7-8440-1ddf2ca8ee22",
   "metadata": {},
   "outputs": [
    {
     "data": {
      "text/plain": [
       "quality\n",
       "0    3838\n",
       "1    1060\n",
       "Name: count, dtype: int64"
      ]
     },
     "execution_count": 35,
     "metadata": {},
     "output_type": "execute_result"
    }
   ],
   "source": [
    "pd.qcut(data['quality'], q=2, labels= [0,1]).value_counts()"
   ]
  },
  {
   "cell_type": "code",
   "execution_count": 36,
   "id": "c66e3b92-7eab-4a97-b8a7-0b4f3957f8b5",
   "metadata": {},
   "outputs": [],
   "source": [
    "y2 = pd.qcut(data['quality'], q=2, labels= [0,1])\n",
    "X2 = data.drop('quality', axis=1)"
   ]
  },
  {
   "cell_type": "code",
   "execution_count": 37,
   "id": "86cdf776-e727-42d2-9ea1-65a6485f3516",
   "metadata": {},
   "outputs": [],
   "source": [
    "scaler = StandardScaler()\n",
    "X2 = pd.DataFrame(scaler.fit_transform(X2), columns=X2.columns)"
   ]
  },
  {
   "cell_type": "code",
   "execution_count": 38,
   "id": "18c501e1-6202-4e33-8d12-0808df11e314",
   "metadata": {},
   "outputs": [],
   "source": [
    "X_train2, X_test2, y_train2, y_test2 = train_test_split(X2, y2, train_size=0.7, random_state=34)"
   ]
  },
  {
   "cell_type": "code",
   "execution_count": 41,
   "id": "9ceedbd0-a544-495e-be23-3906ca6f7acf",
   "metadata": {
    "scrolled": true
   },
   "outputs": [
    {
     "name": "stdout",
     "output_type": "stream",
     "text": [
      "Epoch 1/100\n",
      "86/86 [==============================] - 1s 8ms/step - loss: 0.4617 - accuracy: 0.8023 - val_loss: 0.4621 - val_accuracy: 0.7726 - lr: 0.0010\n",
      "Epoch 2/100\n",
      "86/86 [==============================] - 1s 7ms/step - loss: 0.3929 - accuracy: 0.8180 - val_loss: 0.4436 - val_accuracy: 0.7784 - lr: 0.0010\n",
      "Epoch 3/100\n",
      "86/86 [==============================] - 0s 6ms/step - loss: 0.3727 - accuracy: 0.8282 - val_loss: 0.4256 - val_accuracy: 0.7741 - lr: 0.0010\n",
      "Epoch 4/100\n",
      "86/86 [==============================] - 0s 5ms/step - loss: 0.3608 - accuracy: 0.8264 - val_loss: 0.4312 - val_accuracy: 0.7697 - lr: 0.0010\n",
      "Epoch 5/100\n",
      "86/86 [==============================] - 0s 5ms/step - loss: 0.3520 - accuracy: 0.8330 - val_loss: 0.4399 - val_accuracy: 0.7843 - lr: 0.0010\n",
      "Epoch 6/100\n",
      "86/86 [==============================] - 0s 5ms/step - loss: 0.3477 - accuracy: 0.8399 - val_loss: 0.4271 - val_accuracy: 0.7828 - lr: 0.0010\n",
      "Epoch 7/100\n",
      "86/86 [==============================] - 0s 4ms/step - loss: 0.3398 - accuracy: 0.8392 - val_loss: 0.4263 - val_accuracy: 0.7726 - lr: 0.0010\n",
      "Epoch 8/100\n",
      "86/86 [==============================] - 0s 4ms/step - loss: 0.3350 - accuracy: 0.8410 - val_loss: 0.4185 - val_accuracy: 0.7784 - lr: 0.0010\n",
      "Epoch 9/100\n",
      "86/86 [==============================] - 0s 3ms/step - loss: 0.3316 - accuracy: 0.8428 - val_loss: 0.4150 - val_accuracy: 0.7828 - lr: 0.0010\n",
      "Epoch 10/100\n",
      "86/86 [==============================] - 0s 5ms/step - loss: 0.3260 - accuracy: 0.8494 - val_loss: 0.4169 - val_accuracy: 0.7828 - lr: 0.0010\n",
      "Epoch 11/100\n",
      "86/86 [==============================] - 0s 5ms/step - loss: 0.3236 - accuracy: 0.8516 - val_loss: 0.4192 - val_accuracy: 0.7886 - lr: 0.0010\n",
      "Epoch 12/100\n",
      "86/86 [==============================] - 1s 6ms/step - loss: 0.3194 - accuracy: 0.8505 - val_loss: 0.4159 - val_accuracy: 0.7872 - lr: 0.0010\n",
      "Epoch 13/100\n",
      "86/86 [==============================] - 1s 6ms/step - loss: 0.3144 - accuracy: 0.8519 - val_loss: 0.4084 - val_accuracy: 0.7901 - lr: 0.0010\n",
      "Epoch 14/100\n",
      "86/86 [==============================] - 0s 5ms/step - loss: 0.3114 - accuracy: 0.8578 - val_loss: 0.4264 - val_accuracy: 0.7770 - lr: 0.0010\n",
      "Epoch 15/100\n",
      "86/86 [==============================] - 0s 5ms/step - loss: 0.3081 - accuracy: 0.8607 - val_loss: 0.4162 - val_accuracy: 0.7813 - lr: 0.0010\n",
      "Epoch 16/100\n",
      "86/86 [==============================] - 0s 6ms/step - loss: 0.3062 - accuracy: 0.8574 - val_loss: 0.4087 - val_accuracy: 0.7945 - lr: 0.0010\n",
      "Epoch 17/100\n",
      "86/86 [==============================] - 0s 4ms/step - loss: 0.3030 - accuracy: 0.8581 - val_loss: 0.4270 - val_accuracy: 0.7843 - lr: 0.0010\n",
      "Epoch 18/100\n",
      "86/86 [==============================] - 0s 4ms/step - loss: 0.2980 - accuracy: 0.8625 - val_loss: 0.4234 - val_accuracy: 0.7741 - lr: 0.0010\n",
      "Epoch 19/100\n",
      "86/86 [==============================] - 0s 4ms/step - loss: 0.2972 - accuracy: 0.8654 - val_loss: 0.4309 - val_accuracy: 0.7726 - lr: 0.0010\n",
      "Epoch 20/100\n",
      "86/86 [==============================] - 0s 3ms/step - loss: 0.2918 - accuracy: 0.8691 - val_loss: 0.4156 - val_accuracy: 0.7915 - lr: 0.0010\n",
      "Epoch 21/100\n",
      "86/86 [==============================] - 0s 5ms/step - loss: 0.2912 - accuracy: 0.8658 - val_loss: 0.4100 - val_accuracy: 0.7945 - lr: 0.0010\n",
      "Epoch 22/100\n",
      "86/86 [==============================] - 0s 6ms/step - loss: 0.2860 - accuracy: 0.8745 - val_loss: 0.4198 - val_accuracy: 0.7886 - lr: 0.0010\n",
      "Epoch 23/100\n",
      "86/86 [==============================] - 0s 3ms/step - loss: 0.2856 - accuracy: 0.8716 - val_loss: 0.4243 - val_accuracy: 0.7828 - lr: 0.0010\n",
      "Epoch 24/100\n",
      "86/86 [==============================] - 0s 5ms/step - loss: 0.2718 - accuracy: 0.8818 - val_loss: 0.4160 - val_accuracy: 0.7915 - lr: 1.0000e-04\n",
      "Epoch 25/100\n",
      "86/86 [==============================] - 0s 5ms/step - loss: 0.2704 - accuracy: 0.8822 - val_loss: 0.4182 - val_accuracy: 0.7872 - lr: 1.0000e-04\n",
      "Epoch 26/100\n",
      "86/86 [==============================] - 0s 3ms/step - loss: 0.2696 - accuracy: 0.8786 - val_loss: 0.4160 - val_accuracy: 0.7915 - lr: 1.0000e-04\n",
      "Epoch 27/100\n",
      "86/86 [==============================] - 0s 3ms/step - loss: 0.2690 - accuracy: 0.8793 - val_loss: 0.4167 - val_accuracy: 0.7901 - lr: 1.0000e-04\n",
      "Epoch 28/100\n",
      "86/86 [==============================] - 0s 4ms/step - loss: 0.2686 - accuracy: 0.8807 - val_loss: 0.4190 - val_accuracy: 0.7872 - lr: 1.0000e-04\n",
      "Epoch 29/100\n",
      "86/86 [==============================] - 0s 5ms/step - loss: 0.2680 - accuracy: 0.8800 - val_loss: 0.4169 - val_accuracy: 0.7901 - lr: 1.0000e-04\n",
      "Epoch 30/100\n",
      "86/86 [==============================] - 0s 5ms/step - loss: 0.2677 - accuracy: 0.8796 - val_loss: 0.4163 - val_accuracy: 0.7915 - lr: 1.0000e-04\n",
      "Epoch 31/100\n",
      "86/86 [==============================] - 0s 5ms/step - loss: 0.2669 - accuracy: 0.8807 - val_loss: 0.4173 - val_accuracy: 0.7901 - lr: 1.0000e-04\n",
      "Epoch 32/100\n",
      "86/86 [==============================] - 0s 5ms/step - loss: 0.2668 - accuracy: 0.8822 - val_loss: 0.4173 - val_accuracy: 0.7901 - lr: 1.0000e-04\n",
      "Epoch 33/100\n",
      "86/86 [==============================] - 0s 4ms/step - loss: 0.2665 - accuracy: 0.8804 - val_loss: 0.4188 - val_accuracy: 0.7857 - lr: 1.0000e-04\n",
      "Epoch 34/100\n",
      "86/86 [==============================] - 0s 5ms/step - loss: 0.2650 - accuracy: 0.8804 - val_loss: 0.4182 - val_accuracy: 0.7872 - lr: 1.0000e-05\n",
      "Epoch 35/100\n",
      "86/86 [==============================] - 1s 6ms/step - loss: 0.2649 - accuracy: 0.8807 - val_loss: 0.4180 - val_accuracy: 0.7872 - lr: 1.0000e-05\n",
      "Epoch 36/100\n",
      "86/86 [==============================] - 0s 5ms/step - loss: 0.2649 - accuracy: 0.8811 - val_loss: 0.4179 - val_accuracy: 0.7872 - lr: 1.0000e-05\n",
      "Epoch 37/100\n",
      "86/86 [==============================] - 0s 5ms/step - loss: 0.2648 - accuracy: 0.8811 - val_loss: 0.4178 - val_accuracy: 0.7872 - lr: 1.0000e-05\n",
      "Epoch 38/100\n",
      "86/86 [==============================] - 0s 5ms/step - loss: 0.2647 - accuracy: 0.8815 - val_loss: 0.4177 - val_accuracy: 0.7886 - lr: 1.0000e-05\n",
      "Epoch 39/100\n",
      "86/86 [==============================] - 0s 5ms/step - loss: 0.2647 - accuracy: 0.8815 - val_loss: 0.4177 - val_accuracy: 0.7886 - lr: 1.0000e-05\n",
      "Epoch 40/100\n",
      "86/86 [==============================] - 0s 5ms/step - loss: 0.2647 - accuracy: 0.8818 - val_loss: 0.4175 - val_accuracy: 0.7886 - lr: 1.0000e-05\n",
      "Epoch 41/100\n",
      "86/86 [==============================] - 0s 4ms/step - loss: 0.2646 - accuracy: 0.8811 - val_loss: 0.4176 - val_accuracy: 0.7886 - lr: 1.0000e-05\n",
      "Epoch 42/100\n",
      "86/86 [==============================] - 0s 5ms/step - loss: 0.2646 - accuracy: 0.8818 - val_loss: 0.4175 - val_accuracy: 0.7886 - lr: 1.0000e-05\n",
      "Epoch 43/100\n",
      "86/86 [==============================] - 0s 5ms/step - loss: 0.2645 - accuracy: 0.8818 - val_loss: 0.4175 - val_accuracy: 0.7872 - lr: 1.0000e-05\n",
      "Epoch 44/100\n",
      "86/86 [==============================] - 0s 6ms/step - loss: 0.2644 - accuracy: 0.8815 - val_loss: 0.4175 - val_accuracy: 0.7872 - lr: 1.0000e-06\n",
      "Epoch 45/100\n",
      "86/86 [==============================] - 0s 4ms/step - loss: 0.2644 - accuracy: 0.8815 - val_loss: 0.4175 - val_accuracy: 0.7872 - lr: 1.0000e-06\n",
      "Epoch 46/100\n",
      "86/86 [==============================] - 0s 4ms/step - loss: 0.2644 - accuracy: 0.8815 - val_loss: 0.4175 - val_accuracy: 0.7872 - lr: 1.0000e-06\n",
      "Epoch 47/100\n",
      "86/86 [==============================] - 0s 5ms/step - loss: 0.2644 - accuracy: 0.8815 - val_loss: 0.4175 - val_accuracy: 0.7872 - lr: 1.0000e-06\n",
      "Epoch 48/100\n",
      "86/86 [==============================] - 0s 5ms/step - loss: 0.2644 - accuracy: 0.8815 - val_loss: 0.4175 - val_accuracy: 0.7872 - lr: 1.0000e-06\n",
      "Epoch 49/100\n",
      "86/86 [==============================] - 0s 6ms/step - loss: 0.2644 - accuracy: 0.8815 - val_loss: 0.4175 - val_accuracy: 0.7872 - lr: 1.0000e-06\n",
      "Epoch 50/100\n",
      "86/86 [==============================] - 0s 5ms/step - loss: 0.2644 - accuracy: 0.8815 - val_loss: 0.4175 - val_accuracy: 0.7872 - lr: 1.0000e-06\n",
      "Epoch 51/100\n",
      "86/86 [==============================] - 0s 5ms/step - loss: 0.2644 - accuracy: 0.8815 - val_loss: 0.4175 - val_accuracy: 0.7872 - lr: 1.0000e-06\n",
      "Epoch 52/100\n",
      "86/86 [==============================] - 0s 5ms/step - loss: 0.2644 - accuracy: 0.8815 - val_loss: 0.4175 - val_accuracy: 0.7872 - lr: 1.0000e-06\n",
      "Epoch 53/100\n",
      "86/86 [==============================] - 1s 6ms/step - loss: 0.2644 - accuracy: 0.8815 - val_loss: 0.4175 - val_accuracy: 0.7872 - lr: 1.0000e-06\n",
      "Epoch 54/100\n",
      "86/86 [==============================] - 0s 5ms/step - loss: 0.2643 - accuracy: 0.8815 - val_loss: 0.4175 - val_accuracy: 0.7872 - lr: 1.0000e-07\n",
      "Epoch 55/100\n",
      "86/86 [==============================] - 0s 5ms/step - loss: 0.2643 - accuracy: 0.8815 - val_loss: 0.4175 - val_accuracy: 0.7872 - lr: 1.0000e-07\n",
      "Epoch 56/100\n",
      "86/86 [==============================] - 0s 5ms/step - loss: 0.2643 - accuracy: 0.8815 - val_loss: 0.4175 - val_accuracy: 0.7872 - lr: 1.0000e-07\n",
      "Epoch 57/100\n",
      "86/86 [==============================] - 0s 5ms/step - loss: 0.2643 - accuracy: 0.8815 - val_loss: 0.4175 - val_accuracy: 0.7872 - lr: 1.0000e-07\n",
      "Epoch 58/100\n",
      "86/86 [==============================] - 0s 5ms/step - loss: 0.2643 - accuracy: 0.8815 - val_loss: 0.4175 - val_accuracy: 0.7872 - lr: 1.0000e-07\n",
      "Epoch 59/100\n",
      "86/86 [==============================] - 1s 6ms/step - loss: 0.2643 - accuracy: 0.8815 - val_loss: 0.4175 - val_accuracy: 0.7872 - lr: 1.0000e-07\n",
      "Epoch 60/100\n",
      "86/86 [==============================] - 0s 5ms/step - loss: 0.2643 - accuracy: 0.8815 - val_loss: 0.4175 - val_accuracy: 0.7872 - lr: 1.0000e-07\n",
      "Epoch 61/100\n",
      "86/86 [==============================] - 0s 4ms/step - loss: 0.2643 - accuracy: 0.8815 - val_loss: 0.4175 - val_accuracy: 0.7872 - lr: 1.0000e-07\n",
      "Epoch 62/100\n",
      "86/86 [==============================] - 0s 5ms/step - loss: 0.2643 - accuracy: 0.8815 - val_loss: 0.4175 - val_accuracy: 0.7872 - lr: 1.0000e-07\n",
      "Epoch 63/100\n",
      "86/86 [==============================] - 0s 4ms/step - loss: 0.2643 - accuracy: 0.8815 - val_loss: 0.4175 - val_accuracy: 0.7872 - lr: 1.0000e-07\n",
      "Epoch 64/100\n",
      "86/86 [==============================] - 0s 5ms/step - loss: 0.2643 - accuracy: 0.8815 - val_loss: 0.4175 - val_accuracy: 0.7872 - lr: 1.0000e-08\n",
      "Epoch 65/100\n",
      "86/86 [==============================] - 0s 5ms/step - loss: 0.2643 - accuracy: 0.8815 - val_loss: 0.4175 - val_accuracy: 0.7872 - lr: 1.0000e-08\n",
      "Epoch 66/100\n",
      "86/86 [==============================] - 0s 4ms/step - loss: 0.2643 - accuracy: 0.8815 - val_loss: 0.4175 - val_accuracy: 0.7872 - lr: 1.0000e-08\n",
      "Epoch 67/100\n",
      "86/86 [==============================] - 0s 5ms/step - loss: 0.2643 - accuracy: 0.8815 - val_loss: 0.4175 - val_accuracy: 0.7872 - lr: 1.0000e-08\n",
      "Epoch 68/100\n",
      "86/86 [==============================] - 0s 5ms/step - loss: 0.2643 - accuracy: 0.8815 - val_loss: 0.4175 - val_accuracy: 0.7872 - lr: 1.0000e-08\n",
      "Epoch 69/100\n",
      "86/86 [==============================] - 0s 4ms/step - loss: 0.2643 - accuracy: 0.8815 - val_loss: 0.4175 - val_accuracy: 0.7872 - lr: 1.0000e-08\n",
      "Epoch 70/100\n",
      "86/86 [==============================] - 0s 4ms/step - loss: 0.2643 - accuracy: 0.8815 - val_loss: 0.4175 - val_accuracy: 0.7872 - lr: 1.0000e-08\n",
      "Epoch 71/100\n",
      "86/86 [==============================] - 0s 4ms/step - loss: 0.2643 - accuracy: 0.8815 - val_loss: 0.4175 - val_accuracy: 0.7872 - lr: 1.0000e-08\n",
      "Epoch 72/100\n",
      "86/86 [==============================] - 0s 3ms/step - loss: 0.2643 - accuracy: 0.8815 - val_loss: 0.4175 - val_accuracy: 0.7872 - lr: 1.0000e-08\n",
      "Epoch 73/100\n",
      "86/86 [==============================] - 0s 4ms/step - loss: 0.2643 - accuracy: 0.8815 - val_loss: 0.4175 - val_accuracy: 0.7872 - lr: 1.0000e-08\n",
      "Epoch 74/100\n",
      "86/86 [==============================] - 0s 4ms/step - loss: 0.2643 - accuracy: 0.8815 - val_loss: 0.4175 - val_accuracy: 0.7872 - lr: 1.0000e-09\n",
      "Epoch 75/100\n",
      "86/86 [==============================] - 0s 5ms/step - loss: 0.2643 - accuracy: 0.8815 - val_loss: 0.4175 - val_accuracy: 0.7872 - lr: 1.0000e-09\n",
      "Epoch 76/100\n",
      "86/86 [==============================] - 0s 5ms/step - loss: 0.2643 - accuracy: 0.8815 - val_loss: 0.4175 - val_accuracy: 0.7872 - lr: 1.0000e-09\n",
      "Epoch 77/100\n",
      "86/86 [==============================] - 0s 5ms/step - loss: 0.2643 - accuracy: 0.8815 - val_loss: 0.4175 - val_accuracy: 0.7872 - lr: 1.0000e-09\n",
      "Epoch 78/100\n",
      "86/86 [==============================] - 0s 5ms/step - loss: 0.2643 - accuracy: 0.8815 - val_loss: 0.4175 - val_accuracy: 0.7872 - lr: 1.0000e-09\n",
      "Epoch 79/100\n",
      "86/86 [==============================] - 0s 5ms/step - loss: 0.2643 - accuracy: 0.8815 - val_loss: 0.4175 - val_accuracy: 0.7872 - lr: 1.0000e-09\n",
      "Epoch 80/100\n",
      "86/86 [==============================] - 0s 5ms/step - loss: 0.2643 - accuracy: 0.8815 - val_loss: 0.4175 - val_accuracy: 0.7872 - lr: 1.0000e-09\n",
      "Epoch 81/100\n",
      "86/86 [==============================] - 0s 5ms/step - loss: 0.2643 - accuracy: 0.8815 - val_loss: 0.4175 - val_accuracy: 0.7872 - lr: 1.0000e-09\n",
      "Epoch 82/100\n",
      "86/86 [==============================] - 0s 5ms/step - loss: 0.2643 - accuracy: 0.8815 - val_loss: 0.4175 - val_accuracy: 0.7872 - lr: 1.0000e-09\n",
      "Epoch 83/100\n",
      "86/86 [==============================] - 0s 5ms/step - loss: 0.2643 - accuracy: 0.8815 - val_loss: 0.4175 - val_accuracy: 0.7872 - lr: 1.0000e-09\n",
      "Epoch 84/100\n",
      "86/86 [==============================] - 0s 4ms/step - loss: 0.2643 - accuracy: 0.8815 - val_loss: 0.4175 - val_accuracy: 0.7872 - lr: 1.0000e-10\n",
      "Epoch 85/100\n",
      "86/86 [==============================] - 0s 4ms/step - loss: 0.2643 - accuracy: 0.8815 - val_loss: 0.4175 - val_accuracy: 0.7872 - lr: 1.0000e-10\n",
      "Epoch 86/100\n",
      "86/86 [==============================] - 0s 4ms/step - loss: 0.2643 - accuracy: 0.8815 - val_loss: 0.4175 - val_accuracy: 0.7872 - lr: 1.0000e-10\n",
      "Epoch 87/100\n",
      "86/86 [==============================] - 0s 4ms/step - loss: 0.2643 - accuracy: 0.8815 - val_loss: 0.4175 - val_accuracy: 0.7872 - lr: 1.0000e-10\n",
      "Epoch 88/100\n",
      "86/86 [==============================] - 0s 4ms/step - loss: 0.2643 - accuracy: 0.8815 - val_loss: 0.4175 - val_accuracy: 0.7872 - lr: 1.0000e-10\n",
      "Epoch 89/100\n",
      "86/86 [==============================] - 0s 5ms/step - loss: 0.2643 - accuracy: 0.8815 - val_loss: 0.4175 - val_accuracy: 0.7872 - lr: 1.0000e-10\n",
      "Epoch 90/100\n",
      "86/86 [==============================] - 0s 5ms/step - loss: 0.2643 - accuracy: 0.8815 - val_loss: 0.4175 - val_accuracy: 0.7872 - lr: 1.0000e-10\n",
      "Epoch 91/100\n",
      "86/86 [==============================] - 0s 4ms/step - loss: 0.2643 - accuracy: 0.8815 - val_loss: 0.4175 - val_accuracy: 0.7872 - lr: 1.0000e-10\n",
      "Epoch 92/100\n",
      "86/86 [==============================] - 0s 4ms/step - loss: 0.2643 - accuracy: 0.8815 - val_loss: 0.4175 - val_accuracy: 0.7872 - lr: 1.0000e-10\n",
      "Epoch 93/100\n",
      "86/86 [==============================] - 0s 4ms/step - loss: 0.2643 - accuracy: 0.8815 - val_loss: 0.4175 - val_accuracy: 0.7872 - lr: 1.0000e-10\n",
      "Epoch 94/100\n",
      "86/86 [==============================] - 0s 3ms/step - loss: 0.2643 - accuracy: 0.8815 - val_loss: 0.4175 - val_accuracy: 0.7872 - lr: 1.0000e-11\n",
      "Epoch 95/100\n",
      "86/86 [==============================] - 0s 3ms/step - loss: 0.2643 - accuracy: 0.8815 - val_loss: 0.4175 - val_accuracy: 0.7872 - lr: 1.0000e-11\n",
      "Epoch 96/100\n",
      "86/86 [==============================] - 0s 3ms/step - loss: 0.2643 - accuracy: 0.8815 - val_loss: 0.4175 - val_accuracy: 0.7872 - lr: 1.0000e-11\n",
      "Epoch 97/100\n",
      "86/86 [==============================] - 0s 4ms/step - loss: 0.2643 - accuracy: 0.8815 - val_loss: 0.4175 - val_accuracy: 0.7872 - lr: 1.0000e-11\n",
      "Epoch 98/100\n",
      "86/86 [==============================] - 0s 4ms/step - loss: 0.2643 - accuracy: 0.8815 - val_loss: 0.4175 - val_accuracy: 0.7872 - lr: 1.0000e-11\n",
      "Epoch 99/100\n",
      "86/86 [==============================] - 0s 4ms/step - loss: 0.2643 - accuracy: 0.8815 - val_loss: 0.4175 - val_accuracy: 0.7872 - lr: 1.0000e-11\n",
      "Epoch 100/100\n",
      "86/86 [==============================] - 0s 3ms/step - loss: 0.2643 - accuracy: 0.8815 - val_loss: 0.4175 - val_accuracy: 0.7872 - lr: 1.0000e-11\n"
     ]
    }
   ],
   "source": [
    "inputs2 = tf.keras.Input(shape=(num_features, ))\n",
    "x2 = tf.keras.layers.Dense(64, activation='relu')(inputs2)\n",
    "x2 = tf.keras.layers.Dense(64, activation='relu')(x2)\n",
    "outputs2 = tf.keras.layers.Dense(1, activation='sigmoid')(x2)\n",
    "model2 = tf.keras.Model(inputs2, outputs2)\n",
    "\n",
    "model2.compile(\n",
    "    optimizer = 'adam',\n",
    "    loss = 'binary_crossentropy',\n",
    "    metrics = ['accuracy']\n",
    ")\n",
    "\n",
    "batch_size = 32\n",
    "epochs = 100\n",
    "\n",
    "history2 = model2.fit(\n",
    "    X_train2,\n",
    "    y_train2,\n",
    "    validation_split=0.2,\n",
    "    batch_size=batch_size,\n",
    "    epochs=epochs,\n",
    "    callbacks = [tf.keras.callbacks.ReduceLROnPlateau()]\n",
    ")"
   ]
  },
  {
   "cell_type": "code",
   "execution_count": 42,
   "id": "fb6bd24f-7864-46cd-b1fa-8a65ec21719d",
   "metadata": {},
   "outputs": [
    {
     "data": {
      "application/vnd.plotly.v1+json": {
       "config": {
        "plotlyServerURL": "https://plot.ly"
       },
       "data": [
        {
         "hovertemplate": "variable=loss<br>index=%{x}<br>value=%{y}<extra></extra>",
         "legendgroup": "loss",
         "line": {
          "color": "#636efa",
          "dash": "solid"
         },
         "marker": {
          "symbol": "circle"
         },
         "mode": "lines",
         "name": "loss",
         "orientation": "v",
         "showlegend": true,
         "type": "scatter",
         "x": [
          0,
          1,
          2,
          3,
          4,
          5,
          6,
          7,
          8,
          9,
          10,
          11,
          12,
          13,
          14,
          15,
          16,
          17,
          18,
          19,
          20,
          21,
          22,
          23,
          24,
          25,
          26,
          27,
          28,
          29,
          30,
          31,
          32,
          33,
          34,
          35,
          36,
          37,
          38,
          39,
          40,
          41,
          42,
          43,
          44,
          45,
          46,
          47,
          48,
          49,
          50,
          51,
          52,
          53,
          54,
          55,
          56,
          57,
          58,
          59,
          60,
          61,
          62,
          63,
          64,
          65,
          66,
          67,
          68,
          69,
          70,
          71,
          72,
          73,
          74,
          75,
          76,
          77,
          78,
          79,
          80,
          81,
          82,
          83,
          84,
          85,
          86,
          87,
          88,
          89,
          90,
          91,
          92,
          93,
          94,
          95,
          96,
          97,
          98,
          99
         ],
         "xaxis": "x",
         "y": [
          0.46165332198143005,
          0.39294931292533875,
          0.3727162778377533,
          0.36079326272010803,
          0.3520295321941376,
          0.3476812243461609,
          0.3397787809371948,
          0.3349929749965668,
          0.3315776586532593,
          0.3260001540184021,
          0.3235521614551544,
          0.31937849521636963,
          0.31444644927978516,
          0.31141966581344604,
          0.3081054985523224,
          0.3061552047729492,
          0.3030345141887665,
          0.2979804277420044,
          0.29715901613235474,
          0.2917569875717163,
          0.29121142625808716,
          0.2860376834869385,
          0.28562670946121216,
          0.27179384231567383,
          0.27037957310676575,
          0.269557386636734,
          0.2689933776855469,
          0.26861128211021423,
          0.26799124479293823,
          0.26769113540649414,
          0.26693615317344666,
          0.26681214570999146,
          0.26648303866386414,
          0.2649884819984436,
          0.2649228274822235,
          0.264851838350296,
          0.26479804515838623,
          0.26473453640937805,
          0.26474660634994507,
          0.264654278755188,
          0.26459750533103943,
          0.2645649313926697,
          0.2645418643951416,
          0.2643859386444092,
          0.26438456773757935,
          0.26438137888908386,
          0.26437488198280334,
          0.2643728256225586,
          0.2643711566925049,
          0.26436594128608704,
          0.2643612325191498,
          0.2643578052520752,
          0.26435062289237976,
          0.26433810591697693,
          0.26433759927749634,
          0.2643372416496277,
          0.26433658599853516,
          0.26433658599853516,
          0.2643359303474426,
          0.2643355429172516,
          0.26433536410331726,
          0.26433447003364563,
          0.26433491706848145,
          0.26433295011520386,
          0.26433297991752625,
          0.2643328905105591,
          0.26433292031288147,
          0.2643328309059143,
          0.2643328309059143,
          0.2643328309059143,
          0.2643328309059143,
          0.2643328309059143,
          0.2643328607082367,
          0.2643328011035919,
          0.2643328309059143,
          0.26433274149894714,
          0.26433277130126953,
          0.26433274149894714,
          0.2643328011035919,
          0.26433274149894714,
          0.26433268189430237,
          0.26433271169662476,
          0.2643328309059143,
          0.26433274149894714,
          0.26433277130126953,
          0.26433277130126953,
          0.26433277130126953,
          0.2643328011035919,
          0.2643328011035919,
          0.2643328011035919,
          0.2643328309059143,
          0.26433274149894714,
          0.2643328309059143,
          0.26433271169662476,
          0.2643328011035919,
          0.2643328011035919,
          0.2643328011035919,
          0.26433274149894714,
          0.26433277130126953,
          0.26433274149894714
         ],
         "yaxis": "y"
        },
        {
         "hovertemplate": "variable=val_loss<br>index=%{x}<br>value=%{y}<extra></extra>",
         "legendgroup": "val_loss",
         "line": {
          "color": "#EF553B",
          "dash": "solid"
         },
         "marker": {
          "symbol": "circle"
         },
         "mode": "lines",
         "name": "val_loss",
         "orientation": "v",
         "showlegend": true,
         "type": "scatter",
         "x": [
          0,
          1,
          2,
          3,
          4,
          5,
          6,
          7,
          8,
          9,
          10,
          11,
          12,
          13,
          14,
          15,
          16,
          17,
          18,
          19,
          20,
          21,
          22,
          23,
          24,
          25,
          26,
          27,
          28,
          29,
          30,
          31,
          32,
          33,
          34,
          35,
          36,
          37,
          38,
          39,
          40,
          41,
          42,
          43,
          44,
          45,
          46,
          47,
          48,
          49,
          50,
          51,
          52,
          53,
          54,
          55,
          56,
          57,
          58,
          59,
          60,
          61,
          62,
          63,
          64,
          65,
          66,
          67,
          68,
          69,
          70,
          71,
          72,
          73,
          74,
          75,
          76,
          77,
          78,
          79,
          80,
          81,
          82,
          83,
          84,
          85,
          86,
          87,
          88,
          89,
          90,
          91,
          92,
          93,
          94,
          95,
          96,
          97,
          98,
          99
         ],
         "xaxis": "x",
         "y": [
          0.4621131420135498,
          0.4435678720474243,
          0.4255724847316742,
          0.43119874596595764,
          0.43992432951927185,
          0.42706379294395447,
          0.4263406991958618,
          0.41853567957878113,
          0.41498515009880066,
          0.4168812036514282,
          0.41924986243247986,
          0.4158828854560852,
          0.4083501398563385,
          0.4264419972896576,
          0.41621145606040955,
          0.4086674749851227,
          0.42698174715042114,
          0.42337459325790405,
          0.43088454008102417,
          0.4156140387058258,
          0.40997248888015747,
          0.41984856128692627,
          0.4243379235267639,
          0.4160071313381195,
          0.41817206144332886,
          0.41602376103401184,
          0.41668662428855896,
          0.41899991035461426,
          0.4168863892555237,
          0.4162617325782776,
          0.41730862855911255,
          0.4172784686088562,
          0.4187905788421631,
          0.4181897044181824,
          0.41803762316703796,
          0.41790518164634705,
          0.41783657670021057,
          0.41772499680519104,
          0.41767042875289917,
          0.41746801137924194,
          0.4176108241081238,
          0.41747602820396423,
          0.41747593879699707,
          0.4174773693084717,
          0.4174596071243286,
          0.41748136281967163,
          0.41748046875,
          0.4174662232398987,
          0.4174862205982208,
          0.4174693524837494,
          0.4174845218658447,
          0.41749465465545654,
          0.41749808192253113,
          0.41749876737594604,
          0.4174974262714386,
          0.4174959361553192,
          0.41749823093414307,
          0.4174983501434326,
          0.41749662160873413,
          0.41749700903892517,
          0.4174952805042267,
          0.41749754548072815,
          0.4174997806549072,
          0.41749972105026245,
          0.4174996316432953,
          0.4174995422363281,
          0.4174995422363281,
          0.4174996018409729,
          0.4174995422363281,
          0.41749951243400574,
          0.41749945282936096,
          0.4174995422363281,
          0.41749951243400574,
          0.41749951243400574,
          0.41749951243400574,
          0.41749951243400574,
          0.41749951243400574,
          0.41749951243400574,
          0.41749951243400574,
          0.41749951243400574,
          0.41749951243400574,
          0.41749951243400574,
          0.41749951243400574,
          0.41749951243400574,
          0.41749951243400574,
          0.41749951243400574,
          0.41749951243400574,
          0.41749951243400574,
          0.41749951243400574,
          0.41749951243400574,
          0.41749951243400574,
          0.41749951243400574,
          0.41749951243400574,
          0.41749951243400574,
          0.41749951243400574,
          0.41749951243400574,
          0.41749951243400574,
          0.41749951243400574,
          0.41749951243400574,
          0.41749951243400574
         ],
         "yaxis": "y"
        }
       ],
       "layout": {
        "legend": {
         "title": {
          "text": "variable"
         },
         "tracegroupgap": 0
        },
        "template": {
         "data": {
          "bar": [
           {
            "error_x": {
             "color": "#2a3f5f"
            },
            "error_y": {
             "color": "#2a3f5f"
            },
            "marker": {
             "line": {
              "color": "#E5ECF6",
              "width": 0.5
             },
             "pattern": {
              "fillmode": "overlay",
              "size": 10,
              "solidity": 0.2
             }
            },
            "type": "bar"
           }
          ],
          "barpolar": [
           {
            "marker": {
             "line": {
              "color": "#E5ECF6",
              "width": 0.5
             },
             "pattern": {
              "fillmode": "overlay",
              "size": 10,
              "solidity": 0.2
             }
            },
            "type": "barpolar"
           }
          ],
          "carpet": [
           {
            "aaxis": {
             "endlinecolor": "#2a3f5f",
             "gridcolor": "white",
             "linecolor": "white",
             "minorgridcolor": "white",
             "startlinecolor": "#2a3f5f"
            },
            "baxis": {
             "endlinecolor": "#2a3f5f",
             "gridcolor": "white",
             "linecolor": "white",
             "minorgridcolor": "white",
             "startlinecolor": "#2a3f5f"
            },
            "type": "carpet"
           }
          ],
          "choropleth": [
           {
            "colorbar": {
             "outlinewidth": 0,
             "ticks": ""
            },
            "type": "choropleth"
           }
          ],
          "contour": [
           {
            "colorbar": {
             "outlinewidth": 0,
             "ticks": ""
            },
            "colorscale": [
             [
              0,
              "#0d0887"
             ],
             [
              0.1111111111111111,
              "#46039f"
             ],
             [
              0.2222222222222222,
              "#7201a8"
             ],
             [
              0.3333333333333333,
              "#9c179e"
             ],
             [
              0.4444444444444444,
              "#bd3786"
             ],
             [
              0.5555555555555556,
              "#d8576b"
             ],
             [
              0.6666666666666666,
              "#ed7953"
             ],
             [
              0.7777777777777778,
              "#fb9f3a"
             ],
             [
              0.8888888888888888,
              "#fdca26"
             ],
             [
              1,
              "#f0f921"
             ]
            ],
            "type": "contour"
           }
          ],
          "contourcarpet": [
           {
            "colorbar": {
             "outlinewidth": 0,
             "ticks": ""
            },
            "type": "contourcarpet"
           }
          ],
          "heatmap": [
           {
            "colorbar": {
             "outlinewidth": 0,
             "ticks": ""
            },
            "colorscale": [
             [
              0,
              "#0d0887"
             ],
             [
              0.1111111111111111,
              "#46039f"
             ],
             [
              0.2222222222222222,
              "#7201a8"
             ],
             [
              0.3333333333333333,
              "#9c179e"
             ],
             [
              0.4444444444444444,
              "#bd3786"
             ],
             [
              0.5555555555555556,
              "#d8576b"
             ],
             [
              0.6666666666666666,
              "#ed7953"
             ],
             [
              0.7777777777777778,
              "#fb9f3a"
             ],
             [
              0.8888888888888888,
              "#fdca26"
             ],
             [
              1,
              "#f0f921"
             ]
            ],
            "type": "heatmap"
           }
          ],
          "heatmapgl": [
           {
            "colorbar": {
             "outlinewidth": 0,
             "ticks": ""
            },
            "colorscale": [
             [
              0,
              "#0d0887"
             ],
             [
              0.1111111111111111,
              "#46039f"
             ],
             [
              0.2222222222222222,
              "#7201a8"
             ],
             [
              0.3333333333333333,
              "#9c179e"
             ],
             [
              0.4444444444444444,
              "#bd3786"
             ],
             [
              0.5555555555555556,
              "#d8576b"
             ],
             [
              0.6666666666666666,
              "#ed7953"
             ],
             [
              0.7777777777777778,
              "#fb9f3a"
             ],
             [
              0.8888888888888888,
              "#fdca26"
             ],
             [
              1,
              "#f0f921"
             ]
            ],
            "type": "heatmapgl"
           }
          ],
          "histogram": [
           {
            "marker": {
             "pattern": {
              "fillmode": "overlay",
              "size": 10,
              "solidity": 0.2
             }
            },
            "type": "histogram"
           }
          ],
          "histogram2d": [
           {
            "colorbar": {
             "outlinewidth": 0,
             "ticks": ""
            },
            "colorscale": [
             [
              0,
              "#0d0887"
             ],
             [
              0.1111111111111111,
              "#46039f"
             ],
             [
              0.2222222222222222,
              "#7201a8"
             ],
             [
              0.3333333333333333,
              "#9c179e"
             ],
             [
              0.4444444444444444,
              "#bd3786"
             ],
             [
              0.5555555555555556,
              "#d8576b"
             ],
             [
              0.6666666666666666,
              "#ed7953"
             ],
             [
              0.7777777777777778,
              "#fb9f3a"
             ],
             [
              0.8888888888888888,
              "#fdca26"
             ],
             [
              1,
              "#f0f921"
             ]
            ],
            "type": "histogram2d"
           }
          ],
          "histogram2dcontour": [
           {
            "colorbar": {
             "outlinewidth": 0,
             "ticks": ""
            },
            "colorscale": [
             [
              0,
              "#0d0887"
             ],
             [
              0.1111111111111111,
              "#46039f"
             ],
             [
              0.2222222222222222,
              "#7201a8"
             ],
             [
              0.3333333333333333,
              "#9c179e"
             ],
             [
              0.4444444444444444,
              "#bd3786"
             ],
             [
              0.5555555555555556,
              "#d8576b"
             ],
             [
              0.6666666666666666,
              "#ed7953"
             ],
             [
              0.7777777777777778,
              "#fb9f3a"
             ],
             [
              0.8888888888888888,
              "#fdca26"
             ],
             [
              1,
              "#f0f921"
             ]
            ],
            "type": "histogram2dcontour"
           }
          ],
          "mesh3d": [
           {
            "colorbar": {
             "outlinewidth": 0,
             "ticks": ""
            },
            "type": "mesh3d"
           }
          ],
          "parcoords": [
           {
            "line": {
             "colorbar": {
              "outlinewidth": 0,
              "ticks": ""
             }
            },
            "type": "parcoords"
           }
          ],
          "pie": [
           {
            "automargin": true,
            "type": "pie"
           }
          ],
          "scatter": [
           {
            "fillpattern": {
             "fillmode": "overlay",
             "size": 10,
             "solidity": 0.2
            },
            "type": "scatter"
           }
          ],
          "scatter3d": [
           {
            "line": {
             "colorbar": {
              "outlinewidth": 0,
              "ticks": ""
             }
            },
            "marker": {
             "colorbar": {
              "outlinewidth": 0,
              "ticks": ""
             }
            },
            "type": "scatter3d"
           }
          ],
          "scattercarpet": [
           {
            "marker": {
             "colorbar": {
              "outlinewidth": 0,
              "ticks": ""
             }
            },
            "type": "scattercarpet"
           }
          ],
          "scattergeo": [
           {
            "marker": {
             "colorbar": {
              "outlinewidth": 0,
              "ticks": ""
             }
            },
            "type": "scattergeo"
           }
          ],
          "scattergl": [
           {
            "marker": {
             "colorbar": {
              "outlinewidth": 0,
              "ticks": ""
             }
            },
            "type": "scattergl"
           }
          ],
          "scattermapbox": [
           {
            "marker": {
             "colorbar": {
              "outlinewidth": 0,
              "ticks": ""
             }
            },
            "type": "scattermapbox"
           }
          ],
          "scatterpolar": [
           {
            "marker": {
             "colorbar": {
              "outlinewidth": 0,
              "ticks": ""
             }
            },
            "type": "scatterpolar"
           }
          ],
          "scatterpolargl": [
           {
            "marker": {
             "colorbar": {
              "outlinewidth": 0,
              "ticks": ""
             }
            },
            "type": "scatterpolargl"
           }
          ],
          "scatterternary": [
           {
            "marker": {
             "colorbar": {
              "outlinewidth": 0,
              "ticks": ""
             }
            },
            "type": "scatterternary"
           }
          ],
          "surface": [
           {
            "colorbar": {
             "outlinewidth": 0,
             "ticks": ""
            },
            "colorscale": [
             [
              0,
              "#0d0887"
             ],
             [
              0.1111111111111111,
              "#46039f"
             ],
             [
              0.2222222222222222,
              "#7201a8"
             ],
             [
              0.3333333333333333,
              "#9c179e"
             ],
             [
              0.4444444444444444,
              "#bd3786"
             ],
             [
              0.5555555555555556,
              "#d8576b"
             ],
             [
              0.6666666666666666,
              "#ed7953"
             ],
             [
              0.7777777777777778,
              "#fb9f3a"
             ],
             [
              0.8888888888888888,
              "#fdca26"
             ],
             [
              1,
              "#f0f921"
             ]
            ],
            "type": "surface"
           }
          ],
          "table": [
           {
            "cells": {
             "fill": {
              "color": "#EBF0F8"
             },
             "line": {
              "color": "white"
             }
            },
            "header": {
             "fill": {
              "color": "#C8D4E3"
             },
             "line": {
              "color": "white"
             }
            },
            "type": "table"
           }
          ]
         },
         "layout": {
          "annotationdefaults": {
           "arrowcolor": "#2a3f5f",
           "arrowhead": 0,
           "arrowwidth": 1
          },
          "autotypenumbers": "strict",
          "coloraxis": {
           "colorbar": {
            "outlinewidth": 0,
            "ticks": ""
           }
          },
          "colorscale": {
           "diverging": [
            [
             0,
             "#8e0152"
            ],
            [
             0.1,
             "#c51b7d"
            ],
            [
             0.2,
             "#de77ae"
            ],
            [
             0.3,
             "#f1b6da"
            ],
            [
             0.4,
             "#fde0ef"
            ],
            [
             0.5,
             "#f7f7f7"
            ],
            [
             0.6,
             "#e6f5d0"
            ],
            [
             0.7,
             "#b8e186"
            ],
            [
             0.8,
             "#7fbc41"
            ],
            [
             0.9,
             "#4d9221"
            ],
            [
             1,
             "#276419"
            ]
           ],
           "sequential": [
            [
             0,
             "#0d0887"
            ],
            [
             0.1111111111111111,
             "#46039f"
            ],
            [
             0.2222222222222222,
             "#7201a8"
            ],
            [
             0.3333333333333333,
             "#9c179e"
            ],
            [
             0.4444444444444444,
             "#bd3786"
            ],
            [
             0.5555555555555556,
             "#d8576b"
            ],
            [
             0.6666666666666666,
             "#ed7953"
            ],
            [
             0.7777777777777778,
             "#fb9f3a"
            ],
            [
             0.8888888888888888,
             "#fdca26"
            ],
            [
             1,
             "#f0f921"
            ]
           ],
           "sequentialminus": [
            [
             0,
             "#0d0887"
            ],
            [
             0.1111111111111111,
             "#46039f"
            ],
            [
             0.2222222222222222,
             "#7201a8"
            ],
            [
             0.3333333333333333,
             "#9c179e"
            ],
            [
             0.4444444444444444,
             "#bd3786"
            ],
            [
             0.5555555555555556,
             "#d8576b"
            ],
            [
             0.6666666666666666,
             "#ed7953"
            ],
            [
             0.7777777777777778,
             "#fb9f3a"
            ],
            [
             0.8888888888888888,
             "#fdca26"
            ],
            [
             1,
             "#f0f921"
            ]
           ]
          },
          "colorway": [
           "#636efa",
           "#EF553B",
           "#00cc96",
           "#ab63fa",
           "#FFA15A",
           "#19d3f3",
           "#FF6692",
           "#B6E880",
           "#FF97FF",
           "#FECB52"
          ],
          "font": {
           "color": "#2a3f5f"
          },
          "geo": {
           "bgcolor": "white",
           "lakecolor": "white",
           "landcolor": "#E5ECF6",
           "showlakes": true,
           "showland": true,
           "subunitcolor": "white"
          },
          "hoverlabel": {
           "align": "left"
          },
          "hovermode": "closest",
          "mapbox": {
           "style": "light"
          },
          "paper_bgcolor": "white",
          "plot_bgcolor": "#E5ECF6",
          "polar": {
           "angularaxis": {
            "gridcolor": "white",
            "linecolor": "white",
            "ticks": ""
           },
           "bgcolor": "#E5ECF6",
           "radialaxis": {
            "gridcolor": "white",
            "linecolor": "white",
            "ticks": ""
           }
          },
          "scene": {
           "xaxis": {
            "backgroundcolor": "#E5ECF6",
            "gridcolor": "white",
            "gridwidth": 2,
            "linecolor": "white",
            "showbackground": true,
            "ticks": "",
            "zerolinecolor": "white"
           },
           "yaxis": {
            "backgroundcolor": "#E5ECF6",
            "gridcolor": "white",
            "gridwidth": 2,
            "linecolor": "white",
            "showbackground": true,
            "ticks": "",
            "zerolinecolor": "white"
           },
           "zaxis": {
            "backgroundcolor": "#E5ECF6",
            "gridcolor": "white",
            "gridwidth": 2,
            "linecolor": "white",
            "showbackground": true,
            "ticks": "",
            "zerolinecolor": "white"
           }
          },
          "shapedefaults": {
           "line": {
            "color": "#2a3f5f"
           }
          },
          "ternary": {
           "aaxis": {
            "gridcolor": "white",
            "linecolor": "white",
            "ticks": ""
           },
           "baxis": {
            "gridcolor": "white",
            "linecolor": "white",
            "ticks": ""
           },
           "bgcolor": "#E5ECF6",
           "caxis": {
            "gridcolor": "white",
            "linecolor": "white",
            "ticks": ""
           }
          },
          "title": {
           "x": 0.05
          },
          "xaxis": {
           "automargin": true,
           "gridcolor": "white",
           "linecolor": "white",
           "ticks": "",
           "title": {
            "standoff": 15
           },
           "zerolinecolor": "white",
           "zerolinewidth": 2
          },
          "yaxis": {
           "automargin": true,
           "gridcolor": "white",
           "linecolor": "white",
           "ticks": "",
           "title": {
            "standoff": 15
           },
           "zerolinecolor": "white",
           "zerolinewidth": 2
          }
         }
        },
        "title": {
         "text": "Loss Overtime"
        },
        "xaxis": {
         "anchor": "y",
         "domain": [
          0,
          1
         ],
         "title": {
          "text": "index"
         }
        },
        "yaxis": {
         "anchor": "x",
         "domain": [
          0,
          1
         ],
         "title": {
          "text": "value"
         }
        }
       }
      },
      "image/png": "[encoded data removed]",
      "text/html": [
       "<div>                            <div id=\"de94c5b1-4c1e-4d64-b78a-caa295f4d1ab\" class=\"plotly-graph-div\" style=\"height:525px; width:100%;\"></div>            <script type=\"text/javascript\">                require([\"plotly\"], function(Plotly) {                    window.PLOTLYENV=window.PLOTLYENV || {};                                    if (document.getElementById(\"de94c5b1-4c1e-4d64-b78a-caa295f4d1ab\")) {                    Plotly.newPlot(                        \"de94c5b1-4c1e-4d64-b78a-caa295f4d1ab\",                        [{\"hovertemplate\":\"variable=loss\\u003cbr\\u003eindex=%{x}\\u003cbr\\u003evalue=%{y}\\u003cextra\\u003e\\u003c\\u002fextra\\u003e\",\"legendgroup\":\"loss\",\"line\":{\"color\":\"#636efa\",\"dash\":\"solid\"},\"marker\":{\"symbol\":\"circle\"},\"mode\":\"lines\",\"name\":\"loss\",\"orientation\":\"v\",\"showlegend\":true,\"x\":[0,1,2,3,4,5,6,7,8,9,10,11,12,13,14,15,16,17,18,19,20,21,22,23,24,25,26,27,28,29,30,31,32,33,34,35,36,37,38,39,40,41,42,43,44,45,46,47,48,49,50,51,52,53,54,55,56,57,58,59,60,61,62,63,64,65,66,67,68,69,70,71,72,73,74,75,76,77,78,79,80,81,82,83,84,85,86,87,88,89,90,91,92,93,94,95,96,97,98,99],\"xaxis\":\"x\",\"y\":[0.46165332198143005,0.39294931292533875,0.3727162778377533,0.36079326272010803,0.3520295321941376,0.3476812243461609,0.3397787809371948,0.3349929749965668,0.3315776586532593,0.3260001540184021,0.3235521614551544,0.31937849521636963,0.31444644927978516,0.31141966581344604,0.3081054985523224,0.3061552047729492,0.3030345141887665,0.2979804277420044,0.29715901613235474,0.2917569875717163,0.29121142625808716,0.2860376834869385,0.28562670946121216,0.27179384231567383,0.27037957310676575,0.269557386636734,0.2689933776855469,0.26861128211021423,0.26799124479293823,0.26769113540649414,0.26693615317344666,0.26681214570999146,0.26648303866386414,0.2649884819984436,0.2649228274822235,0.264851838350296,0.26479804515838623,0.26473453640937805,0.26474660634994507,0.264654278755188,0.26459750533103943,0.2645649313926697,0.2645418643951416,0.2643859386444092,0.26438456773757935,0.26438137888908386,0.26437488198280334,0.2643728256225586,0.2643711566925049,0.26436594128608704,0.2643612325191498,0.2643578052520752,0.26435062289237976,0.26433810591697693,0.26433759927749634,0.2643372416496277,0.26433658599853516,0.26433658599853516,0.2643359303474426,0.2643355429172516,0.26433536410331726,0.26433447003364563,0.26433491706848145,0.26433295011520386,0.26433297991752625,0.2643328905105591,0.26433292031288147,0.2643328309059143,0.2643328309059143,0.2643328309059143,0.2643328309059143,0.2643328309059143,0.2643328607082367,0.2643328011035919,0.2643328309059143,0.26433274149894714,0.26433277130126953,0.26433274149894714,0.2643328011035919,0.26433274149894714,0.26433268189430237,0.26433271169662476,0.2643328309059143,0.26433274149894714,0.26433277130126953,0.26433277130126953,0.26433277130126953,0.2643328011035919,0.2643328011035919,0.2643328011035919,0.2643328309059143,0.26433274149894714,0.2643328309059143,0.26433271169662476,0.2643328011035919,0.2643328011035919,0.2643328011035919,0.26433274149894714,0.26433277130126953,0.26433274149894714],\"yaxis\":\"y\",\"type\":\"scatter\"},{\"hovertemplate\":\"variable=val_loss\\u003cbr\\u003eindex=%{x}\\u003cbr\\u003evalue=%{y}\\u003cextra\\u003e\\u003c\\u002fextra\\u003e\",\"legendgroup\":\"val_loss\",\"line\":{\"color\":\"#EF553B\",\"dash\":\"solid\"},\"marker\":{\"symbol\":\"circle\"},\"mode\":\"lines\",\"name\":\"val_loss\",\"orientation\":\"v\",\"showlegend\":true,\"x\":[0,1,2,3,4,5,6,7,8,9,10,11,12,13,14,15,16,17,18,19,20,21,22,23,24,25,26,27,28,29,30,31,32,33,34,35,36,37,38,39,40,41,42,43,44,45,46,47,48,49,50,51,52,53,54,55,56,57,58,59,60,61,62,63,64,65,66,67,68,69,70,71,72,73,74,75,76,77,78,79,80,81,82,83,84,85,86,87,88,89,90,91,92,93,94,95,96,97,98,99],\"xaxis\":\"x\",\"y\":[0.4621131420135498,0.4435678720474243,0.4255724847316742,0.43119874596595764,0.43992432951927185,0.42706379294395447,0.4263406991958618,0.41853567957878113,0.41498515009880066,0.4168812036514282,0.41924986243247986,0.4158828854560852,0.4083501398563385,0.4264419972896576,0.41621145606040955,0.4086674749851227,0.42698174715042114,0.42337459325790405,0.43088454008102417,0.4156140387058258,0.40997248888015747,0.41984856128692627,0.4243379235267639,0.4160071313381195,0.41817206144332886,0.41602376103401184,0.41668662428855896,0.41899991035461426,0.4168863892555237,0.4162617325782776,0.41730862855911255,0.4172784686088562,0.4187905788421631,0.4181897044181824,0.41803762316703796,0.41790518164634705,0.41783657670021057,0.41772499680519104,0.41767042875289917,0.41746801137924194,0.4176108241081238,0.41747602820396423,0.41747593879699707,0.4174773693084717,0.4174596071243286,0.41748136281967163,0.41748046875,0.4174662232398987,0.4174862205982208,0.4174693524837494,0.4174845218658447,0.41749465465545654,0.41749808192253113,0.41749876737594604,0.4174974262714386,0.4174959361553192,0.41749823093414307,0.4174983501434326,0.41749662160873413,0.41749700903892517,0.4174952805042267,0.41749754548072815,0.4174997806549072,0.41749972105026245,0.4174996316432953,0.4174995422363281,0.4174995422363281,0.4174996018409729,0.4174995422363281,0.41749951243400574,0.41749945282936096,0.4174995422363281,0.41749951243400574,0.41749951243400574,0.41749951243400574,0.41749951243400574,0.41749951243400574,0.41749951243400574,0.41749951243400574,0.41749951243400574,0.41749951243400574,0.41749951243400574,0.41749951243400574,0.41749951243400574,0.41749951243400574,0.41749951243400574,0.41749951243400574,0.41749951243400574,0.41749951243400574,0.41749951243400574,0.41749951243400574,0.41749951243400574,0.41749951243400574,0.41749951243400574,0.41749951243400574,0.41749951243400574,0.41749951243400574,0.41749951243400574,0.41749951243400574,0.41749951243400574],\"yaxis\":\"y\",\"type\":\"scatter\"}],                        {\"template\":{\"data\":{\"histogram2dcontour\":[{\"type\":\"histogram2dcontour\",\"colorbar\":{\"outlinewidth\":0,\"ticks\":\"\"},\"colorscale\":[[0.0,\"#0d0887\"],[0.1111111111111111,\"#46039f\"],[0.2222222222222222,\"#7201a8\"],[0.3333333333333333,\"#9c179e\"],[0.4444444444444444,\"#bd3786\"],[0.5555555555555556,\"#d8576b\"],[0.6666666666666666,\"#ed7953\"],[0.7777777777777778,\"#fb9f3a\"],[0.8888888888888888,\"#fdca26\"],[1.0,\"#f0f921\"]]}],\"choropleth\":[{\"type\":\"choropleth\",\"colorbar\":{\"outlinewidth\":0,\"ticks\":\"\"}}],\"histogram2d\":[{\"type\":\"histogram2d\",\"colorbar\":{\"outlinewidth\":0,\"ticks\":\"\"},\"colorscale\":[[0.0,\"#0d0887\"],[0.1111111111111111,\"#46039f\"],[0.2222222222222222,\"#7201a8\"],[0.3333333333333333,\"#9c179e\"],[0.4444444444444444,\"#bd3786\"],[0.5555555555555556,\"#d8576b\"],[0.6666666666666666,\"#ed7953\"],[0.7777777777777778,\"#fb9f3a\"],[0.8888888888888888,\"#fdca26\"],[1.0,\"#f0f921\"]]}],\"heatmap\":[{\"type\":\"heatmap\",\"colorbar\":{\"outlinewidth\":0,\"ticks\":\"\"},\"colorscale\":[[0.0,\"#0d0887\"],[0.1111111111111111,\"#46039f\"],[0.2222222222222222,\"#7201a8\"],[0.3333333333333333,\"#9c179e\"],[0.4444444444444444,\"#bd3786\"],[0.5555555555555556,\"#d8576b\"],[0.6666666666666666,\"#ed7953\"],[0.7777777777777778,\"#fb9f3a\"],[0.8888888888888888,\"#fdca26\"],[1.0,\"#f0f921\"]]}],\"heatmapgl\":[{\"type\":\"heatmapgl\",\"colorbar\":{\"outlinewidth\":0,\"ticks\":\"\"},\"colorscale\":[[0.0,\"#0d0887\"],[0.1111111111111111,\"#46039f\"],[0.2222222222222222,\"#7201a8\"],[0.3333333333333333,\"#9c179e\"],[0.4444444444444444,\"#bd3786\"],[0.5555555555555556,\"#d8576b\"],[0.6666666666666666,\"#ed7953\"],[0.7777777777777778,\"#fb9f3a\"],[0.8888888888888888,\"#fdca26\"],[1.0,\"#f0f921\"]]}],\"contourcarpet\":[{\"type\":\"contourcarpet\",\"colorbar\":{\"outlinewidth\":0,\"ticks\":\"\"}}],\"contour\":[{\"type\":\"contour\",\"colorbar\":{\"outlinewidth\":0,\"ticks\":\"\"},\"colorscale\":[[0.0,\"#0d0887\"],[0.1111111111111111,\"#46039f\"],[0.2222222222222222,\"#7201a8\"],[0.3333333333333333,\"#9c179e\"],[0.4444444444444444,\"#bd3786\"],[0.5555555555555556,\"#d8576b\"],[0.6666666666666666,\"#ed7953\"],[0.7777777777777778,\"#fb9f3a\"],[0.8888888888888888,\"#fdca26\"],[1.0,\"#f0f921\"]]}],\"surface\":[{\"type\":\"surface\",\"colorbar\":{\"outlinewidth\":0,\"ticks\":\"\"},\"colorscale\":[[0.0,\"#0d0887\"],[0.1111111111111111,\"#46039f\"],[0.2222222222222222,\"#7201a8\"],[0.3333333333333333,\"#9c179e\"],[0.4444444444444444,\"#bd3786\"],[0.5555555555555556,\"#d8576b\"],[0.6666666666666666,\"#ed7953\"],[0.7777777777777778,\"#fb9f3a\"],[0.8888888888888888,\"#fdca26\"],[1.0,\"#f0f921\"]]}],\"mesh3d\":[{\"type\":\"mesh3d\",\"colorbar\":{\"outlinewidth\":0,\"ticks\":\"\"}}],\"scatter\":[{\"fillpattern\":{\"fillmode\":\"overlay\",\"size\":10,\"solidity\":0.2},\"type\":\"scatter\"}],\"parcoords\":[{\"type\":\"parcoords\",\"line\":{\"colorbar\":{\"outlinewidth\":0,\"ticks\":\"\"}}}],\"scatterpolargl\":[{\"type\":\"scatterpolargl\",\"marker\":{\"colorbar\":{\"outlinewidth\":0,\"ticks\":\"\"}}}],\"bar\":[{\"error_x\":{\"color\":\"#2a3f5f\"},\"error_y\":{\"color\":\"#2a3f5f\"},\"marker\":{\"line\":{\"color\":\"#E5ECF6\",\"width\":0.5},\"pattern\":{\"fillmode\":\"overlay\",\"size\":10,\"solidity\":0.2}},\"type\":\"bar\"}],\"scattergeo\":[{\"type\":\"scattergeo\",\"marker\":{\"colorbar\":{\"outlinewidth\":0,\"ticks\":\"\"}}}],\"scatterpolar\":[{\"type\":\"scatterpolar\",\"marker\":{\"colorbar\":{\"outlinewidth\":0,\"ticks\":\"\"}}}],\"histogram\":[{\"marker\":{\"pattern\":{\"fillmode\":\"overlay\",\"size\":10,\"solidity\":0.2}},\"type\":\"histogram\"}],\"scattergl\":[{\"type\":\"scattergl\",\"marker\":{\"colorbar\":{\"outlinewidth\":0,\"ticks\":\"\"}}}],\"scatter3d\":[{\"type\":\"scatter3d\",\"line\":{\"colorbar\":{\"outlinewidth\":0,\"ticks\":\"\"}},\"marker\":{\"colorbar\":{\"outlinewidth\":0,\"ticks\":\"\"}}}],\"scattermapbox\":[{\"type\":\"scattermapbox\",\"marker\":{\"colorbar\":{\"outlinewidth\":0,\"ticks\":\"\"}}}],\"scatterternary\":[{\"type\":\"scatterternary\",\"marker\":{\"colorbar\":{\"outlinewidth\":0,\"ticks\":\"\"}}}],\"scattercarpet\":[{\"type\":\"scattercarpet\",\"marker\":{\"colorbar\":{\"outlinewidth\":0,\"ticks\":\"\"}}}],\"carpet\":[{\"aaxis\":{\"endlinecolor\":\"#2a3f5f\",\"gridcolor\":\"white\",\"linecolor\":\"white\",\"minorgridcolor\":\"white\",\"startlinecolor\":\"#2a3f5f\"},\"baxis\":{\"endlinecolor\":\"#2a3f5f\",\"gridcolor\":\"white\",\"linecolor\":\"white\",\"minorgridcolor\":\"white\",\"startlinecolor\":\"#2a3f5f\"},\"type\":\"carpet\"}],\"table\":[{\"cells\":{\"fill\":{\"color\":\"#EBF0F8\"},\"line\":{\"color\":\"white\"}},\"header\":{\"fill\":{\"color\":\"#C8D4E3\"},\"line\":{\"color\":\"white\"}},\"type\":\"table\"}],\"barpolar\":[{\"marker\":{\"line\":{\"color\":\"#E5ECF6\",\"width\":0.5},\"pattern\":{\"fillmode\":\"overlay\",\"size\":10,\"solidity\":0.2}},\"type\":\"barpolar\"}],\"pie\":[{\"automargin\":true,\"type\":\"pie\"}]},\"layout\":{\"autotypenumbers\":\"strict\",\"colorway\":[\"#636efa\",\"#EF553B\",\"#00cc96\",\"#ab63fa\",\"#FFA15A\",\"#19d3f3\",\"#FF6692\",\"#B6E880\",\"#FF97FF\",\"#FECB52\"],\"font\":{\"color\":\"#2a3f5f\"},\"hovermode\":\"closest\",\"hoverlabel\":{\"align\":\"left\"},\"paper_bgcolor\":\"white\",\"plot_bgcolor\":\"#E5ECF6\",\"polar\":{\"bgcolor\":\"#E5ECF6\",\"angularaxis\":{\"gridcolor\":\"white\",\"linecolor\":\"white\",\"ticks\":\"\"},\"radialaxis\":{\"gridcolor\":\"white\",\"linecolor\":\"white\",\"ticks\":\"\"}},\"ternary\":{\"bgcolor\":\"#E5ECF6\",\"aaxis\":{\"gridcolor\":\"white\",\"linecolor\":\"white\",\"ticks\":\"\"},\"baxis\":{\"gridcolor\":\"white\",\"linecolor\":\"white\",\"ticks\":\"\"},\"caxis\":{\"gridcolor\":\"white\",\"linecolor\":\"white\",\"ticks\":\"\"}},\"coloraxis\":{\"colorbar\":{\"outlinewidth\":0,\"ticks\":\"\"}},\"colorscale\":{\"sequential\":[[0.0,\"#0d0887\"],[0.1111111111111111,\"#46039f\"],[0.2222222222222222,\"#7201a8\"],[0.3333333333333333,\"#9c179e\"],[0.4444444444444444,\"#bd3786\"],[0.5555555555555556,\"#d8576b\"],[0.6666666666666666,\"#ed7953\"],[0.7777777777777778,\"#fb9f3a\"],[0.8888888888888888,\"#fdca26\"],[1.0,\"#f0f921\"]],\"sequentialminus\":[[0.0,\"#0d0887\"],[0.1111111111111111,\"#46039f\"],[0.2222222222222222,\"#7201a8\"],[0.3333333333333333,\"#9c179e\"],[0.4444444444444444,\"#bd3786\"],[0.5555555555555556,\"#d8576b\"],[0.6666666666666666,\"#ed7953\"],[0.7777777777777778,\"#fb9f3a\"],[0.8888888888888888,\"#fdca26\"],[1.0,\"#f0f921\"]],\"diverging\":[[0,\"#8e0152\"],[0.1,\"#c51b7d\"],[0.2,\"#de77ae\"],[0.3,\"#f1b6da\"],[0.4,\"#fde0ef\"],[0.5,\"#f7f7f7\"],[0.6,\"#e6f5d0\"],[0.7,\"#b8e186\"],[0.8,\"#7fbc41\"],[0.9,\"#4d9221\"],[1,\"#276419\"]]},\"xaxis\":{\"gridcolor\":\"white\",\"linecolor\":\"white\",\"ticks\":\"\",\"title\":{\"standoff\":15},\"zerolinecolor\":\"white\",\"automargin\":true,\"zerolinewidth\":2},\"yaxis\":{\"gridcolor\":\"white\",\"linecolor\":\"white\",\"ticks\":\"\",\"title\":{\"standoff\":15},\"zerolinecolor\":\"white\",\"automargin\":true,\"zerolinewidth\":2},\"scene\":{\"xaxis\":{\"backgroundcolor\":\"#E5ECF6\",\"gridcolor\":\"white\",\"linecolor\":\"white\",\"showbackground\":true,\"ticks\":\"\",\"zerolinecolor\":\"white\",\"gridwidth\":2},\"yaxis\":{\"backgroundcolor\":\"#E5ECF6\",\"gridcolor\":\"white\",\"linecolor\":\"white\",\"showbackground\":true,\"ticks\":\"\",\"zerolinecolor\":\"white\",\"gridwidth\":2},\"zaxis\":{\"backgroundcolor\":\"#E5ECF6\",\"gridcolor\":\"white\",\"linecolor\":\"white\",\"showbackground\":true,\"ticks\":\"\",\"zerolinecolor\":\"white\",\"gridwidth\":2}},\"shapedefaults\":{\"line\":{\"color\":\"#2a3f5f\"}},\"annotationdefaults\":{\"arrowcolor\":\"#2a3f5f\",\"arrowhead\":0,\"arrowwidth\":1},\"geo\":{\"bgcolor\":\"white\",\"landcolor\":\"#E5ECF6\",\"subunitcolor\":\"white\",\"showland\":true,\"showlakes\":true,\"lakecolor\":\"white\"},\"title\":{\"x\":0.05},\"mapbox\":{\"style\":\"light\"}}},\"xaxis\":{\"anchor\":\"y\",\"domain\":[0.0,1.0],\"title\":{\"text\":\"index\"}},\"yaxis\":{\"anchor\":\"x\",\"domain\":[0.0,1.0],\"title\":{\"text\":\"value\"}},\"legend\":{\"title\":{\"text\":\"variable\"},\"tracegroupgap\":0},\"title\":{\"text\":\"Loss Overtime\"}},                        {\"responsive\": true}                    ).then(function(){\n",
       "                            \n",
       "var gd = document.getElementById('de94c5b1-4c1e-4d64-b78a-caa295f4d1ab');\n",
       "var x = new MutationObserver(function (mutations, observer) {{\n",
       "        var display = window.getComputedStyle(gd).display;\n",
       "        if (!display || display === 'none') {{\n",
       "            console.log([gd, 'removed!']);\n",
       "            Plotly.purge(gd);\n",
       "            observer.disconnect();\n",
       "        }}\n",
       "}});\n",
       "\n",
       "// Listen for the removal of the full notebook cells\n",
       "var notebookContainer = gd.closest('#notebook-container');\n",
       "if (notebookContainer) {{\n",
       "    x.observe(notebookContainer, {childList: true});\n",
       "}}\n",
       "\n",
       "// Listen for the clearing of the current output cell\n",
       "var outputEl = gd.closest('.output');\n",
       "if (outputEl) {{\n",
       "    x.observe(outputEl, {childList: true});\n",
       "}}\n",
       "\n",
       "                        })                };                });            </script>        </div>"
      ]
     },
     "metadata": {},
     "output_type": "display_data"
    }
   ],
   "source": [
    "fig = px.line(\n",
    "    history2.history,\n",
    "    y=['loss', 'val_loss'],\n",
    "    labels={'x': 'Epoch', 'y': 'Loss'},\n",
    "    title='Loss Overtime'\n",
    ")\n",
    "fig.show()"
   ]
  },
  {
   "cell_type": "code",
   "execution_count": 44,
   "id": "48ba5dda-2596-4585-9062-a9dc057513e4",
   "metadata": {},
   "outputs": [
    {
     "name": "stdout",
     "output_type": "stream",
     "text": [
      "46/46 [==============================] - 0s 4ms/step - loss: 0.3690 - accuracy: 0.8279\n"
     ]
    },
    {
     "data": {
      "text/plain": [
       "[0.36895033717155457, 0.8278911709785461]"
      ]
     },
     "execution_count": 44,
     "metadata": {},
     "output_type": "execute_result"
    }
   ],
   "source": [
    "model2.evaluate(X_test2, y_test2)"
   ]
  },
  {
   "cell_type": "code",
   "execution_count": null,
   "id": "cd757bb6-f63e-4948-82bc-cc554299ecdf",
   "metadata": {},
   "outputs": [],
   "source": []
  }
 ],
 "metadata": {
  "kernelspec": {
   "display_name": "Python 3 (ipykernel)",
   "language": "python",
   "name": "python3"
  },
  "language_info": {
   "codemirror_mode": {
    "name": "ipython",
    "version": 3
   },
   "file_extension": ".py",
   "mimetype": "text/x-python",
   "name": "python",
   "nbconvert_exporter": "python",
   "pygments_lexer": "ipython3",
   "version": "3.10.13"
  }
 },
 "nbformat": 4,
 "nbformat_minor": 5
}
