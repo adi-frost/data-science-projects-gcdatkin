{
 "cells": [
  {
   "cell_type": "markdown",
   "id": "c2753e09-169d-46e8-8a15-b7642385ff94",
   "metadata": {},
   "source": [
    "## 🪨 Concrete Strength Prediction\n",
    "\n",
    "Given *data about the composition and age of different concretes*, let's try to predict the **compressive strength** of a given concrete. \n",
    "\n",
    "We will try out many models and pick the best one to make our predictions.\n",
    "\n",
    "Data source: https://www.kaggle.com/datasets/maajdl/yeh-concret-data"
   ]
  },
  {
   "cell_type": "markdown",
   "id": "1efc44bc-3e77-46cd-a4a8-2ab4f4e1222a",
   "metadata": {},
   "source": [
    "### Importing Libraries"
   ]
  },
  {
   "cell_type": "code",
   "execution_count": 3,
   "id": "2114b918-f008-4fcc-be7d-466243974167",
   "metadata": {},
   "outputs": [],
   "source": [
    "import numpy as np\n",
    "import pandas as pd\n",
    "\n",
    "from sklearn.model_selection import train_test_split\n",
    "from sklearn.preprocessing import StandardScaler\n",
    "\n",
    "from sklearn.linear_model import LinearRegression, Ridge\n",
    "from sklearn.svm import LinearSVR, SVR\n",
    "from sklearn.tree import DecisionTreeRegressor\n",
    "from sklearn.neural_network import MLPRegressor\n",
    "from sklearn.ensemble import RandomForestRegressor, GradientBoostingRegressor, AdaBoostRegressor\n",
    "\n",
    "from sklearn.model_selection import GridSearchCV"
   ]
  },
  {
   "cell_type": "code",
   "execution_count": 2,
   "id": "a5f8c16e-bfd6-4d6a-a360-d2768b94baf1",
   "metadata": {},
   "outputs": [
    {
     "data": {
      "text/html": [
       "<div>\n",
       "<style scoped>\n",
       "    .dataframe tbody tr th:only-of-type {\n",
       "        vertical-align: middle;\n",
       "    }\n",
       "\n",
       "    .dataframe tbody tr th {\n",
       "        vertical-align: top;\n",
       "    }\n",
       "\n",
       "    .dataframe thead th {\n",
       "        text-align: right;\n",
       "    }\n",
       "</style>\n",
       "<table border=\"1\" class=\"dataframe\">\n",
       "  <thead>\n",
       "    <tr style=\"text-align: right;\">\n",
       "      <th></th>\n",
       "      <th>cement</th>\n",
       "      <th>slag</th>\n",
       "      <th>flyash</th>\n",
       "      <th>water</th>\n",
       "      <th>superplasticizer</th>\n",
       "      <th>coarseaggregate</th>\n",
       "      <th>fineaggregate</th>\n",
       "      <th>age</th>\n",
       "      <th>csMPa</th>\n",
       "    </tr>\n",
       "  </thead>\n",
       "  <tbody>\n",
       "    <tr>\n",
       "      <th>0</th>\n",
       "      <td>540.0</td>\n",
       "      <td>0.0</td>\n",
       "      <td>0.0</td>\n",
       "      <td>162.0</td>\n",
       "      <td>2.5</td>\n",
       "      <td>1040.0</td>\n",
       "      <td>676.0</td>\n",
       "      <td>28</td>\n",
       "      <td>79.99</td>\n",
       "    </tr>\n",
       "    <tr>\n",
       "      <th>1</th>\n",
       "      <td>540.0</td>\n",
       "      <td>0.0</td>\n",
       "      <td>0.0</td>\n",
       "      <td>162.0</td>\n",
       "      <td>2.5</td>\n",
       "      <td>1055.0</td>\n",
       "      <td>676.0</td>\n",
       "      <td>28</td>\n",
       "      <td>61.89</td>\n",
       "    </tr>\n",
       "    <tr>\n",
       "      <th>2</th>\n",
       "      <td>332.5</td>\n",
       "      <td>142.5</td>\n",
       "      <td>0.0</td>\n",
       "      <td>228.0</td>\n",
       "      <td>0.0</td>\n",
       "      <td>932.0</td>\n",
       "      <td>594.0</td>\n",
       "      <td>270</td>\n",
       "      <td>40.27</td>\n",
       "    </tr>\n",
       "    <tr>\n",
       "      <th>3</th>\n",
       "      <td>332.5</td>\n",
       "      <td>142.5</td>\n",
       "      <td>0.0</td>\n",
       "      <td>228.0</td>\n",
       "      <td>0.0</td>\n",
       "      <td>932.0</td>\n",
       "      <td>594.0</td>\n",
       "      <td>365</td>\n",
       "      <td>41.05</td>\n",
       "    </tr>\n",
       "    <tr>\n",
       "      <th>4</th>\n",
       "      <td>198.6</td>\n",
       "      <td>132.4</td>\n",
       "      <td>0.0</td>\n",
       "      <td>192.0</td>\n",
       "      <td>0.0</td>\n",
       "      <td>978.4</td>\n",
       "      <td>825.5</td>\n",
       "      <td>360</td>\n",
       "      <td>44.30</td>\n",
       "    </tr>\n",
       "    <tr>\n",
       "      <th>...</th>\n",
       "      <td>...</td>\n",
       "      <td>...</td>\n",
       "      <td>...</td>\n",
       "      <td>...</td>\n",
       "      <td>...</td>\n",
       "      <td>...</td>\n",
       "      <td>...</td>\n",
       "      <td>...</td>\n",
       "      <td>...</td>\n",
       "    </tr>\n",
       "    <tr>\n",
       "      <th>1025</th>\n",
       "      <td>276.4</td>\n",
       "      <td>116.0</td>\n",
       "      <td>90.3</td>\n",
       "      <td>179.6</td>\n",
       "      <td>8.9</td>\n",
       "      <td>870.1</td>\n",
       "      <td>768.3</td>\n",
       "      <td>28</td>\n",
       "      <td>44.28</td>\n",
       "    </tr>\n",
       "    <tr>\n",
       "      <th>1026</th>\n",
       "      <td>322.2</td>\n",
       "      <td>0.0</td>\n",
       "      <td>115.6</td>\n",
       "      <td>196.0</td>\n",
       "      <td>10.4</td>\n",
       "      <td>817.9</td>\n",
       "      <td>813.4</td>\n",
       "      <td>28</td>\n",
       "      <td>31.18</td>\n",
       "    </tr>\n",
       "    <tr>\n",
       "      <th>1027</th>\n",
       "      <td>148.5</td>\n",
       "      <td>139.4</td>\n",
       "      <td>108.6</td>\n",
       "      <td>192.7</td>\n",
       "      <td>6.1</td>\n",
       "      <td>892.4</td>\n",
       "      <td>780.0</td>\n",
       "      <td>28</td>\n",
       "      <td>23.70</td>\n",
       "    </tr>\n",
       "    <tr>\n",
       "      <th>1028</th>\n",
       "      <td>159.1</td>\n",
       "      <td>186.7</td>\n",
       "      <td>0.0</td>\n",
       "      <td>175.6</td>\n",
       "      <td>11.3</td>\n",
       "      <td>989.6</td>\n",
       "      <td>788.9</td>\n",
       "      <td>28</td>\n",
       "      <td>32.77</td>\n",
       "    </tr>\n",
       "    <tr>\n",
       "      <th>1029</th>\n",
       "      <td>260.9</td>\n",
       "      <td>100.5</td>\n",
       "      <td>78.3</td>\n",
       "      <td>200.6</td>\n",
       "      <td>8.6</td>\n",
       "      <td>864.5</td>\n",
       "      <td>761.5</td>\n",
       "      <td>28</td>\n",
       "      <td>32.40</td>\n",
       "    </tr>\n",
       "  </tbody>\n",
       "</table>\n",
       "<p>1030 rows × 9 columns</p>\n",
       "</div>"
      ],
      "text/plain": [
       "      cement   slag  flyash  water  superplasticizer  coarseaggregate  \\\n",
       "0      540.0    0.0     0.0  162.0               2.5           1040.0   \n",
       "1      540.0    0.0     0.0  162.0               2.5           1055.0   \n",
       "2      332.5  142.5     0.0  228.0               0.0            932.0   \n",
       "3      332.5  142.5     0.0  228.0               0.0            932.0   \n",
       "4      198.6  132.4     0.0  192.0               0.0            978.4   \n",
       "...      ...    ...     ...    ...               ...              ...   \n",
       "1025   276.4  116.0    90.3  179.6               8.9            870.1   \n",
       "1026   322.2    0.0   115.6  196.0              10.4            817.9   \n",
       "1027   148.5  139.4   108.6  192.7               6.1            892.4   \n",
       "1028   159.1  186.7     0.0  175.6              11.3            989.6   \n",
       "1029   260.9  100.5    78.3  200.6               8.6            864.5   \n",
       "\n",
       "      fineaggregate  age  csMPa  \n",
       "0             676.0   28  79.99  \n",
       "1             676.0   28  61.89  \n",
       "2             594.0  270  40.27  \n",
       "3             594.0  365  41.05  \n",
       "4             825.5  360  44.30  \n",
       "...             ...  ...    ...  \n",
       "1025          768.3   28  44.28  \n",
       "1026          813.4   28  31.18  \n",
       "1027          780.0   28  23.70  \n",
       "1028          788.9   28  32.77  \n",
       "1029          761.5   28  32.40  \n",
       "\n",
       "[1030 rows x 9 columns]"
      ]
     },
     "execution_count": 2,
     "metadata": {},
     "output_type": "execute_result"
    }
   ],
   "source": [
    "data = pd.read_csv('Concrete_Data_Yeh.csv')\n",
    "data"
   ]
  },
  {
   "cell_type": "code",
   "execution_count": 4,
   "id": "568e1a38-a8e5-4cbc-ba72-3487dad4f446",
   "metadata": {},
   "outputs": [
    {
     "name": "stdout",
     "output_type": "stream",
     "text": [
      "<class 'pandas.core.frame.DataFrame'>\n",
      "RangeIndex: 1030 entries, 0 to 1029\n",
      "Data columns (total 9 columns):\n",
      " #   Column            Non-Null Count  Dtype  \n",
      "---  ------            --------------  -----  \n",
      " 0   cement            1030 non-null   float64\n",
      " 1   slag              1030 non-null   float64\n",
      " 2   flyash            1030 non-null   float64\n",
      " 3   water             1030 non-null   float64\n",
      " 4   superplasticizer  1030 non-null   float64\n",
      " 5   coarseaggregate   1030 non-null   float64\n",
      " 6   fineaggregate     1030 non-null   float64\n",
      " 7   age               1030 non-null   int64  \n",
      " 8   csMPa             1030 non-null   float64\n",
      "dtypes: float64(8), int64(1)\n",
      "memory usage: 72.5 KB\n"
     ]
    }
   ],
   "source": [
    "data.info()"
   ]
  },
  {
   "cell_type": "markdown",
   "id": "03852ad9-f77b-475a-baeb-10bcfb734a25",
   "metadata": {},
   "source": [
    "### Preprocessing"
   ]
  },
  {
   "cell_type": "code",
   "execution_count": 5,
   "id": "6376f5e6-9501-427e-9300-26cbae05d0ec",
   "metadata": {},
   "outputs": [],
   "source": [
    "df = data.copy()"
   ]
  },
  {
   "cell_type": "code",
   "execution_count": 6,
   "id": "18cbd975-f281-4010-a960-bab7641c21b5",
   "metadata": {},
   "outputs": [],
   "source": [
    "y = df['csMPa'].copy()\n",
    "X = df.drop('csMPa', axis=1).copy()"
   ]
  },
  {
   "cell_type": "code",
   "execution_count": 7,
   "id": "9cfe4432-866c-4fef-9179-3187cd5907d0",
   "metadata": {},
   "outputs": [
    {
     "data": {
      "text/plain": [
       "0       79.99\n",
       "1       61.89\n",
       "2       40.27\n",
       "3       41.05\n",
       "4       44.30\n",
       "        ...  \n",
       "1025    44.28\n",
       "1026    31.18\n",
       "1027    23.70\n",
       "1028    32.77\n",
       "1029    32.40\n",
       "Name: csMPa, Length: 1030, dtype: float64"
      ]
     },
     "execution_count": 7,
     "metadata": {},
     "output_type": "execute_result"
    }
   ],
   "source": [
    "y"
   ]
  },
  {
   "cell_type": "code",
   "execution_count": 8,
   "id": "c7fae2bd-88a8-4b39-bb87-2de0e6ee69e8",
   "metadata": {},
   "outputs": [
    {
     "data": {
      "text/html": [
       "<div>\n",
       "<style scoped>\n",
       "    .dataframe tbody tr th:only-of-type {\n",
       "        vertical-align: middle;\n",
       "    }\n",
       "\n",
       "    .dataframe tbody tr th {\n",
       "        vertical-align: top;\n",
       "    }\n",
       "\n",
       "    .dataframe thead th {\n",
       "        text-align: right;\n",
       "    }\n",
       "</style>\n",
       "<table border=\"1\" class=\"dataframe\">\n",
       "  <thead>\n",
       "    <tr style=\"text-align: right;\">\n",
       "      <th></th>\n",
       "      <th>cement</th>\n",
       "      <th>slag</th>\n",
       "      <th>flyash</th>\n",
       "      <th>water</th>\n",
       "      <th>superplasticizer</th>\n",
       "      <th>coarseaggregate</th>\n",
       "      <th>fineaggregate</th>\n",
       "      <th>age</th>\n",
       "    </tr>\n",
       "  </thead>\n",
       "  <tbody>\n",
       "    <tr>\n",
       "      <th>0</th>\n",
       "      <td>540.0</td>\n",
       "      <td>0.0</td>\n",
       "      <td>0.0</td>\n",
       "      <td>162.0</td>\n",
       "      <td>2.5</td>\n",
       "      <td>1040.0</td>\n",
       "      <td>676.0</td>\n",
       "      <td>28</td>\n",
       "    </tr>\n",
       "    <tr>\n",
       "      <th>1</th>\n",
       "      <td>540.0</td>\n",
       "      <td>0.0</td>\n",
       "      <td>0.0</td>\n",
       "      <td>162.0</td>\n",
       "      <td>2.5</td>\n",
       "      <td>1055.0</td>\n",
       "      <td>676.0</td>\n",
       "      <td>28</td>\n",
       "    </tr>\n",
       "    <tr>\n",
       "      <th>2</th>\n",
       "      <td>332.5</td>\n",
       "      <td>142.5</td>\n",
       "      <td>0.0</td>\n",
       "      <td>228.0</td>\n",
       "      <td>0.0</td>\n",
       "      <td>932.0</td>\n",
       "      <td>594.0</td>\n",
       "      <td>270</td>\n",
       "    </tr>\n",
       "    <tr>\n",
       "      <th>3</th>\n",
       "      <td>332.5</td>\n",
       "      <td>142.5</td>\n",
       "      <td>0.0</td>\n",
       "      <td>228.0</td>\n",
       "      <td>0.0</td>\n",
       "      <td>932.0</td>\n",
       "      <td>594.0</td>\n",
       "      <td>365</td>\n",
       "    </tr>\n",
       "    <tr>\n",
       "      <th>4</th>\n",
       "      <td>198.6</td>\n",
       "      <td>132.4</td>\n",
       "      <td>0.0</td>\n",
       "      <td>192.0</td>\n",
       "      <td>0.0</td>\n",
       "      <td>978.4</td>\n",
       "      <td>825.5</td>\n",
       "      <td>360</td>\n",
       "    </tr>\n",
       "    <tr>\n",
       "      <th>...</th>\n",
       "      <td>...</td>\n",
       "      <td>...</td>\n",
       "      <td>...</td>\n",
       "      <td>...</td>\n",
       "      <td>...</td>\n",
       "      <td>...</td>\n",
       "      <td>...</td>\n",
       "      <td>...</td>\n",
       "    </tr>\n",
       "    <tr>\n",
       "      <th>1025</th>\n",
       "      <td>276.4</td>\n",
       "      <td>116.0</td>\n",
       "      <td>90.3</td>\n",
       "      <td>179.6</td>\n",
       "      <td>8.9</td>\n",
       "      <td>870.1</td>\n",
       "      <td>768.3</td>\n",
       "      <td>28</td>\n",
       "    </tr>\n",
       "    <tr>\n",
       "      <th>1026</th>\n",
       "      <td>322.2</td>\n",
       "      <td>0.0</td>\n",
       "      <td>115.6</td>\n",
       "      <td>196.0</td>\n",
       "      <td>10.4</td>\n",
       "      <td>817.9</td>\n",
       "      <td>813.4</td>\n",
       "      <td>28</td>\n",
       "    </tr>\n",
       "    <tr>\n",
       "      <th>1027</th>\n",
       "      <td>148.5</td>\n",
       "      <td>139.4</td>\n",
       "      <td>108.6</td>\n",
       "      <td>192.7</td>\n",
       "      <td>6.1</td>\n",
       "      <td>892.4</td>\n",
       "      <td>780.0</td>\n",
       "      <td>28</td>\n",
       "    </tr>\n",
       "    <tr>\n",
       "      <th>1028</th>\n",
       "      <td>159.1</td>\n",
       "      <td>186.7</td>\n",
       "      <td>0.0</td>\n",
       "      <td>175.6</td>\n",
       "      <td>11.3</td>\n",
       "      <td>989.6</td>\n",
       "      <td>788.9</td>\n",
       "      <td>28</td>\n",
       "    </tr>\n",
       "    <tr>\n",
       "      <th>1029</th>\n",
       "      <td>260.9</td>\n",
       "      <td>100.5</td>\n",
       "      <td>78.3</td>\n",
       "      <td>200.6</td>\n",
       "      <td>8.6</td>\n",
       "      <td>864.5</td>\n",
       "      <td>761.5</td>\n",
       "      <td>28</td>\n",
       "    </tr>\n",
       "  </tbody>\n",
       "</table>\n",
       "<p>1030 rows × 8 columns</p>\n",
       "</div>"
      ],
      "text/plain": [
       "      cement   slag  flyash  water  superplasticizer  coarseaggregate  \\\n",
       "0      540.0    0.0     0.0  162.0               2.5           1040.0   \n",
       "1      540.0    0.0     0.0  162.0               2.5           1055.0   \n",
       "2      332.5  142.5     0.0  228.0               0.0            932.0   \n",
       "3      332.5  142.5     0.0  228.0               0.0            932.0   \n",
       "4      198.6  132.4     0.0  192.0               0.0            978.4   \n",
       "...      ...    ...     ...    ...               ...              ...   \n",
       "1025   276.4  116.0    90.3  179.6               8.9            870.1   \n",
       "1026   322.2    0.0   115.6  196.0              10.4            817.9   \n",
       "1027   148.5  139.4   108.6  192.7               6.1            892.4   \n",
       "1028   159.1  186.7     0.0  175.6              11.3            989.6   \n",
       "1029   260.9  100.5    78.3  200.6               8.6            864.5   \n",
       "\n",
       "      fineaggregate  age  \n",
       "0             676.0   28  \n",
       "1             676.0   28  \n",
       "2             594.0  270  \n",
       "3             594.0  365  \n",
       "4             825.5  360  \n",
       "...             ...  ...  \n",
       "1025          768.3   28  \n",
       "1026          813.4   28  \n",
       "1027          780.0   28  \n",
       "1028          788.9   28  \n",
       "1029          761.5   28  \n",
       "\n",
       "[1030 rows x 8 columns]"
      ]
     },
     "execution_count": 8,
     "metadata": {},
     "output_type": "execute_result"
    }
   ],
   "source": [
    "X"
   ]
  },
  {
   "cell_type": "code",
   "execution_count": 9,
   "id": "e2b01545-49e3-4132-a83a-b46a06704429",
   "metadata": {},
   "outputs": [],
   "source": [
    "# Train-Test Split\n",
    "X_train, X_test, y_train, y_test = train_test_split(X, y, train_size=0.7, random_state=123)"
   ]
  },
  {
   "cell_type": "code",
   "execution_count": 10,
   "id": "cee1b19e-e549-43b6-ad0a-3b0d19566989",
   "metadata": {},
   "outputs": [],
   "source": [
    "# Scale X with a Standard Scaler\n",
    "scaler = StandardScaler()\n",
    "scaler.fit(X_train)\n",
    "\n",
    "X_train = pd.DataFrame(scaler.transform(X_train), index=X_train.index, columns=X_train.columns)\n",
    "X_test = pd.DataFrame(scaler.transform(X_test), index=X_test.index, columns=X_test.columns)"
   ]
  },
  {
   "cell_type": "code",
   "execution_count": 11,
   "id": "753320cf-34de-4e8a-9080-1237b02e0af0",
   "metadata": {},
   "outputs": [
    {
     "data": {
      "text/html": [
       "<div>\n",
       "<style scoped>\n",
       "    .dataframe tbody tr th:only-of-type {\n",
       "        vertical-align: middle;\n",
       "    }\n",
       "\n",
       "    .dataframe tbody tr th {\n",
       "        vertical-align: top;\n",
       "    }\n",
       "\n",
       "    .dataframe thead th {\n",
       "        text-align: right;\n",
       "    }\n",
       "</style>\n",
       "<table border=\"1\" class=\"dataframe\">\n",
       "  <thead>\n",
       "    <tr style=\"text-align: right;\">\n",
       "      <th></th>\n",
       "      <th>cement</th>\n",
       "      <th>slag</th>\n",
       "      <th>flyash</th>\n",
       "      <th>water</th>\n",
       "      <th>superplasticizer</th>\n",
       "      <th>coarseaggregate</th>\n",
       "      <th>fineaggregate</th>\n",
       "      <th>age</th>\n",
       "    </tr>\n",
       "  </thead>\n",
       "  <tbody>\n",
       "    <tr>\n",
       "      <th>666</th>\n",
       "      <td>-0.858785</td>\n",
       "      <td>2.415833</td>\n",
       "      <td>-0.847354</td>\n",
       "      <td>0.475472</td>\n",
       "      <td>-1.034530</td>\n",
       "      <td>-0.549031</td>\n",
       "      <td>-0.704369</td>\n",
       "      <td>-0.677267</td>\n",
       "    </tr>\n",
       "    <tr>\n",
       "      <th>237</th>\n",
       "      <td>-0.649654</td>\n",
       "      <td>0.257904</td>\n",
       "      <td>-0.463043</td>\n",
       "      <td>-0.008664</td>\n",
       "      <td>0.083955</td>\n",
       "      <td>1.203924</td>\n",
       "      <td>0.179163</td>\n",
       "      <td>0.174174</td>\n",
       "    </tr>\n",
       "    <tr>\n",
       "      <th>725</th>\n",
       "      <td>0.273206</td>\n",
       "      <td>-0.856855</td>\n",
       "      <td>-0.847354</td>\n",
       "      <td>0.475472</td>\n",
       "      <td>-1.034530</td>\n",
       "      <td>0.508920</td>\n",
       "      <td>0.745693</td>\n",
       "      <td>1.202330</td>\n",
       "    </tr>\n",
       "    <tr>\n",
       "      <th>802</th>\n",
       "      <td>0.551408</td>\n",
       "      <td>-0.856855</td>\n",
       "      <td>-0.847354</td>\n",
       "      <td>0.146448</td>\n",
       "      <td>-1.034530</td>\n",
       "      <td>1.126701</td>\n",
       "      <td>-0.221864</td>\n",
       "      <td>-0.275644</td>\n",
       "    </tr>\n",
       "    <tr>\n",
       "      <th>568</th>\n",
       "      <td>1.107810</td>\n",
       "      <td>-0.856855</td>\n",
       "      <td>-0.847354</td>\n",
       "      <td>0.179350</td>\n",
       "      <td>-1.034530</td>\n",
       "      <td>0.877014</td>\n",
       "      <td>-0.472665</td>\n",
       "      <td>-0.613008</td>\n",
       "    </tr>\n",
       "    <tr>\n",
       "      <th>...</th>\n",
       "      <td>...</td>\n",
       "      <td>...</td>\n",
       "      <td>...</td>\n",
       "      <td>...</td>\n",
       "      <td>...</td>\n",
       "      <td>...</td>\n",
       "      <td>...</td>\n",
       "      <td>...</td>\n",
       "    </tr>\n",
       "    <tr>\n",
       "      <th>47</th>\n",
       "      <td>0.944727</td>\n",
       "      <td>0.222677</td>\n",
       "      <td>-0.847354</td>\n",
       "      <td>2.167599</td>\n",
       "      <td>-1.034530</td>\n",
       "      <td>-0.520716</td>\n",
       "      <td>-2.258826</td>\n",
       "      <td>2.166226</td>\n",
       "    </tr>\n",
       "    <tr>\n",
       "      <th>638</th>\n",
       "      <td>0.896761</td>\n",
       "      <td>-0.856855</td>\n",
       "      <td>-0.847354</td>\n",
       "      <td>0.193451</td>\n",
       "      <td>-1.034530</td>\n",
       "      <td>0.843551</td>\n",
       "      <td>-0.170940</td>\n",
       "      <td>-0.275644</td>\n",
       "    </tr>\n",
       "    <tr>\n",
       "      <th>113</th>\n",
       "      <td>1.039699</td>\n",
       "      <td>1.290846</td>\n",
       "      <td>-0.847354</td>\n",
       "      <td>-1.691390</td>\n",
       "      <td>2.638108</td>\n",
       "      <td>-0.357261</td>\n",
       "      <td>-0.198948</td>\n",
       "      <td>-0.613008</td>\n",
       "    </tr>\n",
       "    <tr>\n",
       "      <th>96</th>\n",
       "      <td>1.376418</td>\n",
       "      <td>0.351085</td>\n",
       "      <td>-0.847354</td>\n",
       "      <td>-1.432871</td>\n",
       "      <td>2.070519</td>\n",
       "      <td>-0.469234</td>\n",
       "      <td>0.410867</td>\n",
       "      <td>-0.613008</td>\n",
       "    </tr>\n",
       "    <tr>\n",
       "      <th>106</th>\n",
       "      <td>0.777806</td>\n",
       "      <td>1.290846</td>\n",
       "      <td>-0.847354</td>\n",
       "      <td>-0.798323</td>\n",
       "      <td>0.901952</td>\n",
       "      <td>-0.357261</td>\n",
       "      <td>-0.198948</td>\n",
       "      <td>-0.613008</td>\n",
       "    </tr>\n",
       "  </tbody>\n",
       "</table>\n",
       "<p>721 rows × 8 columns</p>\n",
       "</div>"
      ],
      "text/plain": [
       "       cement      slag    flyash     water  superplasticizer  \\\n",
       "666 -0.858785  2.415833 -0.847354  0.475472         -1.034530   \n",
       "237 -0.649654  0.257904 -0.463043 -0.008664          0.083955   \n",
       "725  0.273206 -0.856855 -0.847354  0.475472         -1.034530   \n",
       "802  0.551408 -0.856855 -0.847354  0.146448         -1.034530   \n",
       "568  1.107810 -0.856855 -0.847354  0.179350         -1.034530   \n",
       "..        ...       ...       ...       ...               ...   \n",
       "47   0.944727  0.222677 -0.847354  2.167599         -1.034530   \n",
       "638  0.896761 -0.856855 -0.847354  0.193451         -1.034530   \n",
       "113  1.039699  1.290846 -0.847354 -1.691390          2.638108   \n",
       "96   1.376418  0.351085 -0.847354 -1.432871          2.070519   \n",
       "106  0.777806  1.290846 -0.847354 -0.798323          0.901952   \n",
       "\n",
       "     coarseaggregate  fineaggregate       age  \n",
       "666        -0.549031      -0.704369 -0.677267  \n",
       "237         1.203924       0.179163  0.174174  \n",
       "725         0.508920       0.745693  1.202330  \n",
       "802         1.126701      -0.221864 -0.275644  \n",
       "568         0.877014      -0.472665 -0.613008  \n",
       "..               ...            ...       ...  \n",
       "47         -0.520716      -2.258826  2.166226  \n",
       "638         0.843551      -0.170940 -0.275644  \n",
       "113        -0.357261      -0.198948 -0.613008  \n",
       "96         -0.469234       0.410867 -0.613008  \n",
       "106        -0.357261      -0.198948 -0.613008  \n",
       "\n",
       "[721 rows x 8 columns]"
      ]
     },
     "execution_count": 11,
     "metadata": {},
     "output_type": "execute_result"
    }
   ],
   "source": [
    "X_train"
   ]
  },
  {
   "cell_type": "code",
   "execution_count": 12,
   "id": "f8842f48-32cd-4559-acfa-49c56e8f13d9",
   "metadata": {},
   "outputs": [
    {
     "data": {
      "text/plain": [
       "cement             -4.878206e-16\n",
       "slag                2.463740e-17\n",
       "flyash              7.883969e-17\n",
       "water               1.687662e-15\n",
       "superplasticizer   -5.420229e-17\n",
       "coarseaggregate     1.660561e-15\n",
       "fineaggregate      -7.736145e-16\n",
       "age                -3.572424e-17\n",
       "dtype: float64"
      ]
     },
     "execution_count": 12,
     "metadata": {},
     "output_type": "execute_result"
    }
   ],
   "source": [
    "X_train.mean()"
   ]
  },
  {
   "cell_type": "code",
   "execution_count": 13,
   "id": "0af51c6e-3e44-4603-91d7-a2d53a1c8760",
   "metadata": {},
   "outputs": [
    {
     "data": {
      "text/plain": [
       "cement              1.001389\n",
       "slag                1.001389\n",
       "flyash              1.001389\n",
       "water               1.001389\n",
       "superplasticizer    1.001389\n",
       "coarseaggregate     1.001389\n",
       "fineaggregate       1.001389\n",
       "age                 1.001389\n",
       "dtype: float64"
      ]
     },
     "execution_count": 13,
     "metadata": {},
     "output_type": "execute_result"
    }
   ],
   "source": [
    "X_train.var()"
   ]
  },
  {
   "cell_type": "code",
   "execution_count": 14,
   "id": "8329ba77-131e-46a3-b3d3-923ca56b41ab",
   "metadata": {},
   "outputs": [
    {
     "data": {
      "text/plain": [
       "666    12.79\n",
       "237    47.13\n",
       "725    38.70\n",
       "802    31.65\n",
       "568    25.45\n",
       "       ...  \n",
       "47     40.76\n",
       "638    38.21\n",
       "113    59.09\n",
       "96     46.80\n",
       "106    55.90\n",
       "Name: csMPa, Length: 721, dtype: float64"
      ]
     },
     "execution_count": 14,
     "metadata": {},
     "output_type": "execute_result"
    }
   ],
   "source": [
    "y_train"
   ]
  },
  {
   "cell_type": "markdown",
   "id": "f2afbefc-4808-4ad7-bf66-af7eddad28ad",
   "metadata": {},
   "source": [
    "#### Model Selection"
   ]
  },
  {
   "cell_type": "code",
   "execution_count": 15,
   "id": "b2e3d1b3-4af5-4244-9b62-4fba4c2e3aad",
   "metadata": {},
   "outputs": [
    {
     "name": "stdout",
     "output_type": "stream",
     "text": [
      "                     Linear Regression trained.\n",
      "                 L2 (Ridge) Regression trained.\n",
      "Support Vector Machine (Linear Kernel) trained.\n",
      "   Support Vector Machine (RBF Kernel) trained.\n",
      "                         Decision Tree trained.\n"
     ]
    },
    {
     "name": "stderr",
     "output_type": "stream",
     "text": [
      "/home/aditya/miniconda3/envs/dsenv/lib/python3.10/site-packages/sklearn/neural_network/_multilayer_perceptron.py:691: ConvergenceWarning: Stochastic Optimizer: Maximum iterations (200) reached and the optimization hasn't converged yet.\n",
      "  warnings.warn(\n"
     ]
    },
    {
     "name": "stdout",
     "output_type": "stream",
     "text": [
      "                        Neural Network trained.\n",
      "                         Random Forest trained.\n",
      "             GradientBoostingRegressor trained.\n",
      "                              AdaBoost trained.\n"
     ]
    }
   ],
   "source": [
    "models = {\n",
    "    \"                     Linear Regression\": LinearRegression(),\n",
    "    \"                 L2 (Ridge) Regression\": Ridge(),\n",
    "    \"Support Vector Machine (Linear Kernel)\": LinearSVR(),\n",
    "    \"   Support Vector Machine (RBF Kernel)\": SVR(),\n",
    "    \"                         Decision Tree\": DecisionTreeRegressor(),\n",
    "    \"                        Neural Network\": MLPRegressor(),\n",
    "    \"                         Random Forest\": RandomForestRegressor(),\n",
    "    \"             GradientBoostingRegressor\": GradientBoostingRegressor(),\n",
    "    \"                              AdaBoost\": AdaBoostRegressor()\n",
    "}\n",
    "\n",
    "for name, model in models.items():\n",
    "    model.fit(X_train, y_train)\n",
    "    print(name + \" trained.\")"
   ]
  },
  {
   "cell_type": "code",
   "execution_count": 16,
   "id": "90c28310-83c7-4c41-9459-30cbffd5c8fa",
   "metadata": {},
   "outputs": [
    {
     "name": "stdout",
     "output_type": "stream",
     "text": [
      "                     Linear Regression R^2: 0.60111\n",
      "                 L2 (Ridge) Regression R^2: 0.60097\n",
      "Support Vector Machine (Linear Kernel) R^2: 0.57163\n",
      "   Support Vector Machine (RBF Kernel) R^2: 0.63459\n",
      "                         Decision Tree R^2: 0.84438\n",
      "                        Neural Network R^2: 0.47772\n",
      "                         Random Forest R^2: 0.89933\n",
      "             GradientBoostingRegressor R^2: 0.90701\n",
      "                              AdaBoost R^2: 0.81034\n"
     ]
    }
   ],
   "source": [
    "for name, model in models.items():\n",
    "    print(name + \" R^2: {:.5f}\".format(model.score(X_test, y_test)))"
   ]
  },
  {
   "cell_type": "markdown",
   "id": "0d2c3cd9-52a5-4a83-bc26-d8d3dee85a72",
   "metadata": {},
   "source": [
    "#### Model Optimization"
   ]
  },
  {
   "cell_type": "code",
   "execution_count": 17,
   "id": "930339b2-3a4b-445e-b00f-bd4748c9f22a",
   "metadata": {},
   "outputs": [
    {
     "name": "stdout",
     "output_type": "stream",
     "text": [
      "Model R^2 (Before Optimization): 0.90689\n"
     ]
    }
   ],
   "source": [
    "best_model = GradientBoostingRegressor()\n",
    "best_model.fit(X_train, y_train)\n",
    "\n",
    "print(\"Model R^2 (Before Optimization): {:.5f}\".format(best_model.score(X_test, y_test)))"
   ]
  },
  {
   "cell_type": "code",
   "execution_count": 18,
   "id": "bb970b4a-a37c-45e0-b0c9-e9d32db6a17f",
   "metadata": {},
   "outputs": [
    {
     "data": {
      "text/plain": [
       "{'learning_rate': 0.1, 'max_depth': 5, 'n_estimators': 200}"
      ]
     },
     "execution_count": 18,
     "metadata": {},
     "output_type": "execute_result"
    }
   ],
   "source": [
    "params = {\n",
    "    \"learning_rate\": [0.01, 0.1, 1.0],\n",
    "    \"n_estimators\": [100, 150, 200],\n",
    "    \"max_depth\": [3, 4, 5]\n",
    "}\n",
    "\n",
    "clf = GridSearchCV(best_model, params)\n",
    "clf.fit(X_train, y_train)\n",
    "\n",
    "clf.best_params_"
   ]
  },
  {
   "cell_type": "code",
   "execution_count": 19,
   "id": "2627d6b7-4fc7-4f79-b676-687e3fb61b41",
   "metadata": {},
   "outputs": [
    {
     "name": "stdout",
     "output_type": "stream",
     "text": [
      "Model R^2 (After Optimization): 0.92722\n"
     ]
    }
   ],
   "source": [
    "print(\"Model R^2 (After Optimization): {:.5f}\".format(clf.score(X_test, y_test)))"
   ]
  },
  {
   "cell_type": "code",
   "execution_count": null,
   "id": "9571a783-14fc-48ba-ac09-be9320c0086f",
   "metadata": {},
   "outputs": [],
   "source": []
  }
 ],
 "metadata": {
  "kernelspec": {
   "display_name": "Python 3 (ipykernel)",
   "language": "python",
   "name": "python3"
  },
  "language_info": {
   "codemirror_mode": {
    "name": "ipython",
    "version": 3
   },
   "file_extension": ".py",
   "mimetype": "text/x-python",
   "name": "python",
   "nbconvert_exporter": "python",
   "pygments_lexer": "ipython3",
   "version": "3.10.16"
  }
 },
 "nbformat": 4,
 "nbformat_minor": 5
}
